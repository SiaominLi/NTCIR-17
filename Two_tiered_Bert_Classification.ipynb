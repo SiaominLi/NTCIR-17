{
  "cells": [
    {
      "cell_type": "code",
      "execution_count": null,
      "metadata": {
        "colab": {
          "base_uri": "https://localhost:8080/"
        },
        "id": "NxNWTEIyZwGk",
        "outputId": "50ab9853-30a9-48e7-82b4-936aa2414f5c"
      },
      "outputs": [
        {
          "name": "stdout",
          "output_type": "stream",
          "text": [
            "Looking in indexes: https://pypi.org/simple, https://us-python.pkg.dev/colab-wheels/public/simple/\n",
            "Collecting transformers\n",
            "  Downloading transformers-4.28.1-py3-none-any.whl (7.0 MB)\n",
            "\u001b[2K     \u001b[90m━━━━━━━━━━━━━━━━━━━━━━━━━━━━━━━━━━━━━━━━\u001b[0m \u001b[32m7.0/7.0 MB\u001b[0m \u001b[31m59.0 MB/s\u001b[0m eta \u001b[36m0:00:00\u001b[0m\n",
            "\u001b[?25hCollecting datasets\n",
            "  Downloading datasets-2.12.0-py3-none-any.whl (474 kB)\n",
            "\u001b[2K     \u001b[90m━━━━━━━━━━━━━━━━━━━━━━━━━━━━━━━━━━━━━━\u001b[0m \u001b[32m474.6/474.6 kB\u001b[0m \u001b[31m40.1 MB/s\u001b[0m eta \u001b[36m0:00:00\u001b[0m\n",
            "\u001b[?25hCollecting accelerate\n",
            "  Downloading accelerate-0.18.0-py3-none-any.whl (215 kB)\n",
            "\u001b[2K     \u001b[90m━━━━━━━━━━━━━━━━━━━━━━━━━━━━━━━━━━━━━━\u001b[0m \u001b[32m215.3/215.3 kB\u001b[0m \u001b[31m23.2 MB/s\u001b[0m eta \u001b[36m0:00:00\u001b[0m\n",
            "\u001b[?25hRequirement already satisfied: tqdm>=4.27 in /usr/local/lib/python3.10/dist-packages (from transformers) (4.65.0)\n",
            "Requirement already satisfied: requests in /usr/local/lib/python3.10/dist-packages (from transformers) (2.27.1)\n",
            "Requirement already satisfied: numpy>=1.17 in /usr/local/lib/python3.10/dist-packages (from transformers) (1.22.4)\n",
            "Requirement already satisfied: packaging>=20.0 in /usr/local/lib/python3.10/dist-packages (from transformers) (23.1)\n",
            "Collecting huggingface-hub<1.0,>=0.11.0\n",
            "  Downloading huggingface_hub-0.14.1-py3-none-any.whl (224 kB)\n",
            "\u001b[2K     \u001b[90m━━━━━━━━━━━━━━━━━━━━━━━━━━━━━━━━━━━━━━\u001b[0m \u001b[32m224.5/224.5 kB\u001b[0m \u001b[31m27.3 MB/s\u001b[0m eta \u001b[36m0:00:00\u001b[0m\n",
            "\u001b[?25hRequirement already satisfied: filelock in /usr/local/lib/python3.10/dist-packages (from transformers) (3.12.0)\n",
            "Requirement already satisfied: pyyaml>=5.1 in /usr/local/lib/python3.10/dist-packages (from transformers) (6.0)\n",
            "Collecting tokenizers!=0.11.3,<0.14,>=0.11.1\n",
            "  Downloading tokenizers-0.13.3-cp310-cp310-manylinux_2_17_x86_64.manylinux2014_x86_64.whl (7.8 MB)\n",
            "\u001b[2K     \u001b[90m━━━━━━━━━━━━━━━━━━━━━━━━━━━━━━━━━━━━━━━━\u001b[0m \u001b[32m7.8/7.8 MB\u001b[0m \u001b[31m52.6 MB/s\u001b[0m eta \u001b[36m0:00:00\u001b[0m\n",
            "\u001b[?25hRequirement already satisfied: regex!=2019.12.17 in /usr/local/lib/python3.10/dist-packages (from transformers) (2022.10.31)\n",
            "Collecting xxhash\n",
            "  Downloading xxhash-3.2.0-cp310-cp310-manylinux_2_17_x86_64.manylinux2014_x86_64.whl (212 kB)\n",
            "\u001b[2K     \u001b[90m━━━━━━━━━━━━━━━━━━━━━━━━━━━━━━━━━━━━━━\u001b[0m \u001b[32m212.5/212.5 kB\u001b[0m \u001b[31m14.5 MB/s\u001b[0m eta \u001b[36m0:00:00\u001b[0m\n",
            "\u001b[?25hCollecting dill<0.3.7,>=0.3.0\n",
            "  Downloading dill-0.3.6-py3-none-any.whl (110 kB)\n",
            "\u001b[2K     \u001b[90m━━━━━━━━━━━━━━━━━━━━━━━━━━━━━━━━━━━━━━━\u001b[0m \u001b[32m110.5/110.5 kB\u001b[0m \u001b[31m6.1 MB/s\u001b[0m eta \u001b[36m0:00:00\u001b[0m\n",
            "\u001b[?25hRequirement already satisfied: pyarrow>=8.0.0 in /usr/local/lib/python3.10/dist-packages (from datasets) (9.0.0)\n",
            "Requirement already satisfied: fsspec[http]>=2021.11.1 in /usr/local/lib/python3.10/dist-packages (from datasets) (2023.4.0)\n",
            "Collecting multiprocess\n",
            "  Downloading multiprocess-0.70.14-py310-none-any.whl (134 kB)\n",
            "\u001b[2K     \u001b[90m━━━━━━━━━━━━━━━━━━━━━━━━━━━━━━━━━━━━━━━\u001b[0m \u001b[32m134.3/134.3 kB\u001b[0m \u001b[31m8.5 MB/s\u001b[0m eta \u001b[36m0:00:00\u001b[0m\n",
            "\u001b[?25hCollecting aiohttp\n",
            "  Downloading aiohttp-3.8.4-cp310-cp310-manylinux_2_17_x86_64.manylinux2014_x86_64.whl (1.0 MB)\n",
            "\u001b[2K     \u001b[90m━━━━━━━━━━━━━━━━━━━━━━━━━━━━━━━━━━━━━━━━\u001b[0m \u001b[32m1.0/1.0 MB\u001b[0m \u001b[31m25.4 MB/s\u001b[0m eta \u001b[36m0:00:00\u001b[0m\n",
            "\u001b[?25hCollecting responses<0.19\n",
            "  Downloading responses-0.18.0-py3-none-any.whl (38 kB)\n",
            "Requirement already satisfied: pandas in /usr/local/lib/python3.10/dist-packages (from datasets) (1.5.3)\n",
            "Requirement already satisfied: torch>=1.4.0 in /usr/local/lib/python3.10/dist-packages (from accelerate) (2.0.0+cu118)\n",
            "Requirement already satisfied: psutil in /usr/local/lib/python3.10/dist-packages (from accelerate) (5.9.5)\n",
            "Collecting async-timeout<5.0,>=4.0.0a3\n",
            "  Downloading async_timeout-4.0.2-py3-none-any.whl (5.8 kB)\n",
            "Requirement already satisfied: charset-normalizer<4.0,>=2.0 in /usr/local/lib/python3.10/dist-packages (from aiohttp->datasets) (2.0.12)\n",
            "Collecting yarl<2.0,>=1.0\n",
            "  Downloading yarl-1.9.2-cp310-cp310-manylinux_2_17_x86_64.manylinux2014_x86_64.whl (268 kB)\n",
            "\u001b[2K     \u001b[90m━━━━━━━━━━━━━━━━━━━━━━━━━━━━━━━━━━━━━━\u001b[0m \u001b[32m268.8/268.8 kB\u001b[0m \u001b[31m17.3 MB/s\u001b[0m eta \u001b[36m0:00:00\u001b[0m\n",
            "\u001b[?25hRequirement already satisfied: attrs>=17.3.0 in /usr/local/lib/python3.10/dist-packages (from aiohttp->datasets) (23.1.0)\n",
            "Collecting aiosignal>=1.1.2\n",
            "  Downloading aiosignal-1.3.1-py3-none-any.whl (7.6 kB)\n",
            "Collecting frozenlist>=1.1.1\n",
            "  Downloading frozenlist-1.3.3-cp310-cp310-manylinux_2_5_x86_64.manylinux1_x86_64.manylinux_2_17_x86_64.manylinux2014_x86_64.whl (149 kB)\n",
            "\u001b[2K     \u001b[90m━━━━━━━━━━━━━━━━━━━━━━━━━━━━━━━━━━━━━━\u001b[0m \u001b[32m149.6/149.6 kB\u001b[0m \u001b[31m12.1 MB/s\u001b[0m eta \u001b[36m0:00:00\u001b[0m\n",
            "\u001b[?25hCollecting multidict<7.0,>=4.5\n",
            "  Downloading multidict-6.0.4-cp310-cp310-manylinux_2_17_x86_64.manylinux2014_x86_64.whl (114 kB)\n",
            "\u001b[2K     \u001b[90m━━━━━━━━━━━━━━━━━━━━━━━━━━━━━━━━━━━━━━━\u001b[0m \u001b[32m114.5/114.5 kB\u001b[0m \u001b[31m7.3 MB/s\u001b[0m eta \u001b[36m0:00:00\u001b[0m\n",
            "\u001b[?25hRequirement already satisfied: typing-extensions>=3.7.4.3 in /usr/local/lib/python3.10/dist-packages (from huggingface-hub<1.0,>=0.11.0->transformers) (4.5.0)\n",
            "Requirement already satisfied: idna<4,>=2.5 in /usr/local/lib/python3.10/dist-packages (from requests->transformers) (3.4)\n",
            "Requirement already satisfied: certifi>=2017.4.17 in /usr/local/lib/python3.10/dist-packages (from requests->transformers) (2022.12.7)\n",
            "Requirement already satisfied: urllib3<1.27,>=1.21.1 in /usr/local/lib/python3.10/dist-packages (from requests->transformers) (1.26.15)\n",
            "Requirement already satisfied: networkx in /usr/local/lib/python3.10/dist-packages (from torch>=1.4.0->accelerate) (3.1)\n",
            "Requirement already satisfied: jinja2 in /usr/local/lib/python3.10/dist-packages (from torch>=1.4.0->accelerate) (3.1.2)\n",
            "Requirement already satisfied: sympy in /usr/local/lib/python3.10/dist-packages (from torch>=1.4.0->accelerate) (1.11.1)\n",
            "Requirement already satisfied: triton==2.0.0 in /usr/local/lib/python3.10/dist-packages (from torch>=1.4.0->accelerate) (2.0.0)\n",
            "Requirement already satisfied: cmake in /usr/local/lib/python3.10/dist-packages (from triton==2.0.0->torch>=1.4.0->accelerate) (3.25.2)\n",
            "Requirement already satisfied: lit in /usr/local/lib/python3.10/dist-packages (from triton==2.0.0->torch>=1.4.0->accelerate) (16.0.2)\n",
            "Requirement already satisfied: python-dateutil>=2.8.1 in /usr/local/lib/python3.10/dist-packages (from pandas->datasets) (2.8.2)\n",
            "Requirement already satisfied: pytz>=2020.1 in /usr/local/lib/python3.10/dist-packages (from pandas->datasets) (2022.7.1)\n",
            "Requirement already satisfied: six>=1.5 in /usr/local/lib/python3.10/dist-packages (from python-dateutil>=2.8.1->pandas->datasets) (1.16.0)\n",
            "Requirement already satisfied: MarkupSafe>=2.0 in /usr/local/lib/python3.10/dist-packages (from jinja2->torch>=1.4.0->accelerate) (2.1.2)\n",
            "Requirement already satisfied: mpmath>=0.19 in /usr/local/lib/python3.10/dist-packages (from sympy->torch>=1.4.0->accelerate) (1.3.0)\n",
            "Installing collected packages: tokenizers, xxhash, multidict, frozenlist, dill, async-timeout, yarl, responses, multiprocess, huggingface-hub, aiosignal, transformers, aiohttp, datasets, accelerate\n",
            "Successfully installed accelerate-0.18.0 aiohttp-3.8.4 aiosignal-1.3.1 async-timeout-4.0.2 datasets-2.12.0 dill-0.3.6 frozenlist-1.3.3 huggingface-hub-0.14.1 multidict-6.0.4 multiprocess-0.70.14 responses-0.18.0 tokenizers-0.13.3 transformers-4.28.1 xxhash-3.2.0 yarl-1.9.2\n"
          ]
        }
      ],
      "source": [
        "pip install transformers datasets accelerate"
      ]
    },
    {
      "cell_type": "code",
      "execution_count": null,
      "metadata": {
        "colab": {
          "base_uri": "https://localhost:8080/"
        },
        "id": "-KWI5nmAZwEC",
        "outputId": "66344858-7bcc-4e40-d0a8-f7720fc25766"
      },
      "outputs": [
        {
          "name": "stdout",
          "output_type": "stream",
          "text": [
            "/bin/bash: nvidia-smi: command not found\n"
          ]
        }
      ],
      "source": [
        "!nvidia-smi"
      ]
    },
    {
      "cell_type": "code",
      "execution_count": null,
      "metadata": {
        "id": "FVTHCJbBXqKH"
      },
      "outputs": [],
      "source": [
        "import os\n",
        "from torch.utils import data\n",
        "import torch\n",
        "import csv\n",
        "from sklearn.preprocessing import LabelEncoder\n",
        "import pickle\n",
        "import json\n",
        "from pprint import pprint"
      ]
    },
    {
      "cell_type": "markdown",
      "metadata": {
        "id": "PMqWE1c90lj1"
      },
      "source": [
        "# Training the model : relation(none/support+attack)\n",
        "\n",
        "\n"
      ]
    },
    {
      "cell_type": "markdown",
      "metadata": {
        "id": "5Ek1gMF31E-k"
      },
      "source": [
        "In the training dataset and validation dataset,none has been set to 0, and support and attack have been set to 1"
      ]
    },
    {
      "cell_type": "markdown",
      "metadata": {
        "id": "ImHce8r9aOeS"
      },
      "source": [
        "## Split each item in the dataset into individual components"
      ]
    },
    {
      "cell_type": "markdown",
      "metadata": {
        "id": "tiykhG3O0tWu"
      },
      "source": [
        "The dataset is divided into three parts Train dataset (used for training)、Validation dataset (used to test training progress after each training session)、Test dataset (used for final evaluation)"
      ]
    },
    {
      "cell_type": "code",
      "execution_count": null,
      "metadata": {
        "id": "FMLq3PB2a1N6"
      },
      "outputs": [],
      "source": [
        "with open('train_social_relation.json','r',encoding='utf-8') as file:\n",
        "    data = json.load(file)\n",
        "    train_sen1 = []\n",
        "    train_sen2 = []\n",
        "    trainlabel = []\n",
        "    for line in data:\n",
        "      train_sen1.append(line[0])\n",
        "      train_sen2.append(line[1])\n",
        "      trainlabel.append(line[2])"
      ]
    },
    {
      "cell_type": "code",
      "execution_count": null,
      "metadata": {
        "id": "cGeX1WbpOy2s"
      },
      "outputs": [],
      "source": [
        "with open('test_social_relation.json','r',encoding='utf-8') as file:\n",
        "    data = json.load(file)\n",
        "    test_sen1 = []\n",
        "    test_sen2 = []\n",
        "    testlabel = []\n",
        "    for line in data:\n",
        "      test_sen1.append(line[0])\n",
        "      test_sen2.append(line[1])\n",
        "      testlabel.append(line[2])"
      ]
    },
    {
      "cell_type": "code",
      "execution_count": null,
      "metadata": {
        "id": "njPt1asmOzT-"
      },
      "outputs": [],
      "source": [
        "with open('dev_social_relation.json','r',encoding='utf-8') as file:\n",
        "    data = json.load(file)\n",
        "    eval_sen1 = []\n",
        "    eval_sen2 = []\n",
        "    evallabel = []\n",
        "    for line in data:\n",
        "      eval_sen1.append(line[0])\n",
        "      eval_sen2.append(line[1])\n",
        "      evallabel.append(line[2])"
      ]
    },
    {
      "cell_type": "markdown",
      "metadata": {
        "id": "MJK9LiU9bK8n"
      },
      "source": [
        "## Choosing and using a tokenizer"
      ]
    },
    {
      "cell_type": "code",
      "execution_count": null,
      "metadata": {
        "colab": {
          "base_uri": "https://localhost:8080/"
        },
        "id": "NUurbcxzJYs5",
        "outputId": "08870e81-92dd-4018-9bce-bf7bbca61b23"
      },
      "outputs": [
        {
          "name": "stdout",
          "output_type": "stream",
          "text": [
            "cpu\n"
          ]
        }
      ],
      "source": [
        "import torch\n",
        "device = torch.device(\"cuda\" if torch.cuda.is_available() else \"cpu\")\n",
        "print(device)"
      ]
    },
    {
      "cell_type": "code",
      "execution_count": null,
      "metadata": {
        "colab": {
          "base_uri": "https://localhost:8080/",
          "height": 257,
          "referenced_widgets": [
            "68b5c9c5f2ac423098caa47fdc6c546d",
            "8bdef79a3e4b4e09b08f0f3bfc78af16",
            "b6e05d03852a4e9c9e30339156e9fc4b",
            "1db0e1f978694d72aa184480698fcbfc",
            "fc96f1e125ee44008127de05e0647df2",
            "fb7faeb7047840e9af94308aad59819e",
            "036f8765b42c475f9612e657eb4ad224",
            "626b3f653b5e456da2d1734953f35f51",
            "de104c583d2d4cb082e8134066502fae",
            "6e6a7250cb8441aca2f32c74c161385a",
            "9bdac382cc2a43a289a4bcfc815f907a",
            "7edec3bbf4bb420a97ae1e8c5a020b20",
            "7f447842b3b4401084ac507d8bebb3e9",
            "91548a90d01d471a8bc791637f077220",
            "c25bf17cc6774630a66f8ffcc21f882c",
            "1b00d889b774446f8d9fadfb09e24f36",
            "79988c84bcb746778941cc5afa1403eb",
            "242e7db156524fb18dc938acc3715426",
            "3ca0c2ccdc8f43a28a5d65d2e35241e2",
            "2b462b2a58ff4d22950542d3c8f67e07",
            "aae9c4cd383a4cfb86ed5040d69dfff7",
            "0d270c76bc03495d9e4e7efc32edf375",
            "68502b22c5394ed2ba21e314d74ecd2a",
            "f1d6958e578c479f91149fe4c4f99d85",
            "adc611330e514b1084b8a099fa8a7b5f",
            "7cf4ad50982049d7af46cbc502434752",
            "3750a146a7a64d1e9dac02a341f27ffc",
            "16966672840141b1b874518d735cf46f",
            "0e295ce1d6b54dcf829e304c9cca5f3f",
            "636445964cac471db38972d942ed768d",
            "4113ab469b8c485f8271429395c9507a",
            "8311f71e1cbe487b8bd4ac3ed6998afe",
            "45fe7c8b71ec48b4a305818a26cfc373",
            "c69b1d8c59464b8c8ad40e0e982bb1ec",
            "466c430b1dd541fda9b6a1a9adfb806e",
            "6aaa1af782b14d129bf818c8485174f2",
            "477b1839ac954413bd23f562f1066a93",
            "027ea1de133a4dc586d776f329d97f58",
            "35700e92a3414706b857d54bd340d92f",
            "f94cbd536205488da7d4fa099ae88970",
            "f79a1de598d146d8bb6a6e2d7518e983",
            "9cd690698c884645b3fc95f40b5d67ee",
            "e18a37ca1f0f42db8dd0e907b5e36274",
            "f3ce8e8091fb4eed80ccfc0b7ac13027"
          ]
        },
        "id": "PpCKvf10IJeR",
        "outputId": "e6775438-4a86-45f9-9240-7fe55b26b749"
      },
      "outputs": [
        {
          "data": {
            "application/vnd.jupyter.widget-view+json": {
              "model_id": "68b5c9c5f2ac423098caa47fdc6c546d",
              "version_major": 2,
              "version_minor": 0
            },
            "text/plain": [
              "Downloading (…)okenizer_config.json:   0%|          | 0.00/29.0 [00:00<?, ?B/s]"
            ]
          },
          "metadata": {},
          "output_type": "display_data"
        },
        {
          "data": {
            "application/vnd.jupyter.widget-view+json": {
              "model_id": "7edec3bbf4bb420a97ae1e8c5a020b20",
              "version_major": 2,
              "version_minor": 0
            },
            "text/plain": [
              "Downloading (…)lve/main/config.json:   0%|          | 0.00/624 [00:00<?, ?B/s]"
            ]
          },
          "metadata": {},
          "output_type": "display_data"
        },
        {
          "data": {
            "application/vnd.jupyter.widget-view+json": {
              "model_id": "68502b22c5394ed2ba21e314d74ecd2a",
              "version_major": 2,
              "version_minor": 0
            },
            "text/plain": [
              "Downloading (…)solve/main/vocab.txt:   0%|          | 0.00/110k [00:00<?, ?B/s]"
            ]
          },
          "metadata": {},
          "output_type": "display_data"
        },
        {
          "data": {
            "application/vnd.jupyter.widget-view+json": {
              "model_id": "c69b1d8c59464b8c8ad40e0e982bb1ec",
              "version_major": 2,
              "version_minor": 0
            },
            "text/plain": [
              "Downloading (…)/main/tokenizer.json:   0%|          | 0.00/269k [00:00<?, ?B/s]"
            ]
          },
          "metadata": {},
          "output_type": "display_data"
        }
      ],
      "source": [
        "from transformers import AutoTokenizer, AutoModelForMaskedLM\n",
        "\n",
        "tokenizer = AutoTokenizer.from_pretrained(\"bert-base-chinese\")"
      ]
    },
    {
      "cell_type": "code",
      "execution_count": null,
      "metadata": {
        "colab": {
          "base_uri": "https://localhost:8080/"
        },
        "id": "SSM_2cPVLSDm",
        "outputId": "20028800-d160-4eff-9f8b-afc62b191edd"
      },
      "outputs": [
        {
          "data": {
            "text/plain": [
              "BertTokenizerFast(name_or_path='bert-base-chinese', vocab_size=21128, model_max_length=512, is_fast=True, padding_side='right', truncation_side='right', special_tokens={'unk_token': '[UNK]', 'sep_token': '[SEP]', 'pad_token': '[PAD]', 'cls_token': '[CLS]', 'mask_token': '[MASK]'}, clean_up_tokenization_spaces=True)"
            ]
          },
          "execution_count": 16,
          "metadata": {},
          "output_type": "execute_result"
        }
      ],
      "source": [
        "tokenizer"
      ]
    },
    {
      "cell_type": "code",
      "execution_count": null,
      "metadata": {
        "colab": {
          "base_uri": "https://localhost:8080/"
        },
        "id": "HVZ93MuMJiuQ",
        "outputId": "edee3bfc-3f8e-409a-eeda-60abe4133303"
      },
      "outputs": [
        {
          "name": "stderr",
          "output_type": "stream",
          "text": [
            "IOPub data rate exceeded.\n",
            "The notebook server will temporarily stop sending output\n",
            "to the client in order to avoid crashing it.\n",
            "To change this limit, set the config variable\n",
            "`--NotebookApp.iopub_data_rate_limit`.\n",
            "\n",
            "Current values:\n",
            "NotebookApp.iopub_data_rate_limit=1000000.0 (bytes/sec)\n",
            "NotebookApp.rate_limit_window=3.0 (secs)\n",
            "\n"
          ]
        }
      ],
      "source": [
        "train_encodings = tokenizer(train_sen1, train_sen2, truncation=True, padding=True)\n",
        "print(train_encodings)\n",
        "eval_encodings = tokenizer(eval_sen1, eval_sen2, truncation=True, padding=True)"
      ]
    },
    {
      "cell_type": "code",
      "execution_count": null,
      "metadata": {
        "colab": {
          "base_uri": "https://localhost:8080/"
        },
        "id": "ie2ZIlJ8NKPK",
        "outputId": "b47b360e-2e7b-4370-ef7f-ce88309cb9f7"
      },
      "outputs": [
        {
          "data": {
            "text/plain": [
              "dict_keys(['input_ids', 'token_type_ids', 'attention_mask'])"
            ]
          },
          "execution_count": 20,
          "metadata": {},
          "output_type": "execute_result"
        }
      ],
      "source": [
        "train_encodings.keys()"
      ]
    },
    {
      "cell_type": "code",
      "execution_count": null,
      "metadata": {
        "colab": {
          "base_uri": "https://localhost:8080/"
        },
        "id": "e7CXhViiNftW",
        "outputId": "5713ec81-2e3c-462f-ab2e-005cbac6efe6"
      },
      "outputs": [
        {
          "name": "stdout",
          "output_type": "stream",
          "text": [
            "[CLS] 來 了 來 了 上 沖 下 洗 先 拉 後 跌 先 洗 個 幾 輪 意 志 不 堅 的 賭 徒 就 被 洗 出 場 了 真 爽 [SEP] 哈 哈 不 是 都 説 了 一 支 押 賭 不 要 超 過 一 個 月 薪 水 嗎 ？ 一 個 月 薪 水 變 壁 紙 又 不 痛 不 癢 你 要 賭 身 家 我 也 沒 辦 法 [SEP] [PAD] [PAD] [PAD] [PAD] [PAD] [PAD] [PAD] [PAD] [PAD] [PAD] [PAD] [PAD] [PAD] [PAD] [PAD] [PAD] [PAD] [PAD] [PAD] [PAD] [PAD] [PAD] [PAD] [PAD] [PAD] [PAD] [PAD] [PAD] [PAD] [PAD] [PAD] [PAD] [PAD] [PAD] [PAD] [PAD] [PAD] [PAD] [PAD] [PAD] [PAD] [PAD] [PAD] [PAD] [PAD] [PAD] [PAD] [PAD] [PAD] [PAD] [PAD] [PAD] [PAD] [PAD] [PAD] [PAD] [PAD] [PAD] [PAD] [PAD] [PAD] [PAD] [PAD] [PAD] [PAD] [PAD] [PAD] [PAD] [PAD] [PAD] [PAD] [PAD] [PAD] [PAD] [PAD] [PAD] [PAD] [PAD] [PAD] [PAD] [PAD] [PAD] [PAD] [PAD] [PAD] [PAD] [PAD] [PAD] [PAD] [PAD] [PAD] [PAD] [PAD] [PAD] [PAD] [PAD] [PAD] [PAD] [PAD] [PAD] [PAD] [PAD] [PAD] [PAD] [PAD] [PAD] [PAD] [PAD] [PAD] [PAD] [PAD] [PAD] [PAD] [PAD] [PAD] [PAD] [PAD] [PAD] [PAD] [PAD] [PAD] [PAD] [PAD] [PAD] [PAD] [PAD] [PAD] [PAD] [PAD] [PAD] [PAD] [PAD] [PAD] [PAD] [PAD] [PAD] [PAD] [PAD] [PAD] [PAD] [PAD] [PAD] [PAD] [PAD] [PAD] [PAD] [PAD] [PAD] [PAD] [PAD] [PAD] [PAD] [PAD] [PAD] [PAD] [PAD] [PAD] [PAD] [PAD] [PAD] [PAD] [PAD] [PAD] [PAD] [PAD] [PAD] [PAD] [PAD] [PAD] [PAD] [PAD] [PAD] [PAD] [PAD] [PAD] [PAD] [PAD] [PAD] [PAD] [PAD] [PAD] [PAD] [PAD] [PAD] [PAD] [PAD] [PAD] [PAD] [PAD] [PAD] [PAD] [PAD] [PAD] [PAD] [PAD] [PAD] [PAD] [PAD] [PAD] [PAD] [PAD] [PAD] [PAD] [PAD] [PAD] [PAD] [PAD] [PAD] [PAD] [PAD] [PAD] [PAD] [PAD] [PAD] [PAD] [PAD] [PAD] [PAD] [PAD] [PAD] [PAD] [PAD] [PAD] [PAD] [PAD] [PAD] [PAD] [PAD] [PAD] [PAD] [PAD] [PAD] [PAD] [PAD] [PAD] [PAD] [PAD] [PAD] [PAD] [PAD] [PAD] [PAD] [PAD] [PAD] [PAD] [PAD] [PAD] [PAD] [PAD] [PAD] [PAD] [PAD] [PAD] [PAD] [PAD] [PAD] [PAD] [PAD] [PAD] [PAD] [PAD] [PAD] [PAD] [PAD] [PAD] [PAD] [PAD] [PAD] [PAD] [PAD] [PAD] [PAD] [PAD] [PAD] [PAD] [PAD] [PAD] [PAD] [PAD] [PAD] [PAD] [PAD] [PAD] [PAD] [PAD] [PAD] [PAD] [PAD] [PAD] [PAD] [PAD] [PAD] [PAD] [PAD] [PAD] [PAD] [PAD] [PAD] [PAD] [PAD] [PAD] [PAD] [PAD] [PAD] [PAD] [PAD] [PAD] [PAD] [PAD] [PAD] [PAD] [PAD] [PAD] [PAD] [PAD] [PAD] [PAD] [PAD] [PAD] [PAD] [PAD] [PAD] [PAD] [PAD] [PAD] [PAD] [PAD] [PAD] [PAD] [PAD] [PAD] [PAD] [PAD] [PAD] [PAD] [PAD] [PAD] [PAD] [PAD] [PAD] [PAD] [PAD] [PAD] [PAD] [PAD] [PAD] [PAD] [PAD] [PAD] [PAD] [PAD] [PAD] [PAD] [PAD] [PAD] [PAD] [PAD] [PAD] [PAD] [PAD] [PAD] [PAD] [PAD] [PAD] [PAD] [PAD] [PAD] [PAD] [PAD] [PAD] [PAD] [PAD] [PAD] [PAD] [PAD] [PAD] [PAD] [PAD] [PAD] [PAD] [PAD] [PAD] [PAD] [PAD] [PAD] [PAD] [PAD] [PAD] [PAD] [PAD] [PAD] [PAD] [PAD] [PAD] [PAD] [PAD] [PAD] [PAD] [PAD] [PAD] [PAD] [PAD] [PAD] [PAD] [PAD] [PAD] [PAD] [PAD] [PAD] [PAD] [PAD] [PAD] [PAD] [PAD] [PAD] [PAD] [PAD] [PAD] [PAD] [PAD] [PAD] [PAD] [PAD] [PAD] [PAD] [PAD] [PAD] [PAD] [PAD] [PAD] [PAD] [PAD]\n",
            "[101, 889, 749, 889, 749, 677, 3762, 678, 3819, 1044, 2861, 2527, 6649, 1044, 3819, 943, 2407, 6743, 2692, 2562, 679, 1830, 4638, 6551, 2530, 2218, 6158, 3819, 1139, 1842, 749, 4696, 4272, 102, 1506, 1506, 679, 3221, 6963, 6304, 749, 671, 3118, 2852, 6551, 679, 6206, 6631, 6882, 671, 943, 3299, 5959, 3717, 1621, 8043, 671, 943, 3299, 5959, 3717, 6365, 1880, 5158, 1348, 679, 4578, 679, 4623, 872, 6206, 6551, 6716, 2157, 2769, 738, 3760, 6794, 3791, 102, 0, 0, 0, 0, 0, 0, 0, 0, 0, 0, 0, 0, 0, 0, 0, 0, 0, 0, 0, 0, 0, 0, 0, 0, 0, 0, 0, 0, 0, 0, 0, 0, 0, 0, 0, 0, 0, 0, 0, 0, 0, 0, 0, 0, 0, 0, 0, 0, 0, 0, 0, 0, 0, 0, 0, 0, 0, 0, 0, 0, 0, 0, 0, 0, 0, 0, 0, 0, 0, 0, 0, 0, 0, 0, 0, 0, 0, 0, 0, 0, 0, 0, 0, 0, 0, 0, 0, 0, 0, 0, 0, 0, 0, 0, 0, 0, 0, 0, 0, 0, 0, 0, 0, 0, 0, 0, 0, 0, 0, 0, 0, 0, 0, 0, 0, 0, 0, 0, 0, 0, 0, 0, 0, 0, 0, 0, 0, 0, 0, 0, 0, 0, 0, 0, 0, 0, 0, 0, 0, 0, 0, 0, 0, 0, 0, 0, 0, 0, 0, 0, 0, 0, 0, 0, 0, 0, 0, 0, 0, 0, 0, 0, 0, 0, 0, 0, 0, 0, 0, 0, 0, 0, 0, 0, 0, 0, 0, 0, 0, 0, 0, 0, 0, 0, 0, 0, 0, 0, 0, 0, 0, 0, 0, 0, 0, 0, 0, 0, 0, 0, 0, 0, 0, 0, 0, 0, 0, 0, 0, 0, 0, 0, 0, 0, 0, 0, 0, 0, 0, 0, 0, 0, 0, 0, 0, 0, 0, 0, 0, 0, 0, 0, 0, 0, 0, 0, 0, 0, 0, 0, 0, 0, 0, 0, 0, 0, 0, 0, 0, 0, 0, 0, 0, 0, 0, 0, 0, 0, 0, 0, 0, 0, 0, 0, 0, 0, 0, 0, 0, 0, 0, 0, 0, 0, 0, 0, 0, 0, 0, 0, 0, 0, 0, 0, 0, 0, 0, 0, 0, 0, 0, 0, 0, 0, 0, 0, 0, 0, 0, 0, 0, 0, 0, 0, 0, 0, 0, 0, 0, 0, 0, 0, 0, 0, 0, 0, 0, 0, 0, 0, 0, 0, 0, 0, 0, 0, 0, 0, 0, 0, 0, 0, 0, 0, 0, 0, 0, 0, 0, 0, 0, 0, 0, 0, 0, 0, 0, 0, 0, 0, 0, 0, 0, 0, 0, 0, 0, 0, 0, 0, 0, 0, 0, 0, 0, 0, 0, 0, 0, 0, 0, 0, 0, 0, 0, 0, 0, 0, 0, 0, 0, 0, 0, 0, 0, 0, 0, 0, 0, 0, 0, 0, 0, 0, 0, 0, 0, 0, 0, 0, 0, 0, 0, 0, 0, 0, 0, 0, 0, 0, 0, 0, 0, 0, 0, 0, 0, 0, 0, 0, 0, 0, 0, 0, 0, 0, 0, 0, 0, 0, 0, 0]\n",
            "token_type_ids\n",
            " [0, 0, 0, 0, 0, 0, 0, 0, 0, 0, 0, 0, 0, 0, 0, 0, 0, 0, 0, 0, 0, 0, 0, 0, 0, 0, 0, 0, 0, 0, 0, 0, 0, 0, 1, 1, 1, 1, 1, 1, 1, 1, 1, 1, 1, 1, 1, 1, 1, 1, 1, 1, 1, 1, 1, 1, 1, 1, 1, 1, 1, 1, 1, 1, 1, 1, 1, 1, 1, 1, 1, 1, 1, 1, 1, 1, 1, 1, 1, 1, 0, 0, 0, 0, 0, 0, 0, 0, 0, 0, 0, 0, 0, 0, 0, 0, 0, 0, 0, 0, 0, 0, 0, 0, 0, 0, 0, 0, 0, 0, 0, 0, 0, 0, 0, 0, 0, 0, 0, 0, 0, 0, 0, 0, 0, 0, 0, 0, 0, 0, 0, 0, 0, 0, 0, 0, 0, 0, 0, 0, 0, 0, 0, 0, 0, 0, 0, 0, 0, 0, 0, 0, 0, 0, 0, 0, 0, 0, 0, 0, 0, 0, 0, 0, 0, 0, 0, 0, 0, 0, 0, 0, 0, 0, 0, 0, 0, 0, 0, 0, 0, 0, 0, 0, 0, 0, 0, 0, 0, 0, 0, 0, 0, 0, 0, 0, 0, 0, 0, 0, 0, 0, 0, 0, 0, 0, 0, 0, 0, 0, 0, 0, 0, 0, 0, 0, 0, 0, 0, 0, 0, 0, 0, 0, 0, 0, 0, 0, 0, 0, 0, 0, 0, 0, 0, 0, 0, 0, 0, 0, 0, 0, 0, 0, 0, 0, 0, 0, 0, 0, 0, 0, 0, 0, 0, 0, 0, 0, 0, 0, 0, 0, 0, 0, 0, 0, 0, 0, 0, 0, 0, 0, 0, 0, 0, 0, 0, 0, 0, 0, 0, 0, 0, 0, 0, 0, 0, 0, 0, 0, 0, 0, 0, 0, 0, 0, 0, 0, 0, 0, 0, 0, 0, 0, 0, 0, 0, 0, 0, 0, 0, 0, 0, 0, 0, 0, 0, 0, 0, 0, 0, 0, 0, 0, 0, 0, 0, 0, 0, 0, 0, 0, 0, 0, 0, 0, 0, 0, 0, 0, 0, 0, 0, 0, 0, 0, 0, 0, 0, 0, 0, 0, 0, 0, 0, 0, 0, 0, 0, 0, 0, 0, 0, 0, 0, 0, 0, 0, 0, 0, 0, 0, 0, 0, 0, 0, 0, 0, 0, 0, 0, 0, 0, 0, 0, 0, 0, 0, 0, 0, 0, 0, 0, 0, 0, 0, 0, 0, 0, 0, 0, 0, 0, 0, 0, 0, 0, 0, 0, 0, 0, 0, 0, 0, 0, 0, 0, 0, 0, 0, 0, 0, 0, 0, 0, 0, 0, 0, 0, 0, 0, 0, 0, 0, 0, 0, 0, 0, 0, 0, 0, 0, 0, 0, 0, 0, 0, 0, 0, 0, 0, 0, 0, 0, 0, 0, 0, 0, 0, 0, 0, 0, 0, 0, 0, 0, 0, 0, 0, 0, 0, 0, 0, 0, 0, 0, 0, 0, 0, 0, 0, 0, 0, 0, 0, 0, 0, 0, 0, 0, 0, 0, 0, 0, 0, 0, 0, 0, 0, 0, 0, 0, 0, 0, 0, 0, 0, 0, 0, 0, 0, 0]\n",
            "attention_mask\n",
            " [1, 1, 1, 1, 1, 1, 1, 1, 1, 1, 1, 1, 1, 1, 1, 1, 1, 1, 1, 1, 1, 1, 1, 1, 1, 1, 1, 1, 1, 1, 1, 1, 1, 1, 1, 1, 1, 1, 1, 1, 1, 1, 1, 1, 1, 1, 1, 1, 1, 1, 1, 1, 1, 1, 1, 1, 1, 1, 1, 1, 1, 1, 1, 1, 1, 1, 1, 1, 1, 1, 1, 1, 1, 1, 1, 1, 1, 1, 1, 1, 0, 0, 0, 0, 0, 0, 0, 0, 0, 0, 0, 0, 0, 0, 0, 0, 0, 0, 0, 0, 0, 0, 0, 0, 0, 0, 0, 0, 0, 0, 0, 0, 0, 0, 0, 0, 0, 0, 0, 0, 0, 0, 0, 0, 0, 0, 0, 0, 0, 0, 0, 0, 0, 0, 0, 0, 0, 0, 0, 0, 0, 0, 0, 0, 0, 0, 0, 0, 0, 0, 0, 0, 0, 0, 0, 0, 0, 0, 0, 0, 0, 0, 0, 0, 0, 0, 0, 0, 0, 0, 0, 0, 0, 0, 0, 0, 0, 0, 0, 0, 0, 0, 0, 0, 0, 0, 0, 0, 0, 0, 0, 0, 0, 0, 0, 0, 0, 0, 0, 0, 0, 0, 0, 0, 0, 0, 0, 0, 0, 0, 0, 0, 0, 0, 0, 0, 0, 0, 0, 0, 0, 0, 0, 0, 0, 0, 0, 0, 0, 0, 0, 0, 0, 0, 0, 0, 0, 0, 0, 0, 0, 0, 0, 0, 0, 0, 0, 0, 0, 0, 0, 0, 0, 0, 0, 0, 0, 0, 0, 0, 0, 0, 0, 0, 0, 0, 0, 0, 0, 0, 0, 0, 0, 0, 0, 0, 0, 0, 0, 0, 0, 0, 0, 0, 0, 0, 0, 0, 0, 0, 0, 0, 0, 0, 0, 0, 0, 0, 0, 0, 0, 0, 0, 0, 0, 0, 0, 0, 0, 0, 0, 0, 0, 0, 0, 0, 0, 0, 0, 0, 0, 0, 0, 0, 0, 0, 0, 0, 0, 0, 0, 0, 0, 0, 0, 0, 0, 0, 0, 0, 0, 0, 0, 0, 0, 0, 0, 0, 0, 0, 0, 0, 0, 0, 0, 0, 0, 0, 0, 0, 0, 0, 0, 0, 0, 0, 0, 0, 0, 0, 0, 0, 0, 0, 0, 0, 0, 0, 0, 0, 0, 0, 0, 0, 0, 0, 0, 0, 0, 0, 0, 0, 0, 0, 0, 0, 0, 0, 0, 0, 0, 0, 0, 0, 0, 0, 0, 0, 0, 0, 0, 0, 0, 0, 0, 0, 0, 0, 0, 0, 0, 0, 0, 0, 0, 0, 0, 0, 0, 0, 0, 0, 0, 0, 0, 0, 0, 0, 0, 0, 0, 0, 0, 0, 0, 0, 0, 0, 0, 0, 0, 0, 0, 0, 0, 0, 0, 0, 0, 0, 0, 0, 0, 0, 0, 0, 0, 0, 0, 0, 0, 0, 0, 0, 0, 0, 0, 0, 0, 0, 0, 0, 0, 0, 0, 0, 0, 0, 0, 0, 0, 0, 0, 0, 0, 0, 0, 0, 0, 0, 0, 0, 0, 0, 0, 0, 0, 0, 0, 0, 0, 0]\n",
            "512\n",
            "512\n"
          ]
        }
      ],
      "source": [
        "print(tokenizer.decode(train_encodings['input_ids'][0]))\n",
        "print(train_encodings['input_ids'][0])\n",
        "print(\"token_type_ids\\n\", train_encodings['token_type_ids'][0])\n",
        "print(\"attention_mask\\n\", train_encodings['attention_mask'][0])\n",
        "\n",
        "print(len(train_encodings['input_ids'][0]))\n",
        "print(len(train_encodings['token_type_ids'][0]))"
      ]
    },
    {
      "cell_type": "markdown",
      "metadata": {
        "id": "2JefrKPM-hpu"
      },
      "source": [
        "## Adding labels (answers)"
      ]
    },
    {
      "cell_type": "code",
      "execution_count": null,
      "metadata": {
        "id": "S1_cvVW1-kRN"
      },
      "outputs": [],
      "source": [
        "def add_targets(encodings,label):\n",
        "    encodings.update({'label':label})\n",
        "add_targets(train_encodings,trainlabel)\n",
        "add_targets(eval_encodings,evallabel)\n"
      ]
    },
    {
      "cell_type": "code",
      "execution_count": null,
      "metadata": {
        "colab": {
          "base_uri": "https://localhost:8080/"
        },
        "id": "cmwWT191_M1O",
        "outputId": "6e3cd634-603b-4ed5-ee39-8c0603ebeec4"
      },
      "outputs": [
        {
          "name": "stdout",
          "output_type": "stream",
          "text": [
            "dict_keys(['input_ids', 'token_type_ids', 'attention_mask', 'label'])\n",
            "[PAD] [unused1] [unused1] [PAD] [unused1] [unused1] [PAD] [unused1] [unused1] [PAD] [unused1] [PAD] [unused1] [unused1] [unused1] [unused1] [unused1] [PAD] [PAD] [unused1] [unused1] [unused1] [unused1] [unused1] [unused1] [PAD] [unused1] [unused1] [unused1] [unused1] [PAD] [PAD] [PAD] [unused1] [unused1] [unused1] [unused1] [PAD] [unused1] [unused1] [unused1] [unused1] [PAD] [PAD] [unused1] [unused1] [PAD] [PAD] [unused1] [PAD] [unused1] [unused1] [unused1] [unused1] [PAD] [unused1] [unused1] [PAD] [PAD] [PAD] [unused1] [PAD] [PAD] [unused1] [unused1] [PAD] [unused1] [PAD] [unused1] [PAD] [PAD] [PAD] [PAD] [PAD] [unused1] [PAD] [unused1] [unused1] [unused1] [unused1] [unused1] [PAD] [unused1] [unused1] [PAD] [unused1] [unused1] [unused1] [PAD] [PAD] [unused1] [unused1] [unused1] [unused1] [unused1] [unused1] [unused1] [unused1] [unused1] [unused1] [unused1] [PAD] [PAD] [PAD] [unused1] [PAD] [unused1] [PAD] [unused1] [unused1] [PAD] [PAD] [unused1] [PAD] [unused1] [unused1] [PAD] [PAD] [PAD] [unused1] [PAD] [PAD] [PAD] [unused1] [PAD] [unused1] [unused1] [unused1] [unused1] [unused1] [unused1] [PAD] [unused1] [PAD] [PAD] [unused1] [unused1] [PAD] [unused1] [unused1] [unused1] [PAD] [PAD] [unused1] [PAD] [PAD] [unused1] [unused1] [unused1] [unused1] [PAD] [unused1] [unused1] [unused1] [PAD] [unused1] [unused1] [unused1] [unused1] [PAD] [unused1] [unused1] [PAD] [unused1] [unused1] [PAD] [unused1] [unused1] [unused1] [unused1] [PAD] [PAD] [unused1] [unused1] [unused1] [PAD] [unused1] [unused1] [unused1] [unused1] [unused1] [unused1] [unused1] [unused1] [unused1] [unused1] [unused1] [unused1] [PAD] [unused1] [PAD] [PAD] [unused1] [unused1] [unused1] [unused1] [unused1] [PAD] [unused1] [PAD] [PAD] [unused1] [unused1] [unused1] [unused1] [unused1] [PAD] [unused1] [unused1] [unused1] [PAD] [PAD] [unused1] [PAD] [unused1] [PAD] [PAD] [unused1] [unused1] [PAD] [PAD] [PAD] [unused1] [PAD] [PAD] [PAD] [unused1] [unused1] [unused1] [PAD] [unused1] [PAD] [unused1] [unused1] [unused1] [unused1] [unused1] [PAD] [unused1] [unused1] [unused1] [PAD] [unused1] [unused1] [PAD] [unused1] [unused1] [PAD] [PAD] [unused1] [PAD] [unused1] [PAD] [PAD] [unused1] [unused1] [unused1] [unused1] [PAD] [PAD] [PAD] [PAD] [unused1] [PAD] [unused1] [unused1] [unused1] [PAD] [unused1] [PAD] [unused1] [PAD] [PAD] [PAD] [unused1] [PAD] [unused1] [unused1] [PAD] [unused1] [unused1] [unused1] [unused1] [unused1] [unused1] [unused1] [unused1] [unused1] [PAD] [unused1] [PAD] [PAD] [PAD] [unused1] [PAD] [PAD] [unused1] [unused1] [unused1] [PAD] [unused1] [unused1] [unused1] [PAD] [unused1] [unused1] [PAD] [PAD] [unused1] [PAD] [unused1] [PAD] [unused1] [unused1] [PAD] [unused1] [unused1] [unused1] [PAD] [unused1] [unused1] [PAD] [unused1] [unused1] [unused1] [PAD] [PAD] [PAD] [unused1] [unused1] [unused1] [unused1] [PAD] [unused1] [PAD] [unused1] [PAD] [unused1] [unused1] [unused1] [unused1] [unused1] [unused1] [PAD] [PAD] [PAD] [unused1] [PAD] [PAD] [PAD] [PAD] [PAD] [PAD] [PAD] [unused1] [unused1] [PAD] [PAD] [unused1] [PAD] [unused1] [PAD] [unused1] [PAD] [unused1] [unused1] [unused1] [unused1] [unused1] [PAD] [PAD] [unused1] [PAD] [PAD] [unused1] [unused1] [unused1] [unused1] [unused1] [unused1] [unused1] [PAD] [PAD] [PAD] [unused1] [unused1] [unused1] [unused1] [unused1] [PAD] [PAD] [unused1] [PAD] [unused1] [unused1] [unused1] [PAD] [PAD] [unused1] [unused1] [PAD] [unused1] [unused1] [unused1] [unused1] [PAD] [PAD] [unused1] [unused1] [unused1] [unused1] [unused1] [unused1] [unused1] [unused1] [PAD] [unused1] [PAD] [unused1] [unused1] [PAD] [PAD] [unused1] [unused1] [PAD] [PAD] [unused1] [unused1] [PAD] [unused1] [unused1] [PAD] [PAD] [unused1] [unused1] [PAD] [PAD] [unused1] [unused1] [PAD] [unused1] [PAD] [unused1] [PAD] [PAD] [PAD] [unused1] [unused1] [unused1] [unused1] [unused1] [PAD] [unused1] [unused1] [PAD] [PAD] [unused1] [unused1] [PAD] [unused1] [unused1] [unused1] [unused1] [PAD] [unused1] [unused1] [PAD] [PAD] [PAD] [unused1] [PAD] [unused1] [PAD] [unused1] [unused1] [unused1] [PAD] [PAD] [PAD] [PAD] [PAD] [PAD] [PAD] [unused1] [PAD] [PAD] [unused1] [PAD] [unused1] [PAD] [unused1] [PAD] [PAD] [PAD] [unused1] [PAD] [unused1] [unused1] [unused1] [PAD] [unused1] [PAD] [unused1] [unused1] [PAD] [unused1] [unused1] [PAD] [PAD] [PAD] [PAD] [PAD] [unused1] [unused1] [PAD] [unused1] [unused1] [unused1] [PAD] [unused1] [PAD] [unused1] [unused1] [unused1] [unused1] [PAD] [PAD] [unused1] [unused1] [unused1] [unused1] [PAD] [unused1] [PAD] [unused1] [unused1] [PAD] [PAD] [PAD] [PAD] [unused1] [unused1] [unused1] [unused1] [PAD] [unused1] [unused1] [unused1] [PAD] [PAD] [unused1] [PAD] [unused1] [unused1] [PAD] [PAD] [PAD] [unused1] [PAD] [PAD] [unused1] [unused1] [unused1] [PAD] [PAD] [PAD] [unused1] [PAD] [unused1] [unused1] [PAD] [unused1] [unused1] [unused1] [unused1] [PAD] [PAD] [PAD] [unused1] [unused1] [unused1] [PAD] [PAD] [unused1] [unused1] [PAD] [unused1] [unused1] [unused1] [unused1] [unused1] [unused1] [unused1] [PAD] [unused1] [PAD] [unused1] [PAD] [unused1] [PAD] [PAD] [PAD] [PAD] [PAD] [unused1] [PAD] [PAD] [PAD] [unused1] [unused1] [PAD] [unused1] [PAD] [PAD] [unused1] [unused1] [unused1] [unused1] [unused1] [PAD] [PAD] [PAD] [unused1] [PAD] [PAD] [PAD] [unused1] [unused1] [unused1] [PAD] [unused1] [PAD] [PAD] [unused1] [unused1] [PAD] [unused1] [PAD] [unused1] [PAD] [unused1] [unused1] [unused1] [PAD] [unused1] [unused1] [unused1] [PAD] [unused1] [unused1] [unused1] [unused1] [PAD] [unused1] [PAD] [PAD] [PAD] [PAD] [unused1] [unused1] [unused1] [PAD] [unused1] [unused1] [PAD] [unused1] [unused1] [PAD] [unused1] [unused1] [unused1] [unused1] [unused1] [PAD] [unused1] [PAD] [PAD] [unused1] [PAD] [PAD] [unused1] [unused1] [unused1] [unused1] [unused1] [unused1] [PAD] [PAD] [unused1] [PAD] [unused1] [PAD] [unused1] [PAD] [unused1] [unused1] [unused1] [PAD] [PAD] [PAD] [PAD] [PAD] [unused1] [unused1] [PAD] [unused1] [unused1] [unused1] [PAD] [PAD] [unused1] [unused1] [PAD] [PAD] [PAD] [PAD] [PAD] [unused1] [PAD] [unused1] [unused1] [PAD] [unused1] [unused1] [PAD] [PAD] [PAD] [PAD] [PAD] [unused1] [PAD] [PAD] [PAD] [unused1] [unused1] [PAD] [PAD] [PAD] [PAD] [PAD] [unused1] [unused1] [PAD] [PAD] [PAD] [unused1] [unused1] [unused1] [PAD] [PAD] [PAD] [PAD] [unused1] [unused1] [unused1] [PAD] [unused1] [PAD] [unused1] [unused1] [PAD] [PAD] [PAD] [unused1] [PAD] [PAD] [unused1] [unused1] [unused1] [unused1] [unused1] [unused1] [unused1] [PAD] [unused1] [unused1] [unused1] [unused1] [unused1] [unused1] [PAD] [PAD] [unused1] [PAD] [PAD] [unused1] [PAD] [PAD] [unused1] [PAD] [unused1] [PAD] [unused1] [unused1] [PAD] [unused1] [PAD] [unused1] [unused1] [unused1] [unused1] [unused1] [unused1] [PAD] [unused1] [PAD] [PAD] [unused1] [unused1] [PAD] [unused1] [unused1] [unused1] [unused1] [PAD] [PAD] [PAD] [unused1] [PAD] [unused1] [unused1] [unused1] [unused1] [PAD] [unused1] [unused1] [unused1] [PAD] [PAD] [PAD] [PAD] [unused1] [PAD] [unused1] [unused1] [PAD] [PAD] [unused1] [unused1] [unused1] [PAD] [unused1] [unused1] [PAD] [unused1] [PAD] [PAD] [unused1] [PAD] [PAD] [unused1] [PAD] [unused1] [unused1] [PAD] [PAD] [PAD] [unused1] [PAD] [PAD] [unused1] [unused1] [unused1] [unused1] [unused1] [PAD] [unused1] [PAD] [PAD] [PAD] [PAD] [PAD] [unused1] [PAD] [unused1] [unused1] [unused1] [unused1] [unused1] [unused1] [PAD] [unused1] [unused1] [unused1] [PAD] [PAD] [PAD] [unused1] [unused1] [PAD] [unused1] [PAD] [unused1] [unused1] [PAD] [unused1] [unused1] [PAD] [unused1] [unused1] [PAD] [unused1] [unused1] [PAD] [PAD] [unused1] [PAD] [unused1] [unused1] [PAD] [PAD] [PAD] [unused1] [PAD] [unused1] [unused1] [PAD] [PAD] [unused1] [unused1] [PAD] [PAD] [unused1] [unused1] [unused1] [unused1] [unused1] [unused1] [unused1] [unused1] [unused1] [PAD] [unused1] [unused1] [PAD] [unused1] [unused1] [PAD] [PAD] [PAD] [unused1] [PAD] [PAD] [unused1] [unused1] [PAD] [PAD] [unused1] [PAD] [unused1] [PAD] [PAD] [unused1] [unused1] [PAD] [PAD] [PAD] [PAD] [PAD] [unused1] [unused1] [PAD] [PAD] [unused1] [PAD] [PAD] [unused1] [PAD] [PAD] [PAD] [unused1] [PAD] [unused1] [PAD] [unused1] [PAD] [unused1] [PAD] [unused1] [unused1] [PAD] [PAD] [PAD] [PAD] [PAD] [unused1] [unused1] [PAD] [unused1] [unused1] [unused1] [PAD] [PAD] [unused1] [unused1] [unused1] [unused1] [PAD] [unused1] [PAD] [unused1] [PAD] [PAD] [PAD] [unused1] [unused1] [unused1] [unused1] [PAD] [PAD] [PAD] [PAD] [unused1] [unused1] [unused1] [unused1] [unused1] [unused1] [unused1] [unused1] [unused1] [unused1] [unused1] [unused1] [unused1] [PAD] [PAD] [PAD] [PAD] [PAD] [PAD] [unused1] [unused1] [PAD] [unused1] [unused1] [unused1] [unused1] [unused1] [unused1] [PAD] [PAD] [unused1] [unused1] [PAD] [PAD] [PAD] [unused1] [unused1] [PAD] [unused1] [unused1] [unused1] [unused1] [PAD] [unused1] [unused1] [unused1] [PAD] [PAD] [unused1] [PAD] [PAD] [PAD] [PAD] [unused1] [PAD] [PAD] [unused1] [unused1] [PAD] [PAD] [PAD] [unused1] [PAD] [unused1] [PAD] [unused1] [PAD] [PAD] [PAD] [unused1] [unused1] [PAD] [unused1] [unused1] [unused1] [PAD] [PAD] [unused1] [PAD] [PAD] [PAD] [unused1] [unused1] [unused1] [PAD] [unused1] [PAD] [unused1] [PAD] [PAD] [unused1] [PAD] [PAD] [PAD] [PAD] [PAD] [unused1] [unused1] [PAD] [PAD] [unused1] [unused1] [unused1] [unused1] [PAD] [PAD] [unused1] [PAD] [unused1] [unused1] [unused1] [unused1] [unused1] [PAD] [PAD] [PAD] [unused1] [PAD] [PAD] [unused1] [unused1] [unused1] [PAD] [PAD] [PAD] [unused1] [PAD] [PAD] [PAD] [unused1] [PAD] [PAD] [unused1] [unused1] [PAD] [unused1] [PAD] [unused1] [PAD] [unused1] [unused1] [unused1] [PAD] [unused1] [unused1] [PAD] [PAD] [PAD] [unused1] [PAD] [PAD] [unused1] [PAD] [unused1] [unused1] [unused1] [unused1] [unused1] [unused1] [unused1] [unused1] [unused1] [unused1] [unused1] [unused1] [unused1] [PAD] [unused1] [PAD] [PAD] [unused1] [PAD] [unused1] [unused1] [PAD] [unused1] [PAD] [unused1] [PAD] [PAD] [unused1] [unused1] [unused1] [PAD] [PAD] [unused1] [PAD] [PAD] [PAD] [unused1] [unused1] [unused1] [unused1] [unused1] [PAD] [PAD] [PAD] [unused1] [unused1] [unused1] [PAD] [unused1] [unused1] [PAD] [PAD] [PAD] [unused1] [unused1] [PAD] [PAD] [PAD] [PAD] [unused1] [unused1] [PAD] [unused1] [unused1] [unused1] [PAD] [PAD] [PAD] [unused1] [unused1] [PAD] [PAD] [PAD] [PAD] [unused1] [PAD] [unused1] [unused1] [unused1] [unused1] [unused1] [PAD] [unused1] [PAD] [unused1] [unused1] [unused1] [PAD] [unused1] [PAD] [unused1] [unused1] [PAD] [unused1] [unused1] [PAD] [PAD] [unused1] [PAD] [unused1] [unused1] [PAD] [PAD] [unused1] [unused1] [PAD] [unused1] [unused1] [PAD] [unused1] [PAD] [unused1] [unused1] [unused1] [unused1] [PAD] [unused1] [unused1] [PAD] [PAD] [PAD] [unused1] [unused1] [unused1] [unused1] [unused1] [PAD] [unused1] [PAD] [unused1] [unused1] [unused1] [unused1] [unused1] [unused1] [unused1] [unused1] [PAD] [unused1] [unused1] [unused1] [unused1] [unused1] [unused1] [unused1] [unused1] [PAD] [unused1] [PAD] [PAD] [PAD] [PAD] [unused1] [PAD] [unused1] [unused1] [PAD] [PAD] [unused1] [unused1] [unused1] [unused1] [unused1] [unused1] [PAD] [unused1] [PAD] [unused1] [PAD] [PAD] [unused1] [unused1] [unused1] [PAD] [unused1] [PAD] [unused1] [unused1] [unused1] [unused1] [PAD] [unused1] [unused1] [PAD] [unused1] [unused1] [unused1] [PAD] [PAD] [PAD] [PAD] [PAD] [unused1] [PAD] [unused1] [PAD] [unused1] [PAD] [unused1] [unused1] [unused1] [unused1] [unused1] [unused1] [unused1] [unused1] [PAD] [PAD] [unused1] [unused1] [PAD] [PAD] [PAD] [PAD] [unused1] [unused1] [unused1] [unused1] [PAD] [PAD] [unused1] [unused1] [PAD] [unused1] [PAD] [PAD] [unused1] [unused1] [unused1] [PAD] [PAD] [PAD] [unused1] [unused1] [unused1] [unused1] [PAD] [PAD] [unused1] [unused1] [PAD] [unused1] [PAD] [PAD] [PAD] [unused1] [PAD] [unused1] [PAD] [unused1] [unused1] [PAD] [PAD] [PAD] [unused1] [unused1] [unused1] [PAD] [unused1] [unused1] [PAD] [PAD] [PAD] [PAD] [unused1] [PAD] [PAD] [unused1] [PAD] [unused1] [unused1] [PAD] [unused1] [PAD] [PAD] [unused1] [PAD] [unused1] [unused1] [PAD] [PAD] [PAD] [unused1] [PAD] [unused1] [PAD] [PAD] [unused1] [unused1] [unused1] [PAD] [unused1] [PAD] [PAD] [PAD] [unused1] [PAD] [unused1] [unused1] [unused1] [unused1] [PAD] [PAD] [unused1] [PAD] [unused1] [unused1] [PAD] [PAD] [unused1] [PAD] [PAD] [unused1] [PAD] [unused1] [PAD] [unused1] [unused1] [PAD] [unused1] [unused1] [PAD] [PAD] [unused1] [PAD] [unused1] [unused1] [unused1] [unused1] [PAD] [unused1] [unused1] [unused1] [unused1] [unused1] [unused1] [unused1] [unused1] [unused1] [unused1] [unused1] [PAD] [PAD] [unused1] [unused1] [PAD] [unused1] [PAD] [unused1] [PAD] [unused1] [unused1] [PAD] [unused1] [PAD] [unused1] [unused1] [unused1] [unused1] [PAD] [PAD] [PAD] [PAD] [unused1] [unused1] [PAD] [PAD] [PAD] [unused1] [unused1] [unused1] [PAD] [unused1] [PAD] [unused1] [PAD] [PAD] [unused1] [unused1] [unused1] [unused1] [unused1] [PAD] [PAD] [PAD] [PAD] [PAD] [PAD] [unused1] [unused1] [unused1] [unused1] [unused1] [PAD] [unused1] [PAD] [PAD] [PAD] [PAD] [PAD] [PAD] [PAD] [unused1] [unused1] [PAD] [PAD] [unused1] [unused1] [unused1] [PAD] [unused1] [PAD] [PAD] [unused1] [unused1] [unused1] [PAD] [unused1] [PAD] [PAD] [PAD] [unused1] [PAD] [unused1] [unused1] [unused1] [unused1] [PAD] [unused1] [unused1] [PAD] [PAD] [PAD] [unused1] [unused1] [unused1] [PAD] [unused1] [unused1] [unused1] [PAD] [PAD] [PAD] [PAD] [unused1] [PAD] [unused1] [PAD] [PAD] [unused1] [unused1] [PAD] [PAD] [PAD] [unused1] [unused1] [unused1] [unused1] [unused1] [PAD] [unused1] [unused1] [PAD] [PAD] [unused1] [PAD] [unused1] [PAD] [unused1] [PAD] [unused1] [unused1] [unused1] [unused1] [PAD] [unused1] [PAD] [PAD] [unused1] [unused1] [PAD] [unused1] [PAD] [unused1] [PAD] [unused1] [PAD] [unused1] [PAD] [unused1] [unused1] [PAD] [unused1] [unused1] [PAD] [PAD] [PAD] [unused1] [PAD] [PAD] [PAD] [unused1] [PAD] [PAD] [PAD] [PAD] [PAD] [PAD] [PAD] [unused1] [unused1] [unused1] [unused1] [unused1] [unused1] [PAD] [unused1] [PAD] [PAD] [PAD] [PAD] [unused1] [unused1] [PAD] [unused1] [PAD] [unused1] [PAD] [unused1] [unused1] [unused1] [unused1] [PAD] [PAD] [unused1] [PAD] [unused1] [PAD] [unused1] [unused1] [unused1] [PAD] [unused1] [PAD] [unused1] [unused1] [PAD] [PAD] [unused1] [PAD] [PAD] [unused1] [unused1] [unused1] [unused1] [PAD] [unused1] [unused1] [unused1] [PAD] [unused1] [PAD] [unused1] [unused1] [PAD] [PAD] [PAD] [unused1] [unused1] [unused1] [PAD] [unused1] [PAD] [PAD] [unused1] [unused1] [unused1] [unused1] [PAD] [PAD] [PAD] [unused1] [unused1] [unused1] [unused1] [unused1] [PAD] [unused1] [unused1] [unused1] [PAD] [PAD] [unused1] [unused1] [unused1] [PAD] [PAD] [PAD] [unused1] [PAD] [unused1] [PAD] [unused1] [unused1] [PAD] [unused1] [PAD] [unused1] [unused1] [PAD] [unused1] [PAD] [unused1] [unused1] [PAD] [unused1] [PAD] [PAD] [PAD] [unused1] [unused1] [unused1] [unused1] [unused1] [PAD] [unused1] [PAD] [unused1] [PAD] [PAD] [PAD] [unused1] [unused1] [unused1] [unused1] [PAD] [PAD] [PAD] [unused1] [unused1] [PAD] [unused1] [unused1] [unused1] [unused1] [unused1] [unused1] [unused1] [unused1] [unused1] [unused1] [unused1] [unused1] [PAD] [PAD] [unused1] [unused1] [unused1] [PAD] [unused1] [PAD] [unused1] [PAD] [unused1] [PAD] [PAD] [unused1] [PAD] [unused1] [PAD] [PAD] [unused1] [unused1] [PAD] [unused1] [unused1] [unused1] [unused1] [unused1] [PAD] [PAD] [PAD] [PAD] [PAD] [PAD] [unused1] [PAD] [PAD] [unused1] [PAD] [PAD] [PAD] [PAD] [PAD] [PAD] [unused1] [unused1] [unused1] [unused1] [unused1] [unused1] [PAD] [unused1] [unused1] [unused1] [unused1] [PAD] [unused1] [unused1] [unused1] [PAD] [unused1] [unused1] [unused1] [PAD] [unused1] [PAD] [unused1] [PAD] [unused1] [unused1] [unused1] [unused1] [unused1] [PAD] [unused1] [unused1] [PAD] [PAD] [unused1] [PAD] [unused1] [unused1] [unused1] [unused1] [PAD] [PAD] [unused1] [PAD] [unused1] [unused1] [unused1] [PAD] [PAD] [unused1] [PAD] [PAD] [PAD] [PAD] [unused1] [unused1] [PAD] [unused1] [unused1] [unused1] [PAD] [unused1] [PAD] [unused1] [PAD] [PAD] [PAD] [PAD] [PAD] [unused1] [unused1] [unused1] [unused1] [unused1] [PAD] [PAD] [unused1] [unused1] [PAD] [unused1] [unused1] [unused1] [unused1] [PAD] [PAD] [unused1] [PAD] [PAD] [PAD] [PAD] [PAD] [unused1] [unused1] [PAD] [PAD] [PAD] [unused1] [unused1] [unused1] [PAD] [PAD] [unused1] [PAD] [PAD] [PAD] [unused1] [PAD] [unused1] [unused1] [PAD] [PAD] [unused1] [unused1] [unused1] [unused1] [unused1] [unused1] [unused1] [unused1] [unused1] [unused1] [unused1] [PAD] [unused1] [PAD] [PAD] [unused1] [unused1] [PAD] [unused1] [unused1] [PAD] [unused1] [unused1] [unused1] [unused1] [unused1] [unused1] [unused1] [unused1] [unused1] [PAD] [unused1] [PAD] [PAD] [unused1] [PAD] [PAD] [PAD] [unused1] [unused1] [unused1] [PAD] [PAD] [unused1] [PAD] [PAD] [PAD] [PAD] [unused1] [unused1] [PAD] [PAD] [unused1] [unused1] [PAD] [PAD] [unused1] [PAD] [unused1] [unused1] [unused1] [PAD] [PAD] [unused1] [unused1] [unused1] [unused1] [unused1] [unused1] [PAD] [unused1] [unused1] [PAD] [PAD] [PAD] [unused1] [unused1] [unused1] [unused1] [PAD] [PAD] [unused1] [unused1] [unused1] [unused1] [PAD] [PAD] [PAD] [unused1] [unused1] [unused1] [PAD] [PAD] [PAD] [PAD] [unused1] [unused1] [unused1] [PAD] [unused1] [unused1] [unused1] [unused1] [unused1] [unused1] [PAD] [unused1] [PAD] [PAD] [PAD] [unused1] [unused1] [unused1] [PAD] [unused1] [unused1] [unused1] [unused1] [PAD] [unused1] [unused1] [unused1] [unused1] [unused1] [PAD] [PAD] [unused1] [unused1] [unused1] [unused1] [unused1] [PAD] [PAD] [unused1] [PAD] [PAD] [unused1] [PAD] [PAD] [PAD] [unused1] [unused1] [PAD] [unused1] [unused1] [PAD] [unused1] [PAD] [unused1] [unused1] [PAD] [unused1] [unused1] [unused1] [PAD] [unused1] [PAD] [unused1] [PAD] [PAD] [unused1] [unused1] [PAD] [unused1] [unused1] [unused1] [PAD] [unused1] [PAD] [unused1] [unused1] [unused1] [PAD] [unused1] [PAD] [unused1] [PAD] [PAD] [PAD] [PAD] [unused1] [PAD] [unused1] [PAD] [PAD] [PAD] [PAD] [PAD] [unused1] [unused1] [PAD] [PAD] [PAD] [PAD] [unused1] [unused1] [PAD] [PAD] [unused1] [PAD] [PAD] [unused1] [unused1] [PAD] [unused1] [PAD] [PAD] [PAD] [unused1] [unused1] [unused1] [PAD] [PAD] [unused1] [unused1] [PAD] [PAD] [PAD] [unused1] [PAD] [unused1] [unused1] [PAD] [unused1] [PAD] [PAD] [unused1] [unused1] [PAD] [unused1] [PAD] [PAD] [unused1] [PAD] [PAD] [unused1] [unused1] [unused1] [unused1] [unused1] [unused1] [PAD] [PAD] [PAD] [unused1] [PAD] [PAD] [unused1] [unused1] [unused1] [unused1] [PAD] [unused1] [unused1] [unused1] [PAD] [unused1] [unused1] [PAD] [unused1] [PAD] [unused1] [unused1] [PAD] [PAD] [PAD] [unused1] [PAD] [PAD] [unused1] [PAD] [PAD] [unused1] [unused1] [unused1] [unused1] [PAD] [PAD] [PAD] [unused1] [PAD] [PAD] [unused1] [PAD] [unused1] [PAD] [PAD] [unused1] [unused1] [PAD] [PAD] [unused1] [unused1] [PAD] [unused1] [PAD] [PAD] [PAD] [PAD] [PAD] [unused1] [unused1] [PAD] [PAD] [unused1] [unused1] [PAD] [unused1] [PAD] [PAD] [unused1] [unused1] [PAD] [PAD] [PAD] [PAD] [unused1] [PAD] [unused1] [PAD] [unused1] [unused1] [PAD] [PAD] [PAD] [unused1] [unused1] [PAD] [PAD] [unused1] [unused1] [unused1] [unused1] [unused1] [unused1] [PAD] [unused1] [PAD] [unused1] [unused1] [PAD] [PAD] [unused1] [PAD] [PAD] [unused1] [unused1] [unused1] [unused1] [unused1] [unused1] [unused1] [unused1] [PAD] [PAD] [PAD] [unused1] [PAD] [unused1] [unused1] [unused1] [unused1] [PAD] [PAD] [PAD] [PAD] [PAD] [PAD] [PAD] [PAD] [PAD] [unused1] [unused1] [unused1] [PAD] [unused1] [unused1] [PAD] [unused1] [PAD] [unused1] [PAD] [PAD] [unused1] [PAD] [PAD] [PAD] [PAD] [unused1] [PAD] [unused1] [PAD] [unused1] [unused1] [unused1] [unused1] [unused1] [PAD] [unused1] [PAD] [PAD] [PAD] [PAD] [unused1] [unused1] [PAD] [unused1] [PAD] [PAD] [PAD] [PAD] [unused1] [PAD] [PAD] [unused1] [PAD] [unused1] [unused1] [PAD] [unused1] [unused1] [PAD] [PAD] [unused1] [PAD] [PAD] [unused1] [PAD] [PAD] [unused1] [PAD] [PAD] [unused1] [unused1] [unused1] [unused1] [PAD] [PAD] [unused1] [unused1] [PAD] [unused1] [PAD] [unused1] [unused1] [unused1] [unused1] [unused1] [unused1] [unused1] [unused1] [PAD] [PAD] [PAD] [unused1] [PAD] [unused1] [PAD] [unused1] [PAD] [PAD] [unused1] [unused1] [PAD] [PAD] [PAD] [PAD] [unused1] [PAD] [PAD] [PAD] [unused1] [PAD] [PAD] [unused1] [unused1] [unused1] [PAD] [PAD] [unused1] [PAD] [unused1] [unused1] [PAD] [PAD] [unused1] [PAD] [unused1] [unused1] [unused1] [PAD] [PAD] [PAD] [unused1] [PAD] [PAD] [unused1] [unused1] [PAD] [unused1] [unused1] [PAD] [PAD] [unused1] [PAD] [PAD] [unused1] [PAD] [PAD] [unused1] [unused1] [PAD] [PAD] [unused1] [PAD] [unused1] [PAD] [PAD] [unused1] [unused1] [unused1] [PAD] [PAD] [unused1] [PAD] [PAD] [unused1] [unused1] [unused1] [PAD] [unused1] [unused1] [unused1] [unused1] [PAD] [unused1] [unused1] [PAD] [PAD] [unused1] [PAD] [unused1] [unused1] [PAD] [unused1] [PAD] [unused1] [unused1] [unused1] [PAD] [unused1] [PAD] [unused1] [unused1] [unused1] [PAD] [unused1] [unused1] [PAD] [unused1] [unused1] [unused1] [PAD] [unused1] [unused1] [unused1] [PAD] [unused1] [PAD] [unused1] [PAD] [PAD] [unused1] [PAD] [PAD] [PAD] [unused1] [PAD] [PAD] [PAD] [PAD] [unused1] [unused1] [unused1] [unused1] [PAD] [PAD] [unused1] [unused1] [PAD] [unused1] [unused1] [unused1] [unused1] [unused1] [unused1] [unused1] [PAD] [unused1] [PAD] [PAD] [PAD] [unused1] [unused1] [unused1] [unused1] [unused1] [PAD] [unused1] [unused1] [PAD] [unused1] [PAD] [unused1] [unused1] [unused1] [PAD] [unused1] [unused1] [PAD] [unused1] [PAD] [PAD] [unused1] [unused1] [unused1] [unused1] [unused1] [unused1] [PAD] [unused1] [unused1] [PAD] [PAD] [unused1] [unused1] [unused1] [unused1] [unused1] [unused1] [PAD] [unused1] [unused1] [PAD] [unused1] [unused1] [unused1] [PAD] [unused1] [unused1] [PAD] [PAD] [unused1] [unused1] [PAD] [unused1] [unused1] [unused1] [PAD] [PAD] [PAD] [PAD] [unused1] [PAD] [unused1] [unused1] [PAD] [unused1] [unused1] [unused1] [unused1] [PAD] [unused1] [unused1] [unused1] [PAD] [unused1] [unused1] [unused1] [unused1] [PAD] [unused1] [unused1] [unused1] [unused1] [unused1] [PAD] [PAD] [unused1] [PAD] [PAD] [PAD] [PAD] [PAD] [PAD] [PAD] [PAD] [unused1] [unused1] [unused1] [unused1] [unused1] [PAD] [unused1] [PAD] [unused1] [unused1] [unused1] [PAD] [PAD] [unused1] [PAD] [PAD] [unused1] [PAD] [unused1] [unused1] [unused1] [unused1] [unused1] [PAD] [unused1] [PAD] [unused1] [unused1] [unused1] [unused1] [PAD] [unused1] [unused1] [unused1] [PAD] [PAD] [unused1] [PAD] [unused1] [PAD] [unused1] [PAD] [PAD] [unused1] [PAD] [unused1] [PAD] [unused1] [unused1] [unused1] [unused1] [unused1] [unused1] [unused1] [unused1] [unused1] [unused1] [unused1] [PAD] [unused1] [PAD] [PAD] [unused1] [unused1] [unused1] [unused1] [unused1] [PAD] [unused1] [unused1] [unused1] [unused1] [PAD] [PAD] [PAD] [PAD] [PAD] [unused1] [unused1] [PAD] [PAD] [unused1] [unused1] [PAD] [unused1] [PAD] [PAD] [unused1] [unused1] [unused1] [PAD] [unused1] [unused1] [unused1] [unused1] [unused1] [unused1] [PAD] [PAD] [unused1] [PAD] [PAD] [unused1] [unused1] [PAD] [PAD] [PAD] [unused1] [PAD] [unused1] [unused1] [PAD] [unused1] [unused1] [unused1] [PAD] [unused1] [unused1] [unused1] [PAD] [unused1] [unused1] [PAD] [PAD] [unused1] [unused1] [PAD] [PAD] [unused1] [PAD] [unused1] [unused1] [PAD] [PAD] [PAD] [PAD] [PAD] [unused1] [unused1] [unused1] [unused1] [unused1] [PAD] [PAD] [unused1] [PAD] [unused1] [unused1] [PAD] [PAD] [PAD] [PAD] [unused1] [PAD] [PAD] [unused1] [PAD] [unused1] [unused1] [unused1] [unused1] [unused1] [PAD] [unused1] [PAD] [unused1] [unused1] [unused1] [unused1] [PAD] [PAD] [unused1] [unused1] [PAD] [PAD] [unused1] [unused1] [unused1] [PAD] [unused1] [unused1] [PAD] [unused1] [unused1] [PAD] [PAD] [PAD] [unused1] [PAD] [unused1] [PAD] [unused1] [unused1] [unused1] [unused1] [unused1] [PAD] [unused1] [unused1] [unused1] [unused1] [unused1] [unused1] [unused1] [unused1] [PAD] [unused1] [PAD] [PAD] [PAD] [PAD] [unused1] [unused1] [unused1] [unused1] [unused1] [unused1] [unused1] [PAD] [PAD] [PAD] [PAD] [PAD] [unused1] [unused1] [PAD] [PAD] [PAD] [PAD] [unused1] [unused1] [unused1] [unused1] [unused1] [unused1] [PAD] [PAD] [PAD] [unused1] [unused1] [PAD] [unused1] [unused1] [unused1] [PAD] [unused1] [unused1] [PAD] [unused1] [PAD] [PAD] [PAD] [unused1] [PAD] [unused1] [unused1] [PAD] [unused1] [PAD] [unused1] [unused1] [unused1] [unused1] [unused1] [unused1] [unused1] [PAD] [PAD] [PAD] [PAD] [unused1] [unused1] [PAD] [PAD] [unused1] [unused1] [PAD] [unused1] [unused1] [PAD] [unused1] [unused1] [unused1] [unused1] [unused1] [PAD] [unused1] [unused1] [unused1] [unused1] [PAD] [unused1] [unused1] [unused1] [unused1] [unused1] [unused1] [unused1] [unused1] [PAD] [unused1] [PAD] [unused1] [PAD] [unused1] [PAD] [PAD] [PAD] [PAD] [PAD] [PAD] [PAD] [PAD] [unused1] [unused1] [unused1] [PAD] [unused1] [unused1] [PAD] [unused1] [PAD] [unused1] [unused1] [PAD] [PAD] [unused1] [unused1] [PAD] [unused1] [unused1] [PAD] [PAD] [PAD] [PAD] [PAD] [unused1] [PAD] [PAD] [PAD] [PAD] [unused1] [unused1] [unused1] [unused1] [PAD] [PAD] [PAD] [PAD] [unused1] [unused1] [unused1] [unused1] [PAD] [unused1] [unused1] [unused1] [unused1] [PAD] [PAD] [PAD] [unused1] [unused1] [unused1] [unused1] [PAD] [unused1] [unused1] [unused1] [unused1] [PAD] [unused1] [unused1] [PAD] [unused1] [unused1] [PAD] [unused1] [PAD] [unused1] [PAD] [PAD] [unused1] [PAD] [PAD] [unused1] [unused1] [unused1] [PAD] [PAD] [unused1] [unused1] [unused1] [unused1] [PAD] [unused1] [unused1] [PAD] [unused1] [unused1] [PAD] [unused1] [PAD] [unused1] [PAD] [PAD] [PAD] [PAD] [PAD] [PAD] [unused1] [unused1] [unused1] [PAD] [unused1] [PAD] [unused1] [PAD] [unused1] [PAD] [unused1] [unused1] [PAD] [PAD] [PAD] [PAD] [unused1] [unused1] [unused1] [unused1] [unused1] [PAD] [PAD] [unused1] [unused1] [unused1] [unused1] [PAD] [PAD] [PAD] [PAD] [unused1] [unused1] [unused1] [unused1] [unused1] [PAD] [PAD] [unused1] [unused1] [PAD] [unused1] [PAD] [PAD] [unused1] [unused1] [PAD] [unused1] [PAD] [unused1] [PAD] [PAD] [unused1] [PAD] [PAD] [PAD] [PAD] [unused1] [unused1] [unused1] [PAD] [PAD] [unused1] [unused1] [PAD] [PAD] [unused1] [unused1] [PAD] [PAD] [unused1] [unused1] [PAD] [unused1] [PAD] [unused1] [unused1] [unused1] [PAD] [unused1] [unused1] [unused1] [PAD] [PAD] [PAD] [unused1] [PAD] [PAD] [PAD] [PAD] [PAD] [unused1] [unused1] [unused1] [PAD] [unused1] [PAD] [unused1] [unused1] [unused1] [unused1] [PAD] [unused1] [unused1] [PAD] [PAD] [PAD] [unused1] [unused1] [PAD] [PAD] [PAD] [unused1] [PAD] [PAD] [PAD] [unused1] [unused1] [unused1] [unused1] [PAD] [unused1] [unused1] [unused1] [PAD] [unused1] [unused1] [PAD] [unused1] [PAD] [PAD] [unused1] [unused1] [unused1] [unused1] [PAD] [unused1] [PAD] [unused1] [unused1] [unused1] [PAD] [PAD] [unused1] [PAD] [unused1] [PAD] [PAD] [unused1] [PAD] [unused1] [PAD] [unused1] [unused1] [unused1] [unused1] [unused1] [unused1] [PAD] [PAD] [unused1] [PAD] [unused1] [unused1] [unused1] [unused1] [unused1] [PAD] [PAD] [unused1] [unused1] [PAD] [unused1] [PAD] [unused1] [PAD] [PAD] [unused1] [unused1] [unused1] [unused1] [PAD] [PAD] [unused1] [unused1] [unused1] [PAD] [unused1] [PAD] [unused1] [unused1] [unused1] [unused1] [unused1] [PAD] [unused1] [PAD] [unused1] [PAD] [PAD] [unused1] [unused1] [unused1] [unused1] [unused1] [unused1] [unused1] [PAD] [PAD] [PAD] [PAD] [unused1] [unused1] [PAD] [PAD] [unused1] [unused1] [unused1] [unused1] [unused1] [unused1] [PAD] [unused1] [unused1] [PAD] [PAD] [PAD] [unused1] [unused1] [unused1] [unused1] [PAD] [PAD] [PAD] [unused1] [unused1] [unused1] [unused1] [unused1] [unused1] [unused1] [unused1] [unused1] [unused1] [unused1] [unused1] [unused1] [unused1] [unused1] [PAD] [unused1] [PAD] [unused1] [unused1] [PAD] [PAD] [unused1] [unused1] [PAD] [PAD] [unused1] [unused1] [unused1] [unused1] [unused1] [unused1] [PAD] [PAD] [unused1] [unused1] [unused1] [PAD] [PAD] [unused1] [PAD] [unused1] [PAD] [PAD] [unused1] [unused1] [unused1] [unused1] [unused1] [unused1] [PAD] [unused1] [unused1] [PAD] [unused1] [PAD] [unused1] [unused1] [PAD] [unused1] [PAD] [PAD] [unused1] [unused1] [PAD] [PAD] [unused1] [unused1] [unused1] [unused1] [PAD] [PAD] [unused1] [unused1] [PAD] [unused1] [PAD] [PAD] [PAD] [unused1] [PAD] [unused1] [unused1] [unused1] [unused1] [unused1] [unused1] [unused1] [unused1] [unused1] [PAD] [unused1] [PAD] [unused1] [unused1] [PAD] [unused1] [unused1] [unused1] [unused1] [PAD] [PAD] [PAD] [PAD] [unused1] [PAD] [PAD] [unused1] [unused1] [unused1] [unused1] [PAD] [unused1] [PAD] [PAD] [PAD] [PAD] [PAD] [unused1] [PAD] [PAD] [PAD] [unused1] [PAD] [unused1] [PAD] [unused1] [PAD] [unused1] [unused1] [PAD] [unused1] [PAD] [unused1] [unused1] [PAD] [unused1] [unused1] [unused1] [unused1] [PAD] [unused1] [unused1] [PAD] [PAD] [unused1] [unused1] [unused1] [PAD] [unused1] [PAD] [unused1] [unused1] [unused1] [PAD] [PAD] [unused1] [unused1] [PAD] [unused1] [unused1] [unused1] [unused1] [PAD] [unused1] [PAD] [PAD] [PAD] [unused1] [unused1] [PAD] [unused1] [unused1] [unused1] [PAD] [PAD] [PAD] [PAD] [PAD] [PAD] [PAD] [PAD] [unused1] [PAD] [unused1] [unused1] [PAD] [PAD] [unused1] [PAD] [unused1] [unused1] [PAD] [PAD] [unused1] [unused1] [unused1] [PAD] [PAD] [unused1] [PAD] [PAD] [unused1] [unused1] [PAD] [unused1] [PAD] [unused1] [PAD] [unused1] [PAD] [PAD] [PAD] [unused1] [unused1] [unused1] [unused1] [PAD] [unused1] [PAD] [unused1] [PAD] [PAD] [unused1] [PAD] [unused1] [unused1] [unused1] [unused1] [unused1] [PAD] [unused1] [PAD] [PAD] [unused1] [unused1] [unused1] [PAD] [PAD] [unused1] [unused1] [PAD] [unused1] [PAD] [PAD] [PAD] [unused1] [PAD] [unused1] [unused1] [unused1] [PAD] [unused1] [unused1] [unused1] [unused1] [unused1] [unused1] [unused1] [PAD] [PAD] [PAD] [PAD] [PAD] [PAD] [unused1] [unused1] [PAD] [unused1] [unused1] [PAD] [unused1] [unused1] [unused1] [unused1] [unused1] [unused1] [unused1] [unused1] [unused1] [unused1] [unused1] [unused1] [PAD] [unused1] [PAD] [PAD] [unused1] [unused1] [PAD] [unused1] [PAD] [PAD] [PAD] [unused1] [PAD] [unused1] [unused1] [unused1] [unused1] [unused1] [PAD] [unused1] [PAD] [unused1] [PAD] [PAD] [PAD] [unused1] [PAD] [unused1] [PAD] [unused1] [unused1] [unused1] [PAD] [unused1] [PAD] [unused1] [unused1] [PAD] [PAD] [PAD] [unused1] [unused1] [PAD] [unused1] [PAD] [PAD] [PAD] [PAD] [PAD] [unused1] [PAD] [unused1] [unused1] [unused1] [unused1] [PAD] [unused1] [unused1] [unused1] [unused1] [PAD] [PAD] [unused1] [unused1] [unused1] [unused1] [unused1] [unused1] [PAD] [unused1] [PAD] [unused1] [PAD] [PAD] [unused1] [unused1] [PAD] [PAD] [PAD] [PAD] [PAD] [unused1] [unused1] [PAD] [unused1] [unused1] [unused1] [PAD] [unused1] [unused1] [unused1] [PAD] [PAD] [unused1] [unused1] [unused1] [PAD] [PAD] [unused1] [unused1] [unused1] [unused1] [PAD] [unused1] [PAD] [unused1] [unused1] [PAD] [unused1] [unused1] [PAD] [unused1] [unused1] [unused1] [unused1] [unused1] [PAD] [unused1] [unused1] [PAD] [unused1] [PAD] [unused1] [unused1] [PAD] [unused1] [PAD] [PAD] [PAD] [unused1] [PAD] [PAD] [PAD] [unused1] [PAD] [unused1] [PAD] [unused1] [PAD] [unused1] [PAD] [PAD] [unused1] [unused1] [unused1] [PAD] [PAD] [unused1] [unused1] [unused1] [PAD] [unused1] [unused1] [PAD] [unused1] [PAD] [PAD] [PAD] [unused1] [unused1] [unused1] [PAD] [unused1] [PAD] [unused1] [PAD] [PAD] [unused1] [PAD] [unused1] [PAD] [unused1] [PAD] [unused1] [PAD] [PAD] [PAD] [unused1] [unused1] [unused1] [PAD] [unused1] [PAD] [PAD] [unused1] [unused1] [unused1] [unused1] [PAD] [PAD] [unused1] [unused1] [PAD] [PAD] [PAD] [unused1] [unused1] [unused1] [unused1] [PAD] [PAD] [PAD] [PAD] [unused1] [unused1] [unused1] [unused1] [PAD] [PAD] [unused1] [unused1] [PAD] [PAD] [PAD] [unused1] [unused1] [unused1] [PAD] [unused1] [PAD] [unused1] [unused1] [unused1] [unused1] [PAD] [unused1] [PAD] [unused1] [PAD] [PAD] [unused1] [unused1] [unused1] [unused1] [unused1] [PAD] [PAD] [unused1] [unused1] [unused1] [unused1] [PAD] [unused1] [unused1] [PAD] [unused1] [unused1] [unused1] [unused1] [unused1] [unused1] [unused1] [unused1] [unused1] [PAD] [PAD] [PAD] [unused1] [PAD] [unused1] [unused1] [unused1] [PAD] [unused1] [PAD] [PAD] [unused1] [unused1] [unused1] [PAD] [PAD] [unused1] [PAD] [PAD] [unused1] [unused1] [unused1] [unused1] [PAD] [unused1] [unused1] [PAD] [PAD] [PAD] [unused1] [PAD] [unused1] [PAD] [PAD] [PAD] [PAD] [unused1] [unused1] [PAD] [unused1] [unused1] [unused1] [unused1] [unused1] [unused1] [unused1] [unused1] [PAD] [PAD] [unused1] [PAD] [unused1] [PAD] [PAD] [unused1] [PAD] [PAD] [PAD] [PAD] [PAD] [PAD] [PAD] [unused1] [PAD] [unused1] [unused1] [unused1] [unused1] [PAD] [unused1] [unused1] [unused1] [unused1] [PAD] [PAD] [unused1] [PAD] [unused1] [unused1] [unused1] [unused1] [PAD] [unused1] [unused1] [unused1] [PAD] [unused1] [PAD] [unused1] [PAD] [unused1] [unused1] [PAD] [unused1] [PAD] [PAD] [unused1] [PAD] [unused1] [unused1] [unused1] [PAD] [unused1] [unused1] [PAD] [PAD] [unused1] [unused1] [PAD] [PAD] [PAD] [PAD] [unused1] [unused1] [PAD] [unused1] [unused1] [unused1] [unused1] [PAD] [PAD] [unused1] [unused1] [PAD] [PAD] [PAD] [PAD] [unused1] [unused1] [PAD] [unused1] [unused1] [unused1] [unused1] [unused1] [PAD] [unused1] [unused1] [unused1] [unused1] [unused1] [unused1] [PAD] [PAD] [PAD] [unused1] [unused1] [unused1] [PAD] [PAD] [unused1] [unused1] [PAD] [PAD] [unused1] [unused1] [PAD] [PAD] [unused1] [PAD] [PAD] [unused1] [unused1] [PAD] [PAD] [PAD] [unused1] [unused1] [unused1] [unused1] [unused1] [unused1] [PAD] [unused1] [unused1] [unused1] [PAD] [unused1] [PAD] [unused1] [unused1] [PAD] [PAD] [PAD] [PAD] [unused1] [unused1] [unused1] [PAD] [PAD] [unused1] [PAD] [unused1] [unused1] [unused1] [unused1] [unused1] [unused1] [PAD] [PAD] [unused1] [unused1] [unused1] [unused1] [unused1] [unused1] [PAD] [unused1] [unused1] [PAD] [unused1] [unused1] [PAD] [PAD] [unused1] [unused1] [unused1] [unused1] [unused1] [unused1] [unused1] [unused1] [unused1] [unused1] [PAD] [unused1] [unused1] [PAD] [unused1] [unused1] [unused1] [PAD] [PAD] [unused1] [unused1] [unused1] [PAD] [unused1] [PAD] [unused1] [unused1] [PAD] [PAD] [unused1] [unused1] [PAD] [PAD] [unused1] [PAD] [PAD] [unused1] [PAD] [unused1] [PAD] [unused1] [unused1] [unused1] [PAD] [unused1] [PAD] [unused1] [unused1] [unused1] [unused1] [unused1] [PAD] [unused1] [unused1] [unused1] [unused1] [unused1] [PAD] [unused1] [PAD] [unused1] [PAD] [unused1] [unused1] [PAD] [PAD] [unused1] [unused1] [unused1] [unused1] [unused1] [unused1] [PAD] [unused1] [PAD] [unused1] [unused1] [unused1] [PAD] [unused1] [unused1] [unused1] [PAD] [unused1] [unused1] [unused1] [PAD] [unused1] [PAD] [unused1] [unused1] [unused1] [PAD] [PAD] [unused1] [unused1] [PAD] [unused1] [unused1] [unused1] [PAD] [PAD] [PAD] [unused1] [unused1] [PAD] [unused1] [unused1] [PAD] [PAD] [PAD] [unused1] [PAD] [PAD] [unused1] [unused1] [PAD] [PAD] [unused1] [PAD] [unused1] [unused1] [unused1] [unused1] [unused1] [unused1] [unused1] [PAD] [PAD] [unused1] [unused1] [unused1] [PAD] [PAD] [unused1] [unused1] [unused1] [unused1] [PAD] [PAD] [unused1] [PAD] [unused1] [unused1] [unused1] [PAD] [unused1] [unused1] [unused1] [unused1] [PAD] [PAD] [PAD] [PAD] [PAD] [PAD] [PAD] [unused1] [unused1] [unused1] [PAD] [unused1] [PAD] [unused1] [PAD] [PAD] [unused1] [unused1] [unused1] [PAD] [PAD] [unused1] [unused1] [PAD] [unused1] [unused1] [unused1] [unused1] [PAD] [PAD] [PAD] [PAD] [PAD] [unused1] [PAD] [PAD] [PAD] [unused1] [PAD] [unused1] [PAD] [unused1] [PAD] [PAD] [unused1] [unused1] [PAD] [PAD] [PAD] [PAD] [PAD] [unused1] [unused1] [unused1] [unused1] [unused1] [PAD] [unused1] [unused1] [PAD] [PAD] [PAD] [unused1] [PAD] [unused1] [PAD] [unused1] [unused1] [PAD] [PAD] [unused1] [PAD] [PAD] [unused1] [unused1] [PAD] [unused1] [unused1] [PAD] [unused1] [unused1] [unused1] [unused1] [unused1] [PAD] [unused1] [unused1] [PAD] [unused1] [PAD] [unused1] [unused1] [PAD] [unused1] [PAD] [PAD] [unused1] [unused1] [unused1] [unused1] [unused1] [unused1] [PAD] [unused1] [unused1] [unused1] [unused1] [PAD] [PAD] [unused1] [unused1] [unused1] [unused1] [PAD] [PAD] [PAD] [PAD] [unused1] [PAD] [PAD] [PAD] [PAD] [unused1] [unused1] [PAD] [PAD] [PAD] [unused1] [unused1] [PAD] [PAD] [PAD] [unused1] [unused1] [PAD] [PAD] [unused1] [unused1] [unused1] [PAD] [unused1] [unused1] [PAD] [PAD] [unused1] [unused1] [PAD] [unused1] [unused1] [PAD] [PAD] [unused1] [unused1] [PAD] [PAD] [PAD] [PAD] [PAD] [unused1] [unused1] [unused1] [PAD] [PAD] [PAD] [unused1] [PAD] [unused1] [PAD] [PAD] [PAD] [unused1] [unused1] [PAD] [unused1] [unused1] [PAD] [unused1] [PAD] [unused1] [unused1] [PAD] [PAD] [PAD] [PAD] [PAD] [unused1] [unused1] [PAD] [unused1] [unused1] [PAD] [PAD] [unused1] [PAD] [PAD] [unused1] [unused1] [PAD] [unused1] [unused1] [unused1] [unused1] [PAD] [unused1] [unused1] [unused1] [PAD] [unused1] [unused1] [unused1] [PAD] [PAD] [unused1] [unused1] [PAD] [unused1] [PAD] [unused1] [PAD] [PAD] [unused1] [PAD] [PAD] [PAD] [unused1] [unused1] [PAD] [unused1] [unused1] [PAD] [PAD] [PAD] [unused1] [unused1] [PAD] [PAD] [PAD] [unused1] [unused1] [unused1] [PAD] [PAD] [PAD] [unused1] [unused1] [PAD] [unused1] [unused1] [PAD] [unused1] [PAD] [PAD] [PAD] [unused1] [PAD] [unused1] [unused1] [PAD] [unused1] [unused1] [PAD] [PAD] [unused1] [unused1] [PAD] [PAD] [unused1] [unused1] [unused1] [PAD] [unused1] [unused1] [PAD] [unused1] [unused1] [PAD] [unused1] [unused1] [unused1] [PAD] [unused1] [PAD] [unused1] [PAD] [PAD] [PAD] [PAD] [unused1] [PAD] [PAD] [PAD] [unused1] [unused1] [unused1] [PAD] [unused1] [unused1] [unused1] [unused1] [unused1] [unused1] [PAD] [unused1] [PAD] [PAD] [unused1] [unused1] [unused1] [unused1] [unused1] [PAD] [PAD] [unused1] [unused1] [PAD] [unused1] [PAD] [unused1] [PAD] [unused1] [unused1] [unused1] [PAD] [PAD] [unused1] [unused1] [unused1] [PAD] [unused1] [unused1] [PAD] [unused1] [unused1] [unused1] [unused1] [unused1] [PAD] [PAD] [unused1] [unused1] [unused1] [unused1] [unused1] [PAD] [PAD] [unused1] [unused1] [unused1] [PAD] [PAD] [PAD] [PAD] [PAD] [unused1] [unused1] [PAD] [PAD] [PAD] [PAD] [unused1] [unused1] [unused1] [PAD] [PAD] [PAD] [unused1] [PAD] [unused1] [unused1] [unused1] [PAD] [PAD] [unused1] [unused1] [unused1] [PAD] [unused1] [PAD] [unused1] [unused1] [PAD] [unused1] [PAD] [PAD] [unused1] [unused1] [PAD] [PAD] [unused1] [PAD] [unused1] [unused1] [PAD] [unused1] [unused1] [PAD] [unused1] [unused1] [PAD] [unused1] [unused1] [PAD] [unused1] [PAD] [PAD] [unused1] [PAD] [unused1] [unused1] [PAD] [unused1] [PAD] [PAD] [unused1] [unused1] [unused1] [unused1] [PAD] [unused1] [unused1] [unused1] [PAD] [unused1] [PAD] [PAD] [unused1] [PAD] [unused1] [PAD] [unused1] [unused1] [unused1] [unused1] [PAD] [unused1] [unused1] [PAD] [PAD] [PAD] [unused1] [unused1] [PAD] [unused1] [PAD] [PAD] [unused1] [unused1] [PAD] [unused1] [unused1] [PAD] [unused1] [unused1] [unused1] [unused1] [PAD] [unused1] [PAD] [PAD] [unused1] [PAD] [unused1] [PAD] [PAD] [unused1] [PAD] [unused1] [PAD] [unused1] [PAD] [PAD] [PAD] [PAD] [PAD] [unused1] [unused1] [unused1] [unused1] [unused1] [PAD] [PAD] [unused1] [unused1] [unused1] [unused1] [PAD] [unused1] [unused1] [unused1] [unused1] [PAD] [PAD] [unused1] [unused1] [PAD] [unused1] [PAD] [PAD] [unused1] [PAD] [PAD] [unused1] [PAD] [unused1] [unused1] [unused1] [PAD] [unused1] [unused1] [PAD] [PAD] [unused1] [unused1] [unused1] [unused1] [PAD] [unused1] [PAD] [PAD] [PAD] [unused1] [unused1] [PAD] [PAD] [unused1] [unused1] [PAD] [unused1] [unused1] [unused1] [unused1] [PAD] [unused1] [unused1] [unused1] [unused1] [PAD] [unused1] [unused1] [PAD] [unused1] [unused1] [unused1] [unused1] [unused1] [unused1] [unused1] [PAD] [unused1] [unused1] [unused1] [PAD] [PAD] [unused1] [PAD] [unused1] [PAD] [unused1] [unused1] [PAD] [unused1] [unused1] [PAD] [PAD] [PAD] [PAD] [PAD] [PAD] [unused1] [PAD] [unused1] [unused1] [PAD] [PAD] [PAD] [unused1] [PAD] [unused1] [unused1] [PAD] [unused1] [unused1] [unused1] [unused1] [PAD] [unused1] [unused1] [PAD] [unused1] [unused1] [PAD] [unused1] [PAD] [unused1] [unused1] [unused1] [unused1] [PAD] [PAD] [unused1] [unused1] [PAD] [unused1] [PAD] [PAD] [unused1] [unused1] [unused1] [unused1] [PAD] [unused1] [unused1] [unused1] [PAD] [PAD] [unused1] [PAD] [PAD] [PAD] [unused1] [PAD] [PAD] [unused1] [unused1] [unused1] [unused1] [unused1] [PAD] [unused1] [PAD] [unused1] [unused1] [unused1] [unused1] [unused1] [unused1] [PAD] [unused1] [unused1] [unused1] [PAD] [unused1] [PAD] [unused1] [unused1] [unused1] [PAD] [PAD] [unused1] [PAD] [PAD] [unused1] [unused1] [PAD] [PAD] [unused1] [unused1] [PAD] [unused1] [unused1] [PAD] [PAD] [PAD] [unused1] [PAD] [unused1] [unused1] [PAD] [unused1] [unused1] [unused1] [unused1] [unused1] [unused1] [unused1] [unused1] [unused1] [unused1] [PAD] [PAD] [unused1] [unused1] [PAD] [unused1] [PAD] [PAD] [unused1] [unused1] [PAD] [PAD] [unused1] [PAD] [PAD] [unused1] [PAD] [unused1] [PAD] [unused1] [PAD] [PAD] [unused1] [PAD] [unused1] [PAD] [unused1] [unused1] [unused1] [PAD] [unused1] [PAD] [PAD] [unused1] [unused1] [unused1] [unused1] [unused1] [PAD] [PAD] [unused1] [unused1] [unused1] [unused1] [PAD] [unused1] [unused1] [PAD] [PAD] [unused1] [unused1] [unused1] [unused1] [PAD] [unused1] [unused1] [PAD] [unused1] [unused1] [unused1] [PAD] [unused1] [unused1] [PAD] [unused1] [PAD] [PAD] [PAD] [unused1] [PAD] [unused1] [unused1] [PAD] [unused1] [PAD] [PAD] [unused1] [unused1] [PAD] [PAD] [PAD] [unused1] [PAD] [unused1] [PAD] [PAD] [unused1] [unused1] [unused1] [unused1] [unused1] [PAD] [unused1] [PAD] [unused1] [unused1] [PAD] [PAD] [PAD] [unused1] [unused1] [PAD] [PAD] [unused1] [PAD] [unused1] [PAD] [unused1] [PAD] [PAD] [unused1] [unused1] [unused1] [unused1] [PAD] [unused1] [PAD] [PAD] [PAD] [unused1] [PAD] [unused1] [PAD] [unused1] [unused1] [PAD] [PAD] [unused1] [PAD] [PAD] [PAD] [unused1] [unused1] [unused1] [PAD] [unused1] [unused1] [PAD] [PAD] [unused1] [unused1] [PAD] [PAD] [unused1] [unused1] [PAD] [unused1] [PAD] [unused1] [unused1] [PAD] [unused1] [unused1] [unused1] [PAD] [PAD] [unused1] [PAD] [PAD] [unused1] [unused1] [unused1] [unused1] [unused1] [PAD] [unused1] [unused1] [unused1] [unused1] [unused1] [PAD] [unused1] [PAD] [unused1] [unused1] [PAD] [PAD] [unused1] [unused1] [PAD] [unused1] [unused1] [unused1] [PAD] [PAD] [unused1] [PAD] [PAD] [unused1] [unused1] [PAD] [unused1] [unused1] [unused1] [PAD] [unused1] [unused1] [PAD] [unused1] [unused1] [unused1] [unused1] [PAD] [unused1] [unused1] [unused1] [unused1] [unused1] [unused1] [unused1] [unused1] [unused1] [unused1] [PAD] [unused1] [PAD] [PAD] [PAD] [unused1] [unused1] [unused1] [PAD] [unused1] [unused1] [PAD] [unused1] [unused1] [unused1] [PAD] [PAD] [unused1] [unused1] [unused1] [unused1] [unused1] [unused1] [PAD] [unused1] [unused1] [PAD] [PAD] [PAD] [PAD] [unused1] [unused1] [unused1] [unused1] [unused1] [PAD] [unused1] [unused1] [unused1] [PAD] [unused1] [PAD] [unused1] [unused1] [unused1] [unused1] [unused1] [PAD] [unused1] [PAD] [unused1] [unused1] [PAD] [PAD] [PAD] [unused1] [unused1] [unused1] [PAD] [unused1] [PAD] [unused1] [unused1] [unused1] [PAD] [unused1] [unused1] [PAD] [unused1] [PAD] [unused1] [unused1] [unused1] [PAD] [unused1] [unused1] [PAD] [unused1] [PAD] [unused1] [PAD] [unused1] [unused1] [PAD] [unused1] [unused1] [unused1] [unused1] [unused1] [unused1] [unused1] [unused1] [unused1] [PAD] [unused1] [PAD] [PAD] [unused1] [PAD] [PAD] [unused1] [unused1] [PAD] [unused1] [PAD] [unused1] [unused1] [PAD] [PAD] [PAD] [PAD] [unused1] [PAD] [PAD] [unused1] [unused1] [PAD] [unused1] [unused1] [unused1] [PAD] [PAD] [PAD] [PAD] [unused1] [PAD] [PAD] [PAD] [PAD] [unused1] [unused1] [unused1] [unused1] [unused1] [PAD] [unused1] [unused1] [unused1] [unused1] [unused1] [unused1] [unused1] [unused1] [unused1] [PAD] [unused1] [unused1] [unused1] [unused1] [unused1] [unused1] [unused1] [unused1] [PAD] [PAD] [unused1] [unused1] [unused1] [unused1] [PAD] [unused1] [PAD] [unused1] [unused1] [PAD] [unused1] [unused1] [PAD] [unused1] [unused1] [unused1] [PAD] [PAD] [unused1] [PAD] [PAD] [PAD] [PAD] [unused1] [unused1] [PAD] [unused1] [unused1] [unused1] [unused1] [PAD] [unused1] [unused1] [PAD] [unused1] [PAD] [unused1] [unused1] [unused1] [unused1] [PAD] [unused1] [unused1] [PAD] [PAD] [unused1] [unused1] [unused1] [PAD] [unused1] [PAD] [PAD] [unused1] [unused1] [PAD] [unused1] [unused1] [PAD] [PAD] [PAD] [PAD] [unused1] [unused1] [unused1] [PAD] [PAD] [PAD] [PAD] [PAD] [PAD] [unused1] [PAD] [PAD] [PAD] [PAD] [unused1] [PAD] [unused1] [unused1] [PAD] [PAD] [unused1] [unused1] [PAD] [PAD] [PAD] [unused1] [PAD] [PAD] [unused1] [unused1] [unused1] [PAD] [PAD] [unused1] [unused1] [PAD] [unused1] [PAD] [unused1] [PAD] [unused1] [unused1] [unused1] [unused1] [unused1] [PAD] [PAD] [unused1] [unused1] [unused1] [unused1] [unused1] [unused1] [PAD] [unused1] [unused1] [PAD] [PAD] [PAD] [unused1] [unused1] [unused1] [PAD] [unused1] [unused1] [PAD] [PAD] [PAD] [unused1] [unused1] [PAD] [unused1] [unused1] [PAD] [unused1] [PAD] [unused1] [unused1] [unused1] [PAD] [unused1] [unused1] [unused1] [unused1] [unused1] [PAD] [unused1] [unused1] [unused1] [unused1] [unused1] [unused1] [unused1] [PAD] [PAD] [unused1] [unused1] [PAD] [unused1] [unused1] [PAD] [unused1] [unused1] [PAD] [unused1] [unused1] [unused1] [PAD] [unused1] [PAD] [unused1] [PAD] [unused1] [PAD] [unused1] [PAD] [PAD] [unused1] [PAD] [unused1] [unused1] [unused1] [PAD] [unused1] [unused1] [PAD] [unused1] [PAD] [unused1] [unused1] [PAD] [PAD] [PAD] [unused1] [PAD] [PAD] [PAD] [PAD] [unused1] [PAD] [PAD] [unused1] [unused1] [unused1] [PAD] [PAD] [PAD] [PAD] [PAD] [PAD] [unused1] [PAD] [unused1] [unused1] [PAD] [unused1] [PAD] [unused1] [PAD] [PAD] [unused1] [unused1] [unused1] [PAD] [unused1] [unused1] [PAD] [unused1] [unused1] [PAD] [PAD] [PAD] [unused1] [PAD] [unused1] [PAD] [PAD] [PAD] [unused1] [unused1] [unused1] [PAD] [unused1] [unused1] [PAD] [unused1] [unused1] [unused1] [unused1] [PAD] [PAD] [unused1] [PAD] [PAD] [PAD] [PAD] [PAD] [PAD] [PAD] [unused1] [PAD] [unused1] [PAD] [PAD] [unused1] [PAD] [unused1] [PAD] [PAD] [PAD] [PAD] [unused1] [unused1] [PAD] [PAD] [unused1] [unused1] [PAD] [PAD] [PAD] [PAD] [unused1] [unused1] [unused1] [PAD] [PAD] [unused1] [PAD] [PAD] [PAD] [unused1] [unused1] [unused1] [PAD] [unused1] [unused1] [PAD] [PAD] [PAD] [PAD] [PAD] [unused1] [unused1] [PAD] [unused1] [PAD] [unused1] [unused1] [unused1] [unused1] [unused1] [PAD] [unused1] [PAD] [PAD] [unused1] [PAD] [unused1] [unused1] [unused1] [unused1] [unused1] [unused1] [PAD] [PAD] [unused1] [unused1] [PAD] [unused1] [unused1] [unused1] [unused1] [unused1] [unused1] [PAD] [unused1] [unused1] [unused1] [PAD] [unused1] [unused1] [PAD] [PAD] [unused1] [unused1] [unused1] [PAD] [PAD] [unused1] [unused1] [PAD] [unused1] [PAD] [unused1] [PAD] [unused1] [unused1] [unused1] [unused1] [unused1] [unused1] [PAD] [unused1] [unused1] [unused1] [PAD] [unused1] [unused1] [unused1] [PAD] [unused1] [PAD] [PAD] [unused1] [PAD] [PAD] [unused1] [PAD] [unused1] [PAD] [unused1] [unused1] [unused1] [unused1] [unused1] [PAD] [unused1] [unused1] [unused1] [PAD] [unused1] [unused1] [unused1] [unused1] [unused1] [unused1] [PAD] [PAD] [unused1] [unused1] [unused1] [PAD] [unused1] [PAD] [unused1] [unused1] [unused1] [unused1] [unused1] [unused1] [unused1] [unused1] [unused1] [unused1] [unused1] [PAD] [unused1] [PAD] [unused1] [PAD] [PAD] [unused1] [PAD] [unused1] [PAD] [PAD] [PAD] [unused1] [unused1] [PAD] [unused1] [PAD] [unused1] [unused1] [unused1] [PAD] [unused1] [unused1] [unused1] [unused1] [unused1] [PAD] [PAD] [unused1] [PAD] [unused1] [PAD] [unused1] [unused1] [unused1] [PAD] [PAD] [unused1] [PAD] [unused1] [unused1] [unused1] [PAD] [unused1] [PAD] [PAD] [PAD] [unused1] [PAD] [PAD] [unused1] [PAD] [unused1] [unused1] [PAD] [unused1] [unused1] [PAD] [PAD] [unused1] [PAD] [PAD] [unused1] [PAD] [PAD] [PAD] [unused1] [unused1] [PAD] [unused1] [unused1] [unused1] [unused1] [unused1] [PAD] [unused1] [PAD] [PAD] [unused1] [unused1] [unused1] [unused1] [PAD] [PAD] [unused1] [PAD] [unused1] [PAD] [PAD] [unused1] [unused1] [PAD] [PAD] [PAD] [PAD] [PAD] [unused1] [unused1] [unused1] [PAD] [unused1] [unused1] [unused1] [PAD] [unused1] [unused1] [PAD] [unused1] [unused1] [unused1] [unused1] [unused1] [unused1] [PAD] [unused1] [PAD] [PAD] [unused1] [unused1] [PAD] [PAD] [unused1] [PAD] [unused1] [PAD] [PAD] [PAD] [PAD] [unused1] [unused1] [unused1] [unused1] [unused1] [PAD] [unused1] [unused1] [unused1] [unused1] [PAD] [PAD] [PAD] [PAD] [unused1] [unused1] [unused1] [PAD] [unused1] [unused1] [unused1] [unused1] [unused1] [unused1] [PAD] [unused1] [PAD] [PAD] [unused1] [unused1] [PAD] [PAD] [PAD] [unused1] [unused1] [PAD] [unused1] [PAD] [unused1] [unused1] [PAD] [PAD] [unused1] [unused1] [PAD] [unused1] [PAD] [PAD] [PAD] [unused1] [PAD] [unused1] [unused1] [unused1] [unused1] [PAD] [unused1] [PAD] [PAD] [unused1] [PAD] [unused1] [PAD] [unused1] [PAD] [unused1] [unused1] [unused1] [PAD] [PAD] [unused1] [PAD] [unused1] [unused1] [unused1] [PAD] [unused1] [unused1] [PAD] [unused1] [PAD] [PAD] [unused1] [unused1] [unused1] [PAD] [unused1] [unused1] [unused1] [unused1] [PAD] [unused1] [unused1] [PAD] [unused1] [unused1] [unused1] [unused1] [unused1] [unused1] [unused1] [PAD] [unused1] [unused1] [PAD] [unused1] [PAD] [PAD] [PAD] [PAD] [unused1] [unused1] [unused1] [unused1] [unused1] [PAD] [unused1] [unused1] [PAD] [PAD] [unused1] [unused1] [PAD] [PAD] [PAD] [unused1] [PAD] [PAD] [unused1] [PAD] [PAD] [unused1] [unused1] [PAD] [unused1] [PAD] [unused1] [PAD] [unused1] [unused1] [PAD] [PAD] [unused1] [unused1] [unused1] [unused1] [PAD] [unused1] [PAD] [PAD] [PAD] [PAD] [unused1] [PAD] [unused1] [PAD] [unused1] [unused1] [unused1] [PAD] [unused1] [PAD] [PAD] [unused1] [PAD] [unused1] [PAD] [unused1] [unused1] [unused1] [unused1] [unused1] [unused1] [PAD] [PAD] [PAD] [PAD] [PAD] [PAD] [unused1] [unused1] [unused1] [unused1] [PAD] [unused1] [unused1] [PAD] [unused1] [PAD] [unused1] [unused1] [PAD] [unused1] [PAD] [unused1] [unused1] [PAD] [unused1] [unused1] [unused1] [unused1] [PAD] [unused1] [unused1] [PAD] [unused1] [unused1] [unused1] [PAD] [PAD] [unused1] [unused1] [unused1] [PAD] [PAD] [unused1] [PAD] [unused1] [unused1] [PAD] [unused1] [unused1] [unused1] [PAD] [unused1] [unused1] [PAD] [PAD] [unused1] [PAD] [unused1] [PAD] [PAD] [PAD] [unused1] [PAD] [PAD] [PAD] [unused1] [unused1] [unused1] [unused1] [PAD] [PAD] [PAD] [unused1] [PAD] [unused1] [unused1] [PAD] [unused1] [unused1] [unused1] [unused1] [unused1] [unused1] [PAD] [unused1] [unused1] [PAD] [unused1] [PAD] [unused1] [PAD] [PAD] [PAD] [PAD] [unused1] [unused1] [unused1] [PAD] [unused1] [PAD] [PAD] [PAD] [PAD] [unused1] [unused1] [PAD] [unused1] [unused1] [PAD] [PAD] [unused1] [unused1] [unused1] [PAD] [unused1] [PAD] [PAD] [unused1] [PAD] [unused1] [unused1] [unused1] [PAD] [PAD] [PAD] [unused1] [unused1] [PAD] [PAD] [unused1] [unused1] [unused1] [PAD] [unused1] [unused1] [unused1] [PAD] [PAD] [PAD] [PAD] [unused1] [unused1] [unused1] [PAD] [unused1] [unused1] [unused1] [unused1] [PAD] [unused1] [PAD] [PAD] [unused1] [unused1] [PAD] [PAD] [unused1] [unused1] [PAD] [unused1] [unused1] [unused1] [unused1] [unused1] [unused1] [PAD] [PAD] [PAD] [PAD] [unused1] [PAD] [unused1] [unused1] [unused1] [PAD] [unused1] [PAD] [unused1] [PAD] [unused1] [unused1] [PAD] [unused1] [PAD] [PAD] [unused1] [unused1] [unused1] [unused1] [unused1] [unused1] [unused1] [PAD] [unused1] [PAD] [unused1] [unused1] [unused1] [PAD] [unused1] [PAD] [unused1] [unused1] [unused1] [PAD] [unused1] [PAD] [unused1] [PAD] [unused1] [unused1] [PAD] [PAD] [PAD] [unused1] [PAD] [unused1] [PAD] [unused1] [unused1] [unused1] [unused1] [unused1] [PAD] [unused1] [unused1] [unused1] [unused1] [PAD] [PAD] [PAD] [PAD] [unused1] [PAD] [PAD] [PAD] [unused1] [PAD] [PAD] [PAD] [unused1] [unused1] [unused1] [unused1] [PAD] [unused1] [PAD] [unused1] [unused1] [PAD] [PAD] [unused1] [unused1] [unused1] [PAD] [unused1] [PAD] [unused1] [PAD] [unused1] [unused1] [PAD] [unused1] [unused1] [unused1] [PAD] [PAD] [unused1] [unused1] [unused1] [unused1] [unused1] [unused1] [unused1] [unused1] [unused1] [unused1] [unused1] [unused1] [unused1] [unused1] [PAD] [unused1] [unused1] [PAD] [PAD] [PAD] [unused1] [unused1] [unused1] [unused1] [PAD] [PAD] [unused1] [PAD] [unused1] [unused1] [PAD] [unused1] [unused1] [unused1] [unused1] [unused1] [unused1] [unused1] [unused1] [PAD] [PAD] [unused1] [PAD] [unused1] [unused1] [unused1] [unused1] [unused1] [unused1] [unused1] [unused1] [unused1] [unused1] [PAD] [PAD] [PAD] [unused1] [PAD] [unused1] [unused1] [unused1] [unused1] [PAD] [unused1] [unused1] [unused1] [PAD] [unused1] [unused1] [unused1] [PAD] [PAD] [PAD] [unused1] [unused1] [unused1] [unused1] [unused1] [PAD] [unused1] [PAD] [PAD] [unused1] [PAD] [unused1] [PAD] [unused1] [unused1] [unused1] [PAD] [unused1] [unused1] [PAD] [unused1] [unused1] [unused1] [PAD] [unused1] [PAD] [PAD] [PAD] [unused1] [PAD] [unused1] [unused1] [unused1] [PAD] [unused1] [unused1] [PAD] [PAD] [unused1] [unused1] [unused1] [unused1] [unused1] [PAD] [PAD] [PAD] [unused1] [unused1] [unused1] [unused1] [unused1] [unused1] [unused1] [unused1] [unused1] [PAD] [unused1] [PAD] [PAD] [unused1] [unused1] [unused1] [PAD] [unused1] [unused1] [PAD] [PAD] [PAD] [PAD] [PAD] [PAD] [unused1] [PAD] [unused1] [PAD] [PAD] [unused1] [unused1] [unused1] [PAD] [PAD] [PAD] [PAD] [unused1] [PAD] [PAD] [unused1] [unused1] [unused1] [unused1] [PAD] [PAD] [unused1] [unused1] [unused1] [unused1] [unused1] [PAD] [unused1] [PAD] [unused1] [PAD] [PAD] [PAD] [PAD] [unused1] [PAD] [unused1] [PAD] [unused1] [unused1] [PAD] [unused1] [unused1] [unused1] [PAD] [unused1] [PAD] [unused1] [PAD] [unused1] [unused1] [unused1] [PAD] [PAD] [unused1] [PAD] [unused1] [unused1] [unused1] [unused1] [PAD] [unused1] [unused1] [PAD] [unused1] [PAD] [PAD] [PAD] [unused1] [unused1] [unused1] [PAD] [unused1] [unused1] [PAD] [unused1] [unused1] [PAD] [unused1] [unused1] [PAD] [PAD] [PAD] [unused1] [PAD] [unused1] [unused1] [unused1] [unused1] [unused1] [unused1] [unused1] [PAD] [PAD] [unused1] [unused1] [unused1] [unused1] [unused1] [unused1] [unused1] [unused1] [unused1] [PAD] [unused1] [PAD] [unused1] [PAD] [PAD] [PAD] [unused1] [unused1] [unused1] [unused1] [unused1] [PAD] [unused1] [unused1] [unused1] [PAD] [unused1] [PAD] [unused1] [PAD] [PAD] [unused1] [PAD] [unused1] [unused1] [unused1] [unused1] [PAD] [unused1] [unused1] [unused1] [unused1] [unused1] [PAD] [unused1] [PAD] [unused1] [unused1] [unused1] [unused1] [PAD] [unused1] [unused1] [unused1] [unused1] [unused1] [PAD] [unused1] [PAD] [PAD] [unused1] [PAD] [unused1] [unused1] [unused1] [unused1] [unused1] [PAD] [PAD] [unused1] [PAD] [unused1] [PAD] [PAD] [unused1] [PAD] [unused1] [unused1] [unused1] [unused1] [PAD] [PAD] [unused1] [unused1] [PAD] [unused1] [unused1] [unused1] [PAD] [unused1] [unused1] [unused1] [PAD] [PAD] [PAD] [unused1] [unused1] [PAD] [unused1] [unused1] [unused1] [unused1] [PAD] [PAD] [unused1] [unused1] [PAD] [PAD] [unused1] [PAD] [unused1] [PAD] [unused1] [unused1] [unused1] [unused1] [unused1] [unused1] [PAD] [unused1] [PAD] [unused1] [PAD] [PAD] [PAD] [PAD] [PAD] [unused1] [unused1] [PAD] [unused1] [unused1] [unused1] [PAD] [unused1] [unused1] [PAD] [unused1] [unused1] [PAD] [unused1] [unused1] [unused1] [unused1] [unused1] [unused1] [PAD] [unused1] [PAD] [unused1] [unused1] [PAD] [PAD] [unused1] [unused1] [unused1] [PAD] [unused1] [unused1] [unused1] [unused1] [unused1] [PAD] [PAD] [unused1] [PAD] [PAD] [unused1] [unused1] [PAD] [unused1] [PAD] [PAD] [PAD] [unused1] [unused1] [PAD] [unused1] [PAD] [unused1] [unused1] [unused1] [unused1] [unused1] [unused1] [PAD] [unused1] [PAD] [unused1] [PAD] [unused1] [unused1] [unused1] [unused1] [PAD] [unused1] [PAD] [PAD] [unused1] [unused1] [PAD] [PAD] [PAD] [unused1] [unused1] [unused1] [unused1] [unused1] [unused1] [unused1] [PAD] [PAD] [unused1] [unused1] [unused1] [unused1] [unused1] [unused1] [PAD] [unused1] [unused1] [PAD] [unused1] [unused1] [PAD] [PAD] [PAD] [PAD] [unused1] [unused1] [unused1] [PAD] [PAD] [PAD] [PAD] [unused1] [unused1] [unused1] [unused1] [PAD] [unused1] [unused1] [PAD] [PAD] [unused1] [PAD] [PAD] [unused1] [PAD] [PAD] [unused1] [PAD] [unused1] [PAD] [unused1] [PAD] [unused1] [PAD] [PAD] [unused1] [unused1] [unused1] [PAD] [PAD] [unused1] [unused1] [unused1] [unused1] [unused1] [PAD] [unused1] [PAD] [unused1] [PAD] [unused1] [PAD] [unused1] [PAD] [PAD] [PAD] [PAD] [unused1] [PAD] [PAD] [unused1] [PAD] [PAD] [PAD] [unused1] [PAD] [unused1] [PAD] [PAD] [PAD] [unused1] [PAD] [unused1] [PAD] [unused1] [unused1] [unused1] [unused1] [PAD] [PAD] [PAD] [unused1] [PAD] [unused1] [PAD] [unused1] [unused1] [PAD] [PAD] [unused1] [unused1] [PAD] [unused1] [unused1] [unused1] [PAD] [PAD] [unused1] [unused1] [PAD] [PAD] [unused1] [unused1] [PAD] [unused1] [unused1] [unused1] [PAD] [unused1] [unused1] [unused1] [unused1] [PAD] [unused1] [PAD] [unused1] [unused1] [unused1] [unused1] [unused1] [PAD] [unused1] [unused1] [PAD] [unused1] [unused1] [unused1] [unused1] [unused1] [unused1] [unused1] [unused1] [PAD] [unused1] [unused1] [PAD] [unused1] [unused1] [PAD] [unused1] [unused1] [unused1] [unused1] [PAD] [unused1] [unused1] [PAD] [unused1] [unused1] [unused1] [PAD] [unused1] [PAD] [unused1] [unused1] [PAD] [unused1] [unused1] [unused1] [unused1] [unused1] [PAD] [PAD] [PAD] [unused1] [unused1] [unused1] [PAD] [unused1] [PAD] [unused1] [PAD] [PAD] [PAD] [PAD] [PAD] [unused1] [PAD] [unused1] [unused1] [PAD] [unused1] [unused1] [unused1] [unused1] [PAD] [PAD] [unused1] [PAD] [unused1] [unused1] [unused1] [PAD] [PAD] [PAD] [PAD] [PAD] [PAD] [PAD] [PAD] [unused1] [PAD] [PAD] [unused1] [PAD] [PAD] [unused1] [unused1] [PAD] [PAD] [unused1] [unused1] [unused1] [PAD] [PAD] [PAD] [unused1] [unused1] [PAD] [unused1] [unused1] [PAD] [PAD] [PAD] [unused1] [PAD] [unused1] [unused1] [unused1] [unused1] [PAD] [PAD] [PAD] [PAD] [unused1] [unused1] [PAD] [unused1] [PAD] [unused1] [unused1] [PAD] [unused1] [PAD] [unused1] [unused1] [PAD] [unused1] [PAD] [unused1] [PAD] [PAD] [unused1] [unused1] [PAD] [unused1] [unused1] [PAD] [PAD] [unused1] [PAD] [unused1] [unused1] [PAD] [unused1] [PAD] [PAD] [PAD] [unused1] [PAD] [unused1] [unused1] [PAD] [unused1] [PAD] [unused1] [unused1] [unused1] [PAD] [unused1] [unused1] [PAD] [unused1] [unused1] [PAD] [unused1] [PAD] [PAD] [PAD] [unused1] [unused1] [unused1] [unused1] [PAD] [unused1] [unused1] [PAD] [unused1] [PAD] [PAD] [PAD] [unused1] [PAD] [PAD] [unused1] [unused1] [PAD] [PAD] [PAD] [PAD] [unused1] [PAD] [unused1] [unused1] [unused1] [PAD] [PAD] [PAD] [unused1] [unused1] [unused1] [unused1] [PAD] [PAD] [unused1] [unused1] [unused1] [unused1] [unused1] [unused1] [PAD] [PAD] [unused1] [PAD] [unused1] [PAD] [unused1] [unused1] [unused1] [unused1] [unused1] [unused1] [unused1] [unused1] [unused1] [unused1] [PAD] [unused1] [unused1] [unused1] [PAD] [PAD] [PAD] [PAD] [unused1] [PAD] [unused1] [unused1] [PAD] [unused1] [unused1] [unused1] [PAD] [unused1] [unused1] [PAD] [PAD] [PAD] [unused1] [unused1] [unused1] [PAD] [unused1] [PAD] [PAD] [unused1] [unused1] [PAD] [PAD] [unused1] [unused1] [unused1] [PAD] [unused1] [PAD] [unused1] [PAD] [unused1] [unused1] [PAD] [unused1] [PAD] [PAD] [unused1] [unused1] [unused1] [unused1] [unused1] [unused1] [unused1] [unused1] [unused1] [unused1] [unused1] [PAD] [PAD] [PAD] [PAD] [PAD] [unused1] [unused1] [unused1] [unused1] [PAD] [unused1] [unused1] [unused1] [PAD] [unused1] [PAD] [unused1] [unused1] [unused1] [PAD] [unused1] [PAD] [PAD] [unused1] [PAD] [unused1] [unused1] [PAD] [PAD] [PAD] [unused1] [PAD] [unused1] [unused1] [unused1] [PAD] [PAD] [PAD] [unused1] [unused1] [PAD] [PAD] [unused1] [PAD] [unused1] [PAD] [unused1] [PAD] [unused1] [PAD] [unused1] [PAD] [unused1] [unused1] [PAD] [unused1] [PAD] [unused1] [PAD] [unused1] [PAD] [PAD] [PAD] [PAD] [unused1] [unused1] [unused1] [PAD] [unused1] [unused1] [unused1] [unused1] [unused1] [unused1] [PAD] [PAD] [unused1] [unused1] [PAD] [PAD] [PAD] [unused1] [unused1] [PAD] [unused1] [PAD] [PAD] [PAD] [unused1] [unused1] [PAD] [unused1] [PAD] [unused1] [PAD] [PAD] [unused1] [unused1] [PAD] [PAD] [unused1] [unused1] [unused1] [PAD] [unused1] [unused1] [unused1] [unused1] [unused1] [unused1] [unused1] [unused1] [unused1] [PAD] [PAD] [unused1] [unused1] [unused1] [unused1] [PAD] [unused1] [unused1] [unused1] [PAD] [unused1] [PAD] [PAD] [unused1] [unused1] [unused1] [unused1] [PAD] [unused1] [unused1] [PAD] [unused1] [unused1] [unused1] [unused1] [unused1] [unused1] [unused1] [unused1] [unused1] [PAD] [unused1] [unused1] [PAD] [unused1] [PAD] [unused1] [PAD] [unused1] [PAD] [PAD] [unused1] [unused1] [unused1] [PAD] [unused1] [unused1] [unused1] [PAD] [PAD] [unused1] [PAD] [PAD] [unused1] [unused1] [PAD] [PAD] [PAD] [PAD] [PAD] [PAD] [unused1] [unused1] [unused1] [PAD] [PAD] [unused1] [PAD] [unused1] [unused1] [unused1] [PAD] [unused1] [PAD] [PAD] [unused1] [unused1] [unused1] [unused1] [unused1] [PAD] [PAD] [PAD] [PAD] [unused1] [PAD] [PAD] [PAD] [PAD] [unused1] [PAD] [PAD] [unused1] [PAD] [PAD] [PAD] [PAD] [unused1] [PAD] [unused1] [PAD] [unused1] [unused1] [PAD] [unused1] [unused1] [PAD] [unused1] [PAD] [PAD] [unused1] [unused1] [PAD] [PAD] [PAD] [unused1] [unused1] [unused1] [unused1] [unused1] [unused1] [unused1] [PAD] [PAD] [unused1] [unused1] [PAD] [unused1] [PAD] [PAD] [unused1] [unused1] [PAD] [unused1] [unused1] [unused1] [unused1] [PAD] [unused1] [unused1] [PAD] [unused1] [unused1] [PAD] [unused1] [unused1] [unused1] [PAD] [PAD] [unused1] [unused1] [unused1] [PAD] [unused1] [unused1] [unused1] [unused1] [unused1] [unused1] [PAD] [unused1] [PAD] [unused1] [PAD] [PAD] [PAD] [unused1] [PAD] [PAD] [unused1] [unused1] [PAD] [unused1] [unused1] [PAD] [PAD] [PAD] [PAD] [PAD] [unused1] [PAD] [PAD] [unused1] [unused1] [PAD] [PAD] [PAD] [unused1] [PAD] [PAD] [unused1] [PAD] [PAD] [PAD] [unused1] [PAD] [unused1] [PAD] [unused1] [unused1] [PAD] [unused1] [PAD] [PAD] [unused1] [PAD] [PAD] [unused1] [unused1] [PAD] [unused1] [unused1] [unused1] [unused1] [PAD] [unused1] [unused1] [PAD] [unused1] [unused1] [PAD] [PAD] [unused1] [unused1] [unused1] [unused1] [PAD] [unused1] [PAD] [PAD] [unused1] [unused1] [PAD] [unused1] [unused1] [PAD] [unused1] [unused1] [unused1] [PAD] [unused1] [unused1] [unused1] [PAD] [unused1] [unused1] [unused1] [unused1] [PAD] [unused1] [unused1] [PAD] [unused1] [PAD] [unused1] [unused1] [unused1] [unused1] [unused1] [unused1] [PAD] [PAD] [unused1] [unused1] [unused1] [unused1] [unused1] [PAD] [unused1] [unused1] [unused1] [unused1] [unused1] [unused1] [PAD] [unused1] [unused1] [PAD] [unused1] [unused1] [PAD] [PAD] [unused1] [PAD] [PAD] [unused1] [unused1] [PAD] [PAD] [unused1] [PAD] [unused1] [PAD] [PAD] [PAD] [unused1] [PAD] [unused1] [PAD] [unused1] [unused1] [unused1] [unused1] [unused1] [unused1] [unused1] [PAD] [unused1] [unused1] [unused1] [PAD] [PAD] [PAD] [unused1] [unused1] [unused1] [unused1] [unused1] [unused1] [unused1] [unused1] [unused1] [PAD] [unused1] [PAD] [unused1] [PAD] [unused1] [unused1] [unused1] [unused1] [unused1] [PAD] [PAD] [unused1] [unused1] [unused1] [PAD] [unused1] [unused1] [PAD] [PAD] [PAD] [unused1] [PAD] [unused1] [unused1] [PAD] [PAD] [unused1] [unused1] [PAD] [unused1] [unused1] [unused1] [unused1] [unused1] [unused1] [unused1] [PAD] [PAD] [unused1] [unused1] [PAD] [unused1] [unused1] [PAD] [PAD] [PAD] [unused1] [unused1] [unused1] [unused1] [PAD] [unused1] [unused1] [PAD] [PAD] [unused1] [PAD] [PAD] [unused1] [PAD] [PAD] [PAD] [unused1] [unused1] [PAD] [unused1] [PAD] [PAD] [unused1] [PAD] [PAD] [unused1] [unused1] [PAD] [unused1] [PAD] [PAD] [PAD] [unused1] [unused1] [unused1] [unused1] [PAD] [unused1] [unused1] [unused1] [unused1] [PAD] [PAD] [unused1] [unused1] [PAD] [unused1] [unused1] [unused1] [PAD] [unused1] [unused1] [unused1] [PAD] [unused1] [PAD] [unused1] [PAD] [unused1] [unused1] [unused1] [unused1] [unused1] [unused1] [unused1] [unused1] [unused1] [unused1] [PAD] [PAD] [PAD] [PAD] [PAD] [unused1] [unused1] [unused1] [PAD] [PAD] [unused1] [unused1] [unused1] [unused1] [PAD] [unused1] [unused1] [PAD] [PAD] [unused1] [PAD] [unused1] [unused1] [unused1] [unused1] [unused1] [unused1] [unused1] [unused1] [PAD] [unused1] [unused1] [PAD] [PAD] [PAD] [unused1] [PAD] [unused1] [unused1] [unused1] [unused1] [unused1] [unused1] [unused1] [unused1] [PAD] [unused1] [PAD] [unused1] [unused1] [unused1] [unused1] [unused1] [unused1] [PAD] [unused1] [PAD] [unused1] [unused1] [unused1] [PAD] [unused1] [unused1] [PAD] [PAD] [unused1] [PAD] [PAD] [PAD] [PAD] [unused1] [unused1] [unused1] [PAD] [unused1] [unused1] [unused1] [unused1] [PAD] [unused1] [unused1] [PAD] [PAD] [PAD] [PAD] [unused1] [PAD] [PAD] [PAD] [unused1] [unused1] [unused1] [unused1] [PAD] [unused1] [unused1] [PAD] [PAD] [unused1] [PAD] [unused1] [unused1] [PAD] [PAD] [unused1] [PAD] [PAD] [PAD] [PAD] [PAD] [unused1] [unused1] [unused1] [PAD] [PAD] [unused1] [unused1] [unused1] [unused1] [unused1] [PAD] [PAD] [unused1] [unused1] [unused1] [PAD] [PAD] [unused1] [unused1] [unused1] [unused1] [PAD] [PAD] [unused1] [unused1] [unused1] [unused1] [unused1] [PAD] [PAD] [PAD] [unused1] [unused1] [unused1] [PAD] [unused1] [PAD] [PAD] [PAD] [unused1] [PAD] [unused1] [unused1] [unused1] [unused1] [unused1] [PAD] [PAD] [unused1] [unused1] [unused1] [unused1] [unused1] [PAD] [PAD] [unused1] [unused1] [unused1] [unused1] [unused1] [PAD] [PAD] [PAD] [unused1] [PAD] [PAD] [unused1] [PAD] [PAD] [unused1] [unused1] [PAD] [unused1] [PAD] [unused1] [PAD] [PAD] [PAD] [unused1] [PAD] [PAD] [PAD] [unused1] [PAD] [PAD] [PAD] [unused1] [PAD] [unused1] [PAD] [unused1] [PAD] [PAD] [PAD] [unused1] [PAD] [unused1] [unused1] [PAD] [unused1] [PAD] [unused1] [unused1] [unused1] [unused1] [PAD] [unused1] [unused1] [PAD] [PAD] [unused1] [unused1] [unused1] [PAD] [unused1] [unused1] [PAD] [unused1] [PAD] [unused1] [unused1] [PAD] [unused1] [unused1] [PAD] [PAD] [unused1] [PAD] [unused1] [PAD] [unused1] [PAD] [PAD] [unused1] [unused1] [unused1] [PAD] [unused1] [PAD] [PAD] [unused1] [PAD] [PAD] [unused1] [unused1] [unused1] [unused1] [unused1] [unused1] [PAD] [PAD] [PAD] [unused1] [PAD] [PAD] [unused1] [unused1] [unused1] [unused1] [PAD] [unused1] [unused1] [unused1] [unused1] [unused1] [unused1] [PAD] [unused1] [PAD] [PAD] [PAD] [unused1] [PAD] [PAD] [unused1] [PAD] [unused1] [unused1] [unused1] [PAD] [unused1] [PAD] [unused1] [PAD] [unused1] [PAD] [unused1] [PAD] [unused1] [unused1] [unused1] [PAD] [unused1] [unused1] [unused1] [PAD] [unused1] [unused1] [PAD] [unused1] [unused1] [unused1] [PAD] [PAD] [PAD] [unused1] [unused1] [PAD] [unused1] [PAD] [PAD] [unused1] [unused1] [unused1] [PAD] [unused1] [unused1] [PAD] [unused1] [PAD] [PAD] [unused1] [unused1] [unused1] [PAD] [PAD] [PAD] [PAD] [PAD] [unused1] [unused1] [unused1] [unused1] [unused1] [unused1] [unused1] [unused1] [PAD] [PAD] [unused1] [unused1] [PAD] [unused1] [PAD] [unused1] [PAD] [PAD] [unused1] [unused1] [PAD] [PAD] [unused1] [unused1] [unused1] [unused1] [unused1] [PAD] [unused1] [PAD] [unused1] [unused1] [PAD] [unused1] [PAD] [unused1] [unused1] [PAD] [unused1] [PAD] [PAD] [unused1] [PAD] [unused1] [PAD] [unused1] [unused1] [unused1] [unused1] [unused1] [PAD] [unused1] [PAD] [unused1] [unused1] [unused1] [PAD] [PAD] [unused1] [unused1] [unused1] [PAD] [unused1] [PAD] [unused1] [unused1] [PAD] [unused1] [unused1] [PAD] [unused1] [unused1] [unused1] [unused1] [unused1] [unused1] [unused1] [unused1] [PAD] [unused1] [unused1] [PAD] [PAD] [unused1] [unused1] [unused1] [PAD] [unused1] [unused1] [unused1] [PAD] [PAD] [PAD] [unused1] [PAD] [PAD] [unused1] [unused1] [unused1] [unused1] [unused1] [PAD] [unused1] [unused1] [unused1] [unused1] [unused1] [unused1] [unused1] [PAD] [PAD] [PAD] [PAD] [PAD] [unused1] [PAD] [PAD] [unused1] [PAD] [unused1] [PAD] [unused1] [PAD] [unused1] [unused1] [PAD] [unused1] [unused1] [PAD] [PAD] [unused1] [unused1] [PAD] [unused1] [PAD] [PAD] [PAD] [PAD] [PAD] [PAD] [PAD] [unused1] [unused1] [PAD] [unused1] [unused1] [PAD] [PAD] [PAD] [unused1] [unused1] [unused1] [unused1] [PAD] [unused1] [unused1] [unused1] [PAD] [unused1] [unused1] [PAD] [PAD] [unused1] [unused1] [PAD] [unused1] [unused1] [PAD] [PAD] [unused1] [unused1] [unused1] [PAD] [PAD] [unused1] [PAD] [unused1] [PAD] [PAD] [PAD] [unused1] [unused1] [PAD] [unused1] [PAD] [PAD] [PAD] [PAD] [PAD] [unused1] [unused1] [unused1] [unused1] [unused1] [unused1] [unused1] [PAD] [unused1] [PAD] [PAD] [PAD] [unused1] [unused1] [unused1] [unused1] [PAD] [unused1] [PAD] [PAD] [unused1] [unused1] [PAD] [unused1] [unused1] [unused1] [unused1] [PAD] [unused1] [unused1] [PAD] [PAD] [unused1] [PAD] [PAD] [unused1] [PAD] [unused1] [unused1] [unused1] [PAD] [unused1] [PAD] [PAD] [unused1] [unused1] [PAD] [unused1] [unused1] [PAD] [unused1] [unused1] [unused1] [PAD] [unused1] [PAD] [unused1] [unused1] [unused1] [PAD] [unused1] [unused1] [unused1] [unused1] [unused1] [unused1] [PAD] [PAD] [unused1] [unused1] [PAD] [PAD] [unused1] [PAD] [unused1] [PAD] [unused1] [unused1] [PAD] [PAD] [unused1] [PAD] [unused1] [unused1] [unused1] [unused1] [unused1] [PAD] [PAD] [unused1] [unused1] [unused1] [unused1] [unused1] [PAD] [PAD] [unused1] [PAD] [unused1] [PAD] [PAD] [PAD] [unused1] [PAD] [PAD] [PAD] [unused1] [unused1] [unused1] [PAD] [unused1] [PAD] [PAD] [PAD] [unused1] [unused1] [PAD] [unused1] [PAD] [unused1] [PAD] [unused1] [unused1] [unused1] [PAD] [PAD] [PAD] [unused1] [unused1] [unused1] [unused1] [unused1] [unused1] [PAD] [unused1] [unused1] [PAD] [unused1] [unused1] [unused1] [PAD] [PAD] [PAD] [PAD] [unused1] [unused1] [unused1] [unused1] [PAD] [unused1] [unused1] [unused1] [PAD] [unused1] [unused1] [PAD] [unused1] [unused1] [PAD] [unused1] [unused1] [unused1] [unused1] [PAD] [unused1] [PAD] [unused1] [unused1] [PAD] [PAD] [PAD] [unused1] [unused1] [unused1] [unused1] [PAD] [unused1] [unused1] [PAD] [unused1] [unused1] [unused1] [PAD] [PAD] [unused1] [PAD] [unused1] [PAD] [PAD] [PAD] [PAD] [PAD] [PAD] [unused1] [PAD] [unused1] [PAD] [PAD] [unused1] [unused1] [PAD] [PAD] [unused1] [unused1] [PAD] [unused1] [unused1] [PAD] [unused1] [PAD] [unused1] [PAD] [unused1] [unused1] [unused1] [unused1] [unused1] [PAD] [PAD] [unused1] [PAD] [PAD] [unused1] [PAD] [unused1] [unused1] [unused1] [unused1] [unused1] [unused1] [unused1] [PAD] [PAD] [PAD] [unused1] [unused1] [unused1] [PAD] [unused1] [PAD] [PAD] [PAD] [unused1] [unused1] [unused1] [unused1] [unused1] [unused1] [unused1] [PAD] [unused1] [unused1] [unused1] [unused1] [PAD] [PAD] [unused1] [unused1] [unused1] [unused1] [PAD] [PAD] [unused1] [PAD] [PAD] [unused1] [PAD] [unused1] [unused1] [PAD] [unused1] [unused1] [unused1] [unused1] [PAD] [unused1] [unused1] [PAD] [PAD] [PAD] [unused1] [unused1] [PAD] [unused1] [unused1] [unused1] [unused1] [PAD] [PAD] [PAD] [PAD] [PAD] [PAD] [PAD] [unused1] [PAD] [unused1] [unused1] [unused1] [PAD] [unused1] [unused1] [unused1] [unused1] [PAD] [unused1] [unused1] [unused1] [unused1] [unused1] [unused1] [PAD] [PAD] [PAD] [unused1] [unused1] [unused1] [unused1] [PAD] [PAD] [PAD] [unused1] [unused1] [unused1] [unused1] [PAD] [PAD] [PAD] [unused1] [unused1] [unused1] [PAD] [PAD] [unused1] [unused1] [unused1] [unused1] [unused1] [PAD] [PAD] [PAD] [PAD] [unused1] [PAD] [PAD] [PAD] [unused1] [PAD] [PAD] [unused1] [PAD] [PAD] [PAD] [PAD] [unused1] [PAD] [unused1] [PAD] [PAD] [unused1] [PAD] [PAD] [unused1] [unused1] [unused1] [unused1] [unused1] [PAD] [unused1] [unused1] [unused1] [unused1] [PAD] [unused1] [unused1] [unused1] [unused1] [unused1] [PAD] [PAD] [PAD] [unused1] [unused1] [unused1] [unused1] [unused1] [unused1] [PAD] [unused1] [unused1] [unused1] [PAD] [PAD] [PAD] [PAD] [PAD] [unused1] [PAD] [unused1] [PAD] [unused1] [unused1] [PAD] [unused1] [PAD] [PAD] [unused1] [unused1] [unused1] [PAD] [unused1] [unused1] [unused1] [unused1] [unused1] [unused1] [unused1] [unused1] [unused1] [PAD] [unused1] [PAD] [unused1] [unused1] [unused1] [PAD] [PAD] [unused1] [unused1] [PAD] [PAD] [PAD] [PAD] [unused1] [PAD] [PAD] [unused1] [unused1] [unused1] [PAD] [unused1] [unused1] [PAD] [unused1] [PAD] [PAD] [PAD] [unused1] [unused1] [unused1] [unused1] [unused1] [PAD] [PAD] [unused1] [unused1] [unused1] [unused1] [unused1] [unused1] [unused1] [PAD] [unused1] [unused1] [PAD] [unused1] [unused1] [unused1] [unused1] [unused1] [PAD] [PAD] [unused1] [unused1] [unused1] [PAD] [unused1] [PAD] [unused1] [unused1] [unused1] [unused1] [unused1] [unused1] [unused1] [PAD] [unused1] [PAD] [unused1] [unused1] [PAD] [PAD] [unused1] [unused1] [PAD] [unused1] [unused1] [PAD] [PAD] [unused1] [unused1] [PAD] [unused1] [unused1] [unused1] [unused1] [unused1] [PAD] [unused1] [unused1] [unused1] [unused1] [PAD] [PAD] [unused1] [unused1] [unused1] [unused1] [PAD] [unused1] [PAD] [unused1] [unused1] [PAD] [unused1] [PAD] [unused1] [unused1] [PAD] [unused1] [PAD] [PAD] [PAD] [unused1] [unused1] [unused1] [unused1] [unused1] [unused1] [unused1] [unused1] [PAD] [unused1] [PAD] [unused1] [PAD] [unused1] [unused1] [unused1] [PAD] [unused1] [unused1] [unused1] [unused1] [unused1] [unused1] [unused1] [PAD] [PAD] [unused1] [unused1] [PAD] [unused1] [unused1] [PAD] [PAD] [unused1] [PAD] [PAD] [PAD] [unused1] [PAD] [PAD] [PAD] [PAD] [unused1] [unused1] [unused1] [unused1] [PAD] [PAD] [PAD] [unused1] [unused1] [PAD] [unused1] [unused1] [unused1] [unused1] [unused1] [unused1] [unused1] [unused1] [unused1] [unused1] [PAD] [PAD] [unused1] [PAD] [PAD] [PAD] [unused1] [PAD] [unused1] [unused1] [unused1] [PAD] [unused1] [PAD] [PAD] [unused1] [PAD] [unused1] [unused1] [PAD] [unused1] [PAD] [unused1] [PAD] [PAD] [unused1] [unused1] [unused1] [unused1] [PAD] [PAD] [PAD] [unused1] [PAD] [PAD] [PAD] [unused1] [PAD] [unused1] [unused1] [unused1] [PAD] [unused1] [unused1] [unused1] [PAD] [PAD] [PAD] [PAD] [unused1] [unused1] [unused1] [unused1] [PAD] [unused1] [unused1] [unused1] [PAD] [PAD] [unused1] [PAD] [PAD] [unused1] [PAD] [PAD] [unused1] [PAD] [PAD] [PAD] [unused1] [unused1] [PAD] [PAD] [unused1] [PAD] [unused1] [unused1] [unused1] [PAD] [unused1] [unused1] [unused1] [unused1] [PAD] [unused1] [unused1] [unused1] [unused1] [PAD] [unused1] [PAD] [unused1] [unused1] [unused1] [unused1] [unused1] [unused1] [PAD] [PAD] [unused1] [unused1] [unused1] [unused1] [PAD] [unused1] [unused1] [unused1] [PAD] [PAD] [unused1] [PAD] [PAD] [unused1] [unused1] [PAD] [PAD] [PAD] [unused1] [unused1] [unused1] [unused1] [unused1] [PAD] [PAD] [PAD] [PAD] [PAD] [unused1] [unused1] [unused1] [unused1] [unused1] [unused1] [unused1] [unused1] [unused1] [PAD] [unused1] [PAD] [PAD] [PAD] [PAD] [unused1] [PAD] [unused1] [PAD] [unused1] [unused1] [PAD] [PAD] [PAD] [PAD] [PAD] [unused1] [PAD] [PAD] [PAD] [PAD] [unused1] [unused1] [unused1] [PAD] [PAD] [unused1] [unused1] [unused1] [unused1] [unused1] [unused1] [PAD] [PAD] [unused1] [unused1] [unused1] [PAD] [PAD] [unused1] [unused1] [PAD] [PAD] [unused1] [unused1] [unused1] [PAD] [PAD] [PAD] [unused1] [PAD] [PAD] [PAD] [PAD] [PAD] [PAD] [PAD] [PAD] [PAD] [unused1] [unused1] [PAD] [PAD] [unused1] [unused1] [PAD] [PAD] [unused1] [PAD] [unused1] [PAD] [PAD] [unused1] [unused1] [unused1] [unused1] [unused1] [unused1] [PAD] [unused1] [unused1] [unused1] [unused1] [PAD] [unused1] [unused1] [PAD] [unused1] [unused1] [unused1] [PAD] [PAD] [PAD] [unused1] [unused1] [unused1] [unused1] [unused1] [unused1] [PAD] [PAD] [PAD] [unused1] [unused1] [unused1] [unused1] [PAD] [PAD] [unused1] [PAD] [unused1] [PAD] [unused1] [unused1] [PAD] [PAD] [PAD] [PAD] [unused1] [unused1] [unused1] [PAD] [PAD] [unused1] [unused1] [unused1] [PAD] [unused1] [PAD] [PAD] [PAD] [PAD] [PAD] [unused1] [PAD] [PAD] [unused1] [PAD] [PAD] [unused1] [PAD] [PAD] [unused1] [unused1] [PAD] [unused1] [PAD] [unused1] [PAD] [unused1] [PAD] [unused1] [PAD] [PAD] [PAD] [unused1] [unused1] [PAD] [PAD] [PAD] [PAD] [unused1] [unused1] [PAD] [unused1] [unused1] [PAD] [unused1] [unused1] [PAD] [unused1] [unused1] [PAD] [unused1] [PAD] [PAD] [unused1] [unused1] [PAD] [PAD] [unused1] [unused1] [unused1] [unused1] [unused1] [unused1] [PAD] [unused1] [PAD] [unused1] [unused1] [PAD] [unused1] [PAD] [PAD] [unused1] [PAD] [PAD] [unused1] [unused1] [unused1] [unused1] [unused1] [unused1] [unused1] [PAD] [unused1] [unused1] [unused1] [unused1] [unused1] [unused1] [unused1] [unused1] [PAD] [PAD] [PAD] [PAD] [unused1] [unused1] [unused1] [PAD] [unused1] [PAD] [unused1] [unused1] [unused1] [unused1] [PAD] [unused1] [PAD] [unused1] [PAD] [unused1] [unused1] [PAD] [unused1] [unused1] [PAD] [PAD] [unused1] [unused1] [unused1] [unused1] [PAD] [unused1] [PAD] [PAD] [PAD] [PAD] [PAD] [PAD] [PAD] [unused1] [unused1] [unused1] [PAD] [unused1] [unused1] [unused1] [PAD] [unused1] [PAD] [unused1] [PAD] [unused1] [unused1] [unused1] [unused1] [PAD] [unused1] [unused1] [unused1] [unused1] [unused1] [PAD] [PAD] [unused1] [unused1] [unused1] [unused1] [PAD] [PAD] [unused1] [unused1] [unused1] [PAD] [PAD] [unused1] [PAD] [unused1] [PAD] [unused1] [unused1] [unused1] [unused1] [PAD] [unused1] [PAD] [PAD] [unused1] [PAD] [unused1] [unused1] [unused1] [unused1] [unused1] [unused1] [unused1] [unused1] [unused1] [PAD] [unused1] [unused1] [unused1] [PAD] [unused1] [PAD] [PAD] [unused1] [unused1] [unused1] [PAD] [unused1] [unused1] [unused1] [PAD] [PAD] [PAD] [unused1] [unused1] [unused1] [unused1] [PAD] [PAD] [PAD] [PAD] [unused1] [PAD] [PAD] [unused1] [unused1] [PAD] [unused1] [unused1] [unused1] [unused1] [PAD] [unused1] [unused1] [PAD] [unused1] [PAD] [PAD] [unused1] [unused1] [unused1] [unused1] [unused1] [unused1] [unused1] [PAD] [unused1] [PAD] [unused1] [PAD] [unused1] [PAD] [unused1] [PAD] [unused1] [unused1] [unused1] [PAD] [unused1] [unused1] [unused1] [PAD] [unused1] [unused1] [unused1] [PAD] [unused1] [unused1] [PAD] [unused1] [PAD] [unused1] [PAD] [PAD] [unused1] [PAD] [unused1] [unused1] [PAD] [PAD] [unused1] [PAD] [PAD] [PAD] [unused1] [unused1] [unused1] [unused1] [PAD] [unused1] [unused1] [unused1] [PAD] [PAD] [unused1] [unused1] [unused1] [unused1] [PAD] [PAD] [unused1] [unused1] [unused1] [PAD] [PAD] [PAD] [PAD] [unused1] [PAD] [unused1] [PAD] [unused1] [unused1] [PAD] [unused1] [PAD] [unused1] [unused1] [PAD] [unused1] [unused1] [unused1] [PAD] [unused1] [PAD] [unused1] [PAD] [unused1] [PAD] [PAD] [unused1] [unused1] [PAD] [unused1] [unused1] [PAD] [PAD] [unused1] [PAD] [unused1] [unused1] [unused1] [unused1] [unused1] [unused1] [PAD] [PAD] [unused1] [unused1] [unused1] [PAD] [unused1] [PAD] [unused1] [PAD] [PAD] [PAD] [PAD] [PAD] [PAD] [unused1] [PAD] [unused1] [unused1] [unused1] [unused1] [PAD] [unused1] [unused1] [PAD] [unused1] [PAD] [unused1] [PAD] [PAD] [unused1] [unused1] [PAD] [PAD] [PAD] [unused1] [unused1] [PAD] [unused1] [unused1] [PAD] [unused1] [unused1] [PAD] [PAD] [PAD] [unused1] [PAD] [PAD] [PAD] [unused1] [PAD] [unused1] [unused1] [unused1] [unused1] [unused1] [unused1] [unused1] [PAD] [PAD] [unused1] [PAD] [PAD] [unused1] [unused1] [unused1] [PAD] [PAD] [PAD] [PAD] [unused1] [unused1] [unused1] [unused1] [unused1] [unused1] [unused1] [PAD] [unused1] [PAD] [unused1] [PAD] [unused1] [unused1] [unused1] [PAD] [PAD] [unused1] [unused1] [PAD] [unused1] [unused1] [PAD] [unused1] [unused1] [PAD] [unused1] [unused1] [unused1] [PAD] [PAD] [PAD] [unused1] [unused1] [PAD] [unused1] [unused1] [PAD] [PAD] [PAD] [unused1] [unused1] [PAD] [PAD] [unused1] [PAD] [unused1] [unused1] [PAD] [unused1] [PAD] [unused1] [PAD] [unused1] [unused1] [PAD] [unused1] [unused1] [PAD] [PAD] [PAD] [unused1] [unused1] [unused1] [PAD] [unused1] [PAD] [PAD] [unused1] [PAD] [unused1] [unused1] [unused1] [PAD] [PAD] [unused1] [PAD] [unused1] [unused1] [PAD] [PAD] [unused1] [PAD] [unused1] [PAD] [PAD] [PAD] [PAD] [PAD] [PAD] [PAD] [unused1] [unused1] [unused1] [PAD] [unused1] [unused1] [PAD] [unused1] [PAD] [unused1] [PAD] [PAD] [unused1] [PAD] [unused1] [PAD] [PAD] [unused1] [PAD] [PAD] [PAD] [PAD] [PAD] [PAD] [unused1] [unused1] [PAD] [PAD] [unused1] [PAD] [PAD] [unused1] [unused1] [PAD] [unused1] [PAD] [PAD] [unused1] [unused1] [unused1] [unused1] [unused1] [PAD] [PAD] [PAD] [unused1] [unused1] [PAD] [PAD] [unused1] [PAD] [unused1] [PAD] [PAD] [unused1] [unused1] [unused1] [unused1] [unused1] [PAD] [unused1] [unused1] [unused1] [unused1] [PAD] [PAD] [unused1] [PAD] [PAD] [unused1] [PAD] [unused1] [PAD] [unused1] [PAD] [PAD] [PAD] [unused1] [PAD] [PAD] [unused1] [PAD] [unused1] [unused1] [PAD] [unused1] [unused1] [PAD] [PAD] [PAD] [unused1] [PAD] [unused1] [unused1] [unused1] [unused1] [unused1] [PAD] [PAD] [PAD] [unused1] [unused1] [unused1] [unused1] [unused1] [unused1] [unused1] [PAD] [PAD] [PAD] [PAD] [unused1] [PAD] [unused1] [PAD] [PAD] [PAD] [unused1] [PAD] [unused1] [unused1] [unused1] [unused1] [unused1] [unused1] [PAD] [unused1] [PAD] [unused1] [unused1] [unused1] [PAD] [unused1] [unused1] [unused1] [unused1] [PAD] [unused1] [unused1] [unused1] [PAD] [unused1] [unused1] [unused1] [unused1] [unused1] [unused1] [unused1] [PAD] [PAD] [unused1] [PAD] [unused1] [PAD] [PAD] [unused1] [unused1] [unused1] [unused1] [unused1] [unused1] [unused1] [unused1] [PAD] [unused1] [unused1] [unused1] [unused1] [unused1] [PAD] [PAD] [PAD] [PAD] [PAD] [PAD] [PAD] [PAD] [unused1] [unused1] [unused1] [PAD] [PAD] [unused1] [PAD] [unused1] [unused1] [unused1] [unused1] [PAD] [unused1] [PAD] [unused1] [unused1] [unused1] [unused1] [unused1] [unused1] [PAD] [PAD] [PAD] [unused1] [unused1] [PAD] [PAD] [PAD] [unused1] [PAD] [unused1] [PAD] [unused1] [PAD] [PAD] [PAD] [unused1] [PAD] [PAD] [unused1] [unused1] [unused1] [PAD] [unused1] [PAD] [unused1] [unused1] [unused1] [unused1] [PAD] [PAD] [PAD] [unused1] [PAD] [unused1] [PAD] [PAD] [unused1] [PAD] [unused1] [unused1] [PAD] [PAD] [PAD] [PAD] [PAD] [PAD] [PAD] [unused1] [unused1] [unused1] [PAD] [unused1] [PAD] [PAD] [unused1] [unused1] [PAD] [PAD] [unused1] [PAD] [unused1] [PAD] [unused1] [unused1] [unused1] [unused1] [unused1] [unused1] [unused1] [unused1] [unused1] [unused1] [unused1] [unused1] [PAD] [unused1] [PAD] [unused1] [unused1] [PAD] [unused1] [unused1] [unused1] [unused1] [PAD] [unused1] [PAD] [PAD] [unused1] [unused1] [PAD] [unused1] [PAD] [unused1] [unused1] [PAD] [PAD] [PAD] [unused1] [PAD] [PAD] [unused1] [PAD] [unused1] [PAD] [PAD] [unused1] [unused1] [unused1] [unused1] [unused1] [PAD] [unused1] [unused1] [unused1] [unused1] [unused1] [PAD] [unused1] [unused1] [unused1] [PAD] [PAD] [unused1] [unused1] [PAD] [PAD] [unused1] [PAD] [unused1] [unused1] [unused1] [PAD] [unused1] [unused1] [PAD] [PAD] [unused1] [PAD] [unused1] [unused1] [unused1] [unused1] [PAD] [unused1] [unused1] [unused1] [PAD] [PAD] [unused1] [PAD] [PAD] [unused1] [unused1] [unused1] [PAD] [unused1] [unused1] [unused1] [PAD] [unused1] [unused1] [PAD] [unused1] [unused1] [unused1] [PAD] [unused1] [unused1] [unused1] [unused1] [unused1] [PAD] [unused1] [PAD] [PAD] [PAD] [PAD] [unused1] [unused1] [unused1] [PAD] [PAD] [PAD] [PAD] [PAD] [PAD] [PAD] [PAD] [unused1] [unused1] [PAD]\n"
          ]
        }
      ],
      "source": [
        "print(train_encodings.keys())\n",
        "print(tokenizer.decode(train_encodings['label']))"
      ]
    },
    {
      "cell_type": "markdown",
      "metadata": {
        "id": "46O8l82OABGo"
      },
      "source": [
        "## Defining a dataset and converting it into tensor format\n"
      ]
    },
    {
      "cell_type": "code",
      "execution_count": null,
      "metadata": {
        "id": "r39lVT_rA1wE"
      },
      "outputs": [],
      "source": [
        "from torch.utils import data\n",
        "import torch\n",
        "\n",
        "class Dataset(torch.utils.data.Dataset):\n",
        "  def __init__(self, encodings):\n",
        "    self.encodings = encodings\n",
        "\n",
        "  def __getitem__(self, idx):\n",
        "    return {key: torch.tensor(eval[idx]) for key, eval in self.encodings.items()}\n",
        "\n",
        "  def __len__(self):\n",
        "    return len(self.encodings.input_ids)"
      ]
    },
    {
      "cell_type": "code",
      "execution_count": null,
      "metadata": {
        "id": "2dbNJH1YA3sm"
      },
      "outputs": [],
      "source": [
        "train_dataset = Dataset(train_encodings)\n",
        "eval_dataset = Dataset(eval_encodings)"
      ]
    },
    {
      "cell_type": "code",
      "execution_count": null,
      "metadata": {
        "colab": {
          "base_uri": "https://localhost:8080/"
        },
        "id": "rP7evERNA86Y",
        "outputId": "fe4f8b43-72f4-45a7-f931-fd3c0d257844"
      },
      "outputs": [
        {
          "data": {
            "text/plain": [
              "{'input_ids': tensor([ 101,  889,  749,  889,  749,  677, 3762,  678, 3819, 1044, 2861, 2527,\n",
              "         6649, 1044, 3819,  943, 2407, 6743, 2692, 2562,  679, 1830, 4638, 6551,\n",
              "         2530, 2218, 6158, 3819, 1139, 1842,  749, 4696, 4272,  102, 1506, 1506,\n",
              "          679, 3221, 6963, 6304,  749,  671, 3118, 2852, 6551,  679, 6206, 6631,\n",
              "         6882,  671,  943, 3299, 5959, 3717, 1621, 8043,  671,  943, 3299, 5959,\n",
              "         3717, 6365, 1880, 5158, 1348,  679, 4578,  679, 4623,  872, 6206, 6551,\n",
              "         6716, 2157, 2769,  738, 3760, 6794, 3791,  102,    0,    0,    0,    0,\n",
              "            0,    0,    0,    0,    0,    0,    0,    0,    0,    0,    0,    0,\n",
              "            0,    0,    0,    0,    0,    0,    0,    0,    0,    0,    0,    0,\n",
              "            0,    0,    0,    0,    0,    0,    0,    0,    0,    0,    0,    0,\n",
              "            0,    0,    0,    0,    0,    0,    0,    0,    0,    0,    0,    0,\n",
              "            0,    0,    0,    0,    0,    0,    0,    0,    0,    0,    0,    0,\n",
              "            0,    0,    0,    0,    0,    0,    0,    0,    0,    0,    0,    0,\n",
              "            0,    0,    0,    0,    0,    0,    0,    0,    0,    0,    0,    0,\n",
              "            0,    0,    0,    0,    0,    0,    0,    0,    0,    0,    0,    0,\n",
              "            0,    0,    0,    0,    0,    0,    0,    0,    0,    0,    0,    0,\n",
              "            0,    0,    0,    0,    0,    0,    0,    0,    0,    0,    0,    0,\n",
              "            0,    0,    0,    0,    0,    0,    0,    0,    0,    0,    0,    0,\n",
              "            0,    0,    0,    0,    0,    0,    0,    0,    0,    0,    0,    0,\n",
              "            0,    0,    0,    0,    0,    0,    0,    0,    0,    0,    0,    0,\n",
              "            0,    0,    0,    0,    0,    0,    0,    0,    0,    0,    0,    0,\n",
              "            0,    0,    0,    0,    0,    0,    0,    0,    0,    0,    0,    0,\n",
              "            0,    0,    0,    0,    0,    0,    0,    0,    0,    0,    0,    0,\n",
              "            0,    0,    0,    0,    0,    0,    0,    0,    0,    0,    0,    0,\n",
              "            0,    0,    0,    0,    0,    0,    0,    0,    0,    0,    0,    0,\n",
              "            0,    0,    0,    0,    0,    0,    0,    0,    0,    0,    0,    0,\n",
              "            0,    0,    0,    0,    0,    0,    0,    0,    0,    0,    0,    0,\n",
              "            0,    0,    0,    0,    0,    0,    0,    0,    0,    0,    0,    0,\n",
              "            0,    0,    0,    0,    0,    0,    0,    0,    0,    0,    0,    0,\n",
              "            0,    0,    0,    0,    0,    0,    0,    0,    0,    0,    0,    0,\n",
              "            0,    0,    0,    0,    0,    0,    0,    0,    0,    0,    0,    0,\n",
              "            0,    0,    0,    0,    0,    0,    0,    0,    0,    0,    0,    0,\n",
              "            0,    0,    0,    0,    0,    0,    0,    0,    0,    0,    0,    0,\n",
              "            0,    0,    0,    0,    0,    0,    0,    0,    0,    0,    0,    0,\n",
              "            0,    0,    0,    0,    0,    0,    0,    0,    0,    0,    0,    0,\n",
              "            0,    0,    0,    0,    0,    0,    0,    0,    0,    0,    0,    0,\n",
              "            0,    0,    0,    0,    0,    0,    0,    0,    0,    0,    0,    0,\n",
              "            0,    0,    0,    0,    0,    0,    0,    0,    0,    0,    0,    0,\n",
              "            0,    0,    0,    0,    0,    0,    0,    0,    0,    0,    0,    0,\n",
              "            0,    0,    0,    0,    0,    0,    0,    0,    0,    0,    0,    0,\n",
              "            0,    0,    0,    0,    0,    0,    0,    0,    0,    0,    0,    0,\n",
              "            0,    0,    0,    0,    0,    0,    0,    0,    0,    0,    0,    0,\n",
              "            0,    0,    0,    0,    0,    0,    0,    0]),\n",
              " 'token_type_ids': tensor([0, 0, 0, 0, 0, 0, 0, 0, 0, 0, 0, 0, 0, 0, 0, 0, 0, 0, 0, 0, 0, 0, 0, 0,\n",
              "         0, 0, 0, 0, 0, 0, 0, 0, 0, 0, 1, 1, 1, 1, 1, 1, 1, 1, 1, 1, 1, 1, 1, 1,\n",
              "         1, 1, 1, 1, 1, 1, 1, 1, 1, 1, 1, 1, 1, 1, 1, 1, 1, 1, 1, 1, 1, 1, 1, 1,\n",
              "         1, 1, 1, 1, 1, 1, 1, 1, 0, 0, 0, 0, 0, 0, 0, 0, 0, 0, 0, 0, 0, 0, 0, 0,\n",
              "         0, 0, 0, 0, 0, 0, 0, 0, 0, 0, 0, 0, 0, 0, 0, 0, 0, 0, 0, 0, 0, 0, 0, 0,\n",
              "         0, 0, 0, 0, 0, 0, 0, 0, 0, 0, 0, 0, 0, 0, 0, 0, 0, 0, 0, 0, 0, 0, 0, 0,\n",
              "         0, 0, 0, 0, 0, 0, 0, 0, 0, 0, 0, 0, 0, 0, 0, 0, 0, 0, 0, 0, 0, 0, 0, 0,\n",
              "         0, 0, 0, 0, 0, 0, 0, 0, 0, 0, 0, 0, 0, 0, 0, 0, 0, 0, 0, 0, 0, 0, 0, 0,\n",
              "         0, 0, 0, 0, 0, 0, 0, 0, 0, 0, 0, 0, 0, 0, 0, 0, 0, 0, 0, 0, 0, 0, 0, 0,\n",
              "         0, 0, 0, 0, 0, 0, 0, 0, 0, 0, 0, 0, 0, 0, 0, 0, 0, 0, 0, 0, 0, 0, 0, 0,\n",
              "         0, 0, 0, 0, 0, 0, 0, 0, 0, 0, 0, 0, 0, 0, 0, 0, 0, 0, 0, 0, 0, 0, 0, 0,\n",
              "         0, 0, 0, 0, 0, 0, 0, 0, 0, 0, 0, 0, 0, 0, 0, 0, 0, 0, 0, 0, 0, 0, 0, 0,\n",
              "         0, 0, 0, 0, 0, 0, 0, 0, 0, 0, 0, 0, 0, 0, 0, 0, 0, 0, 0, 0, 0, 0, 0, 0,\n",
              "         0, 0, 0, 0, 0, 0, 0, 0, 0, 0, 0, 0, 0, 0, 0, 0, 0, 0, 0, 0, 0, 0, 0, 0,\n",
              "         0, 0, 0, 0, 0, 0, 0, 0, 0, 0, 0, 0, 0, 0, 0, 0, 0, 0, 0, 0, 0, 0, 0, 0,\n",
              "         0, 0, 0, 0, 0, 0, 0, 0, 0, 0, 0, 0, 0, 0, 0, 0, 0, 0, 0, 0, 0, 0, 0, 0,\n",
              "         0, 0, 0, 0, 0, 0, 0, 0, 0, 0, 0, 0, 0, 0, 0, 0, 0, 0, 0, 0, 0, 0, 0, 0,\n",
              "         0, 0, 0, 0, 0, 0, 0, 0, 0, 0, 0, 0, 0, 0, 0, 0, 0, 0, 0, 0, 0, 0, 0, 0,\n",
              "         0, 0, 0, 0, 0, 0, 0, 0, 0, 0, 0, 0, 0, 0, 0, 0, 0, 0, 0, 0, 0, 0, 0, 0,\n",
              "         0, 0, 0, 0, 0, 0, 0, 0, 0, 0, 0, 0, 0, 0, 0, 0, 0, 0, 0, 0, 0, 0, 0, 0,\n",
              "         0, 0, 0, 0, 0, 0, 0, 0, 0, 0, 0, 0, 0, 0, 0, 0, 0, 0, 0, 0, 0, 0, 0, 0,\n",
              "         0, 0, 0, 0, 0, 0, 0, 0]),\n",
              " 'attention_mask': tensor([1, 1, 1, 1, 1, 1, 1, 1, 1, 1, 1, 1, 1, 1, 1, 1, 1, 1, 1, 1, 1, 1, 1, 1,\n",
              "         1, 1, 1, 1, 1, 1, 1, 1, 1, 1, 1, 1, 1, 1, 1, 1, 1, 1, 1, 1, 1, 1, 1, 1,\n",
              "         1, 1, 1, 1, 1, 1, 1, 1, 1, 1, 1, 1, 1, 1, 1, 1, 1, 1, 1, 1, 1, 1, 1, 1,\n",
              "         1, 1, 1, 1, 1, 1, 1, 1, 0, 0, 0, 0, 0, 0, 0, 0, 0, 0, 0, 0, 0, 0, 0, 0,\n",
              "         0, 0, 0, 0, 0, 0, 0, 0, 0, 0, 0, 0, 0, 0, 0, 0, 0, 0, 0, 0, 0, 0, 0, 0,\n",
              "         0, 0, 0, 0, 0, 0, 0, 0, 0, 0, 0, 0, 0, 0, 0, 0, 0, 0, 0, 0, 0, 0, 0, 0,\n",
              "         0, 0, 0, 0, 0, 0, 0, 0, 0, 0, 0, 0, 0, 0, 0, 0, 0, 0, 0, 0, 0, 0, 0, 0,\n",
              "         0, 0, 0, 0, 0, 0, 0, 0, 0, 0, 0, 0, 0, 0, 0, 0, 0, 0, 0, 0, 0, 0, 0, 0,\n",
              "         0, 0, 0, 0, 0, 0, 0, 0, 0, 0, 0, 0, 0, 0, 0, 0, 0, 0, 0, 0, 0, 0, 0, 0,\n",
              "         0, 0, 0, 0, 0, 0, 0, 0, 0, 0, 0, 0, 0, 0, 0, 0, 0, 0, 0, 0, 0, 0, 0, 0,\n",
              "         0, 0, 0, 0, 0, 0, 0, 0, 0, 0, 0, 0, 0, 0, 0, 0, 0, 0, 0, 0, 0, 0, 0, 0,\n",
              "         0, 0, 0, 0, 0, 0, 0, 0, 0, 0, 0, 0, 0, 0, 0, 0, 0, 0, 0, 0, 0, 0, 0, 0,\n",
              "         0, 0, 0, 0, 0, 0, 0, 0, 0, 0, 0, 0, 0, 0, 0, 0, 0, 0, 0, 0, 0, 0, 0, 0,\n",
              "         0, 0, 0, 0, 0, 0, 0, 0, 0, 0, 0, 0, 0, 0, 0, 0, 0, 0, 0, 0, 0, 0, 0, 0,\n",
              "         0, 0, 0, 0, 0, 0, 0, 0, 0, 0, 0, 0, 0, 0, 0, 0, 0, 0, 0, 0, 0, 0, 0, 0,\n",
              "         0, 0, 0, 0, 0, 0, 0, 0, 0, 0, 0, 0, 0, 0, 0, 0, 0, 0, 0, 0, 0, 0, 0, 0,\n",
              "         0, 0, 0, 0, 0, 0, 0, 0, 0, 0, 0, 0, 0, 0, 0, 0, 0, 0, 0, 0, 0, 0, 0, 0,\n",
              "         0, 0, 0, 0, 0, 0, 0, 0, 0, 0, 0, 0, 0, 0, 0, 0, 0, 0, 0, 0, 0, 0, 0, 0,\n",
              "         0, 0, 0, 0, 0, 0, 0, 0, 0, 0, 0, 0, 0, 0, 0, 0, 0, 0, 0, 0, 0, 0, 0, 0,\n",
              "         0, 0, 0, 0, 0, 0, 0, 0, 0, 0, 0, 0, 0, 0, 0, 0, 0, 0, 0, 0, 0, 0, 0, 0,\n",
              "         0, 0, 0, 0, 0, 0, 0, 0, 0, 0, 0, 0, 0, 0, 0, 0, 0, 0, 0, 0, 0, 0, 0, 0,\n",
              "         0, 0, 0, 0, 0, 0, 0, 0]),\n",
              " 'label': tensor(0)}"
            ]
          },
          "execution_count": 25,
          "metadata": {},
          "output_type": "execute_result"
        }
      ],
      "source": [
        "train_dataset[0]"
      ]
    },
    {
      "cell_type": "markdown",
      "metadata": {
        "id": "6C4LEeWaBHnO"
      },
      "source": [
        "## Loading the model architecture"
      ]
    },
    {
      "cell_type": "code",
      "execution_count": null,
      "metadata": {
        "colab": {
          "base_uri": "https://localhost:8080/",
          "height": 184,
          "referenced_widgets": [
            "c2df7b10ba134dc5a51c14ef2d870453",
            "41e5badb10374b94ac8574b31483eb91",
            "93615b6c7dd14bb9ac941895698583a6",
            "39fa005844ca45eeb09e0c2a1623add4",
            "27158202a34e481697f3be2e7c0fdc49",
            "b4de4d539d1a419e8c0f71853d265d4b",
            "77a6683952a74c5085a2cdd16b33c6b5",
            "78047aa66bd54bab9bfb4c54f8557f1e",
            "7ffd7cc5bfa34cee8320a0f571a3b15e",
            "92873caf1ae84779a65713e8a0c58843",
            "d57c2f73656a441f89dddb112db77d78"
          ]
        },
        "id": "81zW1XF9BHNO",
        "outputId": "f34a6f51-d290-47a8-a259-d50e8ca9f426"
      },
      "outputs": [
        {
          "data": {
            "application/vnd.jupyter.widget-view+json": {
              "model_id": "c2df7b10ba134dc5a51c14ef2d870453",
              "version_major": 2,
              "version_minor": 0
            },
            "text/plain": [
              "Downloading pytorch_model.bin:   0%|          | 0.00/412M [00:00<?, ?B/s]"
            ]
          },
          "metadata": {},
          "output_type": "display_data"
        },
        {
          "name": "stderr",
          "output_type": "stream",
          "text": [
            "Some weights of the model checkpoint at bert-base-chinese were not used when initializing BertForSequenceClassification: ['cls.predictions.decoder.weight', 'cls.predictions.transform.LayerNorm.bias', 'cls.predictions.transform.dense.weight', 'cls.predictions.transform.LayerNorm.weight', 'cls.predictions.bias', 'cls.seq_relationship.bias', 'cls.predictions.transform.dense.bias', 'cls.seq_relationship.weight']\n",
            "- This IS expected if you are initializing BertForSequenceClassification from the checkpoint of a model trained on another task or with another architecture (e.g. initializing a BertForSequenceClassification model from a BertForPreTraining model).\n",
            "- This IS NOT expected if you are initializing BertForSequenceClassification from the checkpoint of a model that you expect to be exactly identical (initializing a BertForSequenceClassification model from a BertForSequenceClassification model).\n",
            "Some weights of BertForSequenceClassification were not initialized from the model checkpoint at bert-base-chinese and are newly initialized: ['classifier.bias', 'classifier.weight']\n",
            "You should probably TRAIN this model on a down-stream task to be able to use it for predictions and inference.\n"
          ]
        }
      ],
      "source": [
        "from transformers import BertConfig, BertForSequenceClassification\n",
        "config = BertConfig.from_pretrained('bert-base-chinese', num_labels=2)  #num_labels : Setting the number of classes\n",
        "model = BertForSequenceClassification.from_pretrained(\"bert-base-chinese\",config=config)"
      ]
    },
    {
      "cell_type": "code",
      "execution_count": null,
      "metadata": {
        "colab": {
          "base_uri": "https://localhost:8080/"
        },
        "id": "iA3F-EnbB0s3",
        "outputId": "a4ca4eca-308d-489a-842c-b39dab142e91"
      },
      "outputs": [
        {
          "name": "stdout",
          "output_type": "stream",
          "text": [
            "BertForSequenceClassification(\n",
            "  (bert): BertModel(\n",
            "    (embeddings): BertEmbeddings(\n",
            "      (word_embeddings): Embedding(21128, 768, padding_idx=0)\n",
            "      (position_embeddings): Embedding(512, 768)\n",
            "      (token_type_embeddings): Embedding(2, 768)\n",
            "      (LayerNorm): LayerNorm((768,), eps=1e-12, elementwise_affine=True)\n",
            "      (dropout): Dropout(p=0.1, inplace=False)\n",
            "    )\n",
            "    (encoder): BertEncoder(\n",
            "      (layer): ModuleList(\n",
            "        (0-11): 12 x BertLayer(\n",
            "          (attention): BertAttention(\n",
            "            (self): BertSelfAttention(\n",
            "              (query): Linear(in_features=768, out_features=768, bias=True)\n",
            "              (key): Linear(in_features=768, out_features=768, bias=True)\n",
            "              (value): Linear(in_features=768, out_features=768, bias=True)\n",
            "              (dropout): Dropout(p=0.1, inplace=False)\n",
            "            )\n",
            "            (output): BertSelfOutput(\n",
            "              (dense): Linear(in_features=768, out_features=768, bias=True)\n",
            "              (LayerNorm): LayerNorm((768,), eps=1e-12, elementwise_affine=True)\n",
            "              (dropout): Dropout(p=0.1, inplace=False)\n",
            "            )\n",
            "          )\n",
            "          (intermediate): BertIntermediate(\n",
            "            (dense): Linear(in_features=768, out_features=3072, bias=True)\n",
            "            (intermediate_act_fn): GELUActivation()\n",
            "          )\n",
            "          (output): BertOutput(\n",
            "            (dense): Linear(in_features=3072, out_features=768, bias=True)\n",
            "            (LayerNorm): LayerNorm((768,), eps=1e-12, elementwise_affine=True)\n",
            "            (dropout): Dropout(p=0.1, inplace=False)\n",
            "          )\n",
            "        )\n",
            "      )\n",
            "    )\n",
            "    (pooler): BertPooler(\n",
            "      (dense): Linear(in_features=768, out_features=768, bias=True)\n",
            "      (activation): Tanh()\n",
            "    )\n",
            "  )\n",
            "  (dropout): Dropout(p=0.1, inplace=False)\n",
            "  (classifier): Linear(in_features=768, out_features=2, bias=True)\n",
            ")\n"
          ]
        }
      ],
      "source": [
        "print(model)"
      ]
    },
    {
      "cell_type": "markdown",
      "metadata": {
        "id": "0XGFIfIKCFPo"
      },
      "source": [
        "## Training the model"
      ]
    },
    {
      "cell_type": "code",
      "execution_count": null,
      "metadata": {
        "id": "t8NrVs17QmtK"
      },
      "outputs": [],
      "source": [
        "import logging\n",
        "import datasets\n",
        "from datasets import load_dataset, load_metric\n",
        "from torch.utils.data import DataLoader\n",
        "from tqdm.auto import tqdm, trange\n",
        "import math\n",
        "\n",
        "import transformers\n",
        "from accelerate import Accelerator\n",
        "from transformers import (\n",
        "    AdamW,\n",
        "    AutoConfig,\n",
        "    default_data_collator,\n",
        "    get_scheduler\n",
        ")\n",
        "\n",
        "train_batch_size = 8      # Setting training batch size\n",
        "eval_batch_size = 8      # Setting eval batch size\n",
        "num_train_epochs = 5      # Setting epoch"
      ]
    },
    {
      "cell_type": "code",
      "execution_count": null,
      "metadata": {
        "id": "wFsfSI_7CrvV"
      },
      "outputs": [],
      "source": [
        "data_collator = default_data_collator\n",
        "train_dataloader = DataLoader(train_dataset, shuffle=True, collate_fn=data_collator, batch_size=train_batch_size)\n",
        "eval_dataloader = DataLoader(eval_dataset, collate_fn=data_collator, batch_size=eval_batch_size)"
      ]
    },
    {
      "cell_type": "code",
      "execution_count": null,
      "metadata": {
        "colab": {
          "base_uri": "https://localhost:8080/"
        },
        "id": "nD26g1wet9j9",
        "outputId": "f9dd1e7c-d854-4d99-a8d4-cc602f92e699"
      },
      "outputs": [
        {
          "name": "stdout",
          "output_type": "stream",
          "text": [
            "max_train_steps 6210\n"
          ]
        },
        {
          "name": "stderr",
          "output_type": "stream",
          "text": [
            "/usr/local/lib/python3.10/dist-packages/transformers/optimization.py:391: FutureWarning: This implementation of AdamW is deprecated and will be removed in a future version. Use the PyTorch implementation torch.optim.AdamW instead, or set `no_deprecation_warning=True` to disable this warning\n",
            "  warnings.warn(\n"
          ]
        }
      ],
      "source": [
        "learning_rate=3e-5          # Setting learning_rate\n",
        "gradient_accumulation_steps = 1   # Setting the number of steps before performing backpropagation\n",
        "\n",
        "no_decay = [\"bias\", \"LayerNorm.weight\"]\n",
        "optimizer_grouped_parameters = [\n",
        "    {\n",
        "        \"params\": [p for n, p in model.named_parameters() if not any(nd in n for nd in no_decay)],\n",
        "        \"weight_decay\": 0.0,\n",
        "    },\n",
        "    {\n",
        "        \"params\": [p for n, p in model.named_parameters() if any(nd in n for nd in no_decay)],\n",
        "        \"weight_decay\": 0.0,\n",
        "    },\n",
        "]\n",
        "optimizer = AdamW(optimizer_grouped_parameters, lr=learning_rate)\n",
        "\n",
        "# Scheduler and math around the number of training steps.\n",
        "num_update_steps_per_epoch = math.ceil(len(train_dataloader) / gradient_accumulation_steps)\n",
        "max_train_steps = num_train_epochs * num_update_steps_per_epoch\n",
        "print('max_train_steps', max_train_steps)\n",
        "\n",
        "# scheduler\n",
        "lr_scheduler = get_scheduler(\n",
        "    name=\"linear\",\n",
        "    optimizer=optimizer,\n",
        "    num_warmup_steps=0,\n",
        "    num_training_steps=max_train_steps,\n",
        ")"
      ]
    },
    {
      "cell_type": "code",
      "execution_count": null,
      "metadata": {
        "colab": {
          "base_uri": "https://localhost:8080/",
          "height": 132,
          "referenced_widgets": [
            "ce882b7404294237a960fd01ac737a3a",
            "79b4239048354c4484ef84e3724d1031",
            "8b2d48eba99e4c3d9ee1364d95be7d75",
            "5da2bfd3137a4c00bae1ed88b20650cb",
            "034c6cd58c2b4f618340ea917b18f7fc",
            "dc6aa56d609a4e2dbbe3f006447fcc59",
            "fab9191865184791ad11ed19bd817eea",
            "f40304c5dad442a9a8b3461ef39cf1fd",
            "667f9078baf042deb6a3f868a67d90d9",
            "7896431d6eab41daae6d4de044a54d5c",
            "126d5cf0cbde43fcb2c3ed5a504f2b61"
          ]
        },
        "id": "lHOQDEHQC641",
        "outputId": "e09810d3-08c4-4086-a763-805872f5aeb6"
      },
      "outputs": [
        {
          "name": "stderr",
          "output_type": "stream",
          "text": [
            "<ipython-input-31-570f2d83a7b4>:10: FutureWarning: load_metric is deprecated and will be removed in the next major version of datasets. Use 'evaluate.load' instead, from the new library 🤗 Evaluate: https://huggingface.co/docs/evaluate\n",
            "  metric = load_metric(\"accuracy\")\n"
          ]
        },
        {
          "data": {
            "application/vnd.jupyter.widget-view+json": {
              "model_id": "ce882b7404294237a960fd01ac737a3a",
              "version_major": 2,
              "version_minor": 0
            },
            "text/plain": [
              "Downloading builder script:   0%|          | 0.00/1.65k [00:00<?, ?B/s]"
            ]
          },
          "metadata": {},
          "output_type": "display_data"
        }
      ],
      "source": [
        "\n",
        "# Initialize the accelerator. We will let the accelerator handle device placement for us in this example.\n",
        "accelerator = Accelerator()\n",
        "\n",
        "# Prepare everything with our `accelerator`.\n",
        "model, optimizer, train_dataloader, eval_dataloader = accelerator.prepare(\n",
        "    model, optimizer, train_dataloader, eval_dataloader\n",
        ")\n",
        "\n",
        "eval_dataloader\n",
        "metric = load_metric(\"accuracy\")"
      ]
    },
    {
      "cell_type": "code",
      "execution_count": null,
      "metadata": {
        "colab": {
          "base_uri": "https://localhost:8080/",
          "height": 98,
          "referenced_widgets": [
            "1802e58733914fc3902a47fdb82fc3c2",
            "7079f417fdd34c2f97f6a53c79aaadaa",
            "475f459cc0444951b3c2ba65081cb955",
            "7d3ec0a0269e4068948d3780d9a741ad",
            "8a5936df504e4b6ca30820e95619e4c0",
            "6e710e068b7c439c956adebe4449709e",
            "5c8a425f394f49628dcce7367e701028",
            "09a60afe064745b8a8f225e4a987e7f8",
            "c76b1a7ff6e941eb998012644ec0163e",
            "01d527f51b664cc9884c8789cc9622f0",
            "7f83606b2bd64c20a0d182e5893ef29f",
            "aab66489830441ec94941c2a16edffec",
            "c3672df8e4b24926a0fc32f599782727",
            "2f5c51e6d1f24e6aaf6ec77d1197cdc9",
            "510b9b43dcc344519eca4f7eb04be9fc",
            "f3412f0bd3784588b147a0407118a91e",
            "637aa1d78290467181f8ac49a9cedccc",
            "54e706cc785b44a98ac22d99b79f6164",
            "6ea94d829d1a4bb1b6c6fcd2f22188bf",
            "b961438ea43f44abaa27f1f2954bb5b6",
            "99ce223158ac4405b2bd628eee2c1436",
            "fe33c14cd3e64f86b902402d134ab331"
          ]
        },
        "id": "xnJyIO-vDJuY",
        "outputId": "35439248-f7ca-4f2c-e489-63f59a8615e0"
      },
      "outputs": [
        {
          "data": {
            "application/vnd.jupyter.widget-view+json": {
              "model_id": "1802e58733914fc3902a47fdb82fc3c2",
              "version_major": 2,
              "version_minor": 0
            },
            "text/plain": [
              "Epoch:   0%|          | 0/5 [00:00<?, ?it/s]"
            ]
          },
          "metadata": {},
          "output_type": "display_data"
        },
        {
          "data": {
            "application/vnd.jupyter.widget-view+json": {
              "model_id": "aab66489830441ec94941c2a16edffec",
              "version_major": 2,
              "version_minor": 0
            },
            "text/plain": [
              "Iteration:   0%|          | 0/1242 [00:00<?, ?it/s]"
            ]
          },
          "metadata": {},
          "output_type": "display_data"
        },
        {
          "name": "stdout",
          "output_type": "stream",
          "text": [
            "{'epoch': 0, 'step': 0, 'loss': 0.6567797660827637}\n"
          ]
        }
      ],
      "source": [
        "output_bat=[]\n",
        "logger = logging.getLogger(__name__)\n",
        "logging.basicConfig(\n",
        "    format=\"%(asctime)s - %(levelname)s - %(name)s - %(message)s\",\n",
        "    datefmt=\"%m/%d/%Y %H:%M:%S\",\n",
        "    level=logging.INFO,\n",
        ")\n",
        "logger.info(accelerator.state)\n",
        "output_dir = '/content'  # your folder\n",
        "\n",
        "total_batch_size = train_batch_size * accelerator.num_processes * gradient_accumulation_steps\n",
        "\n",
        "logger.info(\"***** Running training *****\")\n",
        "logger.info(f\"  Num examples = {len(train_dataset)}\")\n",
        "logger.info(f\"  Num Epochs = {num_train_epochs}\")\n",
        "logger.info(f\"  Instantaneous batch size per device = {train_batch_size}\")\n",
        "logger.info(f\"  Total train batch size (w. parallel, distributed & accumulation) = {total_batch_size}\")\n",
        "logger.info(f\"  Gradient Accumulation steps = {gradient_accumulation_steps}\")\n",
        "logger.info(f\"  Total optimization steps = {max_train_steps}\")\n",
        "\n",
        "\n",
        "completed_steps = 0\n",
        "best_epoch = {\"epoch\": 0, \"acc\": 0 }\n",
        "\n",
        "for epoch in trange(num_train_epochs, desc=\"Epoch\"):#trange is a way to print a progress bar\n",
        "  model.train()\n",
        "  for step, batch in enumerate(tqdm(train_dataloader, desc=\"Iteration\")):\n",
        "    outputs = model(**batch)\n",
        "    #loss = outputs\n",
        "    loss = outputs.loss\n",
        "    #loss = loss / gradient_accumulation_steps\n",
        "    accelerator.backward(loss)\n",
        "    #if step % gradient_accumulation_steps == 0 or step == len(train_dataloader) - 1: Removed the 'if' statement\n",
        "    optimizer.step()\n",
        "    lr_scheduler.step()\n",
        "    optimizer.zero_grad()\n",
        "    completed_steps += 1\n",
        "\n",
        "    if step % 50 == 0:\n",
        "      print({'epoch': epoch, 'step': step, 'loss': loss.item()})\n",
        "\n",
        "    if completed_steps >= max_train_steps:\n",
        "      break\n",
        "\n",
        "  logger.info(\"***** Running eval *****\")\n",
        "  model.eval()\n",
        "  for step, batch in enumerate(tqdm(eval_dataloader, desc=\"eval Iteration\")):\n",
        "    outputs = model(**batch)\n",
        "    predictions = outputs.logits.argmax(dim=-1)\n",
        "    metric.add_batch(\n",
        "        predictions=accelerator.gather(predictions),\n",
        "        references=accelerator.gather(batch[\"labels\"]),\n",
        "    )\n",
        "\n",
        "  eval_metric = metric.compute()\n",
        "  logger.info(f\"epoch {epoch}: {eval_metric}\")\n",
        "  output_bat.append({\"epoch\": epoch, \"acc\": eval_metric['accuracy']})\n",
        "  if eval_metric['accuracy'] > best_epoch['acc']:\n",
        "    best_epoch.update({\"epoch\": epoch, \"acc\": eval_metric['accuracy']})\n",
        "\n",
        "  if output_dir is not None:\n",
        "    accelerator.wait_for_everyone()\n",
        "    unwrapped_model = accelerator.unwrap_model(model)\n",
        "    unwrapped_model.save_pretrained(output_dir + '/' + 'epoch_' + str(epoch), save_function=accelerator.save)"
      ]
    },
    {
      "cell_type": "markdown",
      "metadata": {
        "id": "n8u6P-Ixc21H"
      },
      "source": [
        "## Bert epoch"
      ]
    },
    {
      "cell_type": "code",
      "execution_count": null,
      "metadata": {
        "id": "qy7L_tQWOWje"
      },
      "outputs": [],
      "source": [
        "print(best_epoch)"
      ]
    },
    {
      "cell_type": "markdown",
      "metadata": {
        "id": "DV655oXABcvp"
      },
      "source": [
        "Save \"/content/epoch_3/config.json\" to ***/content/drive/MyDrive/Colab Notebooks/relation_config.json***\n",
        "\n",
        "Save \"/content/epoch_3/pytorch_model.bin\" to ***/content/drive/MyDrive/Colab Notebooks/relation_pytorch_model.bin***"
      ]
    },
    {
      "cell_type": "markdown",
      "metadata": {
        "id": "TBItftzHzjfp"
      },
      "source": [
        "# Training the model : relation(support、attack)"
      ]
    },
    {
      "cell_type": "markdown",
      "metadata": {
        "id": "tUjQZfmT1QWf"
      },
      "source": [
        "In the dataset,delete none,and support has been set to 0,attack have been set to 1"
      ]
    },
    {
      "cell_type": "code",
      "execution_count": null,
      "metadata": {
        "id": "NY5HYKwlzieE"
      },
      "outputs": [],
      "source": [
        "with open('train_social_att_sup.json','r',encoding='utf-8') as file:\n",
        "    data = json.load(file)\n",
        "    train_sen1 = []\n",
        "    train_sen2 = []\n",
        "    trainlabel = []\n",
        "    for line in data:\n",
        "      train_sen1.append(line[0])\n",
        "      train_sen2.append(line[1])\n",
        "      trainlabel.append(line[2])"
      ]
    },
    {
      "cell_type": "code",
      "execution_count": null,
      "metadata": {
        "id": "k51_FuNc1m1j"
      },
      "outputs": [],
      "source": [
        "with open('dev_social_att_sup.json','r',encoding='utf-8') as file:\n",
        "    data = json.load(file)\n",
        "    eval_sen1 = []\n",
        "    eval_sen2 = []\n",
        "    evallabel = []\n",
        "    for line in data:\n",
        "      eval_sen1.append(line[0])\n",
        "      eval_sen2.append(line[1])\n",
        "      evallabel.append(line[2])"
      ]
    },
    {
      "cell_type": "code",
      "execution_count": null,
      "metadata": {
        "id": "-BSnxLGW3ahJ"
      },
      "outputs": [],
      "source": [
        "train_encodings = tokenizer(train_sen1, train_sen2, truncation=True, padding=True)\n",
        "eval_encodings = tokenizer(eval_sen1, eval_sen2, truncation=True, padding=True)"
      ]
    },
    {
      "cell_type": "code",
      "execution_count": null,
      "metadata": {
        "id": "2IfDkEn53lt9"
      },
      "outputs": [],
      "source": [
        "train_encodings.keys()"
      ]
    },
    {
      "cell_type": "code",
      "execution_count": null,
      "metadata": {
        "id": "E_xkrJ2Z3ow5"
      },
      "outputs": [],
      "source": [
        "#Adding labels (answers)\n",
        "add_targets(train_encodings,trainlabel)\n",
        "add_targets(eval_encodings,evallabel)"
      ]
    },
    {
      "cell_type": "code",
      "execution_count": null,
      "metadata": {
        "id": "4gY1zL7036Zo"
      },
      "outputs": [],
      "source": [
        "train_dataset = Dataset(train_encodings)\n",
        "eval_dataset = Dataset(eval_encodings)"
      ]
    },
    {
      "cell_type": "markdown",
      "metadata": {
        "id": "1xtKpu0P4BbV"
      },
      "source": [
        "##Loading the model architecture"
      ]
    },
    {
      "cell_type": "code",
      "execution_count": null,
      "metadata": {
        "id": "G5sLjiK64Am8"
      },
      "outputs": [],
      "source": [
        "from transformers import BertConfig, BertForSequenceClassification\n",
        "config = BertConfig.from_pretrained('bert-base-chinese', num_labels=2)  #num_labels 設定類別數\n",
        "model = BertForSequenceClassification.from_pretrained(\"bert-base-chinese\",config=config)"
      ]
    },
    {
      "cell_type": "code",
      "execution_count": null,
      "metadata": {
        "id": "YZeZmzWU4Ltw"
      },
      "outputs": [],
      "source": [
        "print(model)"
      ]
    },
    {
      "cell_type": "markdown",
      "metadata": {
        "id": "ZK5SCQJY4Os5"
      },
      "source": [
        "##training"
      ]
    },
    {
      "cell_type": "code",
      "execution_count": null,
      "metadata": {
        "id": "je3wjSCEEm7L"
      },
      "outputs": [],
      "source": [
        "import logging\n",
        "import datasets\n",
        "from datasets import load_dataset, load_metric\n",
        "from torch.utils.data import DataLoader\n",
        "from tqdm.auto import tqdm, trange\n",
        "import math\n",
        "\n",
        "import transformers\n",
        "from accelerate import Accelerator\n",
        "from transformers import (\n",
        "    AdamW,\n",
        "    AutoConfig,\n",
        "    default_data_collator,\n",
        "    get_scheduler\n",
        ")\n",
        "\n",
        "train_batch_size = 8\n",
        "eval_batch_size = 8\n",
        "num_train_epochs = 5"
      ]
    },
    {
      "cell_type": "code",
      "execution_count": null,
      "metadata": {
        "id": "Hp9eeoXhEoO0"
      },
      "outputs": [],
      "source": [
        "data_collator = default_data_collator\n",
        "train_dataloader = DataLoader(train_dataset, shuffle=True, collate_fn=data_collator, batch_size=train_batch_size)\n",
        "eval_dataloader = DataLoader(eval_dataset, collate_fn=data_collator, batch_size=eval_batch_size)"
      ]
    },
    {
      "cell_type": "code",
      "execution_count": null,
      "metadata": {
        "id": "qDzxbk3YEpmS"
      },
      "outputs": [],
      "source": [
        "learning_rate=3e-5\n",
        "gradient_accumulation_steps = 1\n",
        "\n",
        "no_decay = [\"bias\", \"LayerNorm.weight\"]\n",
        "optimizer_grouped_parameters = [\n",
        "    {\n",
        "        \"params\": [p for n, p in model.named_parameters() if not any(nd in n for nd in no_decay)],\n",
        "        \"weight_decay\": 0.0,\n",
        "    },\n",
        "    {\n",
        "        \"params\": [p for n, p in model.named_parameters() if any(nd in n for nd in no_decay)],\n",
        "        \"weight_decay\": 0.0,\n",
        "    },\n",
        "]\n",
        "optimizer = AdamW(optimizer_grouped_parameters, lr=learning_rate)\n",
        "\n",
        "# Scheduler and math around the number of training steps.\n",
        "num_update_steps_per_epoch = math.ceil(len(train_dataloader) / gradient_accumulation_steps)\n",
        "max_train_steps = num_train_epochs * num_update_steps_per_epoch\n",
        "print('max_train_steps', max_train_steps)\n",
        "\n",
        "# scheduler\n",
        "lr_scheduler = get_scheduler(\n",
        "    name=\"linear\",\n",
        "    optimizer=optimizer,\n",
        "    num_warmup_steps=0,\n",
        "    num_training_steps=max_train_steps,\n",
        ")"
      ]
    },
    {
      "cell_type": "code",
      "execution_count": null,
      "metadata": {
        "id": "4Mg9DHdMErON"
      },
      "outputs": [],
      "source": [
        "\n",
        "# Initialize the accelerator. We will let the accelerator handle device placement for us in this example.\n",
        "accelerator = Accelerator()\n",
        "\n",
        "# Prepare everything with our `accelerator`.\n",
        "model, optimizer, train_dataloader, eval_dataloader = accelerator.prepare(\n",
        "    model, optimizer, train_dataloader, eval_dataloader\n",
        ")\n",
        "\n",
        "eval_dataloader\n",
        "metric = load_metric(\"accuracy\")"
      ]
    },
    {
      "cell_type": "code",
      "execution_count": null,
      "metadata": {
        "id": "VY1GAe5jEtBx"
      },
      "outputs": [],
      "source": [
        "output_bat=[]\n",
        "logger = logging.getLogger(__name__)\n",
        "logging.basicConfig(\n",
        "    format=\"%(asctime)s - %(levelname)s - %(name)s - %(message)s\",\n",
        "    datefmt=\"%m/%d/%Y %H:%M:%S\",\n",
        "    level=logging.INFO,\n",
        ")\n",
        "logger.info(accelerator.state)\n",
        "output_dir = '/content'  # your folder\n",
        "\n",
        "total_batch_size = train_batch_size * accelerator.num_processes * gradient_accumulation_steps\n",
        "\n",
        "logger.info(\"***** Running training *****\")\n",
        "logger.info(f\"  Num examples = {len(train_dataset)}\")\n",
        "logger.info(f\"  Num Epochs = {num_train_epochs}\")\n",
        "logger.info(f\"  Instantaneous batch size per device = {train_batch_size}\")\n",
        "logger.info(f\"  Total train batch size (w. parallel, distributed & accumulation) = {total_batch_size}\")\n",
        "logger.info(f\"  Gradient Accumulation steps = {gradient_accumulation_steps}\")\n",
        "logger.info(f\"  Total optimization steps = {max_train_steps}\")\n",
        "\n",
        "\n",
        "completed_steps = 0\n",
        "best_epoch = {\"epoch\": 0, \"acc\": 0 }\n",
        "\n",
        "for epoch in trange(num_train_epochs, desc=\"Epoch\"):\n",
        "  model.train()\n",
        "  for step, batch in enumerate(tqdm(train_dataloader, desc=\"Iteration\")):\n",
        "    outputs = model(**batch)\n",
        "    #loss = outputs\n",
        "    loss = outputs.loss\n",
        "    #loss = loss / gradient_accumulation_steps\n",
        "    accelerator.backward(loss)\n",
        "    #if step % gradient_accumulation_steps == 0 or step == len(train_dataloader) - 1: Removed the 'if' statement\n",
        "    optimizer.step()\n",
        "    lr_scheduler.step()\n",
        "    optimizer.zero_grad()\n",
        "    completed_steps += 1\n",
        "\n",
        "    if step % 50 == 0:\n",
        "      print({'epoch': epoch, 'step': step, 'loss': loss.item()})\n",
        "\n",
        "    if completed_steps >= max_train_steps:\n",
        "      break\n",
        "\n",
        "  logger.info(\"***** Running eval *****\")\n",
        "  model.eval()\n",
        "  for step, batch in enumerate(tqdm(eval_dataloader, desc=\"eval Iteration\")):\n",
        "    outputs = model(**batch)\n",
        "    predictions = outputs.logits.argmax(dim=-1)\n",
        "    metric.add_batch(\n",
        "        predictions=accelerator.gather(predictions),\n",
        "        references=accelerator.gather(batch[\"labels\"]),\n",
        "    )\n",
        "\n",
        "  eval_metric = metric.compute()\n",
        "  logger.info(f\"epoch {epoch}: {eval_metric}\")\n",
        "  output_bat.append({\"epoch\": epoch, \"acc\": eval_metric['accuracy']})\n",
        "  if eval_metric['accuracy'] > best_epoch['acc']:\n",
        "    best_epoch.update({\"epoch\": epoch, \"acc\": eval_metric['accuracy']})\n",
        "\n",
        "  if output_dir is not None:\n",
        "    accelerator.wait_for_everyone()\n",
        "    unwrapped_model = accelerator.unwrap_model(model)\n",
        "    unwrapped_model.save_pretrained(output_dir + '/' + 'epoch_' + str(epoch), save_function=accelerator.save)"
      ]
    },
    {
      "cell_type": "code",
      "execution_count": null,
      "metadata": {
        "id": "S6R7kku5EuTO"
      },
      "outputs": [],
      "source": [
        "print(best_epoch)"
      ]
    },
    {
      "cell_type": "markdown",
      "metadata": {
        "id": "kdND7OLwA020"
      },
      "source": [
        "Save \"/content/epoch_2/config.json\" to ***/content/drive/MyDrive/Colab Notebooks/att_sup_config.json***\n",
        "\n",
        "Save \"/content/epoch_2/pytorch_model.bin\" to ***/content/drive/MyDrive/Colab Notebooks/att_sup_pytorch_model.bin***"
      ]
    },
    {
      "cell_type": "markdown",
      "metadata": {
        "id": "ntnIsAMDwVx_"
      },
      "source": [
        "# Validation of training results on official dataset"
      ]
    },
    {
      "cell_type": "code",
      "execution_count": null,
      "metadata": {
        "id": "uyX6SUZQDZWj"
      },
      "outputs": [],
      "source": [
        "from transformers import BertTokenizerFast, BertConfig, BertForSequenceClassification, default_data_collator\n",
        "from torch.utils.data import DataLoader\n",
        "from accelerate import Accelerator\n",
        "from tqdm.auto import tqdm"
      ]
    },
    {
      "cell_type": "code",
      "execution_count": null,
      "metadata": {
        "id": "V3WiBpmdxO10"
      },
      "outputs": [],
      "source": [
        "config = BertConfig.from_pretrained(\"/content/drive/MyDrive/Colab Notebooks/relation_config.json\")\n",
        "model = BertForSequenceClassification.from_pretrained(\"/content/drive/MyDrive/Colab Notebooks/relation_pytorch_model.bin\", config = config).to(device)"
      ]
    },
    {
      "cell_type": "code",
      "execution_count": null,
      "metadata": {
        "id": "tRepHvlmxQkR"
      },
      "outputs": [],
      "source": [
        "from datasets import list_datasets, load_datasefrom pprint import pprint"
      ]
    },
    {
      "cell_type": "markdown",
      "metadata": {
        "id": "ZoOtzWpPxof2"
      },
      "source": [
        "##Classify into none/support+attack first"
      ]
    },
    {
      "cell_type": "code",
      "execution_count": null,
      "metadata": {
        "id": "WiurWOSsCyfp"
      },
      "outputs": [],
      "source": [
        "def mrpc_model(model, sen1, sen2):\n",
        "  input_encodings = tokenizer([sen1], [sen2], padding='max_length', truncation=True)\n",
        "  input_dataset = Dataset(input_encodings)\n",
        "  #print(input_encodings)\n",
        "  #print(input_dataset[0])\n",
        "  data_collator = default_data_collator\n",
        "  input_dataloader = DataLoader(input_dataset, collate_fn=data_collator, batch_size=1)\n",
        "\n",
        "  accelerator = Accelerator()\n",
        "  model, input_dataloader = accelerator.prepare(model, input_dataloader)\n",
        "\n",
        "  for batch in input_dataloader:\n",
        "    outputs = model(**batch)\n",
        "    predicted = outputs.logits.argmax(dim=-1)\n",
        "  return predicted"
      ]
    },
    {
      "cell_type": "code",
      "execution_count": null,
      "metadata": {
        "id": "OlhxShAxxceo"
      },
      "outputs": [],
      "source": [
        "data=[]\n",
        "answer=[]\n",
        "test=[]\n",
        "att_sup_sen1=[]\n",
        "att_sup_sen2=[]\n",
        "att_sup_label=[]\n",
        "import json\n",
        "with open(\"/content/drive/MyDrive/Colab Notebooks/test_social.json\",\"r\",encoding='utf-8')as f:\n",
        "    data=json.load(f)\n",
        "print(len(data))\n",
        "cnt=0\n",
        "for i in data:\n",
        "    sen1=i[0]\n",
        "    sen2=i[1]\n",
        "    label=i[2]\n",
        "    predict = mrpc_model(model, sen1, sen2)\n",
        "\n",
        "    if predict.item() == 1:\n",
        "      att_sup_sen1.append(sen1)\n",
        "      att_sup_sen2.append(sen2)\n",
        "      att_sup_label.append(label)\n",
        "\n",
        "    answer.append(predict.item())\n",
        "    test.append(label)\n"
      ]
    },
    {
      "cell_type": "markdown",
      "metadata": {
        "id": "h2ufMtAeyL3C"
      },
      "source": [
        "## Classify into support and attack"
      ]
    },
    {
      "cell_type": "code",
      "execution_count": null,
      "metadata": {
        "id": "lRKfMa7nx_Q4"
      },
      "outputs": [],
      "source": [
        "config2 = BertConfig.from_pretrained(\"/content/drive/MyDrive/Colab Notebooks/att_sup_config.json\")\n",
        "model2 = BertForSequenceClassification.from_pretrained(\"/content/drive/MyDrive/Colab Notebooks/att_sup_pytorch_model.bin\", config = config2).to(device)"
      ]
    },
    {
      "cell_type": "code",
      "execution_count": null,
      "metadata": {
        "id": "V7L1Qx1yyVO0"
      },
      "outputs": [],
      "source": [
        "def mrpc_model2(model, sen1, sen2):\n",
        "  input_encodings = tokenizer([sen1], [sen2], padding='max_length', truncation=True)\n",
        "  input_dataset = Dataset(input_encodings)\n",
        "  #print(input_encodings)\n",
        "  #print(input_dataset[0])\n",
        "  data_collator = default_data_collator\n",
        "  input_dataloader = DataLoader(input_dataset, collate_fn=data_collator, batch_size=1)\n",
        "\n",
        "  accelerator = Accelerator()\n",
        "  model, input_dataloader = accelerator.prepare(model, input_dataloader)\n",
        "\n",
        "  for batch in input_dataloader:\n",
        "    outputs = model(**batch)\n",
        "    predicted = outputs.logits.argmax(dim=-1)\n",
        "  return predicted"
      ]
    },
    {
      "cell_type": "code",
      "execution_count": null,
      "metadata": {
        "id": "bh2plriwyn1L"
      },
      "outputs": [],
      "source": [
        "#Take the originally classified 1(support+attack) out, and then perform binary classification on them again\n",
        "for i in range(len(answer)):\n",
        "  if answer[i]==1:\n",
        "    sen1=data[i][0]\n",
        "    sen2=data[i][1]\n",
        "    predict = mrpc_model2(model2, sen1, sen2)\n",
        "    if predict.item()==0:\n",
        "      answer[i]=2"
      ]
    },
    {
      "cell_type": "markdown",
      "metadata": {
        "id": "LkhHi_TozGZY"
      },
      "source": [
        "## Final accuracy"
      ]
    },
    {
      "cell_type": "code",
      "execution_count": null,
      "metadata": {
        "id": "rVzs66kDzAGZ"
      },
      "outputs": [],
      "source": [
        "from sklearn.metrics import classification_report\n",
        "\n",
        "print(classification_report(answer,test))"
      ]
    }
  ],
  "metadata": {
    "accelerator": "GPU",
    "colab": {
      "provenance": []
    },
    "gpuClass": "standard",
    "kernelspec": {
      "display_name": "Python 3",
      "name": "python3"
    },
    "language_info": {
      "name": "python"
    },
    "widgets": {
      "application/vnd.jupyter.widget-state+json": {
        "01d527f51b664cc9884c8789cc9622f0": {
          "model_module": "@jupyter-widgets/base",
          "model_module_version": "1.2.0",
          "model_name": "LayoutModel",
          "state": {
            "_model_module": "@jupyter-widgets/base",
            "_model_module_version": "1.2.0",
            "_model_name": "LayoutModel",
            "_view_count": null,
            "_view_module": "@jupyter-widgets/base",
            "_view_module_version": "1.2.0",
            "_view_name": "LayoutView",
            "align_content": null,
            "align_items": null,
            "align_self": null,
            "border": null,
            "bottom": null,
            "display": null,
            "flex": null,
            "flex_flow": null,
            "grid_area": null,
            "grid_auto_columns": null,
            "grid_auto_flow": null,
            "grid_auto_rows": null,
            "grid_column": null,
            "grid_gap": null,
            "grid_row": null,
            "grid_template_areas": null,
            "grid_template_columns": null,
            "grid_template_rows": null,
            "height": null,
            "justify_content": null,
            "justify_items": null,
            "left": null,
            "margin": null,
            "max_height": null,
            "max_width": null,
            "min_height": null,
            "min_width": null,
            "object_fit": null,
            "object_position": null,
            "order": null,
            "overflow": null,
            "overflow_x": null,
            "overflow_y": null,
            "padding": null,
            "right": null,
            "top": null,
            "visibility": null,
            "width": null
          }
        },
        "027ea1de133a4dc586d776f329d97f58": {
          "model_module": "@jupyter-widgets/base",
          "model_module_version": "1.2.0",
          "model_name": "LayoutModel",
          "state": {
            "_model_module": "@jupyter-widgets/base",
            "_model_module_version": "1.2.0",
            "_model_name": "LayoutModel",
            "_view_count": null,
            "_view_module": "@jupyter-widgets/base",
            "_view_module_version": "1.2.0",
            "_view_name": "LayoutView",
            "align_content": null,
            "align_items": null,
            "align_self": null,
            "border": null,
            "bottom": null,
            "display": null,
            "flex": null,
            "flex_flow": null,
            "grid_area": null,
            "grid_auto_columns": null,
            "grid_auto_flow": null,
            "grid_auto_rows": null,
            "grid_column": null,
            "grid_gap": null,
            "grid_row": null,
            "grid_template_areas": null,
            "grid_template_columns": null,
            "grid_template_rows": null,
            "height": null,
            "justify_content": null,
            "justify_items": null,
            "left": null,
            "margin": null,
            "max_height": null,
            "max_width": null,
            "min_height": null,
            "min_width": null,
            "object_fit": null,
            "object_position": null,
            "order": null,
            "overflow": null,
            "overflow_x": null,
            "overflow_y": null,
            "padding": null,
            "right": null,
            "top": null,
            "visibility": null,
            "width": null
          }
        },
        "034c6cd58c2b4f618340ea917b18f7fc": {
          "model_module": "@jupyter-widgets/base",
          "model_module_version": "1.2.0",
          "model_name": "LayoutModel",
          "state": {
            "_model_module": "@jupyter-widgets/base",
            "_model_module_version": "1.2.0",
            "_model_name": "LayoutModel",
            "_view_count": null,
            "_view_module": "@jupyter-widgets/base",
            "_view_module_version": "1.2.0",
            "_view_name": "LayoutView",
            "align_content": null,
            "align_items": null,
            "align_self": null,
            "border": null,
            "bottom": null,
            "display": null,
            "flex": null,
            "flex_flow": null,
            "grid_area": null,
            "grid_auto_columns": null,
            "grid_auto_flow": null,
            "grid_auto_rows": null,
            "grid_column": null,
            "grid_gap": null,
            "grid_row": null,
            "grid_template_areas": null,
            "grid_template_columns": null,
            "grid_template_rows": null,
            "height": null,
            "justify_content": null,
            "justify_items": null,
            "left": null,
            "margin": null,
            "max_height": null,
            "max_width": null,
            "min_height": null,
            "min_width": null,
            "object_fit": null,
            "object_position": null,
            "order": null,
            "overflow": null,
            "overflow_x": null,
            "overflow_y": null,
            "padding": null,
            "right": null,
            "top": null,
            "visibility": null,
            "width": null
          }
        },
        "036f8765b42c475f9612e657eb4ad224": {
          "model_module": "@jupyter-widgets/controls",
          "model_module_version": "1.5.0",
          "model_name": "DescriptionStyleModel",
          "state": {
            "_model_module": "@jupyter-widgets/controls",
            "_model_module_version": "1.5.0",
            "_model_name": "DescriptionStyleModel",
            "_view_count": null,
            "_view_module": "@jupyter-widgets/base",
            "_view_module_version": "1.2.0",
            "_view_name": "StyleView",
            "description_width": ""
          }
        },
        "09a60afe064745b8a8f225e4a987e7f8": {
          "model_module": "@jupyter-widgets/base",
          "model_module_version": "1.2.0",
          "model_name": "LayoutModel",
          "state": {
            "_model_module": "@jupyter-widgets/base",
            "_model_module_version": "1.2.0",
            "_model_name": "LayoutModel",
            "_view_count": null,
            "_view_module": "@jupyter-widgets/base",
            "_view_module_version": "1.2.0",
            "_view_name": "LayoutView",
            "align_content": null,
            "align_items": null,
            "align_self": null,
            "border": null,
            "bottom": null,
            "display": null,
            "flex": null,
            "flex_flow": null,
            "grid_area": null,
            "grid_auto_columns": null,
            "grid_auto_flow": null,
            "grid_auto_rows": null,
            "grid_column": null,
            "grid_gap": null,
            "grid_row": null,
            "grid_template_areas": null,
            "grid_template_columns": null,
            "grid_template_rows": null,
            "height": null,
            "justify_content": null,
            "justify_items": null,
            "left": null,
            "margin": null,
            "max_height": null,
            "max_width": null,
            "min_height": null,
            "min_width": null,
            "object_fit": null,
            "object_position": null,
            "order": null,
            "overflow": null,
            "overflow_x": null,
            "overflow_y": null,
            "padding": null,
            "right": null,
            "top": null,
            "visibility": null,
            "width": null
          }
        },
        "0d270c76bc03495d9e4e7efc32edf375": {
          "model_module": "@jupyter-widgets/controls",
          "model_module_version": "1.5.0",
          "model_name": "DescriptionStyleModel",
          "state": {
            "_model_module": "@jupyter-widgets/controls",
            "_model_module_version": "1.5.0",
            "_model_name": "DescriptionStyleModel",
            "_view_count": null,
            "_view_module": "@jupyter-widgets/base",
            "_view_module_version": "1.2.0",
            "_view_name": "StyleView",
            "description_width": ""
          }
        },
        "0e295ce1d6b54dcf829e304c9cca5f3f": {
          "model_module": "@jupyter-widgets/controls",
          "model_module_version": "1.5.0",
          "model_name": "DescriptionStyleModel",
          "state": {
            "_model_module": "@jupyter-widgets/controls",
            "_model_module_version": "1.5.0",
            "_model_name": "DescriptionStyleModel",
            "_view_count": null,
            "_view_module": "@jupyter-widgets/base",
            "_view_module_version": "1.2.0",
            "_view_name": "StyleView",
            "description_width": ""
          }
        },
        "126d5cf0cbde43fcb2c3ed5a504f2b61": {
          "model_module": "@jupyter-widgets/controls",
          "model_module_version": "1.5.0",
          "model_name": "DescriptionStyleModel",
          "state": {
            "_model_module": "@jupyter-widgets/controls",
            "_model_module_version": "1.5.0",
            "_model_name": "DescriptionStyleModel",
            "_view_count": null,
            "_view_module": "@jupyter-widgets/base",
            "_view_module_version": "1.2.0",
            "_view_name": "StyleView",
            "description_width": ""
          }
        },
        "16966672840141b1b874518d735cf46f": {
          "model_module": "@jupyter-widgets/base",
          "model_module_version": "1.2.0",
          "model_name": "LayoutModel",
          "state": {
            "_model_module": "@jupyter-widgets/base",
            "_model_module_version": "1.2.0",
            "_model_name": "LayoutModel",
            "_view_count": null,
            "_view_module": "@jupyter-widgets/base",
            "_view_module_version": "1.2.0",
            "_view_name": "LayoutView",
            "align_content": null,
            "align_items": null,
            "align_self": null,
            "border": null,
            "bottom": null,
            "display": null,
            "flex": null,
            "flex_flow": null,
            "grid_area": null,
            "grid_auto_columns": null,
            "grid_auto_flow": null,
            "grid_auto_rows": null,
            "grid_column": null,
            "grid_gap": null,
            "grid_row": null,
            "grid_template_areas": null,
            "grid_template_columns": null,
            "grid_template_rows": null,
            "height": null,
            "justify_content": null,
            "justify_items": null,
            "left": null,
            "margin": null,
            "max_height": null,
            "max_width": null,
            "min_height": null,
            "min_width": null,
            "object_fit": null,
            "object_position": null,
            "order": null,
            "overflow": null,
            "overflow_x": null,
            "overflow_y": null,
            "padding": null,
            "right": null,
            "top": null,
            "visibility": null,
            "width": null
          }
        },
        "1802e58733914fc3902a47fdb82fc3c2": {
          "model_module": "@jupyter-widgets/controls",
          "model_module_version": "1.5.0",
          "model_name": "HBoxModel",
          "state": {
            "_dom_classes": [],
            "_model_module": "@jupyter-widgets/controls",
            "_model_module_version": "1.5.0",
            "_model_name": "HBoxModel",
            "_view_count": null,
            "_view_module": "@jupyter-widgets/controls",
            "_view_module_version": "1.5.0",
            "_view_name": "HBoxView",
            "box_style": "",
            "children": [
              "IPY_MODEL_7079f417fdd34c2f97f6a53c79aaadaa",
              "IPY_MODEL_475f459cc0444951b3c2ba65081cb955",
              "IPY_MODEL_7d3ec0a0269e4068948d3780d9a741ad"
            ],
            "layout": "IPY_MODEL_8a5936df504e4b6ca30820e95619e4c0"
          }
        },
        "1b00d889b774446f8d9fadfb09e24f36": {
          "model_module": "@jupyter-widgets/base",
          "model_module_version": "1.2.0",
          "model_name": "LayoutModel",
          "state": {
            "_model_module": "@jupyter-widgets/base",
            "_model_module_version": "1.2.0",
            "_model_name": "LayoutModel",
            "_view_count": null,
            "_view_module": "@jupyter-widgets/base",
            "_view_module_version": "1.2.0",
            "_view_name": "LayoutView",
            "align_content": null,
            "align_items": null,
            "align_self": null,
            "border": null,
            "bottom": null,
            "display": null,
            "flex": null,
            "flex_flow": null,
            "grid_area": null,
            "grid_auto_columns": null,
            "grid_auto_flow": null,
            "grid_auto_rows": null,
            "grid_column": null,
            "grid_gap": null,
            "grid_row": null,
            "grid_template_areas": null,
            "grid_template_columns": null,
            "grid_template_rows": null,
            "height": null,
            "justify_content": null,
            "justify_items": null,
            "left": null,
            "margin": null,
            "max_height": null,
            "max_width": null,
            "min_height": null,
            "min_width": null,
            "object_fit": null,
            "object_position": null,
            "order": null,
            "overflow": null,
            "overflow_x": null,
            "overflow_y": null,
            "padding": null,
            "right": null,
            "top": null,
            "visibility": null,
            "width": null
          }
        },
        "1db0e1f978694d72aa184480698fcbfc": {
          "model_module": "@jupyter-widgets/controls",
          "model_module_version": "1.5.0",
          "model_name": "HTMLModel",
          "state": {
            "_dom_classes": [],
            "_model_module": "@jupyter-widgets/controls",
            "_model_module_version": "1.5.0",
            "_model_name": "HTMLModel",
            "_view_count": null,
            "_view_module": "@jupyter-widgets/controls",
            "_view_module_version": "1.5.0",
            "_view_name": "HTMLView",
            "description": "",
            "description_tooltip": null,
            "layout": "IPY_MODEL_6e6a7250cb8441aca2f32c74c161385a",
            "placeholder": "​",
            "style": "IPY_MODEL_9bdac382cc2a43a289a4bcfc815f907a",
            "value": " 29.0/29.0 [00:00&lt;00:00, 462B/s]"
          }
        },
        "242e7db156524fb18dc938acc3715426": {
          "model_module": "@jupyter-widgets/controls",
          "model_module_version": "1.5.0",
          "model_name": "DescriptionStyleModel",
          "state": {
            "_model_module": "@jupyter-widgets/controls",
            "_model_module_version": "1.5.0",
            "_model_name": "DescriptionStyleModel",
            "_view_count": null,
            "_view_module": "@jupyter-widgets/base",
            "_view_module_version": "1.2.0",
            "_view_name": "StyleView",
            "description_width": ""
          }
        },
        "27158202a34e481697f3be2e7c0fdc49": {
          "model_module": "@jupyter-widgets/base",
          "model_module_version": "1.2.0",
          "model_name": "LayoutModel",
          "state": {
            "_model_module": "@jupyter-widgets/base",
            "_model_module_version": "1.2.0",
            "_model_name": "LayoutModel",
            "_view_count": null,
            "_view_module": "@jupyter-widgets/base",
            "_view_module_version": "1.2.0",
            "_view_name": "LayoutView",
            "align_content": null,
            "align_items": null,
            "align_self": null,
            "border": null,
            "bottom": null,
            "display": null,
            "flex": null,
            "flex_flow": null,
            "grid_area": null,
            "grid_auto_columns": null,
            "grid_auto_flow": null,
            "grid_auto_rows": null,
            "grid_column": null,
            "grid_gap": null,
            "grid_row": null,
            "grid_template_areas": null,
            "grid_template_columns": null,
            "grid_template_rows": null,
            "height": null,
            "justify_content": null,
            "justify_items": null,
            "left": null,
            "margin": null,
            "max_height": null,
            "max_width": null,
            "min_height": null,
            "min_width": null,
            "object_fit": null,
            "object_position": null,
            "order": null,
            "overflow": null,
            "overflow_x": null,
            "overflow_y": null,
            "padding": null,
            "right": null,
            "top": null,
            "visibility": null,
            "width": null
          }
        },
        "2b462b2a58ff4d22950542d3c8f67e07": {
          "model_module": "@jupyter-widgets/controls",
          "model_module_version": "1.5.0",
          "model_name": "ProgressStyleModel",
          "state": {
            "_model_module": "@jupyter-widgets/controls",
            "_model_module_version": "1.5.0",
            "_model_name": "ProgressStyleModel",
            "_view_count": null,
            "_view_module": "@jupyter-widgets/base",
            "_view_module_version": "1.2.0",
            "_view_name": "StyleView",
            "bar_color": null,
            "description_width": ""
          }
        },
        "2f5c51e6d1f24e6aaf6ec77d1197cdc9": {
          "model_module": "@jupyter-widgets/controls",
          "model_module_version": "1.5.0",
          "model_name": "FloatProgressModel",
          "state": {
            "_dom_classes": [],
            "_model_module": "@jupyter-widgets/controls",
            "_model_module_version": "1.5.0",
            "_model_name": "FloatProgressModel",
            "_view_count": null,
            "_view_module": "@jupyter-widgets/controls",
            "_view_module_version": "1.5.0",
            "_view_name": "ProgressView",
            "bar_style": "",
            "description": "",
            "description_tooltip": null,
            "layout": "IPY_MODEL_6ea94d829d1a4bb1b6c6fcd2f22188bf",
            "max": 1242,
            "min": 0,
            "orientation": "horizontal",
            "style": "IPY_MODEL_b961438ea43f44abaa27f1f2954bb5b6",
            "value": 1
          }
        },
        "35700e92a3414706b857d54bd340d92f": {
          "model_module": "@jupyter-widgets/base",
          "model_module_version": "1.2.0",
          "model_name": "LayoutModel",
          "state": {
            "_model_module": "@jupyter-widgets/base",
            "_model_module_version": "1.2.0",
            "_model_name": "LayoutModel",
            "_view_count": null,
            "_view_module": "@jupyter-widgets/base",
            "_view_module_version": "1.2.0",
            "_view_name": "LayoutView",
            "align_content": null,
            "align_items": null,
            "align_self": null,
            "border": null,
            "bottom": null,
            "display": null,
            "flex": null,
            "flex_flow": null,
            "grid_area": null,
            "grid_auto_columns": null,
            "grid_auto_flow": null,
            "grid_auto_rows": null,
            "grid_column": null,
            "grid_gap": null,
            "grid_row": null,
            "grid_template_areas": null,
            "grid_template_columns": null,
            "grid_template_rows": null,
            "height": null,
            "justify_content": null,
            "justify_items": null,
            "left": null,
            "margin": null,
            "max_height": null,
            "max_width": null,
            "min_height": null,
            "min_width": null,
            "object_fit": null,
            "object_position": null,
            "order": null,
            "overflow": null,
            "overflow_x": null,
            "overflow_y": null,
            "padding": null,
            "right": null,
            "top": null,
            "visibility": null,
            "width": null
          }
        },
        "3750a146a7a64d1e9dac02a341f27ffc": {
          "model_module": "@jupyter-widgets/base",
          "model_module_version": "1.2.0",
          "model_name": "LayoutModel",
          "state": {
            "_model_module": "@jupyter-widgets/base",
            "_model_module_version": "1.2.0",
            "_model_name": "LayoutModel",
            "_view_count": null,
            "_view_module": "@jupyter-widgets/base",
            "_view_module_version": "1.2.0",
            "_view_name": "LayoutView",
            "align_content": null,
            "align_items": null,
            "align_self": null,
            "border": null,
            "bottom": null,
            "display": null,
            "flex": null,
            "flex_flow": null,
            "grid_area": null,
            "grid_auto_columns": null,
            "grid_auto_flow": null,
            "grid_auto_rows": null,
            "grid_column": null,
            "grid_gap": null,
            "grid_row": null,
            "grid_template_areas": null,
            "grid_template_columns": null,
            "grid_template_rows": null,
            "height": null,
            "justify_content": null,
            "justify_items": null,
            "left": null,
            "margin": null,
            "max_height": null,
            "max_width": null,
            "min_height": null,
            "min_width": null,
            "object_fit": null,
            "object_position": null,
            "order": null,
            "overflow": null,
            "overflow_x": null,
            "overflow_y": null,
            "padding": null,
            "right": null,
            "top": null,
            "visibility": null,
            "width": null
          }
        },
        "39fa005844ca45eeb09e0c2a1623add4": {
          "model_module": "@jupyter-widgets/controls",
          "model_module_version": "1.5.0",
          "model_name": "HTMLModel",
          "state": {
            "_dom_classes": [],
            "_model_module": "@jupyter-widgets/controls",
            "_model_module_version": "1.5.0",
            "_model_name": "HTMLModel",
            "_view_count": null,
            "_view_module": "@jupyter-widgets/controls",
            "_view_module_version": "1.5.0",
            "_view_name": "HTMLView",
            "description": "",
            "description_tooltip": null,
            "layout": "IPY_MODEL_92873caf1ae84779a65713e8a0c58843",
            "placeholder": "​",
            "style": "IPY_MODEL_d57c2f73656a441f89dddb112db77d78",
            "value": " 412M/412M [00:02&lt;00:00, 168MB/s]"
          }
        },
        "3ca0c2ccdc8f43a28a5d65d2e35241e2": {
          "model_module": "@jupyter-widgets/base",
          "model_module_version": "1.2.0",
          "model_name": "LayoutModel",
          "state": {
            "_model_module": "@jupyter-widgets/base",
            "_model_module_version": "1.2.0",
            "_model_name": "LayoutModel",
            "_view_count": null,
            "_view_module": "@jupyter-widgets/base",
            "_view_module_version": "1.2.0",
            "_view_name": "LayoutView",
            "align_content": null,
            "align_items": null,
            "align_self": null,
            "border": null,
            "bottom": null,
            "display": null,
            "flex": null,
            "flex_flow": null,
            "grid_area": null,
            "grid_auto_columns": null,
            "grid_auto_flow": null,
            "grid_auto_rows": null,
            "grid_column": null,
            "grid_gap": null,
            "grid_row": null,
            "grid_template_areas": null,
            "grid_template_columns": null,
            "grid_template_rows": null,
            "height": null,
            "justify_content": null,
            "justify_items": null,
            "left": null,
            "margin": null,
            "max_height": null,
            "max_width": null,
            "min_height": null,
            "min_width": null,
            "object_fit": null,
            "object_position": null,
            "order": null,
            "overflow": null,
            "overflow_x": null,
            "overflow_y": null,
            "padding": null,
            "right": null,
            "top": null,
            "visibility": null,
            "width": null
          }
        },
        "4113ab469b8c485f8271429395c9507a": {
          "model_module": "@jupyter-widgets/controls",
          "model_module_version": "1.5.0",
          "model_name": "ProgressStyleModel",
          "state": {
            "_model_module": "@jupyter-widgets/controls",
            "_model_module_version": "1.5.0",
            "_model_name": "ProgressStyleModel",
            "_view_count": null,
            "_view_module": "@jupyter-widgets/base",
            "_view_module_version": "1.2.0",
            "_view_name": "StyleView",
            "bar_color": null,
            "description_width": ""
          }
        },
        "41e5badb10374b94ac8574b31483eb91": {
          "model_module": "@jupyter-widgets/controls",
          "model_module_version": "1.5.0",
          "model_name": "HTMLModel",
          "state": {
            "_dom_classes": [],
            "_model_module": "@jupyter-widgets/controls",
            "_model_module_version": "1.5.0",
            "_model_name": "HTMLModel",
            "_view_count": null,
            "_view_module": "@jupyter-widgets/controls",
            "_view_module_version": "1.5.0",
            "_view_name": "HTMLView",
            "description": "",
            "description_tooltip": null,
            "layout": "IPY_MODEL_b4de4d539d1a419e8c0f71853d265d4b",
            "placeholder": "​",
            "style": "IPY_MODEL_77a6683952a74c5085a2cdd16b33c6b5",
            "value": "Downloading pytorch_model.bin: 100%"
          }
        },
        "45fe7c8b71ec48b4a305818a26cfc373": {
          "model_module": "@jupyter-widgets/controls",
          "model_module_version": "1.5.0",
          "model_name": "DescriptionStyleModel",
          "state": {
            "_model_module": "@jupyter-widgets/controls",
            "_model_module_version": "1.5.0",
            "_model_name": "DescriptionStyleModel",
            "_view_count": null,
            "_view_module": "@jupyter-widgets/base",
            "_view_module_version": "1.2.0",
            "_view_name": "StyleView",
            "description_width": ""
          }
        },
        "466c430b1dd541fda9b6a1a9adfb806e": {
          "model_module": "@jupyter-widgets/controls",
          "model_module_version": "1.5.0",
          "model_name": "HTMLModel",
          "state": {
            "_dom_classes": [],
            "_model_module": "@jupyter-widgets/controls",
            "_model_module_version": "1.5.0",
            "_model_name": "HTMLModel",
            "_view_count": null,
            "_view_module": "@jupyter-widgets/controls",
            "_view_module_version": "1.5.0",
            "_view_name": "HTMLView",
            "description": "",
            "description_tooltip": null,
            "layout": "IPY_MODEL_35700e92a3414706b857d54bd340d92f",
            "placeholder": "​",
            "style": "IPY_MODEL_f94cbd536205488da7d4fa099ae88970",
            "value": "Downloading (…)/main/tokenizer.json: 100%"
          }
        },
        "475f459cc0444951b3c2ba65081cb955": {
          "model_module": "@jupyter-widgets/controls",
          "model_module_version": "1.5.0",
          "model_name": "FloatProgressModel",
          "state": {
            "_dom_classes": [],
            "_model_module": "@jupyter-widgets/controls",
            "_model_module_version": "1.5.0",
            "_model_name": "FloatProgressModel",
            "_view_count": null,
            "_view_module": "@jupyter-widgets/controls",
            "_view_module_version": "1.5.0",
            "_view_name": "ProgressView",
            "bar_style": "",
            "description": "",
            "description_tooltip": null,
            "layout": "IPY_MODEL_09a60afe064745b8a8f225e4a987e7f8",
            "max": 5,
            "min": 0,
            "orientation": "horizontal",
            "style": "IPY_MODEL_c76b1a7ff6e941eb998012644ec0163e",
            "value": 0
          }
        },
        "477b1839ac954413bd23f562f1066a93": {
          "model_module": "@jupyter-widgets/controls",
          "model_module_version": "1.5.0",
          "model_name": "HTMLModel",
          "state": {
            "_dom_classes": [],
            "_model_module": "@jupyter-widgets/controls",
            "_model_module_version": "1.5.0",
            "_model_name": "HTMLModel",
            "_view_count": null,
            "_view_module": "@jupyter-widgets/controls",
            "_view_module_version": "1.5.0",
            "_view_name": "HTMLView",
            "description": "",
            "description_tooltip": null,
            "layout": "IPY_MODEL_e18a37ca1f0f42db8dd0e907b5e36274",
            "placeholder": "​",
            "style": "IPY_MODEL_f3ce8e8091fb4eed80ccfc0b7ac13027",
            "value": " 269k/269k [00:00&lt;00:00, 1.15MB/s]"
          }
        },
        "510b9b43dcc344519eca4f7eb04be9fc": {
          "model_module": "@jupyter-widgets/controls",
          "model_module_version": "1.5.0",
          "model_name": "HTMLModel",
          "state": {
            "_dom_classes": [],
            "_model_module": "@jupyter-widgets/controls",
            "_model_module_version": "1.5.0",
            "_model_name": "HTMLModel",
            "_view_count": null,
            "_view_module": "@jupyter-widgets/controls",
            "_view_module_version": "1.5.0",
            "_view_name": "HTMLView",
            "description": "",
            "description_tooltip": null,
            "layout": "IPY_MODEL_99ce223158ac4405b2bd628eee2c1436",
            "placeholder": "​",
            "style": "IPY_MODEL_fe33c14cd3e64f86b902402d134ab331",
            "value": " 1/1242 [01:12&lt;25:01:26, 72.59s/it]"
          }
        },
        "54e706cc785b44a98ac22d99b79f6164": {
          "model_module": "@jupyter-widgets/controls",
          "model_module_version": "1.5.0",
          "model_name": "DescriptionStyleModel",
          "state": {
            "_model_module": "@jupyter-widgets/controls",
            "_model_module_version": "1.5.0",
            "_model_name": "DescriptionStyleModel",
            "_view_count": null,
            "_view_module": "@jupyter-widgets/base",
            "_view_module_version": "1.2.0",
            "_view_name": "StyleView",
            "description_width": ""
          }
        },
        "5c8a425f394f49628dcce7367e701028": {
          "model_module": "@jupyter-widgets/controls",
          "model_module_version": "1.5.0",
          "model_name": "DescriptionStyleModel",
          "state": {
            "_model_module": "@jupyter-widgets/controls",
            "_model_module_version": "1.5.0",
            "_model_name": "DescriptionStyleModel",
            "_view_count": null,
            "_view_module": "@jupyter-widgets/base",
            "_view_module_version": "1.2.0",
            "_view_name": "StyleView",
            "description_width": ""
          }
        },
        "5da2bfd3137a4c00bae1ed88b20650cb": {
          "model_module": "@jupyter-widgets/controls",
          "model_module_version": "1.5.0",
          "model_name": "HTMLModel",
          "state": {
            "_dom_classes": [],
            "_model_module": "@jupyter-widgets/controls",
            "_model_module_version": "1.5.0",
            "_model_name": "HTMLModel",
            "_view_count": null,
            "_view_module": "@jupyter-widgets/controls",
            "_view_module_version": "1.5.0",
            "_view_name": "HTMLView",
            "description": "",
            "description_tooltip": null,
            "layout": "IPY_MODEL_7896431d6eab41daae6d4de044a54d5c",
            "placeholder": "​",
            "style": "IPY_MODEL_126d5cf0cbde43fcb2c3ed5a504f2b61",
            "value": " 4.21k/? [00:00&lt;00:00, 151kB/s]"
          }
        },
        "626b3f653b5e456da2d1734953f35f51": {
          "model_module": "@jupyter-widgets/base",
          "model_module_version": "1.2.0",
          "model_name": "LayoutModel",
          "state": {
            "_model_module": "@jupyter-widgets/base",
            "_model_module_version": "1.2.0",
            "_model_name": "LayoutModel",
            "_view_count": null,
            "_view_module": "@jupyter-widgets/base",
            "_view_module_version": "1.2.0",
            "_view_name": "LayoutView",
            "align_content": null,
            "align_items": null,
            "align_self": null,
            "border": null,
            "bottom": null,
            "display": null,
            "flex": null,
            "flex_flow": null,
            "grid_area": null,
            "grid_auto_columns": null,
            "grid_auto_flow": null,
            "grid_auto_rows": null,
            "grid_column": null,
            "grid_gap": null,
            "grid_row": null,
            "grid_template_areas": null,
            "grid_template_columns": null,
            "grid_template_rows": null,
            "height": null,
            "justify_content": null,
            "justify_items": null,
            "left": null,
            "margin": null,
            "max_height": null,
            "max_width": null,
            "min_height": null,
            "min_width": null,
            "object_fit": null,
            "object_position": null,
            "order": null,
            "overflow": null,
            "overflow_x": null,
            "overflow_y": null,
            "padding": null,
            "right": null,
            "top": null,
            "visibility": null,
            "width": null
          }
        },
        "636445964cac471db38972d942ed768d": {
          "model_module": "@jupyter-widgets/base",
          "model_module_version": "1.2.0",
          "model_name": "LayoutModel",
          "state": {
            "_model_module": "@jupyter-widgets/base",
            "_model_module_version": "1.2.0",
            "_model_name": "LayoutModel",
            "_view_count": null,
            "_view_module": "@jupyter-widgets/base",
            "_view_module_version": "1.2.0",
            "_view_name": "LayoutView",
            "align_content": null,
            "align_items": null,
            "align_self": null,
            "border": null,
            "bottom": null,
            "display": null,
            "flex": null,
            "flex_flow": null,
            "grid_area": null,
            "grid_auto_columns": null,
            "grid_auto_flow": null,
            "grid_auto_rows": null,
            "grid_column": null,
            "grid_gap": null,
            "grid_row": null,
            "grid_template_areas": null,
            "grid_template_columns": null,
            "grid_template_rows": null,
            "height": null,
            "justify_content": null,
            "justify_items": null,
            "left": null,
            "margin": null,
            "max_height": null,
            "max_width": null,
            "min_height": null,
            "min_width": null,
            "object_fit": null,
            "object_position": null,
            "order": null,
            "overflow": null,
            "overflow_x": null,
            "overflow_y": null,
            "padding": null,
            "right": null,
            "top": null,
            "visibility": null,
            "width": null
          }
        },
        "637aa1d78290467181f8ac49a9cedccc": {
          "model_module": "@jupyter-widgets/base",
          "model_module_version": "1.2.0",
          "model_name": "LayoutModel",
          "state": {
            "_model_module": "@jupyter-widgets/base",
            "_model_module_version": "1.2.0",
            "_model_name": "LayoutModel",
            "_view_count": null,
            "_view_module": "@jupyter-widgets/base",
            "_view_module_version": "1.2.0",
            "_view_name": "LayoutView",
            "align_content": null,
            "align_items": null,
            "align_self": null,
            "border": null,
            "bottom": null,
            "display": null,
            "flex": null,
            "flex_flow": null,
            "grid_area": null,
            "grid_auto_columns": null,
            "grid_auto_flow": null,
            "grid_auto_rows": null,
            "grid_column": null,
            "grid_gap": null,
            "grid_row": null,
            "grid_template_areas": null,
            "grid_template_columns": null,
            "grid_template_rows": null,
            "height": null,
            "justify_content": null,
            "justify_items": null,
            "left": null,
            "margin": null,
            "max_height": null,
            "max_width": null,
            "min_height": null,
            "min_width": null,
            "object_fit": null,
            "object_position": null,
            "order": null,
            "overflow": null,
            "overflow_x": null,
            "overflow_y": null,
            "padding": null,
            "right": null,
            "top": null,
            "visibility": null,
            "width": null
          }
        },
        "667f9078baf042deb6a3f868a67d90d9": {
          "model_module": "@jupyter-widgets/controls",
          "model_module_version": "1.5.0",
          "model_name": "ProgressStyleModel",
          "state": {
            "_model_module": "@jupyter-widgets/controls",
            "_model_module_version": "1.5.0",
            "_model_name": "ProgressStyleModel",
            "_view_count": null,
            "_view_module": "@jupyter-widgets/base",
            "_view_module_version": "1.2.0",
            "_view_name": "StyleView",
            "bar_color": null,
            "description_width": ""
          }
        },
        "68502b22c5394ed2ba21e314d74ecd2a": {
          "model_module": "@jupyter-widgets/controls",
          "model_module_version": "1.5.0",
          "model_name": "HBoxModel",
          "state": {
            "_dom_classes": [],
            "_model_module": "@jupyter-widgets/controls",
            "_model_module_version": "1.5.0",
            "_model_name": "HBoxModel",
            "_view_count": null,
            "_view_module": "@jupyter-widgets/controls",
            "_view_module_version": "1.5.0",
            "_view_name": "HBoxView",
            "box_style": "",
            "children": [
              "IPY_MODEL_f1d6958e578c479f91149fe4c4f99d85",
              "IPY_MODEL_adc611330e514b1084b8a099fa8a7b5f",
              "IPY_MODEL_7cf4ad50982049d7af46cbc502434752"
            ],
            "layout": "IPY_MODEL_3750a146a7a64d1e9dac02a341f27ffc"
          }
        },
        "68b5c9c5f2ac423098caa47fdc6c546d": {
          "model_module": "@jupyter-widgets/controls",
          "model_module_version": "1.5.0",
          "model_name": "HBoxModel",
          "state": {
            "_dom_classes": [],
            "_model_module": "@jupyter-widgets/controls",
            "_model_module_version": "1.5.0",
            "_model_name": "HBoxModel",
            "_view_count": null,
            "_view_module": "@jupyter-widgets/controls",
            "_view_module_version": "1.5.0",
            "_view_name": "HBoxView",
            "box_style": "",
            "children": [
              "IPY_MODEL_8bdef79a3e4b4e09b08f0f3bfc78af16",
              "IPY_MODEL_b6e05d03852a4e9c9e30339156e9fc4b",
              "IPY_MODEL_1db0e1f978694d72aa184480698fcbfc"
            ],
            "layout": "IPY_MODEL_fc96f1e125ee44008127de05e0647df2"
          }
        },
        "6aaa1af782b14d129bf818c8485174f2": {
          "model_module": "@jupyter-widgets/controls",
          "model_module_version": "1.5.0",
          "model_name": "FloatProgressModel",
          "state": {
            "_dom_classes": [],
            "_model_module": "@jupyter-widgets/controls",
            "_model_module_version": "1.5.0",
            "_model_name": "FloatProgressModel",
            "_view_count": null,
            "_view_module": "@jupyter-widgets/controls",
            "_view_module_version": "1.5.0",
            "_view_name": "ProgressView",
            "bar_style": "success",
            "description": "",
            "description_tooltip": null,
            "layout": "IPY_MODEL_f79a1de598d146d8bb6a6e2d7518e983",
            "max": 268943,
            "min": 0,
            "orientation": "horizontal",
            "style": "IPY_MODEL_9cd690698c884645b3fc95f40b5d67ee",
            "value": 268943
          }
        },
        "6e6a7250cb8441aca2f32c74c161385a": {
          "model_module": "@jupyter-widgets/base",
          "model_module_version": "1.2.0",
          "model_name": "LayoutModel",
          "state": {
            "_model_module": "@jupyter-widgets/base",
            "_model_module_version": "1.2.0",
            "_model_name": "LayoutModel",
            "_view_count": null,
            "_view_module": "@jupyter-widgets/base",
            "_view_module_version": "1.2.0",
            "_view_name": "LayoutView",
            "align_content": null,
            "align_items": null,
            "align_self": null,
            "border": null,
            "bottom": null,
            "display": null,
            "flex": null,
            "flex_flow": null,
            "grid_area": null,
            "grid_auto_columns": null,
            "grid_auto_flow": null,
            "grid_auto_rows": null,
            "grid_column": null,
            "grid_gap": null,
            "grid_row": null,
            "grid_template_areas": null,
            "grid_template_columns": null,
            "grid_template_rows": null,
            "height": null,
            "justify_content": null,
            "justify_items": null,
            "left": null,
            "margin": null,
            "max_height": null,
            "max_width": null,
            "min_height": null,
            "min_width": null,
            "object_fit": null,
            "object_position": null,
            "order": null,
            "overflow": null,
            "overflow_x": null,
            "overflow_y": null,
            "padding": null,
            "right": null,
            "top": null,
            "visibility": null,
            "width": null
          }
        },
        "6e710e068b7c439c956adebe4449709e": {
          "model_module": "@jupyter-widgets/base",
          "model_module_version": "1.2.0",
          "model_name": "LayoutModel",
          "state": {
            "_model_module": "@jupyter-widgets/base",
            "_model_module_version": "1.2.0",
            "_model_name": "LayoutModel",
            "_view_count": null,
            "_view_module": "@jupyter-widgets/base",
            "_view_module_version": "1.2.0",
            "_view_name": "LayoutView",
            "align_content": null,
            "align_items": null,
            "align_self": null,
            "border": null,
            "bottom": null,
            "display": null,
            "flex": null,
            "flex_flow": null,
            "grid_area": null,
            "grid_auto_columns": null,
            "grid_auto_flow": null,
            "grid_auto_rows": null,
            "grid_column": null,
            "grid_gap": null,
            "grid_row": null,
            "grid_template_areas": null,
            "grid_template_columns": null,
            "grid_template_rows": null,
            "height": null,
            "justify_content": null,
            "justify_items": null,
            "left": null,
            "margin": null,
            "max_height": null,
            "max_width": null,
            "min_height": null,
            "min_width": null,
            "object_fit": null,
            "object_position": null,
            "order": null,
            "overflow": null,
            "overflow_x": null,
            "overflow_y": null,
            "padding": null,
            "right": null,
            "top": null,
            "visibility": null,
            "width": null
          }
        },
        "6ea94d829d1a4bb1b6c6fcd2f22188bf": {
          "model_module": "@jupyter-widgets/base",
          "model_module_version": "1.2.0",
          "model_name": "LayoutModel",
          "state": {
            "_model_module": "@jupyter-widgets/base",
            "_model_module_version": "1.2.0",
            "_model_name": "LayoutModel",
            "_view_count": null,
            "_view_module": "@jupyter-widgets/base",
            "_view_module_version": "1.2.0",
            "_view_name": "LayoutView",
            "align_content": null,
            "align_items": null,
            "align_self": null,
            "border": null,
            "bottom": null,
            "display": null,
            "flex": null,
            "flex_flow": null,
            "grid_area": null,
            "grid_auto_columns": null,
            "grid_auto_flow": null,
            "grid_auto_rows": null,
            "grid_column": null,
            "grid_gap": null,
            "grid_row": null,
            "grid_template_areas": null,
            "grid_template_columns": null,
            "grid_template_rows": null,
            "height": null,
            "justify_content": null,
            "justify_items": null,
            "left": null,
            "margin": null,
            "max_height": null,
            "max_width": null,
            "min_height": null,
            "min_width": null,
            "object_fit": null,
            "object_position": null,
            "order": null,
            "overflow": null,
            "overflow_x": null,
            "overflow_y": null,
            "padding": null,
            "right": null,
            "top": null,
            "visibility": null,
            "width": null
          }
        },
        "7079f417fdd34c2f97f6a53c79aaadaa": {
          "model_module": "@jupyter-widgets/controls",
          "model_module_version": "1.5.0",
          "model_name": "HTMLModel",
          "state": {
            "_dom_classes": [],
            "_model_module": "@jupyter-widgets/controls",
            "_model_module_version": "1.5.0",
            "_model_name": "HTMLModel",
            "_view_count": null,
            "_view_module": "@jupyter-widgets/controls",
            "_view_module_version": "1.5.0",
            "_view_name": "HTMLView",
            "description": "",
            "description_tooltip": null,
            "layout": "IPY_MODEL_6e710e068b7c439c956adebe4449709e",
            "placeholder": "​",
            "style": "IPY_MODEL_5c8a425f394f49628dcce7367e701028",
            "value": "Epoch:   0%"
          }
        },
        "77a6683952a74c5085a2cdd16b33c6b5": {
          "model_module": "@jupyter-widgets/controls",
          "model_module_version": "1.5.0",
          "model_name": "DescriptionStyleModel",
          "state": {
            "_model_module": "@jupyter-widgets/controls",
            "_model_module_version": "1.5.0",
            "_model_name": "DescriptionStyleModel",
            "_view_count": null,
            "_view_module": "@jupyter-widgets/base",
            "_view_module_version": "1.2.0",
            "_view_name": "StyleView",
            "description_width": ""
          }
        },
        "78047aa66bd54bab9bfb4c54f8557f1e": {
          "model_module": "@jupyter-widgets/base",
          "model_module_version": "1.2.0",
          "model_name": "LayoutModel",
          "state": {
            "_model_module": "@jupyter-widgets/base",
            "_model_module_version": "1.2.0",
            "_model_name": "LayoutModel",
            "_view_count": null,
            "_view_module": "@jupyter-widgets/base",
            "_view_module_version": "1.2.0",
            "_view_name": "LayoutView",
            "align_content": null,
            "align_items": null,
            "align_self": null,
            "border": null,
            "bottom": null,
            "display": null,
            "flex": null,
            "flex_flow": null,
            "grid_area": null,
            "grid_auto_columns": null,
            "grid_auto_flow": null,
            "grid_auto_rows": null,
            "grid_column": null,
            "grid_gap": null,
            "grid_row": null,
            "grid_template_areas": null,
            "grid_template_columns": null,
            "grid_template_rows": null,
            "height": null,
            "justify_content": null,
            "justify_items": null,
            "left": null,
            "margin": null,
            "max_height": null,
            "max_width": null,
            "min_height": null,
            "min_width": null,
            "object_fit": null,
            "object_position": null,
            "order": null,
            "overflow": null,
            "overflow_x": null,
            "overflow_y": null,
            "padding": null,
            "right": null,
            "top": null,
            "visibility": null,
            "width": null
          }
        },
        "7896431d6eab41daae6d4de044a54d5c": {
          "model_module": "@jupyter-widgets/base",
          "model_module_version": "1.2.0",
          "model_name": "LayoutModel",
          "state": {
            "_model_module": "@jupyter-widgets/base",
            "_model_module_version": "1.2.0",
            "_model_name": "LayoutModel",
            "_view_count": null,
            "_view_module": "@jupyter-widgets/base",
            "_view_module_version": "1.2.0",
            "_view_name": "LayoutView",
            "align_content": null,
            "align_items": null,
            "align_self": null,
            "border": null,
            "bottom": null,
            "display": null,
            "flex": null,
            "flex_flow": null,
            "grid_area": null,
            "grid_auto_columns": null,
            "grid_auto_flow": null,
            "grid_auto_rows": null,
            "grid_column": null,
            "grid_gap": null,
            "grid_row": null,
            "grid_template_areas": null,
            "grid_template_columns": null,
            "grid_template_rows": null,
            "height": null,
            "justify_content": null,
            "justify_items": null,
            "left": null,
            "margin": null,
            "max_height": null,
            "max_width": null,
            "min_height": null,
            "min_width": null,
            "object_fit": null,
            "object_position": null,
            "order": null,
            "overflow": null,
            "overflow_x": null,
            "overflow_y": null,
            "padding": null,
            "right": null,
            "top": null,
            "visibility": null,
            "width": null
          }
        },
        "79988c84bcb746778941cc5afa1403eb": {
          "model_module": "@jupyter-widgets/base",
          "model_module_version": "1.2.0",
          "model_name": "LayoutModel",
          "state": {
            "_model_module": "@jupyter-widgets/base",
            "_model_module_version": "1.2.0",
            "_model_name": "LayoutModel",
            "_view_count": null,
            "_view_module": "@jupyter-widgets/base",
            "_view_module_version": "1.2.0",
            "_view_name": "LayoutView",
            "align_content": null,
            "align_items": null,
            "align_self": null,
            "border": null,
            "bottom": null,
            "display": null,
            "flex": null,
            "flex_flow": null,
            "grid_area": null,
            "grid_auto_columns": null,
            "grid_auto_flow": null,
            "grid_auto_rows": null,
            "grid_column": null,
            "grid_gap": null,
            "grid_row": null,
            "grid_template_areas": null,
            "grid_template_columns": null,
            "grid_template_rows": null,
            "height": null,
            "justify_content": null,
            "justify_items": null,
            "left": null,
            "margin": null,
            "max_height": null,
            "max_width": null,
            "min_height": null,
            "min_width": null,
            "object_fit": null,
            "object_position": null,
            "order": null,
            "overflow": null,
            "overflow_x": null,
            "overflow_y": null,
            "padding": null,
            "right": null,
            "top": null,
            "visibility": null,
            "width": null
          }
        },
        "79b4239048354c4484ef84e3724d1031": {
          "model_module": "@jupyter-widgets/controls",
          "model_module_version": "1.5.0",
          "model_name": "HTMLModel",
          "state": {
            "_dom_classes": [],
            "_model_module": "@jupyter-widgets/controls",
            "_model_module_version": "1.5.0",
            "_model_name": "HTMLModel",
            "_view_count": null,
            "_view_module": "@jupyter-widgets/controls",
            "_view_module_version": "1.5.0",
            "_view_name": "HTMLView",
            "description": "",
            "description_tooltip": null,
            "layout": "IPY_MODEL_dc6aa56d609a4e2dbbe3f006447fcc59",
            "placeholder": "​",
            "style": "IPY_MODEL_fab9191865184791ad11ed19bd817eea",
            "value": "Downloading builder script: "
          }
        },
        "7cf4ad50982049d7af46cbc502434752": {
          "model_module": "@jupyter-widgets/controls",
          "model_module_version": "1.5.0",
          "model_name": "HTMLModel",
          "state": {
            "_dom_classes": [],
            "_model_module": "@jupyter-widgets/controls",
            "_model_module_version": "1.5.0",
            "_model_name": "HTMLModel",
            "_view_count": null,
            "_view_module": "@jupyter-widgets/controls",
            "_view_module_version": "1.5.0",
            "_view_name": "HTMLView",
            "description": "",
            "description_tooltip": null,
            "layout": "IPY_MODEL_8311f71e1cbe487b8bd4ac3ed6998afe",
            "placeholder": "​",
            "style": "IPY_MODEL_45fe7c8b71ec48b4a305818a26cfc373",
            "value": " 110k/110k [00:00&lt;00:00, 700kB/s]"
          }
        },
        "7d3ec0a0269e4068948d3780d9a741ad": {
          "model_module": "@jupyter-widgets/controls",
          "model_module_version": "1.5.0",
          "model_name": "HTMLModel",
          "state": {
            "_dom_classes": [],
            "_model_module": "@jupyter-widgets/controls",
            "_model_module_version": "1.5.0",
            "_model_name": "HTMLModel",
            "_view_count": null,
            "_view_module": "@jupyter-widgets/controls",
            "_view_module_version": "1.5.0",
            "_view_name": "HTMLView",
            "description": "",
            "description_tooltip": null,
            "layout": "IPY_MODEL_01d527f51b664cc9884c8789cc9622f0",
            "placeholder": "​",
            "style": "IPY_MODEL_7f83606b2bd64c20a0d182e5893ef29f",
            "value": " 0/5 [00:00&lt;?, ?it/s]"
          }
        },
        "7edec3bbf4bb420a97ae1e8c5a020b20": {
          "model_module": "@jupyter-widgets/controls",
          "model_module_version": "1.5.0",
          "model_name": "HBoxModel",
          "state": {
            "_dom_classes": [],
            "_model_module": "@jupyter-widgets/controls",
            "_model_module_version": "1.5.0",
            "_model_name": "HBoxModel",
            "_view_count": null,
            "_view_module": "@jupyter-widgets/controls",
            "_view_module_version": "1.5.0",
            "_view_name": "HBoxView",
            "box_style": "",
            "children": [
              "IPY_MODEL_7f447842b3b4401084ac507d8bebb3e9",
              "IPY_MODEL_91548a90d01d471a8bc791637f077220",
              "IPY_MODEL_c25bf17cc6774630a66f8ffcc21f882c"
            ],
            "layout": "IPY_MODEL_1b00d889b774446f8d9fadfb09e24f36"
          }
        },
        "7f447842b3b4401084ac507d8bebb3e9": {
          "model_module": "@jupyter-widgets/controls",
          "model_module_version": "1.5.0",
          "model_name": "HTMLModel",
          "state": {
            "_dom_classes": [],
            "_model_module": "@jupyter-widgets/controls",
            "_model_module_version": "1.5.0",
            "_model_name": "HTMLModel",
            "_view_count": null,
            "_view_module": "@jupyter-widgets/controls",
            "_view_module_version": "1.5.0",
            "_view_name": "HTMLView",
            "description": "",
            "description_tooltip": null,
            "layout": "IPY_MODEL_79988c84bcb746778941cc5afa1403eb",
            "placeholder": "​",
            "style": "IPY_MODEL_242e7db156524fb18dc938acc3715426",
            "value": "Downloading (…)lve/main/config.json: 100%"
          }
        },
        "7f83606b2bd64c20a0d182e5893ef29f": {
          "model_module": "@jupyter-widgets/controls",
          "model_module_version": "1.5.0",
          "model_name": "DescriptionStyleModel",
          "state": {
            "_model_module": "@jupyter-widgets/controls",
            "_model_module_version": "1.5.0",
            "_model_name": "DescriptionStyleModel",
            "_view_count": null,
            "_view_module": "@jupyter-widgets/base",
            "_view_module_version": "1.2.0",
            "_view_name": "StyleView",
            "description_width": ""
          }
        },
        "7ffd7cc5bfa34cee8320a0f571a3b15e": {
          "model_module": "@jupyter-widgets/controls",
          "model_module_version": "1.5.0",
          "model_name": "ProgressStyleModel",
          "state": {
            "_model_module": "@jupyter-widgets/controls",
            "_model_module_version": "1.5.0",
            "_model_name": "ProgressStyleModel",
            "_view_count": null,
            "_view_module": "@jupyter-widgets/base",
            "_view_module_version": "1.2.0",
            "_view_name": "StyleView",
            "bar_color": null,
            "description_width": ""
          }
        },
        "8311f71e1cbe487b8bd4ac3ed6998afe": {
          "model_module": "@jupyter-widgets/base",
          "model_module_version": "1.2.0",
          "model_name": "LayoutModel",
          "state": {
            "_model_module": "@jupyter-widgets/base",
            "_model_module_version": "1.2.0",
            "_model_name": "LayoutModel",
            "_view_count": null,
            "_view_module": "@jupyter-widgets/base",
            "_view_module_version": "1.2.0",
            "_view_name": "LayoutView",
            "align_content": null,
            "align_items": null,
            "align_self": null,
            "border": null,
            "bottom": null,
            "display": null,
            "flex": null,
            "flex_flow": null,
            "grid_area": null,
            "grid_auto_columns": null,
            "grid_auto_flow": null,
            "grid_auto_rows": null,
            "grid_column": null,
            "grid_gap": null,
            "grid_row": null,
            "grid_template_areas": null,
            "grid_template_columns": null,
            "grid_template_rows": null,
            "height": null,
            "justify_content": null,
            "justify_items": null,
            "left": null,
            "margin": null,
            "max_height": null,
            "max_width": null,
            "min_height": null,
            "min_width": null,
            "object_fit": null,
            "object_position": null,
            "order": null,
            "overflow": null,
            "overflow_x": null,
            "overflow_y": null,
            "padding": null,
            "right": null,
            "top": null,
            "visibility": null,
            "width": null
          }
        },
        "8a5936df504e4b6ca30820e95619e4c0": {
          "model_module": "@jupyter-widgets/base",
          "model_module_version": "1.2.0",
          "model_name": "LayoutModel",
          "state": {
            "_model_module": "@jupyter-widgets/base",
            "_model_module_version": "1.2.0",
            "_model_name": "LayoutModel",
            "_view_count": null,
            "_view_module": "@jupyter-widgets/base",
            "_view_module_version": "1.2.0",
            "_view_name": "LayoutView",
            "align_content": null,
            "align_items": null,
            "align_self": null,
            "border": null,
            "bottom": null,
            "display": null,
            "flex": null,
            "flex_flow": null,
            "grid_area": null,
            "grid_auto_columns": null,
            "grid_auto_flow": null,
            "grid_auto_rows": null,
            "grid_column": null,
            "grid_gap": null,
            "grid_row": null,
            "grid_template_areas": null,
            "grid_template_columns": null,
            "grid_template_rows": null,
            "height": null,
            "justify_content": null,
            "justify_items": null,
            "left": null,
            "margin": null,
            "max_height": null,
            "max_width": null,
            "min_height": null,
            "min_width": null,
            "object_fit": null,
            "object_position": null,
            "order": null,
            "overflow": null,
            "overflow_x": null,
            "overflow_y": null,
            "padding": null,
            "right": null,
            "top": null,
            "visibility": null,
            "width": null
          }
        },
        "8b2d48eba99e4c3d9ee1364d95be7d75": {
          "model_module": "@jupyter-widgets/controls",
          "model_module_version": "1.5.0",
          "model_name": "FloatProgressModel",
          "state": {
            "_dom_classes": [],
            "_model_module": "@jupyter-widgets/controls",
            "_model_module_version": "1.5.0",
            "_model_name": "FloatProgressModel",
            "_view_count": null,
            "_view_module": "@jupyter-widgets/controls",
            "_view_module_version": "1.5.0",
            "_view_name": "ProgressView",
            "bar_style": "success",
            "description": "",
            "description_tooltip": null,
            "layout": "IPY_MODEL_f40304c5dad442a9a8b3461ef39cf1fd",
            "max": 1652,
            "min": 0,
            "orientation": "horizontal",
            "style": "IPY_MODEL_667f9078baf042deb6a3f868a67d90d9",
            "value": 1652
          }
        },
        "8bdef79a3e4b4e09b08f0f3bfc78af16": {
          "model_module": "@jupyter-widgets/controls",
          "model_module_version": "1.5.0",
          "model_name": "HTMLModel",
          "state": {
            "_dom_classes": [],
            "_model_module": "@jupyter-widgets/controls",
            "_model_module_version": "1.5.0",
            "_model_name": "HTMLModel",
            "_view_count": null,
            "_view_module": "@jupyter-widgets/controls",
            "_view_module_version": "1.5.0",
            "_view_name": "HTMLView",
            "description": "",
            "description_tooltip": null,
            "layout": "IPY_MODEL_fb7faeb7047840e9af94308aad59819e",
            "placeholder": "​",
            "style": "IPY_MODEL_036f8765b42c475f9612e657eb4ad224",
            "value": "Downloading (…)okenizer_config.json: 100%"
          }
        },
        "91548a90d01d471a8bc791637f077220": {
          "model_module": "@jupyter-widgets/controls",
          "model_module_version": "1.5.0",
          "model_name": "FloatProgressModel",
          "state": {
            "_dom_classes": [],
            "_model_module": "@jupyter-widgets/controls",
            "_model_module_version": "1.5.0",
            "_model_name": "FloatProgressModel",
            "_view_count": null,
            "_view_module": "@jupyter-widgets/controls",
            "_view_module_version": "1.5.0",
            "_view_name": "ProgressView",
            "bar_style": "success",
            "description": "",
            "description_tooltip": null,
            "layout": "IPY_MODEL_3ca0c2ccdc8f43a28a5d65d2e35241e2",
            "max": 624,
            "min": 0,
            "orientation": "horizontal",
            "style": "IPY_MODEL_2b462b2a58ff4d22950542d3c8f67e07",
            "value": 624
          }
        },
        "92873caf1ae84779a65713e8a0c58843": {
          "model_module": "@jupyter-widgets/base",
          "model_module_version": "1.2.0",
          "model_name": "LayoutModel",
          "state": {
            "_model_module": "@jupyter-widgets/base",
            "_model_module_version": "1.2.0",
            "_model_name": "LayoutModel",
            "_view_count": null,
            "_view_module": "@jupyter-widgets/base",
            "_view_module_version": "1.2.0",
            "_view_name": "LayoutView",
            "align_content": null,
            "align_items": null,
            "align_self": null,
            "border": null,
            "bottom": null,
            "display": null,
            "flex": null,
            "flex_flow": null,
            "grid_area": null,
            "grid_auto_columns": null,
            "grid_auto_flow": null,
            "grid_auto_rows": null,
            "grid_column": null,
            "grid_gap": null,
            "grid_row": null,
            "grid_template_areas": null,
            "grid_template_columns": null,
            "grid_template_rows": null,
            "height": null,
            "justify_content": null,
            "justify_items": null,
            "left": null,
            "margin": null,
            "max_height": null,
            "max_width": null,
            "min_height": null,
            "min_width": null,
            "object_fit": null,
            "object_position": null,
            "order": null,
            "overflow": null,
            "overflow_x": null,
            "overflow_y": null,
            "padding": null,
            "right": null,
            "top": null,
            "visibility": null,
            "width": null
          }
        },
        "93615b6c7dd14bb9ac941895698583a6": {
          "model_module": "@jupyter-widgets/controls",
          "model_module_version": "1.5.0",
          "model_name": "FloatProgressModel",
          "state": {
            "_dom_classes": [],
            "_model_module": "@jupyter-widgets/controls",
            "_model_module_version": "1.5.0",
            "_model_name": "FloatProgressModel",
            "_view_count": null,
            "_view_module": "@jupyter-widgets/controls",
            "_view_module_version": "1.5.0",
            "_view_name": "ProgressView",
            "bar_style": "success",
            "description": "",
            "description_tooltip": null,
            "layout": "IPY_MODEL_78047aa66bd54bab9bfb4c54f8557f1e",
            "max": 411577189,
            "min": 0,
            "orientation": "horizontal",
            "style": "IPY_MODEL_7ffd7cc5bfa34cee8320a0f571a3b15e",
            "value": 411577189
          }
        },
        "99ce223158ac4405b2bd628eee2c1436": {
          "model_module": "@jupyter-widgets/base",
          "model_module_version": "1.2.0",
          "model_name": "LayoutModel",
          "state": {
            "_model_module": "@jupyter-widgets/base",
            "_model_module_version": "1.2.0",
            "_model_name": "LayoutModel",
            "_view_count": null,
            "_view_module": "@jupyter-widgets/base",
            "_view_module_version": "1.2.0",
            "_view_name": "LayoutView",
            "align_content": null,
            "align_items": null,
            "align_self": null,
            "border": null,
            "bottom": null,
            "display": null,
            "flex": null,
            "flex_flow": null,
            "grid_area": null,
            "grid_auto_columns": null,
            "grid_auto_flow": null,
            "grid_auto_rows": null,
            "grid_column": null,
            "grid_gap": null,
            "grid_row": null,
            "grid_template_areas": null,
            "grid_template_columns": null,
            "grid_template_rows": null,
            "height": null,
            "justify_content": null,
            "justify_items": null,
            "left": null,
            "margin": null,
            "max_height": null,
            "max_width": null,
            "min_height": null,
            "min_width": null,
            "object_fit": null,
            "object_position": null,
            "order": null,
            "overflow": null,
            "overflow_x": null,
            "overflow_y": null,
            "padding": null,
            "right": null,
            "top": null,
            "visibility": null,
            "width": null
          }
        },
        "9bdac382cc2a43a289a4bcfc815f907a": {
          "model_module": "@jupyter-widgets/controls",
          "model_module_version": "1.5.0",
          "model_name": "DescriptionStyleModel",
          "state": {
            "_model_module": "@jupyter-widgets/controls",
            "_model_module_version": "1.5.0",
            "_model_name": "DescriptionStyleModel",
            "_view_count": null,
            "_view_module": "@jupyter-widgets/base",
            "_view_module_version": "1.2.0",
            "_view_name": "StyleView",
            "description_width": ""
          }
        },
        "9cd690698c884645b3fc95f40b5d67ee": {
          "model_module": "@jupyter-widgets/controls",
          "model_module_version": "1.5.0",
          "model_name": "ProgressStyleModel",
          "state": {
            "_model_module": "@jupyter-widgets/controls",
            "_model_module_version": "1.5.0",
            "_model_name": "ProgressStyleModel",
            "_view_count": null,
            "_view_module": "@jupyter-widgets/base",
            "_view_module_version": "1.2.0",
            "_view_name": "StyleView",
            "bar_color": null,
            "description_width": ""
          }
        },
        "aab66489830441ec94941c2a16edffec": {
          "model_module": "@jupyter-widgets/controls",
          "model_module_version": "1.5.0",
          "model_name": "HBoxModel",
          "state": {
            "_dom_classes": [],
            "_model_module": "@jupyter-widgets/controls",
            "_model_module_version": "1.5.0",
            "_model_name": "HBoxModel",
            "_view_count": null,
            "_view_module": "@jupyter-widgets/controls",
            "_view_module_version": "1.5.0",
            "_view_name": "HBoxView",
            "box_style": "",
            "children": [
              "IPY_MODEL_c3672df8e4b24926a0fc32f599782727",
              "IPY_MODEL_2f5c51e6d1f24e6aaf6ec77d1197cdc9",
              "IPY_MODEL_510b9b43dcc344519eca4f7eb04be9fc"
            ],
            "layout": "IPY_MODEL_f3412f0bd3784588b147a0407118a91e"
          }
        },
        "aae9c4cd383a4cfb86ed5040d69dfff7": {
          "model_module": "@jupyter-widgets/base",
          "model_module_version": "1.2.0",
          "model_name": "LayoutModel",
          "state": {
            "_model_module": "@jupyter-widgets/base",
            "_model_module_version": "1.2.0",
            "_model_name": "LayoutModel",
            "_view_count": null,
            "_view_module": "@jupyter-widgets/base",
            "_view_module_version": "1.2.0",
            "_view_name": "LayoutView",
            "align_content": null,
            "align_items": null,
            "align_self": null,
            "border": null,
            "bottom": null,
            "display": null,
            "flex": null,
            "flex_flow": null,
            "grid_area": null,
            "grid_auto_columns": null,
            "grid_auto_flow": null,
            "grid_auto_rows": null,
            "grid_column": null,
            "grid_gap": null,
            "grid_row": null,
            "grid_template_areas": null,
            "grid_template_columns": null,
            "grid_template_rows": null,
            "height": null,
            "justify_content": null,
            "justify_items": null,
            "left": null,
            "margin": null,
            "max_height": null,
            "max_width": null,
            "min_height": null,
            "min_width": null,
            "object_fit": null,
            "object_position": null,
            "order": null,
            "overflow": null,
            "overflow_x": null,
            "overflow_y": null,
            "padding": null,
            "right": null,
            "top": null,
            "visibility": null,
            "width": null
          }
        },
        "adc611330e514b1084b8a099fa8a7b5f": {
          "model_module": "@jupyter-widgets/controls",
          "model_module_version": "1.5.0",
          "model_name": "FloatProgressModel",
          "state": {
            "_dom_classes": [],
            "_model_module": "@jupyter-widgets/controls",
            "_model_module_version": "1.5.0",
            "_model_name": "FloatProgressModel",
            "_view_count": null,
            "_view_module": "@jupyter-widgets/controls",
            "_view_module_version": "1.5.0",
            "_view_name": "ProgressView",
            "bar_style": "success",
            "description": "",
            "description_tooltip": null,
            "layout": "IPY_MODEL_636445964cac471db38972d942ed768d",
            "max": 109540,
            "min": 0,
            "orientation": "horizontal",
            "style": "IPY_MODEL_4113ab469b8c485f8271429395c9507a",
            "value": 109540
          }
        },
        "b4de4d539d1a419e8c0f71853d265d4b": {
          "model_module": "@jupyter-widgets/base",
          "model_module_version": "1.2.0",
          "model_name": "LayoutModel",
          "state": {
            "_model_module": "@jupyter-widgets/base",
            "_model_module_version": "1.2.0",
            "_model_name": "LayoutModel",
            "_view_count": null,
            "_view_module": "@jupyter-widgets/base",
            "_view_module_version": "1.2.0",
            "_view_name": "LayoutView",
            "align_content": null,
            "align_items": null,
            "align_self": null,
            "border": null,
            "bottom": null,
            "display": null,
            "flex": null,
            "flex_flow": null,
            "grid_area": null,
            "grid_auto_columns": null,
            "grid_auto_flow": null,
            "grid_auto_rows": null,
            "grid_column": null,
            "grid_gap": null,
            "grid_row": null,
            "grid_template_areas": null,
            "grid_template_columns": null,
            "grid_template_rows": null,
            "height": null,
            "justify_content": null,
            "justify_items": null,
            "left": null,
            "margin": null,
            "max_height": null,
            "max_width": null,
            "min_height": null,
            "min_width": null,
            "object_fit": null,
            "object_position": null,
            "order": null,
            "overflow": null,
            "overflow_x": null,
            "overflow_y": null,
            "padding": null,
            "right": null,
            "top": null,
            "visibility": null,
            "width": null
          }
        },
        "b6e05d03852a4e9c9e30339156e9fc4b": {
          "model_module": "@jupyter-widgets/controls",
          "model_module_version": "1.5.0",
          "model_name": "FloatProgressModel",
          "state": {
            "_dom_classes": [],
            "_model_module": "@jupyter-widgets/controls",
            "_model_module_version": "1.5.0",
            "_model_name": "FloatProgressModel",
            "_view_count": null,
            "_view_module": "@jupyter-widgets/controls",
            "_view_module_version": "1.5.0",
            "_view_name": "ProgressView",
            "bar_style": "success",
            "description": "",
            "description_tooltip": null,
            "layout": "IPY_MODEL_626b3f653b5e456da2d1734953f35f51",
            "max": 29,
            "min": 0,
            "orientation": "horizontal",
            "style": "IPY_MODEL_de104c583d2d4cb082e8134066502fae",
            "value": 29
          }
        },
        "b961438ea43f44abaa27f1f2954bb5b6": {
          "model_module": "@jupyter-widgets/controls",
          "model_module_version": "1.5.0",
          "model_name": "ProgressStyleModel",
          "state": {
            "_model_module": "@jupyter-widgets/controls",
            "_model_module_version": "1.5.0",
            "_model_name": "ProgressStyleModel",
            "_view_count": null,
            "_view_module": "@jupyter-widgets/base",
            "_view_module_version": "1.2.0",
            "_view_name": "StyleView",
            "bar_color": null,
            "description_width": ""
          }
        },
        "c25bf17cc6774630a66f8ffcc21f882c": {
          "model_module": "@jupyter-widgets/controls",
          "model_module_version": "1.5.0",
          "model_name": "HTMLModel",
          "state": {
            "_dom_classes": [],
            "_model_module": "@jupyter-widgets/controls",
            "_model_module_version": "1.5.0",
            "_model_name": "HTMLModel",
            "_view_count": null,
            "_view_module": "@jupyter-widgets/controls",
            "_view_module_version": "1.5.0",
            "_view_name": "HTMLView",
            "description": "",
            "description_tooltip": null,
            "layout": "IPY_MODEL_aae9c4cd383a4cfb86ed5040d69dfff7",
            "placeholder": "​",
            "style": "IPY_MODEL_0d270c76bc03495d9e4e7efc32edf375",
            "value": " 624/624 [00:00&lt;00:00, 7.09kB/s]"
          }
        },
        "c2df7b10ba134dc5a51c14ef2d870453": {
          "model_module": "@jupyter-widgets/controls",
          "model_module_version": "1.5.0",
          "model_name": "HBoxModel",
          "state": {
            "_dom_classes": [],
            "_model_module": "@jupyter-widgets/controls",
            "_model_module_version": "1.5.0",
            "_model_name": "HBoxModel",
            "_view_count": null,
            "_view_module": "@jupyter-widgets/controls",
            "_view_module_version": "1.5.0",
            "_view_name": "HBoxView",
            "box_style": "",
            "children": [
              "IPY_MODEL_41e5badb10374b94ac8574b31483eb91",
              "IPY_MODEL_93615b6c7dd14bb9ac941895698583a6",
              "IPY_MODEL_39fa005844ca45eeb09e0c2a1623add4"
            ],
            "layout": "IPY_MODEL_27158202a34e481697f3be2e7c0fdc49"
          }
        },
        "c3672df8e4b24926a0fc32f599782727": {
          "model_module": "@jupyter-widgets/controls",
          "model_module_version": "1.5.0",
          "model_name": "HTMLModel",
          "state": {
            "_dom_classes": [],
            "_model_module": "@jupyter-widgets/controls",
            "_model_module_version": "1.5.0",
            "_model_name": "HTMLModel",
            "_view_count": null,
            "_view_module": "@jupyter-widgets/controls",
            "_view_module_version": "1.5.0",
            "_view_name": "HTMLView",
            "description": "",
            "description_tooltip": null,
            "layout": "IPY_MODEL_637aa1d78290467181f8ac49a9cedccc",
            "placeholder": "​",
            "style": "IPY_MODEL_54e706cc785b44a98ac22d99b79f6164",
            "value": "Iteration:   0%"
          }
        },
        "c69b1d8c59464b8c8ad40e0e982bb1ec": {
          "model_module": "@jupyter-widgets/controls",
          "model_module_version": "1.5.0",
          "model_name": "HBoxModel",
          "state": {
            "_dom_classes": [],
            "_model_module": "@jupyter-widgets/controls",
            "_model_module_version": "1.5.0",
            "_model_name": "HBoxModel",
            "_view_count": null,
            "_view_module": "@jupyter-widgets/controls",
            "_view_module_version": "1.5.0",
            "_view_name": "HBoxView",
            "box_style": "",
            "children": [
              "IPY_MODEL_466c430b1dd541fda9b6a1a9adfb806e",
              "IPY_MODEL_6aaa1af782b14d129bf818c8485174f2",
              "IPY_MODEL_477b1839ac954413bd23f562f1066a93"
            ],
            "layout": "IPY_MODEL_027ea1de133a4dc586d776f329d97f58"
          }
        },
        "c76b1a7ff6e941eb998012644ec0163e": {
          "model_module": "@jupyter-widgets/controls",
          "model_module_version": "1.5.0",
          "model_name": "ProgressStyleModel",
          "state": {
            "_model_module": "@jupyter-widgets/controls",
            "_model_module_version": "1.5.0",
            "_model_name": "ProgressStyleModel",
            "_view_count": null,
            "_view_module": "@jupyter-widgets/base",
            "_view_module_version": "1.2.0",
            "_view_name": "StyleView",
            "bar_color": null,
            "description_width": ""
          }
        },
        "ce882b7404294237a960fd01ac737a3a": {
          "model_module": "@jupyter-widgets/controls",
          "model_module_version": "1.5.0",
          "model_name": "HBoxModel",
          "state": {
            "_dom_classes": [],
            "_model_module": "@jupyter-widgets/controls",
            "_model_module_version": "1.5.0",
            "_model_name": "HBoxModel",
            "_view_count": null,
            "_view_module": "@jupyter-widgets/controls",
            "_view_module_version": "1.5.0",
            "_view_name": "HBoxView",
            "box_style": "",
            "children": [
              "IPY_MODEL_79b4239048354c4484ef84e3724d1031",
              "IPY_MODEL_8b2d48eba99e4c3d9ee1364d95be7d75",
              "IPY_MODEL_5da2bfd3137a4c00bae1ed88b20650cb"
            ],
            "layout": "IPY_MODEL_034c6cd58c2b4f618340ea917b18f7fc"
          }
        },
        "d57c2f73656a441f89dddb112db77d78": {
          "model_module": "@jupyter-widgets/controls",
          "model_module_version": "1.5.0",
          "model_name": "DescriptionStyleModel",
          "state": {
            "_model_module": "@jupyter-widgets/controls",
            "_model_module_version": "1.5.0",
            "_model_name": "DescriptionStyleModel",
            "_view_count": null,
            "_view_module": "@jupyter-widgets/base",
            "_view_module_version": "1.2.0",
            "_view_name": "StyleView",
            "description_width": ""
          }
        },
        "dc6aa56d609a4e2dbbe3f006447fcc59": {
          "model_module": "@jupyter-widgets/base",
          "model_module_version": "1.2.0",
          "model_name": "LayoutModel",
          "state": {
            "_model_module": "@jupyter-widgets/base",
            "_model_module_version": "1.2.0",
            "_model_name": "LayoutModel",
            "_view_count": null,
            "_view_module": "@jupyter-widgets/base",
            "_view_module_version": "1.2.0",
            "_view_name": "LayoutView",
            "align_content": null,
            "align_items": null,
            "align_self": null,
            "border": null,
            "bottom": null,
            "display": null,
            "flex": null,
            "flex_flow": null,
            "grid_area": null,
            "grid_auto_columns": null,
            "grid_auto_flow": null,
            "grid_auto_rows": null,
            "grid_column": null,
            "grid_gap": null,
            "grid_row": null,
            "grid_template_areas": null,
            "grid_template_columns": null,
            "grid_template_rows": null,
            "height": null,
            "justify_content": null,
            "justify_items": null,
            "left": null,
            "margin": null,
            "max_height": null,
            "max_width": null,
            "min_height": null,
            "min_width": null,
            "object_fit": null,
            "object_position": null,
            "order": null,
            "overflow": null,
            "overflow_x": null,
            "overflow_y": null,
            "padding": null,
            "right": null,
            "top": null,
            "visibility": null,
            "width": null
          }
        },
        "de104c583d2d4cb082e8134066502fae": {
          "model_module": "@jupyter-widgets/controls",
          "model_module_version": "1.5.0",
          "model_name": "ProgressStyleModel",
          "state": {
            "_model_module": "@jupyter-widgets/controls",
            "_model_module_version": "1.5.0",
            "_model_name": "ProgressStyleModel",
            "_view_count": null,
            "_view_module": "@jupyter-widgets/base",
            "_view_module_version": "1.2.0",
            "_view_name": "StyleView",
            "bar_color": null,
            "description_width": ""
          }
        },
        "e18a37ca1f0f42db8dd0e907b5e36274": {
          "model_module": "@jupyter-widgets/base",
          "model_module_version": "1.2.0",
          "model_name": "LayoutModel",
          "state": {
            "_model_module": "@jupyter-widgets/base",
            "_model_module_version": "1.2.0",
            "_model_name": "LayoutModel",
            "_view_count": null,
            "_view_module": "@jupyter-widgets/base",
            "_view_module_version": "1.2.0",
            "_view_name": "LayoutView",
            "align_content": null,
            "align_items": null,
            "align_self": null,
            "border": null,
            "bottom": null,
            "display": null,
            "flex": null,
            "flex_flow": null,
            "grid_area": null,
            "grid_auto_columns": null,
            "grid_auto_flow": null,
            "grid_auto_rows": null,
            "grid_column": null,
            "grid_gap": null,
            "grid_row": null,
            "grid_template_areas": null,
            "grid_template_columns": null,
            "grid_template_rows": null,
            "height": null,
            "justify_content": null,
            "justify_items": null,
            "left": null,
            "margin": null,
            "max_height": null,
            "max_width": null,
            "min_height": null,
            "min_width": null,
            "object_fit": null,
            "object_position": null,
            "order": null,
            "overflow": null,
            "overflow_x": null,
            "overflow_y": null,
            "padding": null,
            "right": null,
            "top": null,
            "visibility": null,
            "width": null
          }
        },
        "f1d6958e578c479f91149fe4c4f99d85": {
          "model_module": "@jupyter-widgets/controls",
          "model_module_version": "1.5.0",
          "model_name": "HTMLModel",
          "state": {
            "_dom_classes": [],
            "_model_module": "@jupyter-widgets/controls",
            "_model_module_version": "1.5.0",
            "_model_name": "HTMLModel",
            "_view_count": null,
            "_view_module": "@jupyter-widgets/controls",
            "_view_module_version": "1.5.0",
            "_view_name": "HTMLView",
            "description": "",
            "description_tooltip": null,
            "layout": "IPY_MODEL_16966672840141b1b874518d735cf46f",
            "placeholder": "​",
            "style": "IPY_MODEL_0e295ce1d6b54dcf829e304c9cca5f3f",
            "value": "Downloading (…)solve/main/vocab.txt: 100%"
          }
        },
        "f3412f0bd3784588b147a0407118a91e": {
          "model_module": "@jupyter-widgets/base",
          "model_module_version": "1.2.0",
          "model_name": "LayoutModel",
          "state": {
            "_model_module": "@jupyter-widgets/base",
            "_model_module_version": "1.2.0",
            "_model_name": "LayoutModel",
            "_view_count": null,
            "_view_module": "@jupyter-widgets/base",
            "_view_module_version": "1.2.0",
            "_view_name": "LayoutView",
            "align_content": null,
            "align_items": null,
            "align_self": null,
            "border": null,
            "bottom": null,
            "display": null,
            "flex": null,
            "flex_flow": null,
            "grid_area": null,
            "grid_auto_columns": null,
            "grid_auto_flow": null,
            "grid_auto_rows": null,
            "grid_column": null,
            "grid_gap": null,
            "grid_row": null,
            "grid_template_areas": null,
            "grid_template_columns": null,
            "grid_template_rows": null,
            "height": null,
            "justify_content": null,
            "justify_items": null,
            "left": null,
            "margin": null,
            "max_height": null,
            "max_width": null,
            "min_height": null,
            "min_width": null,
            "object_fit": null,
            "object_position": null,
            "order": null,
            "overflow": null,
            "overflow_x": null,
            "overflow_y": null,
            "padding": null,
            "right": null,
            "top": null,
            "visibility": null,
            "width": null
          }
        },
        "f3ce8e8091fb4eed80ccfc0b7ac13027": {
          "model_module": "@jupyter-widgets/controls",
          "model_module_version": "1.5.0",
          "model_name": "DescriptionStyleModel",
          "state": {
            "_model_module": "@jupyter-widgets/controls",
            "_model_module_version": "1.5.0",
            "_model_name": "DescriptionStyleModel",
            "_view_count": null,
            "_view_module": "@jupyter-widgets/base",
            "_view_module_version": "1.2.0",
            "_view_name": "StyleView",
            "description_width": ""
          }
        },
        "f40304c5dad442a9a8b3461ef39cf1fd": {
          "model_module": "@jupyter-widgets/base",
          "model_module_version": "1.2.0",
          "model_name": "LayoutModel",
          "state": {
            "_model_module": "@jupyter-widgets/base",
            "_model_module_version": "1.2.0",
            "_model_name": "LayoutModel",
            "_view_count": null,
            "_view_module": "@jupyter-widgets/base",
            "_view_module_version": "1.2.0",
            "_view_name": "LayoutView",
            "align_content": null,
            "align_items": null,
            "align_self": null,
            "border": null,
            "bottom": null,
            "display": null,
            "flex": null,
            "flex_flow": null,
            "grid_area": null,
            "grid_auto_columns": null,
            "grid_auto_flow": null,
            "grid_auto_rows": null,
            "grid_column": null,
            "grid_gap": null,
            "grid_row": null,
            "grid_template_areas": null,
            "grid_template_columns": null,
            "grid_template_rows": null,
            "height": null,
            "justify_content": null,
            "justify_items": null,
            "left": null,
            "margin": null,
            "max_height": null,
            "max_width": null,
            "min_height": null,
            "min_width": null,
            "object_fit": null,
            "object_position": null,
            "order": null,
            "overflow": null,
            "overflow_x": null,
            "overflow_y": null,
            "padding": null,
            "right": null,
            "top": null,
            "visibility": null,
            "width": null
          }
        },
        "f79a1de598d146d8bb6a6e2d7518e983": {
          "model_module": "@jupyter-widgets/base",
          "model_module_version": "1.2.0",
          "model_name": "LayoutModel",
          "state": {
            "_model_module": "@jupyter-widgets/base",
            "_model_module_version": "1.2.0",
            "_model_name": "LayoutModel",
            "_view_count": null,
            "_view_module": "@jupyter-widgets/base",
            "_view_module_version": "1.2.0",
            "_view_name": "LayoutView",
            "align_content": null,
            "align_items": null,
            "align_self": null,
            "border": null,
            "bottom": null,
            "display": null,
            "flex": null,
            "flex_flow": null,
            "grid_area": null,
            "grid_auto_columns": null,
            "grid_auto_flow": null,
            "grid_auto_rows": null,
            "grid_column": null,
            "grid_gap": null,
            "grid_row": null,
            "grid_template_areas": null,
            "grid_template_columns": null,
            "grid_template_rows": null,
            "height": null,
            "justify_content": null,
            "justify_items": null,
            "left": null,
            "margin": null,
            "max_height": null,
            "max_width": null,
            "min_height": null,
            "min_width": null,
            "object_fit": null,
            "object_position": null,
            "order": null,
            "overflow": null,
            "overflow_x": null,
            "overflow_y": null,
            "padding": null,
            "right": null,
            "top": null,
            "visibility": null,
            "width": null
          }
        },
        "f94cbd536205488da7d4fa099ae88970": {
          "model_module": "@jupyter-widgets/controls",
          "model_module_version": "1.5.0",
          "model_name": "DescriptionStyleModel",
          "state": {
            "_model_module": "@jupyter-widgets/controls",
            "_model_module_version": "1.5.0",
            "_model_name": "DescriptionStyleModel",
            "_view_count": null,
            "_view_module": "@jupyter-widgets/base",
            "_view_module_version": "1.2.0",
            "_view_name": "StyleView",
            "description_width": ""
          }
        },
        "fab9191865184791ad11ed19bd817eea": {
          "model_module": "@jupyter-widgets/controls",
          "model_module_version": "1.5.0",
          "model_name": "DescriptionStyleModel",
          "state": {
            "_model_module": "@jupyter-widgets/controls",
            "_model_module_version": "1.5.0",
            "_model_name": "DescriptionStyleModel",
            "_view_count": null,
            "_view_module": "@jupyter-widgets/base",
            "_view_module_version": "1.2.0",
            "_view_name": "StyleView",
            "description_width": ""
          }
        },
        "fb7faeb7047840e9af94308aad59819e": {
          "model_module": "@jupyter-widgets/base",
          "model_module_version": "1.2.0",
          "model_name": "LayoutModel",
          "state": {
            "_model_module": "@jupyter-widgets/base",
            "_model_module_version": "1.2.0",
            "_model_name": "LayoutModel",
            "_view_count": null,
            "_view_module": "@jupyter-widgets/base",
            "_view_module_version": "1.2.0",
            "_view_name": "LayoutView",
            "align_content": null,
            "align_items": null,
            "align_self": null,
            "border": null,
            "bottom": null,
            "display": null,
            "flex": null,
            "flex_flow": null,
            "grid_area": null,
            "grid_auto_columns": null,
            "grid_auto_flow": null,
            "grid_auto_rows": null,
            "grid_column": null,
            "grid_gap": null,
            "grid_row": null,
            "grid_template_areas": null,
            "grid_template_columns": null,
            "grid_template_rows": null,
            "height": null,
            "justify_content": null,
            "justify_items": null,
            "left": null,
            "margin": null,
            "max_height": null,
            "max_width": null,
            "min_height": null,
            "min_width": null,
            "object_fit": null,
            "object_position": null,
            "order": null,
            "overflow": null,
            "overflow_x": null,
            "overflow_y": null,
            "padding": null,
            "right": null,
            "top": null,
            "visibility": null,
            "width": null
          }
        },
        "fc96f1e125ee44008127de05e0647df2": {
          "model_module": "@jupyter-widgets/base",
          "model_module_version": "1.2.0",
          "model_name": "LayoutModel",
          "state": {
            "_model_module": "@jupyter-widgets/base",
            "_model_module_version": "1.2.0",
            "_model_name": "LayoutModel",
            "_view_count": null,
            "_view_module": "@jupyter-widgets/base",
            "_view_module_version": "1.2.0",
            "_view_name": "LayoutView",
            "align_content": null,
            "align_items": null,
            "align_self": null,
            "border": null,
            "bottom": null,
            "display": null,
            "flex": null,
            "flex_flow": null,
            "grid_area": null,
            "grid_auto_columns": null,
            "grid_auto_flow": null,
            "grid_auto_rows": null,
            "grid_column": null,
            "grid_gap": null,
            "grid_row": null,
            "grid_template_areas": null,
            "grid_template_columns": null,
            "grid_template_rows": null,
            "height": null,
            "justify_content": null,
            "justify_items": null,
            "left": null,
            "margin": null,
            "max_height": null,
            "max_width": null,
            "min_height": null,
            "min_width": null,
            "object_fit": null,
            "object_position": null,
            "order": null,
            "overflow": null,
            "overflow_x": null,
            "overflow_y": null,
            "padding": null,
            "right": null,
            "top": null,
            "visibility": null,
            "width": null
          }
        },
        "fe33c14cd3e64f86b902402d134ab331": {
          "model_module": "@jupyter-widgets/controls",
          "model_module_version": "1.5.0",
          "model_name": "DescriptionStyleModel",
          "state": {
            "_model_module": "@jupyter-widgets/controls",
            "_model_module_version": "1.5.0",
            "_model_name": "DescriptionStyleModel",
            "_view_count": null,
            "_view_module": "@jupyter-widgets/base",
            "_view_module_version": "1.2.0",
            "_view_name": "StyleView",
            "description_width": ""
          }
        }
      }
    }
  },
  "nbformat": 4,
  "nbformat_minor": 0
}
