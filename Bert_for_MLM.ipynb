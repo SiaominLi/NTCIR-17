{
  "cells": [
    {
      "cell_type": "code",
      "execution_count": 1,
      "metadata": {
        "id": "nC7-K184-jpM"
      },
      "outputs": [],
      "source": [
        "#Run the code with single GPU\n",
        "##launch your code with command line of '''python MLM.py'''\n",
        "\n",
        "# Run the code with multi GPU(fast)\n",
        "## 1.set your accelerate setting with command line of '''accelerate config'''\n",
        "## 2.launch your code with command line of '''accelerate launch MLM.py'''\n",
        "## Offical tutorial: https://github.com/huggingface/accelerate\n"
      ]
    },
    {
      "cell_type": "code",
      "execution_count": 2,
      "metadata": {},
      "outputs": [
        {
          "name": "stderr",
          "output_type": "stream",
          "text": [
            "c:\\Users\\lin\\AppData\\Local\\Programs\\Python\\Python310\\lib\\site-packages\\tqdm\\auto.py:22: TqdmWarning: IProgress not found. Please update jupyter and ipywidgets. See https://ipywidgets.readthedocs.io/en/stable/user_install.html\n",
            "  from .autonotebook import tqdm as notebook_tqdm\n"
          ]
        }
      ],
      "source": [
        "import torch\n",
        "torch.cuda.empty_cache()"
      ]
    },
    {
      "cell_type": "code",
      "execution_count": 3,
      "metadata": {},
      "outputs": [
        {
          "name": "stdout",
          "output_type": "stream",
          "text": [
            "Wed Jun  7 12:36:32 2023       \n",
            "+-----------------------------------------------------------------------------+\n",
            "| NVIDIA-SMI 517.48       Driver Version: 517.48       CUDA Version: 11.7     |\n",
            "|-------------------------------+----------------------+----------------------+\n",
            "| GPU  Name            TCC/WDDM | Bus-Id        Disp.A | Volatile Uncorr. ECC |\n",
            "| Fan  Temp  Perf  Pwr:Usage/Cap|         Memory-Usage | GPU-Util  Compute M. |\n",
            "|                               |                      |               MIG M. |\n",
            "|===============================+======================+======================|\n",
            "|   0  NVIDIA GeForce ... WDDM  | 00000000:01:00.0  On |                  N/A |\n",
            "|  0%   34C    P8    21W / 200W |   1586MiB /  8192MiB |     10%      Default |\n",
            "|                               |                      |                  N/A |\n",
            "+-------------------------------+----------------------+----------------------+\n",
            "                                                                               \n",
            "+-----------------------------------------------------------------------------+\n",
            "| Processes:                                                                  |\n",
            "|  GPU   GI   CI        PID   Type   Process name                  GPU Memory |\n",
            "|        ID   ID                                                   Usage      |\n",
            "|=============================================================================|\n",
            "|    0   N/A  N/A      2244    C+G   ...root\\Office16\\WINWORD.EXE    N/A      |\n",
            "|    0   N/A  N/A      3300    C+G   ...logioptionsplus_agent.exe    N/A      |\n",
            "|    0   N/A  N/A      3756    C+G   ...ll\\1.0.0.663\\LineCall.exe    N/A      |\n",
            "|    0   N/A  N/A      4764    C+G   ...ekyb3d8bbwe\\HxOutlook.exe    N/A      |\n",
            "|    0   N/A  N/A      5188    C+G   ...bbwe\\Microsoft.Photos.exe    N/A      |\n",
            "|    0   N/A  N/A      6688    C+G   ...me\\Application\\chrome.exe    N/A      |\n",
            "|    0   N/A  N/A      7272    C+G   ...ge\\Application\\msedge.exe    N/A      |\n",
            "|    0   N/A  N/A      8300    C+G   ...5n1h2txyewy\\SearchApp.exe    N/A      |\n",
            "|    0   N/A  N/A      8536    C+G   C:\\Windows\\explorer.exe         N/A      |\n",
            "|    0   N/A  N/A      9444    C+G   ...in7x64\\steamwebhelper.exe    N/A      |\n",
            "|    0   N/A  N/A      9720    C+G   ...3d8bbwe\\CalculatorApp.exe    N/A      |\n",
            "|    0   N/A  N/A     10188    C+G   ...cw5n1h2txyewy\\LockApp.exe    N/A      |\n",
            "|    0   N/A  N/A     11848    C+G   ...5n1h2txyewy\\SearchApp.exe    N/A      |\n",
            "|    0   N/A  N/A     12548    C+G   ...2txyewy\\TextInputHost.exe    N/A      |\n",
            "|    0   N/A  N/A     14324    C+G   ...oft OneDrive\\OneDrive.exe    N/A      |\n",
            "|    0   N/A  N/A     14800    C+G   ...8wekyb3d8bbwe\\Cortana.exe    N/A      |\n",
            "|    0   N/A  N/A     14924    C+G   ...\\app-1.0.9013\\Discord.exe    N/A      |\n",
            "|    0   N/A  N/A     15784    C+G   ...LINE\\bin\\current\\LINE.exe    N/A      |\n",
            "|    0   N/A  N/A     17496    C+G   ...icrosoft VS Code\\Code.exe    N/A      |\n",
            "|    0   N/A  N/A     17896    C+G   ...y\\ShellExperienceHost.exe    N/A      |\n",
            "|    0   N/A  N/A     20896    C+G   ...823.37\\msedgewebview2.exe    N/A      |\n",
            "|    0   N/A  N/A     21524    C+G   ...wekyb3d8bbwe\\Video.UI.exe    N/A      |\n",
            "|    0   N/A  N/A     24188    C+G   ...perience\\NVIDIA Share.exe    N/A      |\n",
            "|    0   N/A  N/A     25276    C+G   ...e\\PhoneExperienceHost.exe    N/A      |\n",
            "|    0   N/A  N/A     25960    C+G   ...lPanel\\SystemSettings.exe    N/A      |\n",
            "+-----------------------------------------------------------------------------+\n"
          ]
        }
      ],
      "source": [
        "!nvidia-smi"
      ]
    },
    {
      "cell_type": "code",
      "execution_count": 4,
      "metadata": {
        "id": "ImviIpqf-79R"
      },
      "outputs": [],
      "source": [
        "import torch\n",
        "import math\n",
        "import os\n",
        "from transformers import AutoTokenizer, AutoModelForMaskedLM,AutoConfig\n",
        "from accelerate import Accelerator\n",
        "import logging\n",
        "from tqdm import trange, tqdm\n",
        "from transformers import (\n",
        "    AdamW,\n",
        "    get_scheduler\n",
        ")"
      ]
    },
    {
      "cell_type": "code",
      "execution_count": 5,
      "metadata": {
        "id": "eMmJRacUAaQp"
      },
      "outputs": [],
      "source": [
        "import json\n",
        "from pprint import pprint"
      ]
    },
    {
      "cell_type": "code",
      "execution_count": 6,
      "metadata": {},
      "outputs": [
        {
          "name": "stdout",
          "output_type": "stream",
          "text": [
            "cuda\n"
          ]
        }
      ],
      "source": [
        "import torch\n",
        "device = torch.device(\"cuda\" if torch.cuda.is_available() else \"cpu\")\n",
        "print(device)"
      ]
    },
    {
      "cell_type": "code",
      "execution_count": 7,
      "metadata": {},
      "outputs": [],
      "source": []
    },
    {
      "cell_type": "code",
      "execution_count": 8,
      "metadata": {},
      "outputs": [],
      "source": [
        "output_dir ='MLM'"
      ]
    },
    {
      "cell_type": "code",
      "execution_count": 9,
      "metadata": {},
      "outputs": [],
      "source": [
        "input_fold=\"Stock\"\n",
        "import os\n",
        "import json\n",
        "files=os.listdir(input_fold)\n",
        "textjson=[]\n",
        "for i in files:\n",
        "    with open(input_fold+\"\\\\\"+i, \"r\",encoding='utf-8') as f:\n",
        "        a_data=json.load(f)\n",
        "        for j in a_data:\n",
        "            textjson.append(j['content'])"
      ]
    },
    {
      "cell_type": "code",
      "execution_count": 10,
      "metadata": {
        "colab": {
          "base_uri": "https://localhost:8080/"
        },
        "id": "AhHEJzPx_LAu",
        "outputId": "60fb0019-f264-4c97-87b8-4aaaeeb8430f"
      },
      "outputs": [],
      "source": [
        "#output_dir = input(\"output_dir = \")\n",
        "\n",
        "# Load model and tokenizer\n",
        "# model_name = \"bert-base-chinese\"\n",
        "model_name = \"hfl/chinese-roberta-wwm-ext\"\n",
        "#model_dir=\n",
        "tokenizer = AutoTokenizer.from_pretrained(model_name, model_max_length=512)\n",
        "config = AutoConfig.from_pretrained(\"config.json\")\n",
        "model = AutoModelForMaskedLM.from_pretrained(\"pytorch_model.bin\",config=config).to(device)\n",
        "\n",
        "\n",
        "# Load corpus\n",
        "\n",
        "#with open(\"C:\\\\Users\\\\lin\\\\Desktop\\\\gitcode\\\\NTCIR\\\\train_social2.json\", \"r\", encoding=\"utf-8\") as f:\n",
        "#    textjson = json.load(f)\n",
        "#print(\"sample:\\n\", textjson[0], \"\\n\\n\")"
      ]
    },
    {
      "cell_type": "code",
      "execution_count": 11,
      "metadata": {},
      "outputs": [
        {
          "name": "stdout",
          "output_type": "stream",
          "text": [
            "請問哪裡可以查詢三大法人歷史期貨留倉紀錄阿？\n",
            "\n",
            "我在期交所最多只能查到近三年，不知道哪裡可以看到更久遠的資料，如果可以希望可以\n",
            "看到十年以上\n",
            "\n",
            "包括大台、小台、金電等等\n",
            "\n",
            "在此先謝過各路股海好漢了\n",
            "\n",
            "--\n"
          ]
        }
      ],
      "source": [
        "print(textjson[0])"
      ]
    },
    {
      "cell_type": "code",
      "execution_count": 12,
      "metadata": {},
      "outputs": [],
      "source": [
        "#print(textjson[0][0])"
      ]
    },
    {
      "cell_type": "code",
      "execution_count": 13,
      "metadata": {
        "colab": {
          "base_uri": "https://localhost:8080/"
        },
        "id": "uXEeDZF1_fko",
        "outputId": "dda77ce3-d136-43a8-85bd-3849583ee046"
      },
      "outputs": [
        {
          "name": "stdout",
          "output_type": "stream",
          "text": [
            "Process Label success!\n",
            "\n",
            "\n"
          ]
        }
      ],
      "source": [
        "# converting into str\n",
        "text=[]\n",
        "inputs = tokenizer(textjson, return_tensors=\"pt\", padding=True, truncation=True, stride = 256)\n",
        "inputs[\"labels\"] = inputs.input_ids.detach().clone()\n",
        "## detach() method in PyTorch is used to separate a tensor from the computational graph by returning a new tensor that doesn't require a gradient. \n",
        "## clone() function makes an exact copy of the original image. One can use this clone image to manipulate without affecting the original image. \n",
        "if \"labels\" in inputs.keys():\n",
        "    print(\"Process Label success!\\n\\n\")"
      ]
    },
    {
      "cell_type": "code",
      "execution_count": 14,
      "metadata": {
        "colab": {
          "base_uri": "https://localhost:8080/"
        },
        "id": "JblkrllM_gJ8",
        "outputId": "3db5f73d-e4a1-47ba-d6f4-01509ae256bf"
      },
      "outputs": [
        {
          "name": "stdout",
          "output_type": "stream",
          "text": [
            "rand.shape:  torch.Size([76005, 512])\n",
            "sample of rand:  tensor([[0.5807, 0.2963, 0.9611,  ..., 0.4211, 0.4758, 0.0786],\n",
            "        [0.6870, 0.5875, 0.3137,  ..., 0.4834, 0.7009, 0.7893],\n",
            "        [0.0748, 0.3728, 0.1534,  ..., 0.4799, 0.1735, 0.0333],\n",
            "        ...,\n",
            "        [0.8442, 0.2164, 0.3182,  ..., 0.0435, 0.3245, 0.9109],\n",
            "        [0.0993, 0.6097, 0.5465,  ..., 0.5884, 0.5694, 0.5081],\n",
            "        [0.1519, 0.6073, 0.2454,  ..., 0.9247, 0.2706, 0.2327]]) \n",
            "\n",
            "\n",
            "Bool mask_arr: tensor([[False, False, False,  ..., False, False, False],\n",
            "        [False, False, False,  ..., False, False, False],\n",
            "        [False, False, False,  ..., False, False, False],\n",
            "        ...,\n",
            "        [False, False, False,  ..., False, False, False],\n",
            "        [False, False, False,  ..., False, False, False],\n",
            "        [False, False, False,  ..., False, False, False]])\n",
            "inputs.input_ids tensor([[ 101, 6313, 1558,  ...,    0,    0,    0],\n",
            "        [ 101,  673, 3299,  ...,    0,    0,    0],\n",
            "        [ 101, 2207, 2475,  ...,    0,    0,    0],\n",
            "        ...,\n",
            "        [ 101, 5408, 1201,  ...,    0,    0,    0],\n",
            "        [ 101, 3229, 2382,  ...,    0,    0,    0],\n",
            "        [ 101, 1333, 3152,  ..., 4634, 6134,  102]]) \n",
            "\n",
            "\n"
          ]
        }
      ],
      "source": [
        "# Process inputs(MASK) of training data\n",
        "rand = torch.rand(inputs.input_ids.shape)\n",
        "print(\"rand.shape: \", rand.shape)\n",
        "print(\"sample of rand: \", rand, \"\\n\\n\")\n",
        "\n",
        "mask_probabiltiy = 0.15\n",
        "mask_arr = (rand < mask_probabiltiy) * (inputs.input_ids != 101) * \\\n",
        "            (inputs.input_ids != 102) * (inputs.input_ids != 0)\n",
        "##　101->[CLS]\t102->[SEP]  0->[PAD]\n",
        "print(\"Bool mask_arr:\", mask_arr)\n",
        "\n",
        "selection = []\n",
        "for i in range(mask_arr.shape[0]):\n",
        "    selection.append(\n",
        "        torch.flatten(mask_arr[i].nonzero()).tolist()\n",
        "    )\n",
        "for i in range(mask_arr.shape[0]):\n",
        "    inputs.input_ids[i, selection[i]] = 103  # 103->[MASK]\n",
        "print(\"inputs.input_ids\", inputs.input_ids, \"\\n\\n\")"
      ]
    },
    {
      "cell_type": "code",
      "execution_count": 15,
      "metadata": {
        "id": "aFf5kPrbAXuZ"
      },
      "outputs": [],
      "source": [
        "# Form of Dataset and Dataloader \n",
        "class MeditationsDataset(torch.utils.data.Dataset):\n",
        "    def __init__(self, encodings):\n",
        "        self.encodings = encodings\n",
        "    def __getitem__(self, idx):\n",
        "        return {key: torch.tensor(val[idx]) for key, val in self.encodings.items()}\n",
        "    def __len__(self):\n",
        "        return len(self.encodings.input_ids)\n",
        "\n",
        "dataset = MeditationsDataset(inputs)\n",
        "dataloader = torch.utils.data.DataLoader(dataset, batch_size = 2, shuffle = True)\n"
      ]
    },
    {
      "cell_type": "code",
      "execution_count": 22,
      "metadata": {
        "colab": {
          "base_uri": "https://localhost:8080/"
        },
        "id": "xhpb1hbBAmV7",
        "outputId": "18c0d5d0-da1d-4cad-b41e-e4f0adb702c8"
      },
      "outputs": [
        {
          "name": "stdout",
          "output_type": "stream",
          "text": [
            "max_train_steps 1216096\n"
          ]
        }
      ],
      "source": [
        "# Parameter of training\n",
        "train_batch_size = 1024\n",
        "num_train_epochs = 32     \n",
        "learning_rate=3e-5        \n",
        "gradient_accumulation_steps = 1\n",
        "\n",
        "no_decay = [\"bias\", \"LayerNorm.weight\"]\n",
        "optimizer_grouped_parameters = [\n",
        "    {\n",
        "        \"params\": [p for n, p in model.named_parameters() if not any(nd in n for nd in no_decay)],\n",
        "        \"weight_decay\": 0.0,\n",
        "    },                                \n",
        "    {\n",
        "        \"params\": [p for n, p in model.named_parameters() if any(nd in n for nd in no_decay)],\n",
        "        \"weight_decay\": 0.0,\n",
        "    },\n",
        "]\n",
        "optimizer = AdamW(optimizer_grouped_parameters, lr=learning_rate)\n",
        "\n",
        "## Scheduler and math around the number of training steps.\n",
        "num_update_steps_per_epoch = math.ceil(len(dataloader) / gradient_accumulation_steps)\n",
        "max_train_steps = num_train_epochs * num_update_steps_per_epoch\n",
        "print('max_train_steps', max_train_steps)\n",
        "\n",
        "## scheduler\n",
        "lr_scheduler = get_scheduler(\n",
        "    name=\"linear\",\n",
        "    optimizer=optimizer,\n",
        "    num_warmup_steps=0,\n",
        "    num_training_steps=max_train_steps,\n",
        ")\n",
        "\n",
        "## Initialize the accelerator. We will let the accelerator handle device\n",
        "accelerator = Accelerator()\n",
        "\n",
        "## Prepare everything with our `accelerator`.\n",
        "model, optimizer, dataloader = accelerator.prepare(\n",
        "    model, optimizer, dataloader\n",
        ")"
      ]
    },
    {
      "cell_type": "code",
      "execution_count": 25,
      "metadata": {
        "id": "3I8mDA4cAm92"
      },
      "outputs": [
        {
          "name": "stderr",
          "output_type": "stream",
          "text": [
            "06/07/2023 12:49:40 - INFO - __main__ - Distributed environment: NO\n",
            "Num processes: 1\n",
            "Process index: 0\n",
            "Local process index: 0\n",
            "Device: cuda\n",
            "Mixed precision type: no\n",
            "\n",
            "06/07/2023 12:49:40 - INFO - __main__ - ***** Running training *****\n",
            "06/07/2023 12:49:40 - INFO - __main__ -   Num examples = 76005\n",
            "06/07/2023 12:49:40 - INFO - __main__ -   Num Epochs = 32\n",
            "06/07/2023 12:49:40 - INFO - __main__ -   Instantaneous batch size per device = 1024\n",
            "06/07/2023 12:49:40 - INFO - __main__ -   Total train batch size (w. parallel, distributed & accumulation) = 1024\n",
            "06/07/2023 12:49:40 - INFO - __main__ -   Gradient Accumulation steps = 1\n",
            "06/07/2023 12:49:40 - INFO - __main__ -   Total optimization steps = 1216096\n"
          ]
        }
      ],
      "source": [
        "# Train\n",
        "logger = logging.getLogger(__name__)\n",
        "logging.basicConfig(\n",
        "    format=\"%(asctime)s - %(levelname)s - %(name)s - %(message)s\",\n",
        "    datefmt=\"%m/%d/%Y %H:%M:%S\",\n",
        "    level=logging.INFO,\n",
        ")\n",
        "logger.info(accelerator.state)\n",
        "\n",
        "total_batch_size = train_batch_size * accelerator.num_processes * gradient_accumulation_steps\n",
        "\n",
        "logger.info(\"***** Running training *****\")\n",
        "logger.info(f\"  Num examples = {len(dataset)}\")\n",
        "logger.info(f\"  Num Epochs = {num_train_epochs}\")\n",
        "logger.info(f\"  Instantaneous batch size per device = {train_batch_size}\")\n",
        "logger.info(f\"  Total train batch size (w. parallel, distributed & accumulation) = {total_batch_size}\")\n",
        "logger.info(f\"  Gradient Accumulation steps = {gradient_accumulation_steps}\")\n",
        "logger.info(f\"  Total optimization steps = {max_train_steps}\")\n",
        "\n",
        "def train(model, dataloader, max_train_steps, lr_scheduler, num_train_epochs, gradient_accumulation_steps, optimizer):\n",
        "    completed_steps = 0\n",
        "    best_epoch = {}\n",
        "    \n",
        "    #if output_dir not in os.listdir():\n",
        "    #    os.mkdir(output_dir)\n",
        "\n",
        "    for epoch in trange(num_train_epochs, desc=\"Epoch\"):\n",
        "        model.train()\n",
        "        for step, batch in enumerate(tqdm(dataloader, desc=\"Iteration\")):\n",
        "            outputs = model(batch[\"input_ids\"], attention_mask = batch[\"attention_mask\"], labels = batch[\"labels\"])\n",
        "            loss = outputs.loss\n",
        "            loss = loss / gradient_accumulation_steps\n",
        "            accelerator.backward(loss)\n",
        "            if step % gradient_accumulation_steps == 0 or step == len(dataloader) - 1:\n",
        "                optimizer.step()\n",
        "                lr_scheduler.step()\n",
        "                optimizer.zero_grad()\n",
        "                completed_steps += 1\n",
        "\n",
        "            if step % 1000 == 0:\n",
        "                print({'epoch': epoch, 'step': step, 'loss': loss.item()})\n",
        "\n",
        "            if completed_steps >= max_train_steps:\n",
        "                break\n",
        "\n",
        "        \n",
        "        accelerator.wait_for_everyone()\n",
        "        unwrapped_model = accelerator.unwrap_model(model)\n",
        "        unwrapped_model.save_pretrained(output_dir + '/epoch_' + str(epoch+19) + '/', save_function=accelerator.save)\n",
        "    "
      ]
    },
    {
      "cell_type": "code",
      "execution_count": 26,
      "metadata": {
        "colab": {
          "base_uri": "https://localhost:8080/"
        },
        "id": "r7wYZg1nArO4",
        "outputId": "b2b60b15-a38c-4a27-e5f2-2cecfad30b29"
      },
      "outputs": [
        {
          "name": "stderr",
          "output_type": "stream",
          "text": [
            "Epoch:   0%|          | 0/32 [00:00<?, ?it/s]C:\\Users\\lin\\AppData\\Local\\Temp\\ipykernel_20336\\1417647038.py:6: UserWarning: To copy construct from a tensor, it is recommended to use sourceTensor.clone().detach() or sourceTensor.clone().detach().requires_grad_(True), rather than torch.tensor(sourceTensor).\n",
            "  return {key: torch.tensor(val[idx]) for key, val in self.encodings.items()}\n"
          ]
        },
        {
          "name": "stdout",
          "output_type": "stream",
          "text": [
            "{'epoch': 0, 'step': 0, 'loss': 0.1907489150762558}\n"
          ]
        },
        {
          "name": "stderr",
          "output_type": "stream",
          "text": []
        },
        {
          "name": "stdout",
          "output_type": "stream",
          "text": [
            "{'epoch': 0, 'step': 1000, 'loss': 0.11359620094299316}\n"
          ]
        },
        {
          "name": "stderr",
          "output_type": "stream",
          "text": []
        },
        {
          "name": "stdout",
          "output_type": "stream",
          "text": [
            "{'epoch': 0, 'step': 2000, 'loss': 0.24448923766613007}\n"
          ]
        },
        {
          "name": "stderr",
          "output_type": "stream",
          "text": []
        },
        {
          "name": "stdout",
          "output_type": "stream",
          "text": [
            "{'epoch': 0, 'step': 3000, 'loss': 0.08173388987779617}\n"
          ]
        },
        {
          "name": "stderr",
          "output_type": "stream",
          "text": []
        },
        {
          "name": "stdout",
          "output_type": "stream",
          "text": [
            "{'epoch': 0, 'step': 4000, 'loss': 0.12791691720485687}\n"
          ]
        },
        {
          "name": "stderr",
          "output_type": "stream",
          "text": [
            "\n"
          ]
        },
        {
          "name": "stdout",
          "output_type": "stream",
          "text": [
            "{'epoch': 0, 'step': 5000, 'loss': 0.04888112097978592}\n"
          ]
        },
        {
          "name": "stderr",
          "output_type": "stream",
          "text": [
            "Iteration:  13%|█▎        | 5003/38003 [30:08<1:22:35,  6.66it/s]\u001b[A\n"
          ]
        },
        {
          "name": "stdout",
          "output_type": "stream",
          "text": [
            "{'epoch': 0, 'step': 6000, 'loss': 0.09331114590167999}\n"
          ]
        },
        {
          "name": "stderr",
          "output_type": "stream",
          "text": [
            "Iteration:  16%|█▌        | 6003/38003 [32:53<1:19:50,  6.68it/s]\u001b[A\n"
          ]
        },
        {
          "name": "stdout",
          "output_type": "stream",
          "text": [
            "{'epoch': 0, 'step': 7000, 'loss': 0.05253022909164429}\n"
          ]
        },
        {
          "name": "stderr",
          "output_type": "stream",
          "text": [
            "Iteration:  18%|█▊        | 7003/38003 [35:33<1:20:13,  6.44it/s]\u001b[A"
          ]
        },
        {
          "name": "stdout",
          "output_type": "stream",
          "text": [
            "{'epoch': 0, 'step': 8000, 'loss': 0.08341678231954575}\n"
          ]
        },
        {
          "name": "stderr",
          "output_type": "stream",
          "text": [
            "\n"
          ]
        },
        {
          "name": "stdout",
          "output_type": "stream",
          "text": [
            "{'epoch': 0, 'step': 9000, 'loss': 0.13115644454956055}\n"
          ]
        },
        {
          "name": "stderr",
          "output_type": "stream",
          "text": [
            "Iteration:  24%|██▎       | 9003/38003 [40:52<1:12:39,  6.65it/s]\u001b[A"
          ]
        },
        {
          "name": "stdout",
          "output_type": "stream",
          "text": [
            "{'epoch': 0, 'step': 10000, 'loss': 0.14808732271194458}\n"
          ]
        },
        {
          "name": "stderr",
          "output_type": "stream",
          "text": [
            "\n"
          ]
        },
        {
          "name": "stdout",
          "output_type": "stream",
          "text": [
            "{'epoch': 0, 'step': 11000, 'loss': 0.2215244621038437}\n"
          ]
        },
        {
          "name": "stderr",
          "output_type": "stream",
          "text": [
            "Iteration:  29%|██▉       | 11003/38003 [46:05<57:47,  7.79it/s]  \u001b[A\n"
          ]
        },
        {
          "name": "stdout",
          "output_type": "stream",
          "text": [
            "{'epoch': 0, 'step': 12000, 'loss': 0.11633063107728958}\n"
          ]
        },
        {
          "name": "stderr",
          "output_type": "stream",
          "text": [
            "Iteration:  32%|███▏      | 12003/38003 [48:18<55:22,  7.82it/s]  \u001b[A\n"
          ]
        },
        {
          "name": "stdout",
          "output_type": "stream",
          "text": [
            "{'epoch': 0, 'step': 13000, 'loss': 0.08662973344326019}\n"
          ]
        },
        {
          "name": "stderr",
          "output_type": "stream",
          "text": [
            "Iteration:  34%|███▍      | 13003/38003 [50:32<53:12,  7.83it/s]  \u001b[A"
          ]
        },
        {
          "name": "stdout",
          "output_type": "stream",
          "text": [
            "{'epoch': 0, 'step': 14000, 'loss': 0.11400569975376129}\n"
          ]
        },
        {
          "name": "stderr",
          "output_type": "stream",
          "text": []
        },
        {
          "name": "stdout",
          "output_type": "stream",
          "text": [
            "{'epoch': 0, 'step': 15000, 'loss': 0.15645281970500946}\n"
          ]
        },
        {
          "name": "stderr",
          "output_type": "stream",
          "text": []
        },
        {
          "name": "stdout",
          "output_type": "stream",
          "text": [
            "{'epoch': 0, 'step': 16000, 'loss': 0.14935177564620972}\n"
          ]
        },
        {
          "name": "stderr",
          "output_type": "stream",
          "text": [
            "\n"
          ]
        },
        {
          "name": "stdout",
          "output_type": "stream",
          "text": [
            "{'epoch': 0, 'step': 17000, 'loss': 0.09136778116226196}\n"
          ]
        },
        {
          "name": "stderr",
          "output_type": "stream",
          "text": [
            "Iteration:  45%|████▍     | 17003/38003 [1:01:56<1:05:58,  5.30it/s]\u001b[A"
          ]
        },
        {
          "name": "stdout",
          "output_type": "stream",
          "text": [
            "{'epoch': 0, 'step': 18000, 'loss': 0.1661992073059082}\n"
          ]
        },
        {
          "name": "stderr",
          "output_type": "stream",
          "text": []
        },
        {
          "name": "stdout",
          "output_type": "stream",
          "text": [
            "{'epoch': 0, 'step': 19000, 'loss': 0.13371150195598602}\n"
          ]
        },
        {
          "name": "stderr",
          "output_type": "stream",
          "text": []
        },
        {
          "name": "stdout",
          "output_type": "stream",
          "text": [
            "{'epoch': 0, 'step': 20000, 'loss': 0.08016292750835419}\n"
          ]
        },
        {
          "name": "stderr",
          "output_type": "stream",
          "text": []
        },
        {
          "name": "stdout",
          "output_type": "stream",
          "text": [
            "{'epoch': 0, 'step': 21000, 'loss': 0.18737243115901947}\n"
          ]
        },
        {
          "name": "stderr",
          "output_type": "stream",
          "text": []
        },
        {
          "name": "stdout",
          "output_type": "stream",
          "text": [
            "{'epoch': 0, 'step': 22000, 'loss': 0.20922963321208954}\n"
          ]
        },
        {
          "name": "stderr",
          "output_type": "stream",
          "text": []
        },
        {
          "name": "stdout",
          "output_type": "stream",
          "text": [
            "{'epoch': 0, 'step': 23000, 'loss': 0.10498148202896118}\n"
          ]
        },
        {
          "name": "stderr",
          "output_type": "stream",
          "text": []
        },
        {
          "name": "stdout",
          "output_type": "stream",
          "text": [
            "{'epoch': 0, 'step': 24000, 'loss': 0.11501277983188629}\n"
          ]
        },
        {
          "name": "stderr",
          "output_type": "stream",
          "text": []
        },
        {
          "name": "stdout",
          "output_type": "stream",
          "text": [
            "{'epoch': 0, 'step': 25000, 'loss': 0.14300455152988434}\n"
          ]
        },
        {
          "name": "stderr",
          "output_type": "stream",
          "text": [
            "\n"
          ]
        },
        {
          "name": "stdout",
          "output_type": "stream",
          "text": [
            "{'epoch': 0, 'step': 26000, 'loss': 0.14993347227573395}\n"
          ]
        },
        {
          "name": "stderr",
          "output_type": "stream",
          "text": [
            "Iteration:  68%|██████▊   | 26003/38003 [1:40:42<25:25,  7.87it/s]\u001b[A"
          ]
        },
        {
          "name": "stdout",
          "output_type": "stream",
          "text": [
            "{'epoch': 0, 'step': 27000, 'loss': 0.20433267951011658}\n"
          ]
        },
        {
          "name": "stderr",
          "output_type": "stream",
          "text": []
        },
        {
          "name": "stdout",
          "output_type": "stream",
          "text": [
            "{'epoch': 0, 'step': 28000, 'loss': 0.05274614691734314}\n"
          ]
        },
        {
          "name": "stderr",
          "output_type": "stream",
          "text": []
        },
        {
          "name": "stdout",
          "output_type": "stream",
          "text": [
            "{'epoch': 0, 'step': 29000, 'loss': 0.11408872902393341}\n"
          ]
        },
        {
          "name": "stderr",
          "output_type": "stream",
          "text": [
            "\n"
          ]
        },
        {
          "name": "stdout",
          "output_type": "stream",
          "text": [
            "{'epoch': 0, 'step': 30000, 'loss': 0.059986356645822525}\n"
          ]
        },
        {
          "name": "stderr",
          "output_type": "stream",
          "text": [
            "Iteration:  79%|███████▉  | 30003/38003 [1:49:48<17:00,  7.84it/s]\u001b[A"
          ]
        },
        {
          "name": "stdout",
          "output_type": "stream",
          "text": [
            "{'epoch': 0, 'step': 31000, 'loss': 0.084478460252285}\n"
          ]
        },
        {
          "name": "stderr",
          "output_type": "stream",
          "text": []
        },
        {
          "name": "stdout",
          "output_type": "stream",
          "text": [
            "{'epoch': 0, 'step': 32000, 'loss': 0.16910964250564575}\n"
          ]
        },
        {
          "name": "stderr",
          "output_type": "stream",
          "text": [
            "\n"
          ]
        },
        {
          "name": "stdout",
          "output_type": "stream",
          "text": [
            "{'epoch': 0, 'step': 33000, 'loss': 0.16653317213058472}\n"
          ]
        },
        {
          "name": "stderr",
          "output_type": "stream",
          "text": [
            "Iteration:  87%|████████▋ | 33003/38003 [2:02:19<11:09,  7.47it/s]\u001b[A\n"
          ]
        },
        {
          "name": "stdout",
          "output_type": "stream",
          "text": [
            "{'epoch': 0, 'step': 34000, 'loss': 0.13547566533088684}\n"
          ]
        },
        {
          "name": "stderr",
          "output_type": "stream",
          "text": [
            "Iteration:  89%|████████▉ | 34003/38003 [2:04:37<08:28,  7.86it/s]\u001b[A"
          ]
        },
        {
          "name": "stdout",
          "output_type": "stream",
          "text": [
            "{'epoch': 0, 'step': 35000, 'loss': 0.24043135344982147}\n"
          ]
        },
        {
          "name": "stderr",
          "output_type": "stream",
          "text": [
            "\n"
          ]
        },
        {
          "name": "stdout",
          "output_type": "stream",
          "text": [
            "{'epoch': 0, 'step': 36000, 'loss': 0.2103308141231537}\n"
          ]
        },
        {
          "name": "stderr",
          "output_type": "stream",
          "text": [
            "Iteration:  95%|█████████▍| 36003/38003 [2:09:13<05:23,  6.19it/s]\u001b[A\n"
          ]
        },
        {
          "name": "stdout",
          "output_type": "stream",
          "text": [
            "{'epoch': 0, 'step': 37000, 'loss': 0.11381872743368149}\n"
          ]
        },
        {
          "name": "stderr",
          "output_type": "stream",
          "text": [
            "Iteration:  97%|█████████▋| 37003/38003 [2:12:34<02:07,  7.85it/s]\u001b[A"
          ]
        },
        {
          "name": "stdout",
          "output_type": "stream",
          "text": [
            "{'epoch': 0, 'step': 38000, 'loss': 0.20385466516017914}\n"
          ]
        },
        {
          "name": "stderr",
          "output_type": "stream",
          "text": [
            "Iteration: 100%|██████████| 38003/38003 [2:14:47<00:00,  4.70it/s]\n",
            "Epoch:   3%|▎         | 1/32 [2:14:47<69:38:38, 8087.69s/it]\n"
          ]
        },
        {
          "name": "stdout",
          "output_type": "stream",
          "text": [
            "{'epoch': 1, 'step': 0, 'loss': 0.09410269558429718}\n"
          ]
        },
        {
          "name": "stderr",
          "output_type": "stream",
          "text": [
            "Iteration:   0%|          | 3/38003 [00:00<1:09:41,  9.09it/s]\u001b[A\n"
          ]
        },
        {
          "name": "stdout",
          "output_type": "stream",
          "text": [
            "{'epoch': 1, 'step': 1000, 'loss': 0.1972431242465973}\n"
          ]
        },
        {
          "name": "stderr",
          "output_type": "stream",
          "text": [
            "Iteration:   3%|▎         | 1003/38003 [02:13<1:18:28,  7.86it/s]\u001b[A\n"
          ]
        },
        {
          "name": "stdout",
          "output_type": "stream",
          "text": [
            "{'epoch': 1, 'step': 2000, 'loss': 0.09337332099676132}\n"
          ]
        },
        {
          "name": "stderr",
          "output_type": "stream",
          "text": [
            "Iteration:   5%|▌         | 2003/38003 [04:26<1:16:39,  7.83it/s]\u001b[A\n"
          ]
        },
        {
          "name": "stdout",
          "output_type": "stream",
          "text": [
            "{'epoch': 1, 'step': 3000, 'loss': 0.12908527255058289}\n"
          ]
        },
        {
          "name": "stderr",
          "output_type": "stream",
          "text": [
            "Iteration:   8%|▊         | 3003/38003 [06:39<1:14:04,  7.88it/s]\u001b[A\n"
          ]
        },
        {
          "name": "stdout",
          "output_type": "stream",
          "text": [
            "{'epoch': 1, 'step': 4000, 'loss': 0.08641497045755386}\n"
          ]
        },
        {
          "name": "stderr",
          "output_type": "stream",
          "text": [
            "Iteration:  11%|█         | 4003/38003 [08:52<1:12:48,  7.78it/s]\u001b[A\n"
          ]
        },
        {
          "name": "stdout",
          "output_type": "stream",
          "text": [
            "{'epoch': 1, 'step': 5000, 'loss': 0.13001705706119537}\n"
          ]
        },
        {
          "name": "stderr",
          "output_type": "stream",
          "text": [
            "Iteration:  13%|█▎        | 5003/38003 [11:05<1:10:38,  7.79it/s]\u001b[A\n"
          ]
        },
        {
          "name": "stdout",
          "output_type": "stream",
          "text": [
            "{'epoch': 1, 'step': 6000, 'loss': 0.08102846145629883}\n"
          ]
        },
        {
          "name": "stderr",
          "output_type": "stream",
          "text": [
            "Iteration:  16%|█▌        | 6003/38003 [13:18<1:08:29,  7.79it/s]\u001b[A\n"
          ]
        },
        {
          "name": "stdout",
          "output_type": "stream",
          "text": [
            "{'epoch': 1, 'step': 7000, 'loss': 0.06701486557722092}\n"
          ]
        },
        {
          "name": "stderr",
          "output_type": "stream",
          "text": [
            "Iteration:  18%|█▊        | 7003/38003 [15:32<1:05:59,  7.83it/s]\u001b[A"
          ]
        },
        {
          "name": "stdout",
          "output_type": "stream",
          "text": [
            "{'epoch': 1, 'step': 8000, 'loss': 0.08096738904714584}\n"
          ]
        },
        {
          "name": "stderr",
          "output_type": "stream",
          "text": []
        },
        {
          "name": "stdout",
          "output_type": "stream",
          "text": [
            "{'epoch': 1, 'step': 9000, 'loss': 0.12739184498786926}\n"
          ]
        },
        {
          "name": "stderr",
          "output_type": "stream",
          "text": []
        },
        {
          "name": "stdout",
          "output_type": "stream",
          "text": [
            "{'epoch': 1, 'step': 10000, 'loss': 0.12077342718839645}\n"
          ]
        },
        {
          "name": "stderr",
          "output_type": "stream",
          "text": []
        },
        {
          "name": "stdout",
          "output_type": "stream",
          "text": [
            "{'epoch': 1, 'step': 11000, 'loss': 0.0925476998090744}\n"
          ]
        },
        {
          "name": "stderr",
          "output_type": "stream",
          "text": []
        },
        {
          "name": "stdout",
          "output_type": "stream",
          "text": [
            "{'epoch': 1, 'step': 12000, 'loss': 0.1676214039325714}\n"
          ]
        },
        {
          "name": "stderr",
          "output_type": "stream",
          "text": []
        },
        {
          "name": "stdout",
          "output_type": "stream",
          "text": [
            "{'epoch': 1, 'step': 13000, 'loss': 0.03903379663825035}\n"
          ]
        },
        {
          "name": "stderr",
          "output_type": "stream",
          "text": []
        },
        {
          "name": "stdout",
          "output_type": "stream",
          "text": [
            "{'epoch': 1, 'step': 14000, 'loss': 0.13790249824523926}\n"
          ]
        },
        {
          "name": "stderr",
          "output_type": "stream",
          "text": []
        },
        {
          "name": "stdout",
          "output_type": "stream",
          "text": [
            "{'epoch': 1, 'step': 15000, 'loss': 0.08892369270324707}\n"
          ]
        },
        {
          "name": "stderr",
          "output_type": "stream",
          "text": []
        },
        {
          "name": "stdout",
          "output_type": "stream",
          "text": [
            "{'epoch': 1, 'step': 16000, 'loss': 0.12359114736318588}\n"
          ]
        },
        {
          "name": "stderr",
          "output_type": "stream",
          "text": [
            "\n"
          ]
        },
        {
          "name": "stdout",
          "output_type": "stream",
          "text": [
            "{'epoch': 1, 'step': 17000, 'loss': 0.059350576251745224}\n"
          ]
        },
        {
          "name": "stderr",
          "output_type": "stream",
          "text": [
            "Iteration:  45%|████▍     | 17003/38003 [58:41<44:44,  7.82it/s]\u001b[A\n"
          ]
        },
        {
          "name": "stdout",
          "output_type": "stream",
          "text": [
            "{'epoch': 1, 'step': 18000, 'loss': 0.12973302602767944}\n"
          ]
        },
        {
          "name": "stderr",
          "output_type": "stream",
          "text": [
            "Iteration:  47%|████▋     | 18003/38003 [1:00:54<42:26,  7.85it/s]\u001b[A\n"
          ]
        },
        {
          "name": "stdout",
          "output_type": "stream",
          "text": [
            "{'epoch': 1, 'step': 19000, 'loss': 0.0619945302605629}\n"
          ]
        },
        {
          "name": "stderr",
          "output_type": "stream",
          "text": [
            "Iteration:  50%|█████     | 19003/38003 [1:03:06<40:23,  7.84it/s]\u001b[A"
          ]
        },
        {
          "name": "stdout",
          "output_type": "stream",
          "text": [
            "{'epoch': 1, 'step': 20000, 'loss': 0.15085959434509277}\n"
          ]
        },
        {
          "name": "stderr",
          "output_type": "stream",
          "text": []
        },
        {
          "name": "stdout",
          "output_type": "stream",
          "text": [
            "{'epoch': 1, 'step': 21000, 'loss': 0.2285674810409546}\n"
          ]
        },
        {
          "name": "stderr",
          "output_type": "stream",
          "text": [
            "\n",
            "Iteration:  58%|█████▊    | 22003/38003 [1:09:44<33:54,  7.87it/s]"
          ]
        },
        {
          "name": "stdout",
          "output_type": "stream",
          "text": [
            "{'epoch': 1, 'step': 22000, 'loss': 0.14949190616607666}\n"
          ]
        },
        {
          "name": "stderr",
          "output_type": "stream",
          "text": [
            "\u001b[A"
          ]
        },
        {
          "name": "stdout",
          "output_type": "stream",
          "text": [
            "{'epoch': 1, 'step': 23000, 'loss': 0.14986592531204224}\n"
          ]
        },
        {
          "name": "stderr",
          "output_type": "stream",
          "text": []
        },
        {
          "name": "stdout",
          "output_type": "stream",
          "text": [
            "{'epoch': 1, 'step': 24000, 'loss': 0.1915660798549652}\n"
          ]
        },
        {
          "name": "stderr",
          "output_type": "stream",
          "text": []
        },
        {
          "name": "stdout",
          "output_type": "stream",
          "text": [
            "{'epoch': 1, 'step': 25000, 'loss': 0.2426975816488266}\n"
          ]
        },
        {
          "name": "stderr",
          "output_type": "stream",
          "text": []
        },
        {
          "name": "stdout",
          "output_type": "stream",
          "text": [
            "{'epoch': 1, 'step': 26000, 'loss': 0.06507838517427444}\n"
          ]
        },
        {
          "name": "stderr",
          "output_type": "stream",
          "text": []
        },
        {
          "name": "stdout",
          "output_type": "stream",
          "text": [
            "{'epoch': 1, 'step': 27000, 'loss': 0.1001686155796051}\n"
          ]
        },
        {
          "name": "stderr",
          "output_type": "stream",
          "text": []
        },
        {
          "name": "stdout",
          "output_type": "stream",
          "text": [
            "{'epoch': 1, 'step': 28000, 'loss': 0.07982519268989563}\n"
          ]
        },
        {
          "name": "stderr",
          "output_type": "stream",
          "text": [
            "\n"
          ]
        },
        {
          "name": "stdout",
          "output_type": "stream",
          "text": [
            "{'epoch': 1, 'step': 29000, 'loss': 0.09078623354434967}\n"
          ]
        },
        {
          "name": "stderr",
          "output_type": "stream",
          "text": [
            "Iteration:  76%|███████▋  | 29003/38003 [1:40:20<20:07,  7.45it/s]\u001b[A"
          ]
        },
        {
          "name": "stdout",
          "output_type": "stream",
          "text": [
            "{'epoch': 1, 'step': 30000, 'loss': 0.09578250348567963}\n"
          ]
        },
        {
          "name": "stderr",
          "output_type": "stream",
          "text": []
        },
        {
          "name": "stdout",
          "output_type": "stream",
          "text": [
            "{'epoch': 1, 'step': 31000, 'loss': 0.1791965216398239}\n"
          ]
        },
        {
          "name": "stderr",
          "output_type": "stream",
          "text": []
        },
        {
          "name": "stdout",
          "output_type": "stream",
          "text": [
            "{'epoch': 1, 'step': 32000, 'loss': 0.18521161377429962}\n"
          ]
        },
        {
          "name": "stderr",
          "output_type": "stream",
          "text": [
            "\n"
          ]
        },
        {
          "name": "stdout",
          "output_type": "stream",
          "text": [
            "{'epoch': 1, 'step': 33000, 'loss': 0.15396791696548462}\n"
          ]
        },
        {
          "name": "stderr",
          "output_type": "stream",
          "text": [
            "Iteration:  87%|████████▋ | 33003/38003 [1:56:05<10:52,  7.67it/s]\u001b[A\n"
          ]
        },
        {
          "name": "stdout",
          "output_type": "stream",
          "text": [
            "{'epoch': 1, 'step': 34000, 'loss': 0.09481657296419144}\n"
          ]
        },
        {
          "name": "stderr",
          "output_type": "stream",
          "text": [
            "Iteration:  89%|████████▉ | 34003/38003 [1:58:21<08:41,  7.67it/s]\u001b[A\n"
          ]
        },
        {
          "name": "stdout",
          "output_type": "stream",
          "text": [
            "{'epoch': 1, 'step': 35000, 'loss': 0.11508667469024658}\n"
          ]
        },
        {
          "name": "stderr",
          "output_type": "stream",
          "text": [
            "Iteration:  92%|█████████▏| 35003/38003 [2:00:37<06:31,  7.66it/s]\u001b[A"
          ]
        },
        {
          "name": "stdout",
          "output_type": "stream",
          "text": [
            "{'epoch': 1, 'step': 36000, 'loss': 0.07954052835702896}\n"
          ]
        },
        {
          "name": "stderr",
          "output_type": "stream",
          "text": [
            "\n"
          ]
        },
        {
          "name": "stdout",
          "output_type": "stream",
          "text": [
            "{'epoch': 1, 'step': 37000, 'loss': 0.1419517695903778}\n"
          ]
        },
        {
          "name": "stderr",
          "output_type": "stream",
          "text": [
            "Iteration:  97%|█████████▋| 37003/38003 [2:05:08<02:10,  7.69it/s]\u001b[A"
          ]
        },
        {
          "name": "stdout",
          "output_type": "stream",
          "text": [
            "{'epoch': 1, 'step': 38000, 'loss': 0.12310104817152023}\n"
          ]
        },
        {
          "name": "stderr",
          "output_type": "stream",
          "text": [
            "Iteration: 100%|██████████| 38003/38003 [2:07:24<00:00,  4.97it/s]\n",
            "Epoch:   6%|▋         | 2/32 [4:22:13<65:13:46, 7827.55s/it]\n"
          ]
        },
        {
          "name": "stdout",
          "output_type": "stream",
          "text": [
            "{'epoch': 2, 'step': 0, 'loss': 0.13149967789649963}\n"
          ]
        },
        {
          "name": "stderr",
          "output_type": "stream",
          "text": [
            "Iteration:   0%|          | 3/38003 [00:00<1:08:19,  9.27it/s]\u001b[A\n"
          ]
        },
        {
          "name": "stdout",
          "output_type": "stream",
          "text": [
            "{'epoch': 2, 'step': 1000, 'loss': 0.12311526387929916}\n"
          ]
        },
        {
          "name": "stderr",
          "output_type": "stream",
          "text": [
            "Iteration:   3%|▎         | 1003/38003 [02:16<1:20:49,  7.63it/s]\u001b[A\n"
          ]
        },
        {
          "name": "stdout",
          "output_type": "stream",
          "text": [
            "{'epoch': 2, 'step': 2000, 'loss': 0.021375184878706932}\n"
          ]
        },
        {
          "name": "stderr",
          "output_type": "stream",
          "text": [
            "Iteration:   5%|▌         | 2003/38003 [04:32<1:17:53,  7.70it/s]\u001b[A\n"
          ]
        },
        {
          "name": "stdout",
          "output_type": "stream",
          "text": [
            "{'epoch': 2, 'step': 3000, 'loss': 0.10325565189123154}\n"
          ]
        },
        {
          "name": "stderr",
          "output_type": "stream",
          "text": [
            "Iteration:   8%|▊         | 3003/38003 [06:47<1:15:43,  7.70it/s]\u001b[A\n"
          ]
        },
        {
          "name": "stdout",
          "output_type": "stream",
          "text": [
            "{'epoch': 2, 'step': 4000, 'loss': 0.05137455090880394}\n"
          ]
        },
        {
          "name": "stderr",
          "output_type": "stream",
          "text": [
            "Iteration:  11%|█         | 4003/38003 [09:04<1:14:14,  7.63it/s]\u001b[A\n"
          ]
        },
        {
          "name": "stdout",
          "output_type": "stream",
          "text": [
            "{'epoch': 2, 'step': 5000, 'loss': 0.0942777767777443}\n"
          ]
        },
        {
          "name": "stderr",
          "output_type": "stream",
          "text": [
            "Iteration:  13%|█▎        | 5003/38003 [11:19<1:11:32,  7.69it/s]\u001b[A\n"
          ]
        },
        {
          "name": "stdout",
          "output_type": "stream",
          "text": [
            "{'epoch': 2, 'step': 6000, 'loss': 0.14525289833545685}\n"
          ]
        },
        {
          "name": "stderr",
          "output_type": "stream",
          "text": [
            "Iteration:  16%|█▌        | 6003/38003 [13:35<1:09:48,  7.64it/s]\u001b[A\n"
          ]
        },
        {
          "name": "stdout",
          "output_type": "stream",
          "text": [
            "{'epoch': 2, 'step': 7000, 'loss': 0.07605332881212234}\n"
          ]
        },
        {
          "name": "stderr",
          "output_type": "stream",
          "text": [
            "Iteration:  18%|█▊        | 7003/38003 [15:51<1:07:34,  7.65it/s]\u001b[A\n"
          ]
        },
        {
          "name": "stdout",
          "output_type": "stream",
          "text": [
            "{'epoch': 2, 'step': 8000, 'loss': 0.024392222985625267}\n"
          ]
        },
        {
          "name": "stderr",
          "output_type": "stream",
          "text": [
            "Iteration:  21%|██        | 8003/38003 [18:07<1:05:15,  7.66it/s]\u001b[A\n"
          ]
        },
        {
          "name": "stdout",
          "output_type": "stream",
          "text": [
            "{'epoch': 2, 'step': 9000, 'loss': 0.04512980207800865}\n"
          ]
        },
        {
          "name": "stderr",
          "output_type": "stream",
          "text": [
            "Iteration:  24%|██▎       | 9003/38003 [20:23<1:03:06,  7.66it/s]\u001b[A\n"
          ]
        },
        {
          "name": "stdout",
          "output_type": "stream",
          "text": [
            "{'epoch': 2, 'step': 10000, 'loss': 0.04907243698835373}\n"
          ]
        },
        {
          "name": "stderr",
          "output_type": "stream",
          "text": [
            "Iteration:  26%|██▋       | 10003/38003 [22:39<1:00:41,  7.69it/s]\u001b[A\n"
          ]
        },
        {
          "name": "stdout",
          "output_type": "stream",
          "text": [
            "{'epoch': 2, 'step': 11000, 'loss': 0.0881466269493103}\n"
          ]
        },
        {
          "name": "stderr",
          "output_type": "stream",
          "text": [
            "Iteration:  29%|██▉       | 11003/38003 [24:54<58:40,  7.67it/s]  \u001b[A"
          ]
        },
        {
          "name": "stdout",
          "output_type": "stream",
          "text": [
            "{'epoch': 2, 'step': 12000, 'loss': 0.12976697087287903}\n"
          ]
        },
        {
          "name": "stderr",
          "output_type": "stream",
          "text": [
            "\n"
          ]
        },
        {
          "name": "stdout",
          "output_type": "stream",
          "text": [
            "{'epoch': 2, 'step': 13000, 'loss': 0.11250177025794983}\n"
          ]
        },
        {
          "name": "stderr",
          "output_type": "stream",
          "text": [
            "Iteration:  34%|███▍      | 13003/38003 [29:26<54:14,  7.68it/s]  \u001b[A\n"
          ]
        },
        {
          "name": "stdout",
          "output_type": "stream",
          "text": [
            "{'epoch': 2, 'step': 14000, 'loss': 0.04645298048853874}\n"
          ]
        },
        {
          "name": "stderr",
          "output_type": "stream",
          "text": [
            "Iteration:  37%|███▋      | 14003/38003 [31:42<51:31,  7.76it/s]  \u001b[A\n"
          ]
        },
        {
          "name": "stdout",
          "output_type": "stream",
          "text": [
            "{'epoch': 2, 'step': 15000, 'loss': 0.10496821254491806}\n"
          ]
        },
        {
          "name": "stderr",
          "output_type": "stream",
          "text": [
            "Iteration:  39%|███▉      | 15003/38003 [33:58<49:40,  7.72it/s]  \u001b[A\n"
          ]
        },
        {
          "name": "stdout",
          "output_type": "stream",
          "text": [
            "{'epoch': 2, 'step': 16000, 'loss': 0.11396405100822449}\n"
          ]
        },
        {
          "name": "stderr",
          "output_type": "stream",
          "text": [
            "Iteration:  42%|████▏     | 16003/38003 [36:14<47:46,  7.68it/s]\u001b[A\n"
          ]
        },
        {
          "name": "stdout",
          "output_type": "stream",
          "text": [
            "{'epoch': 2, 'step': 17000, 'loss': 0.053253885358572006}\n"
          ]
        },
        {
          "name": "stderr",
          "output_type": "stream",
          "text": [
            "Iteration:  45%|████▍     | 17003/38003 [38:30<45:42,  7.66it/s]\u001b[A\n"
          ]
        },
        {
          "name": "stdout",
          "output_type": "stream",
          "text": [
            "{'epoch': 2, 'step': 18000, 'loss': 0.029121091589331627}\n"
          ]
        },
        {
          "name": "stderr",
          "output_type": "stream",
          "text": [
            "Iteration:  47%|████▋     | 18003/38003 [40:45<43:24,  7.68it/s]\u001b[A\n"
          ]
        },
        {
          "name": "stdout",
          "output_type": "stream",
          "text": [
            "{'epoch': 2, 'step': 19000, 'loss': 0.19967511296272278}\n"
          ]
        },
        {
          "name": "stderr",
          "output_type": "stream",
          "text": [
            "Iteration:  50%|█████     | 19003/38003 [43:01<41:23,  7.65it/s]\u001b[A\n"
          ]
        },
        {
          "name": "stdout",
          "output_type": "stream",
          "text": [
            "{'epoch': 2, 'step': 20000, 'loss': 0.13131359219551086}\n"
          ]
        },
        {
          "name": "stderr",
          "output_type": "stream",
          "text": [
            "Iteration:  53%|█████▎    | 20003/38003 [45:17<38:57,  7.70it/s]\u001b[A\n"
          ]
        },
        {
          "name": "stdout",
          "output_type": "stream",
          "text": [
            "{'epoch': 2, 'step': 21000, 'loss': 0.10649726539850235}\n"
          ]
        },
        {
          "name": "stderr",
          "output_type": "stream",
          "text": [
            "Iteration:  55%|█████▌    | 21003/38003 [47:33<36:50,  7.69it/s]\u001b[A\n"
          ]
        },
        {
          "name": "stdout",
          "output_type": "stream",
          "text": [
            "{'epoch': 2, 'step': 22000, 'loss': 0.11405087262392044}\n"
          ]
        },
        {
          "name": "stderr",
          "output_type": "stream",
          "text": [
            "Iteration:  58%|█████▊    | 22003/38003 [49:49<34:39,  7.70it/s]\u001b[A"
          ]
        },
        {
          "name": "stdout",
          "output_type": "stream",
          "text": [
            "{'epoch': 2, 'step': 23000, 'loss': 0.05856442078948021}\n"
          ]
        },
        {
          "name": "stderr",
          "output_type": "stream",
          "text": []
        },
        {
          "name": "stdout",
          "output_type": "stream",
          "text": [
            "{'epoch': 2, 'step': 24000, 'loss': 0.1523379534482956}\n"
          ]
        },
        {
          "name": "stderr",
          "output_type": "stream",
          "text": [
            "\n"
          ]
        },
        {
          "name": "stdout",
          "output_type": "stream",
          "text": [
            "{'epoch': 2, 'step': 25000, 'loss': 0.09707648307085037}\n"
          ]
        },
        {
          "name": "stderr",
          "output_type": "stream",
          "text": [
            "Iteration:  66%|██████▌   | 25003/38003 [56:36<28:15,  7.67it/s]\u001b[A"
          ]
        },
        {
          "name": "stdout",
          "output_type": "stream",
          "text": [
            "{'epoch': 2, 'step': 26000, 'loss': 0.08130393177270889}\n"
          ]
        },
        {
          "name": "stderr",
          "output_type": "stream",
          "text": []
        },
        {
          "name": "stdout",
          "output_type": "stream",
          "text": [
            "{'epoch': 2, 'step': 27000, 'loss': 0.10268917679786682}\n"
          ]
        },
        {
          "name": "stderr",
          "output_type": "stream",
          "text": []
        },
        {
          "name": "stdout",
          "output_type": "stream",
          "text": [
            "{'epoch': 2, 'step': 28000, 'loss': 0.1183074489235878}\n"
          ]
        },
        {
          "name": "stderr",
          "output_type": "stream",
          "text": []
        },
        {
          "name": "stdout",
          "output_type": "stream",
          "text": [
            "{'epoch': 2, 'step': 29000, 'loss': 0.0555415078997612}\n"
          ]
        },
        {
          "name": "stderr",
          "output_type": "stream",
          "text": []
        },
        {
          "name": "stdout",
          "output_type": "stream",
          "text": [
            "{'epoch': 2, 'step': 30000, 'loss': 0.11916349083185196}\n"
          ]
        },
        {
          "name": "stderr",
          "output_type": "stream",
          "text": []
        },
        {
          "name": "stdout",
          "output_type": "stream",
          "text": [
            "{'epoch': 2, 'step': 31000, 'loss': 0.02748642861843109}\n"
          ]
        },
        {
          "name": "stderr",
          "output_type": "stream",
          "text": []
        },
        {
          "name": "stdout",
          "output_type": "stream",
          "text": [
            "{'epoch': 2, 'step': 32000, 'loss': 0.1271345466375351}\n"
          ]
        },
        {
          "name": "stderr",
          "output_type": "stream",
          "text": [
            "\n"
          ]
        },
        {
          "name": "stdout",
          "output_type": "stream",
          "text": [
            "{'epoch': 2, 'step': 33000, 'loss': 0.17438919842243195}\n"
          ]
        },
        {
          "name": "stderr",
          "output_type": "stream",
          "text": [
            "Iteration:  87%|████████▋ | 33003/38003 [1:30:18<10:51,  7.68it/s]\u001b[A"
          ]
        },
        {
          "name": "stdout",
          "output_type": "stream",
          "text": [
            "{'epoch': 2, 'step': 34000, 'loss': 0.09067028760910034}\n"
          ]
        },
        {
          "name": "stderr",
          "output_type": "stream",
          "text": [
            "\n"
          ]
        },
        {
          "name": "stdout",
          "output_type": "stream",
          "text": [
            "{'epoch': 2, 'step': 35000, 'loss': 0.1435616910457611}\n"
          ]
        },
        {
          "name": "stderr",
          "output_type": "stream",
          "text": [
            "Iteration:  92%|█████████▏| 35003/38003 [1:34:50<06:32,  7.65it/s]\u001b[A\n"
          ]
        },
        {
          "name": "stdout",
          "output_type": "stream",
          "text": [
            "{'epoch': 2, 'step': 36000, 'loss': 0.14158444106578827}\n"
          ]
        },
        {
          "name": "stderr",
          "output_type": "stream",
          "text": [
            "Iteration:  95%|█████████▍| 36003/38003 [1:37:06<04:20,  7.67it/s]\u001b[A\n"
          ]
        },
        {
          "name": "stdout",
          "output_type": "stream",
          "text": [
            "{'epoch': 2, 'step': 37000, 'loss': 0.07060562074184418}\n"
          ]
        },
        {
          "name": "stderr",
          "output_type": "stream",
          "text": [
            "Iteration:  97%|█████████▋| 37003/38003 [1:39:22<02:10,  7.69it/s]\u001b[A"
          ]
        },
        {
          "name": "stdout",
          "output_type": "stream",
          "text": [
            "{'epoch': 2, 'step': 38000, 'loss': 0.07080117613077164}\n"
          ]
        },
        {
          "name": "stderr",
          "output_type": "stream",
          "text": [
            "Iteration: 100%|██████████| 38003/38003 [1:41:37<00:00,  6.23it/s]\n",
            "Epoch:   9%|▉         | 3/32 [6:03:51<56:41:41, 7037.99s/it]\n"
          ]
        },
        {
          "name": "stdout",
          "output_type": "stream",
          "text": [
            "{'epoch': 3, 'step': 0, 'loss': 0.1172713190317154}\n"
          ]
        },
        {
          "name": "stderr",
          "output_type": "stream",
          "text": [
            "Iteration:   0%|          | 3/38003 [00:00<1:06:54,  9.47it/s]\u001b[A\n"
          ]
        },
        {
          "name": "stdout",
          "output_type": "stream",
          "text": [
            "{'epoch': 3, 'step': 1000, 'loss': 0.13867546617984772}\n"
          ]
        },
        {
          "name": "stderr",
          "output_type": "stream",
          "text": [
            "Iteration:   3%|▎         | 1003/38003 [02:16<1:19:52,  7.72it/s]\u001b[A\n"
          ]
        },
        {
          "name": "stdout",
          "output_type": "stream",
          "text": [
            "{'epoch': 3, 'step': 2000, 'loss': 0.07433611154556274}\n"
          ]
        },
        {
          "name": "stderr",
          "output_type": "stream",
          "text": [
            "Iteration:   5%|▌         | 2003/38003 [04:31<1:18:31,  7.64it/s]\u001b[A\n"
          ]
        },
        {
          "name": "stdout",
          "output_type": "stream",
          "text": [
            "{'epoch': 3, 'step': 3000, 'loss': 0.08513777703046799}\n"
          ]
        },
        {
          "name": "stderr",
          "output_type": "stream",
          "text": [
            "Iteration:   8%|▊         | 3003/38003 [06:47<1:15:53,  7.69it/s]\u001b[A\n"
          ]
        },
        {
          "name": "stdout",
          "output_type": "stream",
          "text": [
            "{'epoch': 3, 'step': 4000, 'loss': 0.038292430341243744}\n"
          ]
        },
        {
          "name": "stderr",
          "output_type": "stream",
          "text": [
            "Iteration:  11%|█         | 4003/38003 [09:03<1:13:46,  7.68it/s]\u001b[A\n"
          ]
        },
        {
          "name": "stdout",
          "output_type": "stream",
          "text": [
            "{'epoch': 3, 'step': 5000, 'loss': 0.10071039944887161}\n"
          ]
        },
        {
          "name": "stderr",
          "output_type": "stream",
          "text": [
            "Iteration:  13%|█▎        | 5003/38003 [11:19<1:11:29,  7.69it/s]\u001b[A\n"
          ]
        },
        {
          "name": "stdout",
          "output_type": "stream",
          "text": [
            "{'epoch': 3, 'step': 6000, 'loss': 0.07034183293581009}\n"
          ]
        },
        {
          "name": "stderr",
          "output_type": "stream",
          "text": [
            "Iteration:  16%|█▌        | 6003/38003 [13:34<1:09:45,  7.65it/s]\u001b[A\n"
          ]
        },
        {
          "name": "stdout",
          "output_type": "stream",
          "text": [
            "{'epoch': 3, 'step': 7000, 'loss': 0.09263207018375397}\n"
          ]
        },
        {
          "name": "stderr",
          "output_type": "stream",
          "text": [
            "Iteration:  18%|█▊        | 7003/38003 [15:50<1:07:10,  7.69it/s]\u001b[A\n"
          ]
        },
        {
          "name": "stdout",
          "output_type": "stream",
          "text": [
            "{'epoch': 3, 'step': 8000, 'loss': 0.0773443803191185}\n"
          ]
        },
        {
          "name": "stderr",
          "output_type": "stream",
          "text": [
            "Iteration:  21%|██        | 8003/38003 [18:06<1:04:51,  7.71it/s]\u001b[A\n"
          ]
        },
        {
          "name": "stdout",
          "output_type": "stream",
          "text": [
            "{'epoch': 3, 'step': 9000, 'loss': 0.05727582052350044}\n"
          ]
        },
        {
          "name": "stderr",
          "output_type": "stream",
          "text": [
            "Iteration:  24%|██▎       | 9003/38003 [20:21<1:03:08,  7.65it/s]\u001b[A"
          ]
        },
        {
          "name": "stdout",
          "output_type": "stream",
          "text": [
            "{'epoch': 3, 'step': 10000, 'loss': 0.06940527260303497}\n"
          ]
        },
        {
          "name": "stderr",
          "output_type": "stream",
          "text": []
        },
        {
          "name": "stdout",
          "output_type": "stream",
          "text": [
            "{'epoch': 3, 'step': 11000, 'loss': 0.14308764040470123}\n"
          ]
        },
        {
          "name": "stderr",
          "output_type": "stream",
          "text": [
            "\n"
          ]
        },
        {
          "name": "stdout",
          "output_type": "stream",
          "text": [
            "{'epoch': 3, 'step': 12000, 'loss': 0.05981102213263512}\n"
          ]
        },
        {
          "name": "stderr",
          "output_type": "stream",
          "text": [
            "Iteration:  32%|███▏      | 12003/38003 [27:09<56:18,  7.70it/s]  \u001b[A\n"
          ]
        },
        {
          "name": "stdout",
          "output_type": "stream",
          "text": [
            "{'epoch': 3, 'step': 13000, 'loss': 0.12705875933170319}\n"
          ]
        },
        {
          "name": "stderr",
          "output_type": "stream",
          "text": [
            "Iteration:  34%|███▍      | 13003/38003 [29:24<54:52,  7.59it/s]  \u001b[A\n"
          ]
        },
        {
          "name": "stdout",
          "output_type": "stream",
          "text": [
            "{'epoch': 3, 'step': 14000, 'loss': 0.10874032974243164}\n"
          ]
        },
        {
          "name": "stderr",
          "output_type": "stream",
          "text": [
            "Iteration:  37%|███▋      | 14003/38003 [31:40<52:09,  7.67it/s]  \u001b[A\n"
          ]
        },
        {
          "name": "stdout",
          "output_type": "stream",
          "text": [
            "{'epoch': 3, 'step': 15000, 'loss': 0.04739200323820114}\n"
          ]
        },
        {
          "name": "stderr",
          "output_type": "stream",
          "text": [
            "Iteration:  39%|███▉      | 15003/38003 [33:56<49:50,  7.69it/s]  \u001b[A"
          ]
        },
        {
          "name": "stdout",
          "output_type": "stream",
          "text": [
            "{'epoch': 3, 'step': 16000, 'loss': 0.150747612118721}\n"
          ]
        },
        {
          "name": "stderr",
          "output_type": "stream",
          "text": [
            "\n"
          ]
        },
        {
          "name": "stdout",
          "output_type": "stream",
          "text": [
            "{'epoch': 3, 'step': 17000, 'loss': 0.07810736447572708}\n"
          ]
        },
        {
          "name": "stderr",
          "output_type": "stream",
          "text": [
            "Iteration:  45%|████▍     | 17003/38003 [38:27<45:50,  7.64it/s]\u001b[A\n"
          ]
        },
        {
          "name": "stdout",
          "output_type": "stream",
          "text": [
            "{'epoch': 3, 'step': 18000, 'loss': 0.08452978730201721}\n"
          ]
        },
        {
          "name": "stderr",
          "output_type": "stream",
          "text": [
            "Iteration:  47%|████▋     | 18003/38003 [40:43<43:24,  7.68it/s]\u001b[A\n"
          ]
        },
        {
          "name": "stdout",
          "output_type": "stream",
          "text": [
            "{'epoch': 3, 'step': 19000, 'loss': 0.21245691180229187}\n"
          ]
        },
        {
          "name": "stderr",
          "output_type": "stream",
          "text": [
            "Iteration:  50%|█████     | 19003/38003 [42:59<41:16,  7.67it/s]\u001b[A\n"
          ]
        },
        {
          "name": "stdout",
          "output_type": "stream",
          "text": [
            "{'epoch': 3, 'step': 20000, 'loss': 0.05636831372976303}\n"
          ]
        },
        {
          "name": "stderr",
          "output_type": "stream",
          "text": [
            "Iteration:  53%|█████▎    | 20003/38003 [45:15<38:57,  7.70it/s]\u001b[A"
          ]
        },
        {
          "name": "stdout",
          "output_type": "stream",
          "text": [
            "{'epoch': 3, 'step': 21000, 'loss': 0.0920911356806755}\n"
          ]
        },
        {
          "name": "stderr",
          "output_type": "stream",
          "text": [
            "\n"
          ]
        },
        {
          "name": "stdout",
          "output_type": "stream",
          "text": [
            "{'epoch': 3, 'step': 22000, 'loss': 0.03323819115757942}\n"
          ]
        },
        {
          "name": "stderr",
          "output_type": "stream",
          "text": [
            "Iteration:  58%|█████▊    | 22003/38003 [49:46<34:48,  7.66it/s]\u001b[A"
          ]
        },
        {
          "name": "stdout",
          "output_type": "stream",
          "text": [
            "{'epoch': 3, 'step': 23000, 'loss': 0.07489665597677231}\n"
          ]
        },
        {
          "name": "stderr",
          "output_type": "stream",
          "text": [
            "\n"
          ]
        },
        {
          "name": "stdout",
          "output_type": "stream",
          "text": [
            "{'epoch': 3, 'step': 24000, 'loss': 0.08824186027050018}\n"
          ]
        },
        {
          "name": "stderr",
          "output_type": "stream",
          "text": [
            "Iteration:  63%|██████▎   | 24003/38003 [54:18<30:26,  7.67it/s]\u001b[A\n"
          ]
        },
        {
          "name": "stdout",
          "output_type": "stream",
          "text": [
            "{'epoch': 3, 'step': 25000, 'loss': 0.10800407826900482}\n"
          ]
        },
        {
          "name": "stderr",
          "output_type": "stream",
          "text": [
            "Iteration:  66%|██████▌   | 25003/38003 [56:34<28:16,  7.66it/s]\u001b[A\n"
          ]
        },
        {
          "name": "stdout",
          "output_type": "stream",
          "text": [
            "{'epoch': 3, 'step': 26000, 'loss': 0.09023568779230118}\n"
          ]
        },
        {
          "name": "stderr",
          "output_type": "stream",
          "text": [
            "Iteration:  68%|██████▊   | 26003/38003 [58:49<26:09,  7.65it/s]\u001b[A\n"
          ]
        },
        {
          "name": "stdout",
          "output_type": "stream",
          "text": [
            "{'epoch': 3, 'step': 27000, 'loss': 0.06446975469589233}\n"
          ]
        },
        {
          "name": "stderr",
          "output_type": "stream",
          "text": [
            "Iteration:  71%|███████   | 27003/38003 [1:01:05<23:54,  7.67it/s]\u001b[A\n"
          ]
        },
        {
          "name": "stdout",
          "output_type": "stream",
          "text": [
            "{'epoch': 3, 'step': 28000, 'loss': 0.10908332467079163}\n"
          ]
        },
        {
          "name": "stderr",
          "output_type": "stream",
          "text": [
            "Iteration:  74%|███████▎  | 28003/38003 [1:03:21<21:48,  7.64it/s]\u001b[A\n"
          ]
        },
        {
          "name": "stdout",
          "output_type": "stream",
          "text": [
            "{'epoch': 3, 'step': 29000, 'loss': 0.16299565136432648}\n"
          ]
        },
        {
          "name": "stderr",
          "output_type": "stream",
          "text": [
            "Iteration:  76%|███████▋  | 29003/38003 [1:05:37<19:32,  7.67it/s]\u001b[A\n"
          ]
        },
        {
          "name": "stdout",
          "output_type": "stream",
          "text": [
            "{'epoch': 3, 'step': 30000, 'loss': 0.05183207616209984}\n"
          ]
        },
        {
          "name": "stderr",
          "output_type": "stream",
          "text": [
            "Iteration:  79%|███████▉  | 30003/38003 [1:07:53<17:27,  7.64it/s]\u001b[A\n"
          ]
        },
        {
          "name": "stdout",
          "output_type": "stream",
          "text": [
            "{'epoch': 3, 'step': 31000, 'loss': 0.08330152928829193}\n"
          ]
        },
        {
          "name": "stderr",
          "output_type": "stream",
          "text": [
            "Iteration:  82%|████████▏ | 31003/38003 [1:10:08<15:07,  7.72it/s]\u001b[A\n"
          ]
        },
        {
          "name": "stdout",
          "output_type": "stream",
          "text": [
            "{'epoch': 3, 'step': 32000, 'loss': 0.0826067253947258}\n"
          ]
        },
        {
          "name": "stderr",
          "output_type": "stream",
          "text": [
            "Iteration:  84%|████████▍ | 32003/38003 [1:12:24<12:58,  7.70it/s]\u001b[A\n"
          ]
        },
        {
          "name": "stdout",
          "output_type": "stream",
          "text": [
            "{'epoch': 3, 'step': 33000, 'loss': 0.13762317597866058}\n"
          ]
        },
        {
          "name": "stderr",
          "output_type": "stream",
          "text": [
            "Iteration:  87%|████████▋ | 33003/38003 [1:14:40<10:50,  7.68it/s]\u001b[A\n"
          ]
        },
        {
          "name": "stdout",
          "output_type": "stream",
          "text": [
            "{'epoch': 3, 'step': 34000, 'loss': 0.09518427401781082}\n"
          ]
        },
        {
          "name": "stderr",
          "output_type": "stream",
          "text": [
            "Iteration:  89%|████████▉ | 34003/38003 [1:16:56<08:39,  7.69it/s]\u001b[A\n"
          ]
        },
        {
          "name": "stdout",
          "output_type": "stream",
          "text": [
            "{'epoch': 3, 'step': 35000, 'loss': 0.0839950293302536}\n"
          ]
        },
        {
          "name": "stderr",
          "output_type": "stream",
          "text": [
            "Iteration:  92%|█████████▏| 35003/38003 [1:19:11<06:31,  7.66it/s]\u001b[A"
          ]
        },
        {
          "name": "stdout",
          "output_type": "stream",
          "text": [
            "{'epoch': 3, 'step': 36000, 'loss': 0.0886673554778099}\n"
          ]
        },
        {
          "name": "stderr",
          "output_type": "stream",
          "text": [
            "\n"
          ]
        },
        {
          "name": "stdout",
          "output_type": "stream",
          "text": [
            "{'epoch': 3, 'step': 37000, 'loss': 0.18889644742012024}\n"
          ]
        },
        {
          "name": "stderr",
          "output_type": "stream",
          "text": [
            "Iteration:  97%|█████████▋| 37003/38003 [1:23:43<02:10,  7.69it/s]\u001b[A"
          ]
        },
        {
          "name": "stdout",
          "output_type": "stream",
          "text": [
            "{'epoch': 3, 'step': 38000, 'loss': 0.06460651010274887}\n"
          ]
        },
        {
          "name": "stderr",
          "output_type": "stream",
          "text": [
            "Iteration: 100%|██████████| 38003/38003 [1:25:59<00:00,  7.37it/s]\n",
            "Epoch:  12%|█▎        | 4/32 [7:29:51<48:58:23, 6296.56s/it]\n"
          ]
        },
        {
          "name": "stdout",
          "output_type": "stream",
          "text": [
            "{'epoch': 4, 'step': 0, 'loss': 0.04762697219848633}\n"
          ]
        },
        {
          "name": "stderr",
          "output_type": "stream",
          "text": [
            "Iteration:   0%|          | 3/38003 [00:00<1:06:58,  9.46it/s]\u001b[A"
          ]
        },
        {
          "name": "stdout",
          "output_type": "stream",
          "text": [
            "{'epoch': 4, 'step': 1000, 'loss': 0.05214886739850044}\n"
          ]
        },
        {
          "name": "stderr",
          "output_type": "stream",
          "text": [
            "\n"
          ]
        },
        {
          "name": "stdout",
          "output_type": "stream",
          "text": [
            "{'epoch': 4, 'step': 2000, 'loss': 0.057860344648361206}\n"
          ]
        },
        {
          "name": "stderr",
          "output_type": "stream",
          "text": [
            "Iteration:   5%|▌         | 2003/38003 [04:33<1:19:14,  7.57it/s]\u001b[A\n"
          ]
        },
        {
          "name": "stdout",
          "output_type": "stream",
          "text": [
            "{'epoch': 4, 'step': 3000, 'loss': 0.09794041514396667}\n"
          ]
        },
        {
          "name": "stderr",
          "output_type": "stream",
          "text": [
            "Iteration:   8%|▊         | 3003/38003 [06:49<1:16:19,  7.64it/s]\u001b[A\n"
          ]
        },
        {
          "name": "stdout",
          "output_type": "stream",
          "text": [
            "{'epoch': 4, 'step': 4000, 'loss': 0.04810178279876709}\n"
          ]
        },
        {
          "name": "stderr",
          "output_type": "stream",
          "text": [
            "Iteration:  11%|█         | 4003/38003 [09:05<1:14:14,  7.63it/s]\u001b[A\n"
          ]
        },
        {
          "name": "stdout",
          "output_type": "stream",
          "text": [
            "{'epoch': 4, 'step': 5000, 'loss': 0.08348134905099869}\n"
          ]
        },
        {
          "name": "stderr",
          "output_type": "stream",
          "text": [
            "Iteration:  13%|█▎        | 5003/38003 [11:21<1:12:02,  7.63it/s]\u001b[A\n"
          ]
        },
        {
          "name": "stdout",
          "output_type": "stream",
          "text": [
            "{'epoch': 4, 'step': 6000, 'loss': 0.04702882841229439}\n"
          ]
        },
        {
          "name": "stderr",
          "output_type": "stream",
          "text": [
            "Iteration:  16%|█▌        | 6003/38003 [13:37<1:09:47,  7.64it/s]\u001b[A\n"
          ]
        },
        {
          "name": "stdout",
          "output_type": "stream",
          "text": [
            "{'epoch': 4, 'step': 7000, 'loss': 0.045912906527519226}\n"
          ]
        },
        {
          "name": "stderr",
          "output_type": "stream",
          "text": [
            "Iteration:  18%|█▊        | 7003/38003 [15:53<1:07:04,  7.70it/s]\u001b[A\n"
          ]
        },
        {
          "name": "stdout",
          "output_type": "stream",
          "text": [
            "{'epoch': 4, 'step': 8000, 'loss': 0.06880908459424973}\n"
          ]
        },
        {
          "name": "stderr",
          "output_type": "stream",
          "text": [
            "Iteration:  21%|██        | 8003/38003 [18:10<1:05:23,  7.65it/s]\u001b[A\n"
          ]
        },
        {
          "name": "stdout",
          "output_type": "stream",
          "text": [
            "{'epoch': 4, 'step': 9000, 'loss': 0.027199964970350266}\n"
          ]
        },
        {
          "name": "stderr",
          "output_type": "stream",
          "text": [
            "Iteration:  24%|██▎       | 9003/38003 [20:26<1:03:09,  7.65it/s]\u001b[A\n"
          ]
        },
        {
          "name": "stdout",
          "output_type": "stream",
          "text": [
            "{'epoch': 4, 'step': 10000, 'loss': 0.06610443443059921}\n"
          ]
        },
        {
          "name": "stderr",
          "output_type": "stream",
          "text": [
            "Iteration:  26%|██▋       | 10003/38003 [22:42<1:00:55,  7.66it/s]\u001b[A\n"
          ]
        },
        {
          "name": "stdout",
          "output_type": "stream",
          "text": [
            "{'epoch': 4, 'step': 11000, 'loss': 0.09327323734760284}\n"
          ]
        },
        {
          "name": "stderr",
          "output_type": "stream",
          "text": [
            "Iteration:  29%|██▉       | 11003/38003 [24:58<58:46,  7.66it/s]  \u001b[A\n"
          ]
        },
        {
          "name": "stdout",
          "output_type": "stream",
          "text": [
            "{'epoch': 4, 'step': 12000, 'loss': 0.0949515774846077}\n"
          ]
        },
        {
          "name": "stderr",
          "output_type": "stream",
          "text": [
            "Iteration:  32%|███▏      | 12003/38003 [27:14<56:23,  7.69it/s]  \u001b[A"
          ]
        },
        {
          "name": "stdout",
          "output_type": "stream",
          "text": [
            "{'epoch': 4, 'step': 13000, 'loss': 0.05752556398510933}\n"
          ]
        },
        {
          "name": "stderr",
          "output_type": "stream",
          "text": [
            "\n"
          ]
        },
        {
          "name": "stdout",
          "output_type": "stream",
          "text": [
            "{'epoch': 4, 'step': 14000, 'loss': 0.04711078107357025}\n"
          ]
        },
        {
          "name": "stderr",
          "output_type": "stream",
          "text": [
            "Iteration:  37%|███▋      | 14003/38003 [31:46<52:15,  7.65it/s]  \u001b[A"
          ]
        },
        {
          "name": "stdout",
          "output_type": "stream",
          "text": [
            "{'epoch': 4, 'step': 15000, 'loss': 0.04101186245679855}\n"
          ]
        },
        {
          "name": "stderr",
          "output_type": "stream",
          "text": [
            "\n"
          ]
        },
        {
          "name": "stdout",
          "output_type": "stream",
          "text": [
            "{'epoch': 4, 'step': 16000, 'loss': 0.08021494001150131}\n"
          ]
        },
        {
          "name": "stderr",
          "output_type": "stream",
          "text": [
            "Iteration:  42%|████▏     | 16003/38003 [36:18<48:07,  7.62it/s]\u001b[A\n"
          ]
        },
        {
          "name": "stdout",
          "output_type": "stream",
          "text": [
            "{'epoch': 4, 'step': 17000, 'loss': 0.09992587566375732}\n"
          ]
        },
        {
          "name": "stderr",
          "output_type": "stream",
          "text": [
            "Iteration:  45%|████▍     | 17003/38003 [38:34<45:47,  7.64it/s]\u001b[A\n"
          ]
        },
        {
          "name": "stdout",
          "output_type": "stream",
          "text": [
            "{'epoch': 4, 'step': 18000, 'loss': 0.05367165431380272}\n"
          ]
        },
        {
          "name": "stderr",
          "output_type": "stream",
          "text": [
            "Iteration:  47%|████▋     | 18003/38003 [40:50<43:22,  7.69it/s]\u001b[A"
          ]
        },
        {
          "name": "stdout",
          "output_type": "stream",
          "text": [
            "{'epoch': 4, 'step': 19000, 'loss': 0.09444236010313034}\n"
          ]
        },
        {
          "name": "stderr",
          "output_type": "stream",
          "text": [
            "\n"
          ]
        },
        {
          "name": "stdout",
          "output_type": "stream",
          "text": [
            "{'epoch': 4, 'step': 20000, 'loss': 0.10339854657649994}\n"
          ]
        },
        {
          "name": "stderr",
          "output_type": "stream",
          "text": [
            "Iteration:  53%|█████▎    | 20003/38003 [45:23<39:08,  7.67it/s]\u001b[A\n"
          ]
        },
        {
          "name": "stdout",
          "output_type": "stream",
          "text": [
            "{'epoch': 4, 'step': 21000, 'loss': 0.08673137426376343}\n"
          ]
        },
        {
          "name": "stderr",
          "output_type": "stream",
          "text": [
            "Iteration:  55%|█████▌    | 21003/38003 [47:39<36:50,  7.69it/s]\u001b[A\n"
          ]
        },
        {
          "name": "stdout",
          "output_type": "stream",
          "text": [
            "{'epoch': 4, 'step': 22000, 'loss': 0.05853508412837982}\n"
          ]
        },
        {
          "name": "stderr",
          "output_type": "stream",
          "text": [
            "Iteration:  58%|█████▊    | 22003/38003 [49:55<34:50,  7.65it/s]\u001b[A\n"
          ]
        },
        {
          "name": "stdout",
          "output_type": "stream",
          "text": [
            "{'epoch': 4, 'step': 23000, 'loss': 0.05911458656191826}\n"
          ]
        },
        {
          "name": "stderr",
          "output_type": "stream",
          "text": [
            "Iteration:  61%|██████    | 23003/38003 [52:32<32:34,  7.67it/s]\u001b[A"
          ]
        },
        {
          "name": "stdout",
          "output_type": "stream",
          "text": [
            "{'epoch': 4, 'step': 24000, 'loss': 0.06983771175146103}\n"
          ]
        },
        {
          "name": "stderr",
          "output_type": "stream",
          "text": [
            "\n"
          ]
        },
        {
          "name": "stdout",
          "output_type": "stream",
          "text": [
            "{'epoch': 4, 'step': 25000, 'loss': 0.1257251501083374}\n"
          ]
        },
        {
          "name": "stderr",
          "output_type": "stream",
          "text": [
            "Iteration:  66%|██████▌   | 25003/38003 [57:03<28:16,  7.66it/s]\u001b[A\n"
          ]
        },
        {
          "name": "stdout",
          "output_type": "stream",
          "text": [
            "{'epoch': 4, 'step': 26000, 'loss': 0.04150710627436638}\n"
          ]
        },
        {
          "name": "stderr",
          "output_type": "stream",
          "text": [
            "Iteration:  68%|██████▊   | 26003/38003 [59:19<25:59,  7.69it/s]\u001b[A\n"
          ]
        },
        {
          "name": "stdout",
          "output_type": "stream",
          "text": [
            "{'epoch': 4, 'step': 27000, 'loss': 0.05987900495529175}\n"
          ]
        },
        {
          "name": "stderr",
          "output_type": "stream",
          "text": [
            "Iteration:  71%|███████   | 27003/38003 [1:01:34<23:56,  7.66it/s]\u001b[A\n"
          ]
        },
        {
          "name": "stdout",
          "output_type": "stream",
          "text": [
            "{'epoch': 4, 'step': 28000, 'loss': 0.12281481921672821}\n"
          ]
        },
        {
          "name": "stderr",
          "output_type": "stream",
          "text": [
            "Iteration:  74%|███████▎  | 28003/38003 [1:03:50<21:39,  7.69it/s]\u001b[A\n"
          ]
        },
        {
          "name": "stdout",
          "output_type": "stream",
          "text": [
            "{'epoch': 4, 'step': 29000, 'loss': 0.04016688093543053}\n"
          ]
        },
        {
          "name": "stderr",
          "output_type": "stream",
          "text": [
            "Iteration:  76%|███████▋  | 29003/38003 [1:06:13<19:31,  7.68it/s]\u001b[A\n"
          ]
        },
        {
          "name": "stdout",
          "output_type": "stream",
          "text": [
            "{'epoch': 4, 'step': 30000, 'loss': 0.019175786525011063}\n"
          ]
        },
        {
          "name": "stderr",
          "output_type": "stream",
          "text": [
            "Iteration:  79%|███████▉  | 30003/38003 [1:08:29<17:17,  7.71it/s]\u001b[A\n"
          ]
        },
        {
          "name": "stdout",
          "output_type": "stream",
          "text": [
            "{'epoch': 4, 'step': 31000, 'loss': 0.09851938486099243}\n"
          ]
        },
        {
          "name": "stderr",
          "output_type": "stream",
          "text": [
            "Iteration:  82%|████████▏ | 31003/38003 [1:10:44<15:06,  7.72it/s]\u001b[A"
          ]
        },
        {
          "name": "stdout",
          "output_type": "stream",
          "text": [
            "{'epoch': 4, 'step': 32000, 'loss': 0.03219440206885338}\n"
          ]
        },
        {
          "name": "stderr",
          "output_type": "stream",
          "text": [
            "\n"
          ]
        },
        {
          "name": "stdout",
          "output_type": "stream",
          "text": [
            "{'epoch': 4, 'step': 33000, 'loss': 0.06208747252821922}\n"
          ]
        },
        {
          "name": "stderr",
          "output_type": "stream",
          "text": [
            "Iteration:  87%|████████▋ | 33003/38003 [1:15:16<10:49,  7.69it/s]\u001b[A\n"
          ]
        },
        {
          "name": "stdout",
          "output_type": "stream",
          "text": [
            "{'epoch': 4, 'step': 34000, 'loss': 0.10757169127464294}\n"
          ]
        },
        {
          "name": "stderr",
          "output_type": "stream",
          "text": [
            "Iteration:  89%|████████▉ | 34003/38003 [1:17:31<08:41,  7.67it/s]\u001b[A\n"
          ]
        },
        {
          "name": "stdout",
          "output_type": "stream",
          "text": [
            "{'epoch': 4, 'step': 35000, 'loss': 0.10109435021877289}\n"
          ]
        },
        {
          "name": "stderr",
          "output_type": "stream",
          "text": [
            "Iteration:  92%|█████████▏| 35003/38003 [1:19:47<06:31,  7.67it/s]\u001b[A"
          ]
        },
        {
          "name": "stdout",
          "output_type": "stream",
          "text": [
            "{'epoch': 4, 'step': 36000, 'loss': 0.08297122269868851}\n"
          ]
        },
        {
          "name": "stderr",
          "output_type": "stream",
          "text": [
            "\n"
          ]
        },
        {
          "name": "stdout",
          "output_type": "stream",
          "text": [
            "{'epoch': 4, 'step': 37000, 'loss': 0.1385643184185028}\n"
          ]
        },
        {
          "name": "stderr",
          "output_type": "stream",
          "text": [
            "Iteration:  97%|█████████▋| 37003/38003 [1:24:18<02:09,  7.70it/s]\u001b[A"
          ]
        },
        {
          "name": "stdout",
          "output_type": "stream",
          "text": [
            "{'epoch': 4, 'step': 38000, 'loss': 0.12076562643051147}\n"
          ]
        },
        {
          "name": "stderr",
          "output_type": "stream",
          "text": [
            "Iteration: 100%|██████████| 38003/38003 [1:26:34<00:00,  7.32it/s]\n",
            "Epoch:  16%|█▌        | 5/32 [8:56:26<44:14:38, 5899.20s/it]\n"
          ]
        },
        {
          "name": "stdout",
          "output_type": "stream",
          "text": [
            "{'epoch': 5, 'step': 0, 'loss': 0.05951077491044998}\n"
          ]
        },
        {
          "name": "stderr",
          "output_type": "stream",
          "text": [
            "Iteration:   0%|          | 3/38003 [00:00<1:06:34,  9.51it/s]\u001b[A\n"
          ]
        },
        {
          "name": "stdout",
          "output_type": "stream",
          "text": [
            "{'epoch': 5, 'step': 1000, 'loss': 0.02358022890985012}\n"
          ]
        },
        {
          "name": "stderr",
          "output_type": "stream",
          "text": [
            "Iteration:   3%|▎         | 1003/38003 [02:15<1:20:05,  7.70it/s]\u001b[A\n"
          ]
        },
        {
          "name": "stdout",
          "output_type": "stream",
          "text": [
            "{'epoch': 5, 'step': 2000, 'loss': 0.02158522419631481}\n"
          ]
        },
        {
          "name": "stderr",
          "output_type": "stream",
          "text": [
            "Iteration:   5%|▌         | 2003/38003 [04:31<1:17:56,  7.70it/s]\u001b[A\n"
          ]
        },
        {
          "name": "stdout",
          "output_type": "stream",
          "text": [
            "{'epoch': 5, 'step': 3000, 'loss': 0.04453401267528534}\n"
          ]
        },
        {
          "name": "stderr",
          "output_type": "stream",
          "text": [
            "Iteration:   8%|▊         | 3003/38003 [06:47<1:15:47,  7.70it/s]\u001b[A\n"
          ]
        },
        {
          "name": "stdout",
          "output_type": "stream",
          "text": [
            "{'epoch': 5, 'step': 4000, 'loss': 0.06571979820728302}\n"
          ]
        },
        {
          "name": "stderr",
          "output_type": "stream",
          "text": [
            "Iteration:  11%|█         | 4003/38003 [09:02<1:14:02,  7.65it/s]\u001b[A\n"
          ]
        },
        {
          "name": "stdout",
          "output_type": "stream",
          "text": [
            "{'epoch': 5, 'step': 5000, 'loss': 0.05164405703544617}\n"
          ]
        },
        {
          "name": "stderr",
          "output_type": "stream",
          "text": [
            "Iteration:  13%|█▎        | 5003/38003 [11:18<1:11:39,  7.67it/s]\u001b[A\n"
          ]
        },
        {
          "name": "stdout",
          "output_type": "stream",
          "text": [
            "{'epoch': 5, 'step': 6000, 'loss': 0.07936350256204605}\n"
          ]
        },
        {
          "name": "stderr",
          "output_type": "stream",
          "text": [
            "Iteration:  16%|█▌        | 6003/38003 [13:33<1:09:23,  7.69it/s]\u001b[A\n"
          ]
        },
        {
          "name": "stdout",
          "output_type": "stream",
          "text": [
            "{'epoch': 5, 'step': 7000, 'loss': 0.04999161139130592}\n"
          ]
        },
        {
          "name": "stderr",
          "output_type": "stream",
          "text": [
            "Iteration:  18%|█▊        | 7003/38003 [15:49<1:07:01,  7.71it/s]\u001b[A\n"
          ]
        },
        {
          "name": "stdout",
          "output_type": "stream",
          "text": [
            "{'epoch': 5, 'step': 8000, 'loss': 0.07237431406974792}\n"
          ]
        },
        {
          "name": "stderr",
          "output_type": "stream",
          "text": [
            "Iteration:  21%|██        | 8003/38003 [18:05<1:04:58,  7.70it/s]\u001b[A"
          ]
        },
        {
          "name": "stdout",
          "output_type": "stream",
          "text": [
            "{'epoch': 5, 'step': 9000, 'loss': 0.08441651612520218}\n"
          ]
        },
        {
          "name": "stderr",
          "output_type": "stream",
          "text": [
            "\n"
          ]
        },
        {
          "name": "stdout",
          "output_type": "stream",
          "text": [
            "{'epoch': 5, 'step': 10000, 'loss': 0.03510531783103943}\n"
          ]
        },
        {
          "name": "stderr",
          "output_type": "stream",
          "text": [
            "Iteration:  26%|██▋       | 10003/38003 [22:36<1:00:39,  7.69it/s]\u001b[A\n"
          ]
        },
        {
          "name": "stdout",
          "output_type": "stream",
          "text": [
            "{'epoch': 5, 'step': 11000, 'loss': 0.10533075034618378}\n"
          ]
        },
        {
          "name": "stderr",
          "output_type": "stream",
          "text": [
            "Iteration:  29%|██▉       | 11003/38003 [24:51<58:38,  7.67it/s]  \u001b[A\n"
          ]
        },
        {
          "name": "stdout",
          "output_type": "stream",
          "text": [
            "{'epoch': 5, 'step': 12000, 'loss': 0.02078409492969513}\n"
          ]
        },
        {
          "name": "stderr",
          "output_type": "stream",
          "text": [
            "Iteration:  32%|███▏      | 12003/38003 [27:07<56:27,  7.68it/s]  \u001b[A\n"
          ]
        },
        {
          "name": "stdout",
          "output_type": "stream",
          "text": [
            "{'epoch': 5, 'step': 13000, 'loss': 0.043005187064409256}\n"
          ]
        },
        {
          "name": "stderr",
          "output_type": "stream",
          "text": [
            "Iteration:  34%|███▍      | 13003/38003 [29:22<54:19,  7.67it/s]  \u001b[A\n"
          ]
        },
        {
          "name": "stdout",
          "output_type": "stream",
          "text": [
            "{'epoch': 5, 'step': 14000, 'loss': 0.019880220293998718}\n"
          ]
        },
        {
          "name": "stderr",
          "output_type": "stream",
          "text": [
            "Iteration:  37%|███▋      | 14003/38003 [31:38<52:01,  7.69it/s]  \u001b[A\n"
          ]
        },
        {
          "name": "stdout",
          "output_type": "stream",
          "text": [
            "{'epoch': 5, 'step': 15000, 'loss': 0.13118280470371246}\n"
          ]
        },
        {
          "name": "stderr",
          "output_type": "stream",
          "text": [
            "Iteration:  39%|███▉      | 15003/38003 [33:53<49:55,  7.68it/s]  \u001b[A\n"
          ]
        },
        {
          "name": "stdout",
          "output_type": "stream",
          "text": [
            "{'epoch': 5, 'step': 16000, 'loss': 0.050240498036146164}\n"
          ]
        },
        {
          "name": "stderr",
          "output_type": "stream",
          "text": [
            "Iteration:  42%|████▏     | 16003/38003 [36:09<47:39,  7.69it/s]\u001b[A\n"
          ]
        },
        {
          "name": "stdout",
          "output_type": "stream",
          "text": [
            "{'epoch': 5, 'step': 17000, 'loss': 0.06518494337797165}\n"
          ]
        },
        {
          "name": "stderr",
          "output_type": "stream",
          "text": [
            "Iteration:  45%|████▍     | 17003/38003 [38:25<45:31,  7.69it/s]\u001b[A\n"
          ]
        },
        {
          "name": "stdout",
          "output_type": "stream",
          "text": [
            "{'epoch': 5, 'step': 18000, 'loss': 0.08771514892578125}\n"
          ]
        },
        {
          "name": "stderr",
          "output_type": "stream",
          "text": [
            "Iteration:  47%|████▋     | 18003/38003 [40:40<43:16,  7.70it/s]\u001b[A\n"
          ]
        },
        {
          "name": "stdout",
          "output_type": "stream",
          "text": [
            "{'epoch': 5, 'step': 19000, 'loss': 0.08834584802389145}\n"
          ]
        },
        {
          "name": "stderr",
          "output_type": "stream",
          "text": [
            "Iteration:  50%|█████     | 19003/38003 [42:56<41:13,  7.68it/s]\u001b[A"
          ]
        },
        {
          "name": "stdout",
          "output_type": "stream",
          "text": [
            "{'epoch': 5, 'step': 20000, 'loss': 0.06073914095759392}\n"
          ]
        },
        {
          "name": "stderr",
          "output_type": "stream",
          "text": [
            "\n"
          ]
        },
        {
          "name": "stdout",
          "output_type": "stream",
          "text": [
            "{'epoch': 5, 'step': 21000, 'loss': 0.1042429581284523}\n"
          ]
        },
        {
          "name": "stderr",
          "output_type": "stream",
          "text": [
            "Iteration:  55%|█████▌    | 21003/38003 [47:27<37:00,  7.65it/s]\u001b[A\n"
          ]
        },
        {
          "name": "stdout",
          "output_type": "stream",
          "text": [
            "{'epoch': 5, 'step': 22000, 'loss': 0.04882548004388809}\n"
          ]
        },
        {
          "name": "stderr",
          "output_type": "stream",
          "text": [
            "Iteration:  58%|█████▊    | 22003/38003 [49:42<34:41,  7.69it/s]\u001b[A\n"
          ]
        },
        {
          "name": "stdout",
          "output_type": "stream",
          "text": [
            "{'epoch': 5, 'step': 23000, 'loss': 0.04422172158956528}\n"
          ]
        },
        {
          "name": "stderr",
          "output_type": "stream",
          "text": [
            "Iteration:  61%|██████    | 23003/38003 [51:58<32:33,  7.68it/s]\u001b[A"
          ]
        },
        {
          "name": "stdout",
          "output_type": "stream",
          "text": [
            "{'epoch': 5, 'step': 24000, 'loss': 0.03830761834979057}\n"
          ]
        },
        {
          "name": "stderr",
          "output_type": "stream",
          "text": [
            "\n"
          ]
        },
        {
          "name": "stdout",
          "output_type": "stream",
          "text": [
            "{'epoch': 5, 'step': 25000, 'loss': 0.03620881214737892}\n"
          ]
        },
        {
          "name": "stderr",
          "output_type": "stream",
          "text": [
            "Iteration:  66%|██████▌   | 25003/38003 [56:29<28:10,  7.69it/s]\u001b[A\n"
          ]
        },
        {
          "name": "stdout",
          "output_type": "stream",
          "text": [
            "{'epoch': 5, 'step': 26000, 'loss': 0.044736091047525406}\n"
          ]
        },
        {
          "name": "stderr",
          "output_type": "stream",
          "text": [
            "Iteration:  68%|██████▊   | 26003/38003 [58:45<25:57,  7.70it/s]\u001b[A\n"
          ]
        },
        {
          "name": "stdout",
          "output_type": "stream",
          "text": [
            "{'epoch': 5, 'step': 27000, 'loss': 0.06821861863136292}\n"
          ]
        },
        {
          "name": "stderr",
          "output_type": "stream",
          "text": [
            "Iteration:  71%|███████   | 27003/38003 [1:01:00<23:50,  7.69it/s]\u001b[A"
          ]
        },
        {
          "name": "stdout",
          "output_type": "stream",
          "text": [
            "{'epoch': 5, 'step': 28000, 'loss': 0.09922798722982407}\n"
          ]
        },
        {
          "name": "stderr",
          "output_type": "stream",
          "text": [
            "\n"
          ]
        },
        {
          "name": "stdout",
          "output_type": "stream",
          "text": [
            "{'epoch': 5, 'step': 29000, 'loss': 0.06569448113441467}\n"
          ]
        },
        {
          "name": "stderr",
          "output_type": "stream",
          "text": [
            "Iteration:  76%|███████▋  | 29003/38003 [1:05:31<19:29,  7.70it/s]\u001b[A"
          ]
        },
        {
          "name": "stdout",
          "output_type": "stream",
          "text": [
            "{'epoch': 5, 'step': 30000, 'loss': 0.08279334008693695}\n"
          ]
        },
        {
          "name": "stderr",
          "output_type": "stream",
          "text": [
            "\n"
          ]
        },
        {
          "name": "stdout",
          "output_type": "stream",
          "text": [
            "{'epoch': 5, 'step': 31000, 'loss': 0.0509771853685379}\n"
          ]
        },
        {
          "name": "stderr",
          "output_type": "stream",
          "text": [
            "Iteration:  82%|████████▏ | 31003/38003 [1:10:03<15:09,  7.69it/s]\u001b[A\n"
          ]
        },
        {
          "name": "stdout",
          "output_type": "stream",
          "text": [
            "{'epoch': 5, 'step': 32000, 'loss': 0.0573783814907074}\n"
          ]
        },
        {
          "name": "stderr",
          "output_type": "stream",
          "text": [
            "Iteration:  84%|████████▍ | 32003/38003 [1:12:18<13:01,  7.68it/s]\u001b[A\n"
          ]
        },
        {
          "name": "stdout",
          "output_type": "stream",
          "text": [
            "{'epoch': 5, 'step': 33000, 'loss': 0.03678228333592415}\n"
          ]
        },
        {
          "name": "stderr",
          "output_type": "stream",
          "text": [
            "Iteration:  87%|████████▋ | 33003/38003 [1:14:34<10:46,  7.73it/s]\u001b[A\n"
          ]
        },
        {
          "name": "stdout",
          "output_type": "stream",
          "text": [
            "{'epoch': 5, 'step': 34000, 'loss': 0.08383022993803024}\n"
          ]
        },
        {
          "name": "stderr",
          "output_type": "stream",
          "text": [
            "Iteration:  89%|████████▉ | 34003/38003 [1:16:49<08:40,  7.69it/s]\u001b[A\n"
          ]
        },
        {
          "name": "stdout",
          "output_type": "stream",
          "text": [
            "{'epoch': 5, 'step': 35000, 'loss': 0.07076266407966614}\n"
          ]
        },
        {
          "name": "stderr",
          "output_type": "stream",
          "text": [
            "Iteration:  92%|█████████▏| 35003/38003 [1:19:05<06:29,  7.70it/s]\u001b[A\n"
          ]
        },
        {
          "name": "stdout",
          "output_type": "stream",
          "text": [
            "{'epoch': 5, 'step': 36000, 'loss': 0.05114853382110596}\n"
          ]
        },
        {
          "name": "stderr",
          "output_type": "stream",
          "text": [
            "Iteration:  95%|█████████▍| 36003/38003 [1:21:20<04:19,  7.69it/s]\u001b[A\n"
          ]
        },
        {
          "name": "stdout",
          "output_type": "stream",
          "text": [
            "{'epoch': 5, 'step': 37000, 'loss': 0.11050259321928024}\n"
          ]
        },
        {
          "name": "stderr",
          "output_type": "stream",
          "text": [
            "Iteration:  97%|█████████▋| 37003/38003 [1:23:36<02:10,  7.66it/s]\u001b[A"
          ]
        },
        {
          "name": "stdout",
          "output_type": "stream",
          "text": [
            "{'epoch': 5, 'step': 38000, 'loss': 0.08282795548439026}\n"
          ]
        },
        {
          "name": "stderr",
          "output_type": "stream",
          "text": [
            "Iteration: 100%|██████████| 38003/38003 [1:25:52<00:00,  7.38it/s]\n",
            "Epoch:  19%|█▉        | 6/32 [10:22:18<40:46:19, 5645.37s/it]\n"
          ]
        },
        {
          "name": "stdout",
          "output_type": "stream",
          "text": [
            "{'epoch': 6, 'step': 0, 'loss': 0.06132945418357849}\n"
          ]
        },
        {
          "name": "stderr",
          "output_type": "stream",
          "text": [
            "Iteration:   0%|          | 3/38003 [00:00<1:07:03,  9.45it/s]\u001b[A\n"
          ]
        },
        {
          "name": "stdout",
          "output_type": "stream",
          "text": [
            "{'epoch': 6, 'step': 1000, 'loss': 0.06703875958919525}\n"
          ]
        },
        {
          "name": "stderr",
          "output_type": "stream",
          "text": [
            "Iteration:   3%|▎         | 1003/38003 [02:15<1:20:17,  7.68it/s]\u001b[A"
          ]
        },
        {
          "name": "stdout",
          "output_type": "stream",
          "text": [
            "{'epoch': 6, 'step': 2000, 'loss': 0.021857813000679016}\n"
          ]
        },
        {
          "name": "stderr",
          "output_type": "stream",
          "text": [
            "\n"
          ]
        },
        {
          "name": "stdout",
          "output_type": "stream",
          "text": [
            "{'epoch': 6, 'step': 3000, 'loss': 0.07713370770215988}\n"
          ]
        },
        {
          "name": "stderr",
          "output_type": "stream",
          "text": [
            "Iteration:   8%|▊         | 3003/38003 [06:47<1:15:55,  7.68it/s]\u001b[A\n"
          ]
        },
        {
          "name": "stdout",
          "output_type": "stream",
          "text": [
            "{'epoch': 6, 'step': 4000, 'loss': 0.04273951053619385}\n"
          ]
        },
        {
          "name": "stderr",
          "output_type": "stream",
          "text": [
            "Iteration:  11%|█         | 4003/38003 [09:02<1:13:30,  7.71it/s]\u001b[A\n"
          ]
        },
        {
          "name": "stdout",
          "output_type": "stream",
          "text": [
            "{'epoch': 6, 'step': 5000, 'loss': 0.07808985561132431}\n"
          ]
        },
        {
          "name": "stderr",
          "output_type": "stream",
          "text": [
            "Iteration:  13%|█▎        | 5003/38003 [11:18<1:11:19,  7.71it/s]\u001b[A\n"
          ]
        },
        {
          "name": "stdout",
          "output_type": "stream",
          "text": [
            "{'epoch': 6, 'step': 6000, 'loss': 0.039981406182050705}\n"
          ]
        },
        {
          "name": "stderr",
          "output_type": "stream",
          "text": [
            "Iteration:  16%|█▌        | 6003/38003 [13:33<1:09:17,  7.70it/s]\u001b[A\n"
          ]
        },
        {
          "name": "stdout",
          "output_type": "stream",
          "text": [
            "{'epoch': 6, 'step': 7000, 'loss': 0.030848030000925064}\n"
          ]
        },
        {
          "name": "stderr",
          "output_type": "stream",
          "text": [
            "Iteration:  18%|█▊        | 7003/38003 [15:49<1:07:32,  7.65it/s]\u001b[A\n"
          ]
        },
        {
          "name": "stdout",
          "output_type": "stream",
          "text": [
            "{'epoch': 6, 'step': 8000, 'loss': 0.04366316646337509}\n"
          ]
        },
        {
          "name": "stderr",
          "output_type": "stream",
          "text": [
            "Iteration:  21%|██        | 8003/38003 [18:05<1:05:03,  7.69it/s]\u001b[A\n"
          ]
        },
        {
          "name": "stdout",
          "output_type": "stream",
          "text": [
            "{'epoch': 6, 'step': 9000, 'loss': 0.04106763377785683}\n"
          ]
        },
        {
          "name": "stderr",
          "output_type": "stream",
          "text": [
            "Iteration:  24%|██▎       | 9003/38003 [20:20<1:02:56,  7.68it/s]\u001b[A"
          ]
        },
        {
          "name": "stdout",
          "output_type": "stream",
          "text": [
            "{'epoch': 6, 'step': 10000, 'loss': 0.04374661296606064}\n"
          ]
        },
        {
          "name": "stderr",
          "output_type": "stream",
          "text": [
            "\n"
          ]
        },
        {
          "name": "stdout",
          "output_type": "stream",
          "text": [
            "{'epoch': 6, 'step': 11000, 'loss': 0.015111963264644146}\n"
          ]
        },
        {
          "name": "stderr",
          "output_type": "stream",
          "text": [
            "Iteration:  29%|██▉       | 11003/38003 [24:51<58:18,  7.72it/s]  \u001b[A\n"
          ]
        },
        {
          "name": "stdout",
          "output_type": "stream",
          "text": [
            "{'epoch': 6, 'step': 12000, 'loss': 0.04979127272963524}\n"
          ]
        },
        {
          "name": "stderr",
          "output_type": "stream",
          "text": [
            "Iteration:  32%|███▏      | 12003/38003 [27:07<56:15,  7.70it/s]  \u001b[A\n"
          ]
        },
        {
          "name": "stdout",
          "output_type": "stream",
          "text": [
            "{'epoch': 6, 'step': 13000, 'loss': 0.09809672087430954}\n"
          ]
        },
        {
          "name": "stderr",
          "output_type": "stream",
          "text": [
            "Iteration:  34%|███▍      | 13003/38003 [29:25<54:19,  7.67it/s]  \u001b[A\n"
          ]
        },
        {
          "name": "stdout",
          "output_type": "stream",
          "text": [
            "{'epoch': 6, 'step': 14000, 'loss': 0.123918317258358}\n"
          ]
        },
        {
          "name": "stderr",
          "output_type": "stream",
          "text": [
            "Iteration:  37%|███▋      | 14003/38003 [31:41<52:05,  7.68it/s]  \u001b[A"
          ]
        },
        {
          "name": "stdout",
          "output_type": "stream",
          "text": [
            "{'epoch': 6, 'step': 15000, 'loss': 0.05163042992353439}\n"
          ]
        },
        {
          "name": "stderr",
          "output_type": "stream",
          "text": [
            "\n"
          ]
        },
        {
          "name": "stdout",
          "output_type": "stream",
          "text": [
            "{'epoch': 6, 'step': 16000, 'loss': 0.013429700396955013}\n"
          ]
        },
        {
          "name": "stderr",
          "output_type": "stream",
          "text": [
            "Iteration:  42%|████▏     | 16003/38003 [36:12<47:40,  7.69it/s]\u001b[A\n"
          ]
        },
        {
          "name": "stdout",
          "output_type": "stream",
          "text": [
            "{'epoch': 6, 'step': 17000, 'loss': 0.0646367147564888}\n"
          ]
        },
        {
          "name": "stderr",
          "output_type": "stream",
          "text": [
            "Iteration:  45%|████▍     | 17003/38003 [38:27<45:33,  7.68it/s]\u001b[A\n"
          ]
        },
        {
          "name": "stdout",
          "output_type": "stream",
          "text": [
            "{'epoch': 6, 'step': 18000, 'loss': 0.025051841512322426}\n"
          ]
        },
        {
          "name": "stderr",
          "output_type": "stream",
          "text": [
            "Iteration:  47%|████▋     | 18003/38003 [40:43<43:17,  7.70it/s]\u001b[A\n"
          ]
        },
        {
          "name": "stdout",
          "output_type": "stream",
          "text": [
            "{'epoch': 6, 'step': 19000, 'loss': 0.025085095316171646}\n"
          ]
        },
        {
          "name": "stderr",
          "output_type": "stream",
          "text": [
            "Iteration:  50%|█████     | 19003/38003 [42:59<41:11,  7.69it/s]\u001b[A\n"
          ]
        },
        {
          "name": "stdout",
          "output_type": "stream",
          "text": [
            "{'epoch': 6, 'step': 20000, 'loss': 0.06402724981307983}\n"
          ]
        },
        {
          "name": "stderr",
          "output_type": "stream",
          "text": [
            "Iteration:  53%|█████▎    | 20003/38003 [45:14<38:59,  7.70it/s]\u001b[A\n"
          ]
        },
        {
          "name": "stdout",
          "output_type": "stream",
          "text": [
            "{'epoch': 6, 'step': 21000, 'loss': 0.07899138331413269}\n"
          ]
        },
        {
          "name": "stderr",
          "output_type": "stream",
          "text": [
            "Iteration:  55%|█████▌    | 21003/38003 [47:30<36:50,  7.69it/s]\u001b[A\n"
          ]
        },
        {
          "name": "stdout",
          "output_type": "stream",
          "text": [
            "{'epoch': 6, 'step': 22000, 'loss': 0.059546079486608505}\n"
          ]
        },
        {
          "name": "stderr",
          "output_type": "stream",
          "text": [
            "Iteration:  58%|█████▊    | 22003/38003 [49:45<34:45,  7.67it/s]\u001b[A"
          ]
        },
        {
          "name": "stdout",
          "output_type": "stream",
          "text": [
            "{'epoch': 6, 'step': 23000, 'loss': 0.02653573453426361}\n"
          ]
        },
        {
          "name": "stderr",
          "output_type": "stream",
          "text": [
            "\n"
          ]
        },
        {
          "name": "stdout",
          "output_type": "stream",
          "text": [
            "{'epoch': 6, 'step': 24000, 'loss': 0.042703259736299515}\n"
          ]
        },
        {
          "name": "stderr",
          "output_type": "stream",
          "text": [
            "Iteration:  63%|██████▎   | 24003/38003 [54:17<30:12,  7.72it/s]\u001b[A\n"
          ]
        },
        {
          "name": "stdout",
          "output_type": "stream",
          "text": [
            "{'epoch': 6, 'step': 25000, 'loss': 0.04780300334095955}\n"
          ]
        },
        {
          "name": "stderr",
          "output_type": "stream",
          "text": [
            "Iteration:  66%|██████▌   | 25003/38003 [56:32<28:12,  7.68it/s]\u001b[A"
          ]
        },
        {
          "name": "stdout",
          "output_type": "stream",
          "text": [
            "{'epoch': 6, 'step': 26000, 'loss': 0.07017787545919418}\n"
          ]
        },
        {
          "name": "stderr",
          "output_type": "stream",
          "text": [
            "\n"
          ]
        },
        {
          "name": "stdout",
          "output_type": "stream",
          "text": [
            "{'epoch': 6, 'step': 27000, 'loss': 0.03634234145283699}\n"
          ]
        },
        {
          "name": "stderr",
          "output_type": "stream",
          "text": [
            "Iteration:  71%|███████   | 27003/38003 [1:01:03<23:53,  7.67it/s]\u001b[A\n"
          ]
        },
        {
          "name": "stdout",
          "output_type": "stream",
          "text": [
            "{'epoch': 6, 'step': 28000, 'loss': 0.011058256030082703}\n"
          ]
        },
        {
          "name": "stderr",
          "output_type": "stream",
          "text": [
            "Iteration:  74%|███████▎  | 28003/38003 [1:03:19<21:41,  7.68it/s]\u001b[A\n"
          ]
        },
        {
          "name": "stdout",
          "output_type": "stream",
          "text": [
            "{'epoch': 6, 'step': 29000, 'loss': 0.11808736622333527}\n"
          ]
        },
        {
          "name": "stderr",
          "output_type": "stream",
          "text": [
            "Iteration:  76%|███████▋  | 29003/38003 [1:05:34<19:33,  7.67it/s]\u001b[A\n"
          ]
        },
        {
          "name": "stdout",
          "output_type": "stream",
          "text": [
            "{'epoch': 6, 'step': 30000, 'loss': 0.028444284573197365}\n"
          ]
        },
        {
          "name": "stderr",
          "output_type": "stream",
          "text": [
            "Iteration:  79%|███████▉  | 30003/38003 [1:07:50<17:24,  7.66it/s]\u001b[A\n"
          ]
        },
        {
          "name": "stdout",
          "output_type": "stream",
          "text": [
            "{'epoch': 6, 'step': 31000, 'loss': 0.08115293085575104}\n"
          ]
        },
        {
          "name": "stderr",
          "output_type": "stream",
          "text": [
            "Iteration:  82%|████████▏ | 31003/38003 [1:10:06<15:10,  7.69it/s]\u001b[A\n"
          ]
        },
        {
          "name": "stdout",
          "output_type": "stream",
          "text": [
            "{'epoch': 6, 'step': 32000, 'loss': 0.0885762944817543}\n"
          ]
        },
        {
          "name": "stderr",
          "output_type": "stream",
          "text": [
            "Iteration:  84%|████████▍ | 32003/38003 [1:12:21<13:01,  7.68it/s]\u001b[A\n"
          ]
        },
        {
          "name": "stdout",
          "output_type": "stream",
          "text": [
            "{'epoch': 6, 'step': 33000, 'loss': 0.08194246888160706}\n"
          ]
        },
        {
          "name": "stderr",
          "output_type": "stream",
          "text": [
            "Iteration:  87%|████████▋ | 33003/38003 [1:14:37<10:49,  7.70it/s]\u001b[A\n"
          ]
        },
        {
          "name": "stdout",
          "output_type": "stream",
          "text": [
            "{'epoch': 6, 'step': 34000, 'loss': 0.08048851042985916}\n"
          ]
        },
        {
          "name": "stderr",
          "output_type": "stream",
          "text": [
            "Iteration:  89%|████████▉ | 34003/38003 [1:16:53<08:40,  7.69it/s]\u001b[A\n"
          ]
        },
        {
          "name": "stdout",
          "output_type": "stream",
          "text": [
            "{'epoch': 6, 'step': 35000, 'loss': 0.038411106914281845}\n"
          ]
        },
        {
          "name": "stderr",
          "output_type": "stream",
          "text": [
            "Iteration:  92%|█████████▏| 35003/38003 [1:19:08<06:30,  7.69it/s]\u001b[A\n"
          ]
        },
        {
          "name": "stdout",
          "output_type": "stream",
          "text": [
            "{'epoch': 6, 'step': 36000, 'loss': 0.1051197424530983}\n"
          ]
        },
        {
          "name": "stderr",
          "output_type": "stream",
          "text": [
            "Iteration:  95%|█████████▍| 36003/38003 [1:21:24<04:20,  7.68it/s]\u001b[A\n"
          ]
        },
        {
          "name": "stdout",
          "output_type": "stream",
          "text": [
            "{'epoch': 6, 'step': 37000, 'loss': 0.05901755392551422}\n"
          ]
        },
        {
          "name": "stderr",
          "output_type": "stream",
          "text": [
            "Iteration:  97%|█████████▋| 37003/38003 [1:23:40<02:10,  7.65it/s]\u001b[A"
          ]
        },
        {
          "name": "stdout",
          "output_type": "stream",
          "text": [
            "{'epoch': 6, 'step': 38000, 'loss': 0.04421533644199371}\n"
          ]
        },
        {
          "name": "stderr",
          "output_type": "stream",
          "text": [
            "Iteration: 100%|██████████| 38003/38003 [1:25:55<00:00,  7.37it/s]\n",
            "Epoch:  22%|██▏       | 7/32 [11:48:14<38:05:36, 5485.44s/it]\n"
          ]
        },
        {
          "name": "stdout",
          "output_type": "stream",
          "text": [
            "{'epoch': 7, 'step': 0, 'loss': 0.059284258633852005}\n"
          ]
        },
        {
          "name": "stderr",
          "output_type": "stream",
          "text": [
            "Iteration:   0%|          | 3/38003 [00:00<1:07:18,  9.41it/s]\u001b[A\n"
          ]
        },
        {
          "name": "stdout",
          "output_type": "stream",
          "text": [
            "{'epoch': 7, 'step': 1000, 'loss': 0.11756987869739532}\n"
          ]
        },
        {
          "name": "stderr",
          "output_type": "stream",
          "text": [
            "Iteration:   3%|▎         | 1003/38003 [02:15<1:20:04,  7.70it/s]\u001b[A\n"
          ]
        },
        {
          "name": "stdout",
          "output_type": "stream",
          "text": [
            "{'epoch': 7, 'step': 2000, 'loss': 0.01614188589155674}\n"
          ]
        },
        {
          "name": "stderr",
          "output_type": "stream",
          "text": [
            "Iteration:   5%|▌         | 2003/38003 [04:31<1:18:10,  7.67it/s]\u001b[A\n"
          ]
        },
        {
          "name": "stdout",
          "output_type": "stream",
          "text": [
            "{'epoch': 7, 'step': 3000, 'loss': 0.0373409129679203}\n"
          ]
        },
        {
          "name": "stderr",
          "output_type": "stream",
          "text": [
            "Iteration:   8%|▊         | 3003/38003 [06:47<1:15:55,  7.68it/s]\u001b[A\n"
          ]
        },
        {
          "name": "stdout",
          "output_type": "stream",
          "text": [
            "{'epoch': 7, 'step': 4000, 'loss': 0.02201029658317566}\n"
          ]
        },
        {
          "name": "stderr",
          "output_type": "stream",
          "text": [
            "Iteration:  11%|█         | 4003/38003 [09:02<1:13:45,  7.68it/s]\u001b[A"
          ]
        },
        {
          "name": "stdout",
          "output_type": "stream",
          "text": [
            "{'epoch': 7, 'step': 5000, 'loss': 0.036900267004966736}\n"
          ]
        },
        {
          "name": "stderr",
          "output_type": "stream",
          "text": [
            "\n"
          ]
        },
        {
          "name": "stdout",
          "output_type": "stream",
          "text": [
            "{'epoch': 7, 'step': 6000, 'loss': 0.09997203201055527}\n"
          ]
        },
        {
          "name": "stderr",
          "output_type": "stream",
          "text": [
            "Iteration:  16%|█▌        | 6003/38003 [13:34<1:09:30,  7.67it/s]\u001b[A\n"
          ]
        },
        {
          "name": "stdout",
          "output_type": "stream",
          "text": [
            "{'epoch': 7, 'step': 7000, 'loss': 0.09566669911146164}\n"
          ]
        },
        {
          "name": "stderr",
          "output_type": "stream",
          "text": [
            "Iteration:  18%|█▊        | 7003/38003 [15:49<1:07:20,  7.67it/s]\u001b[A\n"
          ]
        },
        {
          "name": "stdout",
          "output_type": "stream",
          "text": [
            "{'epoch': 7, 'step': 8000, 'loss': 0.04079093784093857}\n"
          ]
        },
        {
          "name": "stderr",
          "output_type": "stream",
          "text": [
            "Iteration:  21%|██        | 8003/38003 [18:05<1:05:01,  7.69it/s]\u001b[A\n"
          ]
        },
        {
          "name": "stdout",
          "output_type": "stream",
          "text": [
            "{'epoch': 7, 'step': 9000, 'loss': 0.008516233414411545}\n"
          ]
        },
        {
          "name": "stderr",
          "output_type": "stream",
          "text": [
            "Iteration:  24%|██▎       | 9003/38003 [20:21<1:02:49,  7.69it/s]\u001b[A\n"
          ]
        },
        {
          "name": "stdout",
          "output_type": "stream",
          "text": [
            "{'epoch': 7, 'step': 10000, 'loss': 0.06112956255674362}\n"
          ]
        },
        {
          "name": "stderr",
          "output_type": "stream",
          "text": [
            "Iteration:  26%|██▋       | 10003/38003 [22:36<1:00:58,  7.65it/s]\u001b[A\n"
          ]
        },
        {
          "name": "stdout",
          "output_type": "stream",
          "text": [
            "{'epoch': 7, 'step': 11000, 'loss': 0.05542190000414848}\n"
          ]
        },
        {
          "name": "stderr",
          "output_type": "stream",
          "text": [
            "Iteration:  29%|██▉       | 11003/38003 [24:52<58:29,  7.69it/s]  \u001b[A\n"
          ]
        },
        {
          "name": "stdout",
          "output_type": "stream",
          "text": [
            "{'epoch': 7, 'step': 12000, 'loss': 0.06837921589612961}\n"
          ]
        },
        {
          "name": "stderr",
          "output_type": "stream",
          "text": [
            "Iteration:  32%|███▏      | 12003/38003 [27:08<56:21,  7.69it/s]  \u001b[A\n"
          ]
        },
        {
          "name": "stdout",
          "output_type": "stream",
          "text": [
            "{'epoch': 7, 'step': 13000, 'loss': 0.05278785899281502}\n"
          ]
        },
        {
          "name": "stderr",
          "output_type": "stream",
          "text": [
            "Iteration:  34%|███▍      | 13003/38003 [29:23<54:31,  7.64it/s]  \u001b[A\n"
          ]
        },
        {
          "name": "stdout",
          "output_type": "stream",
          "text": [
            "{'epoch': 7, 'step': 14000, 'loss': 0.06467249244451523}\n"
          ]
        },
        {
          "name": "stderr",
          "output_type": "stream",
          "text": [
            "Iteration:  37%|███▋      | 14003/38003 [31:39<52:07,  7.67it/s]  \u001b[A\n"
          ]
        },
        {
          "name": "stdout",
          "output_type": "stream",
          "text": [
            "{'epoch': 7, 'step': 15000, 'loss': 0.047934215515851974}\n"
          ]
        },
        {
          "name": "stderr",
          "output_type": "stream",
          "text": [
            "Iteration:  39%|███▉      | 15003/38003 [33:54<49:51,  7.69it/s]  \u001b[A\n"
          ]
        },
        {
          "name": "stdout",
          "output_type": "stream",
          "text": [
            "{'epoch': 7, 'step': 16000, 'loss': 0.10076157748699188}\n"
          ]
        },
        {
          "name": "stderr",
          "output_type": "stream",
          "text": [
            "Iteration:  42%|████▏     | 16003/38003 [36:10<47:38,  7.70it/s]\u001b[A\n"
          ]
        },
        {
          "name": "stdout",
          "output_type": "stream",
          "text": [
            "{'epoch': 7, 'step': 17000, 'loss': 0.04291856288909912}\n"
          ]
        },
        {
          "name": "stderr",
          "output_type": "stream",
          "text": [
            "Iteration:  45%|████▍     | 17003/38003 [38:26<45:28,  7.70it/s]\u001b[A\n"
          ]
        },
        {
          "name": "stdout",
          "output_type": "stream",
          "text": [
            "{'epoch': 7, 'step': 18000, 'loss': 0.037866685539484024}\n"
          ]
        },
        {
          "name": "stderr",
          "output_type": "stream",
          "text": [
            "Iteration:  47%|████▋     | 18003/38003 [40:41<43:17,  7.70it/s]\u001b[A"
          ]
        },
        {
          "name": "stdout",
          "output_type": "stream",
          "text": [
            "{'epoch': 7, 'step': 19000, 'loss': 0.0286015123128891}\n"
          ]
        },
        {
          "name": "stderr",
          "output_type": "stream",
          "text": [
            "\n"
          ]
        },
        {
          "name": "stdout",
          "output_type": "stream",
          "text": [
            "{'epoch': 7, 'step': 20000, 'loss': 0.02708182856440544}\n"
          ]
        },
        {
          "name": "stderr",
          "output_type": "stream",
          "text": [
            "Iteration:  53%|█████▎    | 20003/38003 [45:13<39:02,  7.68it/s]\u001b[A\n"
          ]
        },
        {
          "name": "stdout",
          "output_type": "stream",
          "text": [
            "{'epoch': 7, 'step': 21000, 'loss': 0.09092222899198532}\n"
          ]
        },
        {
          "name": "stderr",
          "output_type": "stream",
          "text": [
            "Iteration:  55%|█████▌    | 21003/38003 [47:28<37:00,  7.65it/s]\u001b[A\n"
          ]
        },
        {
          "name": "stdout",
          "output_type": "stream",
          "text": [
            "{'epoch': 7, 'step': 22000, 'loss': 0.11204668134450912}\n"
          ]
        },
        {
          "name": "stderr",
          "output_type": "stream",
          "text": [
            "Iteration:  58%|█████▊    | 22003/38003 [49:44<34:43,  7.68it/s]\u001b[A"
          ]
        },
        {
          "name": "stdout",
          "output_type": "stream",
          "text": [
            "{'epoch': 7, 'step': 23000, 'loss': 0.02256419137120247}\n"
          ]
        },
        {
          "name": "stderr",
          "output_type": "stream",
          "text": [
            "\n"
          ]
        },
        {
          "name": "stdout",
          "output_type": "stream",
          "text": [
            "{'epoch': 7, 'step': 24000, 'loss': 0.07380996644496918}\n"
          ]
        },
        {
          "name": "stderr",
          "output_type": "stream",
          "text": [
            "Iteration:  63%|██████▎   | 24003/38003 [54:15<30:21,  7.68it/s]\u001b[A\n"
          ]
        },
        {
          "name": "stdout",
          "output_type": "stream",
          "text": [
            "{'epoch': 7, 'step': 25000, 'loss': 0.1008828729391098}\n"
          ]
        },
        {
          "name": "stderr",
          "output_type": "stream",
          "text": [
            "Iteration:  66%|██████▌   | 25003/38003 [56:31<28:09,  7.70it/s]\u001b[A\n"
          ]
        },
        {
          "name": "stdout",
          "output_type": "stream",
          "text": [
            "{'epoch': 7, 'step': 26000, 'loss': 0.07526971399784088}\n"
          ]
        },
        {
          "name": "stderr",
          "output_type": "stream",
          "text": [
            "Iteration:  68%|██████▊   | 26003/38003 [58:46<25:59,  7.69it/s]\u001b[A\n"
          ]
        },
        {
          "name": "stdout",
          "output_type": "stream",
          "text": [
            "{'epoch': 7, 'step': 27000, 'loss': 0.0977904424071312}\n"
          ]
        },
        {
          "name": "stderr",
          "output_type": "stream",
          "text": [
            "Iteration:  71%|███████   | 27003/38003 [1:01:02<23:51,  7.69it/s]\u001b[A\n"
          ]
        },
        {
          "name": "stdout",
          "output_type": "stream",
          "text": [
            "{'epoch': 7, 'step': 28000, 'loss': 0.05735059455037117}\n"
          ]
        },
        {
          "name": "stderr",
          "output_type": "stream",
          "text": [
            "Iteration:  74%|███████▎  | 28003/38003 [1:03:18<21:45,  7.66it/s]\u001b[A\n"
          ]
        },
        {
          "name": "stdout",
          "output_type": "stream",
          "text": [
            "{'epoch': 7, 'step': 29000, 'loss': 0.058664657175540924}\n"
          ]
        },
        {
          "name": "stderr",
          "output_type": "stream",
          "text": [
            "Iteration:  76%|███████▋  | 29003/38003 [1:05:33<19:34,  7.66it/s]\u001b[A\n"
          ]
        },
        {
          "name": "stdout",
          "output_type": "stream",
          "text": [
            "{'epoch': 7, 'step': 30000, 'loss': 0.0476570688188076}\n"
          ]
        },
        {
          "name": "stderr",
          "output_type": "stream",
          "text": [
            "Iteration:  79%|███████▉  | 30003/38003 [1:07:49<17:25,  7.65it/s]\u001b[A\n"
          ]
        },
        {
          "name": "stdout",
          "output_type": "stream",
          "text": [
            "{'epoch': 7, 'step': 31000, 'loss': 0.05281674116849899}\n"
          ]
        },
        {
          "name": "stderr",
          "output_type": "stream",
          "text": [
            "Iteration:  82%|████████▏ | 31003/38003 [1:10:04<15:11,  7.68it/s]\u001b[A\n"
          ]
        },
        {
          "name": "stdout",
          "output_type": "stream",
          "text": [
            "{'epoch': 7, 'step': 32000, 'loss': 0.08753462135791779}\n"
          ]
        },
        {
          "name": "stderr",
          "output_type": "stream",
          "text": [
            "Iteration:  84%|████████▍ | 32003/38003 [1:12:20<13:01,  7.68it/s]\u001b[A\n"
          ]
        },
        {
          "name": "stdout",
          "output_type": "stream",
          "text": [
            "{'epoch': 7, 'step': 33000, 'loss': 0.07963059097528458}\n"
          ]
        },
        {
          "name": "stderr",
          "output_type": "stream",
          "text": [
            "Iteration:  87%|████████▋ | 33003/38003 [1:14:36<10:48,  7.71it/s]\u001b[A\n"
          ]
        },
        {
          "name": "stdout",
          "output_type": "stream",
          "text": [
            "{'epoch': 7, 'step': 34000, 'loss': 0.017560526728630066}\n"
          ]
        },
        {
          "name": "stderr",
          "output_type": "stream",
          "text": [
            "Iteration:  89%|████████▉ | 34003/38003 [1:16:52<08:38,  7.71it/s]\u001b[A\n"
          ]
        },
        {
          "name": "stdout",
          "output_type": "stream",
          "text": [
            "{'epoch': 7, 'step': 35000, 'loss': 0.04612455144524574}\n"
          ]
        },
        {
          "name": "stderr",
          "output_type": "stream",
          "text": [
            "Iteration:  92%|█████████▏| 35003/38003 [1:19:07<06:30,  7.68it/s]\u001b[A\n"
          ]
        },
        {
          "name": "stdout",
          "output_type": "stream",
          "text": [
            "{'epoch': 7, 'step': 36000, 'loss': 0.08114860951900482}\n"
          ]
        },
        {
          "name": "stderr",
          "output_type": "stream",
          "text": [
            "Iteration:  95%|█████████▍| 36003/38003 [1:21:23<04:19,  7.71it/s]\u001b[A\n"
          ]
        },
        {
          "name": "stdout",
          "output_type": "stream",
          "text": [
            "{'epoch': 7, 'step': 37000, 'loss': 0.06582512706518173}\n"
          ]
        },
        {
          "name": "stderr",
          "output_type": "stream",
          "text": [
            "Iteration:  97%|█████████▋| 37003/38003 [1:23:38<02:10,  7.65it/s]\u001b[A"
          ]
        },
        {
          "name": "stdout",
          "output_type": "stream",
          "text": [
            "{'epoch': 7, 'step': 38000, 'loss': 0.11017923802137375}\n"
          ]
        },
        {
          "name": "stderr",
          "output_type": "stream",
          "text": [
            "Iteration: 100%|██████████| 38003/38003 [1:25:54<00:00,  7.37it/s]\n",
            "Epoch:  25%|██▌       | 8/32 [13:14:10<35:52:07, 5380.30s/it]\n"
          ]
        },
        {
          "name": "stdout",
          "output_type": "stream",
          "text": [
            "{'epoch': 8, 'step': 0, 'loss': 0.03996509313583374}\n"
          ]
        },
        {
          "name": "stderr",
          "output_type": "stream",
          "text": [
            "Iteration:   0%|          | 3/38003 [00:00<1:07:13,  9.42it/s]\u001b[A\n"
          ]
        },
        {
          "name": "stdout",
          "output_type": "stream",
          "text": [
            "{'epoch': 8, 'step': 1000, 'loss': 0.04023895412683487}\n"
          ]
        },
        {
          "name": "stderr",
          "output_type": "stream",
          "text": [
            "Iteration:   3%|▎         | 1003/38003 [02:15<1:19:58,  7.71it/s]\u001b[A\n"
          ]
        },
        {
          "name": "stdout",
          "output_type": "stream",
          "text": [
            "{'epoch': 8, 'step': 2000, 'loss': 0.01019664853811264}\n"
          ]
        },
        {
          "name": "stderr",
          "output_type": "stream",
          "text": [
            "Iteration:   5%|▌         | 2003/38003 [04:31<1:17:52,  7.70it/s]\u001b[A\n"
          ]
        },
        {
          "name": "stdout",
          "output_type": "stream",
          "text": [
            "{'epoch': 8, 'step': 3000, 'loss': 0.052191708236932755}\n"
          ]
        },
        {
          "name": "stderr",
          "output_type": "stream",
          "text": [
            "Iteration:   8%|▊         | 3003/38003 [06:47<1:15:45,  7.70it/s]\u001b[A\n"
          ]
        },
        {
          "name": "stdout",
          "output_type": "stream",
          "text": [
            "{'epoch': 8, 'step': 4000, 'loss': 0.026932058855891228}\n"
          ]
        },
        {
          "name": "stderr",
          "output_type": "stream",
          "text": [
            "Iteration:  11%|█         | 4003/38003 [09:02<1:13:41,  7.69it/s]\u001b[A\n"
          ]
        },
        {
          "name": "stdout",
          "output_type": "stream",
          "text": [
            "{'epoch': 8, 'step': 5000, 'loss': 0.08742261677980423}\n"
          ]
        },
        {
          "name": "stderr",
          "output_type": "stream",
          "text": [
            "Iteration:  13%|█▎        | 5003/38003 [11:18<1:11:54,  7.65it/s]\u001b[A"
          ]
        },
        {
          "name": "stdout",
          "output_type": "stream",
          "text": [
            "{'epoch': 8, 'step': 6000, 'loss': 0.06759917736053467}\n"
          ]
        },
        {
          "name": "stderr",
          "output_type": "stream",
          "text": [
            "\n"
          ]
        },
        {
          "name": "stdout",
          "output_type": "stream",
          "text": [
            "{'epoch': 8, 'step': 7000, 'loss': 0.03826000913977623}\n"
          ]
        },
        {
          "name": "stderr",
          "output_type": "stream",
          "text": [
            "Iteration:  18%|█▊        | 7003/38003 [15:49<1:07:26,  7.66it/s]\u001b[A"
          ]
        },
        {
          "name": "stdout",
          "output_type": "stream",
          "text": [
            "{'epoch': 8, 'step': 8000, 'loss': 0.04822232574224472}\n"
          ]
        },
        {
          "name": "stderr",
          "output_type": "stream",
          "text": [
            "\n"
          ]
        },
        {
          "name": "stdout",
          "output_type": "stream",
          "text": [
            "{'epoch': 8, 'step': 9000, 'loss': 0.026027819141745567}\n"
          ]
        },
        {
          "name": "stderr",
          "output_type": "stream",
          "text": [
            "Iteration:  24%|██▎       | 9003/38003 [20:21<1:02:49,  7.69it/s]\u001b[A\n"
          ]
        },
        {
          "name": "stdout",
          "output_type": "stream",
          "text": [
            "{'epoch': 8, 'step': 10000, 'loss': 0.047082722187042236}\n"
          ]
        },
        {
          "name": "stderr",
          "output_type": "stream",
          "text": [
            "Iteration:  26%|██▋       | 10003/38003 [22:36<1:00:42,  7.69it/s]\u001b[A\n"
          ]
        },
        {
          "name": "stdout",
          "output_type": "stream",
          "text": [
            "{'epoch': 8, 'step': 11000, 'loss': 0.058119893074035645}\n"
          ]
        },
        {
          "name": "stderr",
          "output_type": "stream",
          "text": [
            "Iteration:  29%|██▉       | 11003/38003 [24:52<58:40,  7.67it/s]  \u001b[A\n"
          ]
        },
        {
          "name": "stdout",
          "output_type": "stream",
          "text": [
            "{'epoch': 8, 'step': 12000, 'loss': 0.018152160570025444}\n"
          ]
        },
        {
          "name": "stderr",
          "output_type": "stream",
          "text": [
            "Iteration:  32%|███▏      | 12003/38003 [27:08<56:28,  7.67it/s]  \u001b[A\n"
          ]
        },
        {
          "name": "stdout",
          "output_type": "stream",
          "text": [
            "{'epoch': 8, 'step': 13000, 'loss': 0.03882391378283501}\n"
          ]
        },
        {
          "name": "stderr",
          "output_type": "stream",
          "text": [
            "Iteration:  34%|███▍      | 13003/38003 [29:23<54:19,  7.67it/s]  \u001b[A"
          ]
        },
        {
          "name": "stdout",
          "output_type": "stream",
          "text": [
            "{'epoch': 8, 'step': 14000, 'loss': 0.06702472269535065}\n"
          ]
        },
        {
          "name": "stderr",
          "output_type": "stream",
          "text": [
            "\n"
          ]
        },
        {
          "name": "stdout",
          "output_type": "stream",
          "text": [
            "{'epoch': 8, 'step': 15000, 'loss': 0.05146466940641403}\n"
          ]
        },
        {
          "name": "stderr",
          "output_type": "stream",
          "text": [
            "Iteration:  39%|███▉      | 15003/38003 [33:55<49:56,  7.68it/s]  \u001b[A\n"
          ]
        },
        {
          "name": "stdout",
          "output_type": "stream",
          "text": [
            "{'epoch': 8, 'step': 16000, 'loss': 0.05979658290743828}\n"
          ]
        },
        {
          "name": "stderr",
          "output_type": "stream",
          "text": [
            "Iteration:  42%|████▏     | 16003/38003 [36:10<47:35,  7.70it/s]\u001b[A\n"
          ]
        },
        {
          "name": "stdout",
          "output_type": "stream",
          "text": [
            "{'epoch': 8, 'step': 17000, 'loss': 0.017467111349105835}\n"
          ]
        },
        {
          "name": "stderr",
          "output_type": "stream",
          "text": [
            "Iteration:  45%|████▍     | 17003/38003 [38:26<45:30,  7.69it/s]\u001b[A"
          ]
        },
        {
          "name": "stdout",
          "output_type": "stream",
          "text": [
            "{'epoch': 8, 'step': 18000, 'loss': 0.045558251440525055}\n"
          ]
        },
        {
          "name": "stderr",
          "output_type": "stream",
          "text": [
            "\n"
          ]
        },
        {
          "name": "stdout",
          "output_type": "stream",
          "text": [
            "{'epoch': 8, 'step': 19000, 'loss': 0.026934687048196793}\n"
          ]
        },
        {
          "name": "stderr",
          "output_type": "stream",
          "text": [
            "Iteration:  50%|█████     | 19003/38003 [42:57<41:26,  7.64it/s]\u001b[A\n"
          ]
        },
        {
          "name": "stdout",
          "output_type": "stream",
          "text": [
            "{'epoch': 8, 'step': 20000, 'loss': 0.02213037572801113}\n"
          ]
        },
        {
          "name": "stderr",
          "output_type": "stream",
          "text": [
            "Iteration:  53%|█████▎    | 20003/38003 [45:13<39:10,  7.66it/s]\u001b[A\n"
          ]
        },
        {
          "name": "stdout",
          "output_type": "stream",
          "text": [
            "{'epoch': 8, 'step': 21000, 'loss': 0.027370942756533623}\n"
          ]
        },
        {
          "name": "stderr",
          "output_type": "stream",
          "text": [
            "Iteration:  55%|█████▌    | 21003/38003 [47:29<36:52,  7.68it/s]\u001b[A\n"
          ]
        },
        {
          "name": "stdout",
          "output_type": "stream",
          "text": [
            "{'epoch': 8, 'step': 22000, 'loss': 0.060147423297166824}\n"
          ]
        },
        {
          "name": "stderr",
          "output_type": "stream",
          "text": [
            "Iteration:  58%|█████▊    | 22003/38003 [49:44<35:11,  7.58it/s]\u001b[A\n"
          ]
        },
        {
          "name": "stdout",
          "output_type": "stream",
          "text": [
            "{'epoch': 8, 'step': 23000, 'loss': 0.07517026364803314}\n"
          ]
        },
        {
          "name": "stderr",
          "output_type": "stream",
          "text": [
            "Iteration:  61%|██████    | 23003/38003 [52:00<32:23,  7.72it/s]\u001b[A\n"
          ]
        },
        {
          "name": "stdout",
          "output_type": "stream",
          "text": [
            "{'epoch': 8, 'step': 24000, 'loss': 0.07535462081432343}\n"
          ]
        },
        {
          "name": "stderr",
          "output_type": "stream",
          "text": [
            "Iteration:  63%|██████▎   | 24003/38003 [54:16<30:20,  7.69it/s]\u001b[A\n"
          ]
        },
        {
          "name": "stdout",
          "output_type": "stream",
          "text": [
            "{'epoch': 8, 'step': 25000, 'loss': 0.01611248217523098}\n"
          ]
        },
        {
          "name": "stderr",
          "output_type": "stream",
          "text": [
            "Iteration:  66%|██████▌   | 25003/38003 [56:32<28:15,  7.67it/s]\u001b[A\n"
          ]
        },
        {
          "name": "stdout",
          "output_type": "stream",
          "text": [
            "{'epoch': 8, 'step': 26000, 'loss': 0.033450763672590256}\n"
          ]
        },
        {
          "name": "stderr",
          "output_type": "stream",
          "text": [
            "Iteration:  68%|██████▊   | 26003/38003 [58:47<26:08,  7.65it/s]\u001b[A\n"
          ]
        },
        {
          "name": "stdout",
          "output_type": "stream",
          "text": [
            "{'epoch': 8, 'step': 27000, 'loss': 0.056939370930194855}\n"
          ]
        },
        {
          "name": "stderr",
          "output_type": "stream",
          "text": [
            "Iteration:  71%|███████   | 27003/38003 [1:01:03<23:59,  7.64it/s]\u001b[A\n"
          ]
        },
        {
          "name": "stdout",
          "output_type": "stream",
          "text": [
            "{'epoch': 8, 'step': 28000, 'loss': 0.0454891137778759}\n"
          ]
        },
        {
          "name": "stderr",
          "output_type": "stream",
          "text": [
            "Iteration:  74%|███████▎  | 28003/38003 [1:03:19<21:46,  7.65it/s]\u001b[A\n"
          ]
        },
        {
          "name": "stdout",
          "output_type": "stream",
          "text": [
            "{'epoch': 8, 'step': 29000, 'loss': 0.025666747242212296}\n"
          ]
        },
        {
          "name": "stderr",
          "output_type": "stream",
          "text": [
            "Iteration:  76%|███████▋  | 29003/38003 [1:05:34<19:32,  7.68it/s]\u001b[A\n"
          ]
        },
        {
          "name": "stdout",
          "output_type": "stream",
          "text": [
            "{'epoch': 8, 'step': 30000, 'loss': 0.05827873572707176}\n"
          ]
        },
        {
          "name": "stderr",
          "output_type": "stream",
          "text": [
            "Iteration:  79%|███████▉  | 30003/38003 [1:07:50<17:19,  7.70it/s]\u001b[A\n"
          ]
        },
        {
          "name": "stdout",
          "output_type": "stream",
          "text": [
            "{'epoch': 8, 'step': 31000, 'loss': 0.07724110782146454}\n"
          ]
        },
        {
          "name": "stderr",
          "output_type": "stream",
          "text": [
            "Iteration:  82%|████████▏ | 31003/38003 [1:10:06<15:09,  7.69it/s]\u001b[A\n"
          ]
        },
        {
          "name": "stdout",
          "output_type": "stream",
          "text": [
            "{'epoch': 8, 'step': 32000, 'loss': 0.0964021384716034}\n"
          ]
        },
        {
          "name": "stderr",
          "output_type": "stream",
          "text": [
            "Iteration:  84%|████████▍ | 32003/38003 [1:12:21<13:00,  7.69it/s]\u001b[A\n"
          ]
        },
        {
          "name": "stdout",
          "output_type": "stream",
          "text": [
            "{'epoch': 8, 'step': 33000, 'loss': 0.013935250230133533}\n"
          ]
        },
        {
          "name": "stderr",
          "output_type": "stream",
          "text": [
            "Iteration:  87%|████████▋ | 33003/38003 [1:14:37<10:50,  7.69it/s]\u001b[A\n"
          ]
        },
        {
          "name": "stdout",
          "output_type": "stream",
          "text": [
            "{'epoch': 8, 'step': 34000, 'loss': 0.021227210760116577}\n"
          ]
        },
        {
          "name": "stderr",
          "output_type": "stream",
          "text": [
            "Iteration:  89%|████████▉ | 34003/38003 [1:16:53<08:38,  7.72it/s]\u001b[A\n"
          ]
        },
        {
          "name": "stdout",
          "output_type": "stream",
          "text": [
            "{'epoch': 8, 'step': 35000, 'loss': 0.0440765880048275}\n"
          ]
        },
        {
          "name": "stderr",
          "output_type": "stream",
          "text": [
            "Iteration:  92%|█████████▏| 35003/38003 [1:19:08<06:32,  7.64it/s]\u001b[A\n"
          ]
        },
        {
          "name": "stdout",
          "output_type": "stream",
          "text": [
            "{'epoch': 8, 'step': 36000, 'loss': 0.08106189966201782}\n"
          ]
        },
        {
          "name": "stderr",
          "output_type": "stream",
          "text": [
            "Iteration:  95%|█████████▍| 36003/38003 [1:21:24<04:20,  7.68it/s]\u001b[A\n"
          ]
        },
        {
          "name": "stdout",
          "output_type": "stream",
          "text": [
            "{'epoch': 8, 'step': 37000, 'loss': 0.020075026899576187}\n"
          ]
        },
        {
          "name": "stderr",
          "output_type": "stream",
          "text": [
            "Iteration:  97%|█████████▋| 37003/38003 [1:23:40<02:09,  7.69it/s]\u001b[A\n"
          ]
        },
        {
          "name": "stdout",
          "output_type": "stream",
          "text": [
            "{'epoch': 8, 'step': 38000, 'loss': 0.03027118183672428}\n"
          ]
        },
        {
          "name": "stderr",
          "output_type": "stream",
          "text": [
            "Iteration: 100%|██████████| 38003/38003 [1:25:56<00:00,  7.37it/s]\u001b[A\n",
            "Epoch:  28%|██▊       | 9/32 [14:40:06<33:55:38, 5310.38s/it]\n"
          ]
        },
        {
          "name": "stdout",
          "output_type": "stream",
          "text": [
            "{'epoch': 9, 'step': 0, 'loss': 0.026563096791505814}\n"
          ]
        },
        {
          "name": "stderr",
          "output_type": "stream",
          "text": [
            "Iteration:   0%|          | 3/38003 [00:00<1:06:42,  9.49it/s]\u001b[A\n"
          ]
        },
        {
          "name": "stdout",
          "output_type": "stream",
          "text": [
            "{'epoch': 9, 'step': 1000, 'loss': 0.016602475196123123}\n"
          ]
        },
        {
          "name": "stderr",
          "output_type": "stream",
          "text": [
            "Iteration:   3%|▎         | 1003/38003 [02:16<1:20:15,  7.68it/s]\u001b[A\n"
          ]
        },
        {
          "name": "stdout",
          "output_type": "stream",
          "text": [
            "{'epoch': 9, 'step': 2000, 'loss': 0.03158111870288849}\n"
          ]
        },
        {
          "name": "stderr",
          "output_type": "stream",
          "text": [
            "Iteration:   5%|▌         | 2003/38003 [04:31<1:17:58,  7.70it/s]\u001b[A\n"
          ]
        },
        {
          "name": "stdout",
          "output_type": "stream",
          "text": [
            "{'epoch': 9, 'step': 3000, 'loss': 0.05740334093570709}\n"
          ]
        },
        {
          "name": "stderr",
          "output_type": "stream",
          "text": [
            "Iteration:   8%|▊         | 3003/38003 [06:47<1:16:07,  7.66it/s]\u001b[A\n"
          ]
        },
        {
          "name": "stdout",
          "output_type": "stream",
          "text": [
            "{'epoch': 9, 'step': 4000, 'loss': 0.04922690987586975}\n"
          ]
        },
        {
          "name": "stderr",
          "output_type": "stream",
          "text": [
            "Iteration:  11%|█         | 4003/38003 [09:03<1:13:51,  7.67it/s]\u001b[A\n"
          ]
        },
        {
          "name": "stdout",
          "output_type": "stream",
          "text": [
            "{'epoch': 9, 'step': 5000, 'loss': 0.01787763461470604}\n"
          ]
        },
        {
          "name": "stderr",
          "output_type": "stream",
          "text": [
            "Iteration:  13%|█▎        | 5003/38003 [11:18<1:11:26,  7.70it/s]\u001b[A\n"
          ]
        },
        {
          "name": "stdout",
          "output_type": "stream",
          "text": [
            "{'epoch': 9, 'step': 6000, 'loss': 0.07942581176757812}\n"
          ]
        },
        {
          "name": "stderr",
          "output_type": "stream",
          "text": [
            "Iteration:  16%|█▌        | 6003/38003 [13:34<1:09:28,  7.68it/s]\u001b[A\n"
          ]
        },
        {
          "name": "stdout",
          "output_type": "stream",
          "text": [
            "{'epoch': 9, 'step': 7000, 'loss': 0.058051202446222305}\n"
          ]
        },
        {
          "name": "stderr",
          "output_type": "stream",
          "text": [
            "Iteration:  18%|█▊        | 7003/38003 [15:50<1:07:15,  7.68it/s]\u001b[A\n"
          ]
        },
        {
          "name": "stdout",
          "output_type": "stream",
          "text": [
            "{'epoch': 9, 'step': 8000, 'loss': 0.03430707007646561}\n"
          ]
        },
        {
          "name": "stderr",
          "output_type": "stream",
          "text": [
            "Iteration:  21%|██        | 8003/38003 [18:06<1:05:03,  7.68it/s]\u001b[A\n"
          ]
        },
        {
          "name": "stdout",
          "output_type": "stream",
          "text": [
            "{'epoch': 9, 'step': 9000, 'loss': 0.014292877167463303}\n"
          ]
        },
        {
          "name": "stderr",
          "output_type": "stream",
          "text": [
            "Iteration:  24%|██▎       | 9003/38003 [20:21<1:03:11,  7.65it/s]\u001b[A"
          ]
        },
        {
          "name": "stdout",
          "output_type": "stream",
          "text": [
            "{'epoch': 9, 'step': 10000, 'loss': 0.042199280112981796}\n"
          ]
        },
        {
          "name": "stderr",
          "output_type": "stream",
          "text": [
            "\n"
          ]
        },
        {
          "name": "stdout",
          "output_type": "stream",
          "text": [
            "{'epoch': 9, 'step': 11000, 'loss': 0.02473747543990612}\n"
          ]
        },
        {
          "name": "stderr",
          "output_type": "stream",
          "text": [
            "Iteration:  29%|██▉       | 11003/38003 [24:53<58:37,  7.68it/s]  \u001b[A\n"
          ]
        },
        {
          "name": "stdout",
          "output_type": "stream",
          "text": [
            "{'epoch': 9, 'step': 12000, 'loss': 0.011731322854757309}\n"
          ]
        },
        {
          "name": "stderr",
          "output_type": "stream",
          "text": [
            "Iteration:  32%|███▏      | 12003/38003 [27:08<56:12,  7.71it/s]  \u001b[A\n"
          ]
        },
        {
          "name": "stdout",
          "output_type": "stream",
          "text": [
            "{'epoch': 9, 'step': 13000, 'loss': 0.05729477107524872}\n"
          ]
        },
        {
          "name": "stderr",
          "output_type": "stream",
          "text": [
            "Iteration:  34%|███▍      | 13003/38003 [29:24<54:19,  7.67it/s]  \u001b[A\n"
          ]
        },
        {
          "name": "stdout",
          "output_type": "stream",
          "text": [
            "{'epoch': 9, 'step': 14000, 'loss': 0.05162512883543968}\n"
          ]
        },
        {
          "name": "stderr",
          "output_type": "stream",
          "text": [
            "Iteration:  37%|███▋      | 14003/38003 [31:40<51:59,  7.69it/s]  \u001b[A\n"
          ]
        },
        {
          "name": "stdout",
          "output_type": "stream",
          "text": [
            "{'epoch': 9, 'step': 15000, 'loss': 0.05491861701011658}\n"
          ]
        },
        {
          "name": "stderr",
          "output_type": "stream",
          "text": [
            "Iteration:  39%|███▉      | 15003/38003 [33:56<49:53,  7.68it/s]  \u001b[A\n"
          ]
        },
        {
          "name": "stdout",
          "output_type": "stream",
          "text": [
            "{'epoch': 9, 'step': 16000, 'loss': 0.03504910692572594}\n"
          ]
        },
        {
          "name": "stderr",
          "output_type": "stream",
          "text": [
            "Iteration:  42%|████▏     | 16003/38003 [36:11<47:44,  7.68it/s]\u001b[A\n"
          ]
        },
        {
          "name": "stdout",
          "output_type": "stream",
          "text": [
            "{'epoch': 9, 'step': 17000, 'loss': 0.05834187567234039}\n"
          ]
        },
        {
          "name": "stderr",
          "output_type": "stream",
          "text": [
            "Iteration:  45%|████▍     | 17003/38003 [38:27<45:43,  7.65it/s]\u001b[A"
          ]
        },
        {
          "name": "stdout",
          "output_type": "stream",
          "text": [
            "{'epoch': 9, 'step': 18000, 'loss': 0.08672728389501572}\n"
          ]
        },
        {
          "name": "stderr",
          "output_type": "stream",
          "text": [
            "\n"
          ]
        },
        {
          "name": "stdout",
          "output_type": "stream",
          "text": [
            "{'epoch': 9, 'step': 19000, 'loss': 0.05904717370867729}\n"
          ]
        },
        {
          "name": "stderr",
          "output_type": "stream",
          "text": [
            "Iteration:  50%|█████     | 19003/38003 [42:58<41:03,  7.71it/s]\u001b[A\n"
          ]
        },
        {
          "name": "stdout",
          "output_type": "stream",
          "text": [
            "{'epoch': 9, 'step': 20000, 'loss': 0.06363880634307861}\n"
          ]
        },
        {
          "name": "stderr",
          "output_type": "stream",
          "text": [
            "Iteration:  53%|█████▎    | 20003/38003 [45:14<39:00,  7.69it/s]\u001b[A\n"
          ]
        },
        {
          "name": "stdout",
          "output_type": "stream",
          "text": [
            "{'epoch': 9, 'step': 21000, 'loss': 0.019986074417829514}\n"
          ]
        },
        {
          "name": "stderr",
          "output_type": "stream",
          "text": [
            "Iteration:  55%|█████▌    | 21003/38003 [47:30<37:10,  7.62it/s]\u001b[A\n"
          ]
        },
        {
          "name": "stdout",
          "output_type": "stream",
          "text": [
            "{'epoch': 9, 'step': 22000, 'loss': 0.0327293686568737}\n"
          ]
        },
        {
          "name": "stderr",
          "output_type": "stream",
          "text": [
            "Iteration:  58%|█████▊    | 22003/38003 [49:46<34:43,  7.68it/s]\u001b[A\n"
          ]
        },
        {
          "name": "stdout",
          "output_type": "stream",
          "text": [
            "{'epoch': 9, 'step': 23000, 'loss': 0.03885849565267563}\n"
          ]
        },
        {
          "name": "stderr",
          "output_type": "stream",
          "text": [
            "Iteration:  61%|██████    | 23003/38003 [52:01<32:39,  7.65it/s]\u001b[A\n"
          ]
        },
        {
          "name": "stdout",
          "output_type": "stream",
          "text": [
            "{'epoch': 9, 'step': 24000, 'loss': 0.03207554295659065}\n"
          ]
        },
        {
          "name": "stderr",
          "output_type": "stream",
          "text": [
            "Iteration:  63%|██████▎   | 24003/38003 [54:17<30:24,  7.67it/s]\u001b[A\n"
          ]
        },
        {
          "name": "stdout",
          "output_type": "stream",
          "text": [
            "{'epoch': 9, 'step': 25000, 'loss': 0.0369475781917572}\n"
          ]
        },
        {
          "name": "stderr",
          "output_type": "stream",
          "text": [
            "Iteration:  66%|██████▌   | 25003/38003 [56:33<28:13,  7.68it/s]\u001b[A\n"
          ]
        },
        {
          "name": "stdout",
          "output_type": "stream",
          "text": [
            "{'epoch': 9, 'step': 26000, 'loss': 0.054074909538030624}\n"
          ]
        },
        {
          "name": "stderr",
          "output_type": "stream",
          "text": [
            "Iteration:  68%|██████▊   | 26003/38003 [58:49<25:56,  7.71it/s]\u001b[A\n"
          ]
        },
        {
          "name": "stdout",
          "output_type": "stream",
          "text": [
            "{'epoch': 9, 'step': 27000, 'loss': 0.03192731738090515}\n"
          ]
        },
        {
          "name": "stderr",
          "output_type": "stream",
          "text": [
            "Iteration:  71%|███████   | 27003/38003 [1:01:04<23:52,  7.68it/s]\u001b[A\n"
          ]
        },
        {
          "name": "stdout",
          "output_type": "stream",
          "text": [
            "{'epoch': 9, 'step': 28000, 'loss': 0.06455767899751663}\n"
          ]
        },
        {
          "name": "stderr",
          "output_type": "stream",
          "text": [
            "Iteration:  74%|███████▎  | 28003/38003 [1:03:20<21:44,  7.66it/s]\u001b[A\n"
          ]
        },
        {
          "name": "stdout",
          "output_type": "stream",
          "text": [
            "{'epoch': 9, 'step': 29000, 'loss': 0.04242943227291107}\n"
          ]
        },
        {
          "name": "stderr",
          "output_type": "stream",
          "text": [
            "Iteration:  76%|███████▋  | 29003/38003 [1:05:36<19:32,  7.67it/s]\u001b[A\n"
          ]
        },
        {
          "name": "stdout",
          "output_type": "stream",
          "text": [
            "{'epoch': 9, 'step': 30000, 'loss': 0.08030948042869568}\n"
          ]
        },
        {
          "name": "stderr",
          "output_type": "stream",
          "text": [
            "Iteration:  79%|███████▉  | 30003/38003 [1:07:52<17:27,  7.64it/s]\u001b[A\n"
          ]
        },
        {
          "name": "stdout",
          "output_type": "stream",
          "text": [
            "{'epoch': 9, 'step': 31000, 'loss': 0.04515939578413963}\n"
          ]
        },
        {
          "name": "stderr",
          "output_type": "stream",
          "text": [
            "Iteration:  82%|████████▏ | 31003/38003 [1:10:07<15:12,  7.67it/s]\u001b[A\n"
          ]
        },
        {
          "name": "stdout",
          "output_type": "stream",
          "text": [
            "{'epoch': 9, 'step': 32000, 'loss': 0.048912547528743744}\n"
          ]
        },
        {
          "name": "stderr",
          "output_type": "stream",
          "text": [
            "Iteration:  84%|████████▍ | 32003/38003 [1:12:23<13:02,  7.67it/s]\u001b[A\n"
          ]
        },
        {
          "name": "stdout",
          "output_type": "stream",
          "text": [
            "{'epoch': 9, 'step': 33000, 'loss': 0.02585938759148121}\n"
          ]
        },
        {
          "name": "stderr",
          "output_type": "stream",
          "text": [
            "Iteration:  87%|████████▋ | 33003/38003 [1:14:39<10:49,  7.70it/s]\u001b[A\n"
          ]
        },
        {
          "name": "stdout",
          "output_type": "stream",
          "text": [
            "{'epoch': 9, 'step': 34000, 'loss': 0.089723601937294}\n"
          ]
        },
        {
          "name": "stderr",
          "output_type": "stream",
          "text": [
            "Iteration:  89%|████████▉ | 34003/38003 [1:16:55<08:40,  7.68it/s]\u001b[A\n"
          ]
        },
        {
          "name": "stdout",
          "output_type": "stream",
          "text": [
            "{'epoch': 9, 'step': 35000, 'loss': 0.08340395241975784}\n"
          ]
        },
        {
          "name": "stderr",
          "output_type": "stream",
          "text": [
            "Iteration:  92%|█████████▏| 35003/38003 [1:19:10<06:30,  7.68it/s]\u001b[A\n"
          ]
        },
        {
          "name": "stdout",
          "output_type": "stream",
          "text": [
            "{'epoch': 9, 'step': 36000, 'loss': 0.0380067378282547}\n"
          ]
        },
        {
          "name": "stderr",
          "output_type": "stream",
          "text": [
            "Iteration:  95%|█████████▍| 36003/38003 [1:21:26<04:20,  7.67it/s]\u001b[A\n"
          ]
        },
        {
          "name": "stdout",
          "output_type": "stream",
          "text": [
            "{'epoch': 9, 'step': 37000, 'loss': 0.015742041170597076}\n"
          ]
        },
        {
          "name": "stderr",
          "output_type": "stream",
          "text": [
            "Iteration:  97%|█████████▋| 37003/38003 [1:23:42<02:10,  7.66it/s]\u001b[A"
          ]
        },
        {
          "name": "stdout",
          "output_type": "stream",
          "text": [
            "{'epoch': 9, 'step': 38000, 'loss': 0.05785657465457916}\n"
          ]
        },
        {
          "name": "stderr",
          "output_type": "stream",
          "text": [
            "Iteration: 100%|██████████| 38003/38003 [1:25:57<00:00,  7.37it/s]\n",
            "Epoch:  31%|███▏      | 10/32 [16:06:05<32:09:58, 5263.55s/it]\n"
          ]
        },
        {
          "name": "stdout",
          "output_type": "stream",
          "text": [
            "{'epoch': 10, 'step': 0, 'loss': 0.022283518686890602}\n"
          ]
        },
        {
          "name": "stderr",
          "output_type": "stream",
          "text": [
            "Iteration:   0%|          | 3/38003 [00:00<1:06:58,  9.46it/s]\u001b[A\n"
          ]
        },
        {
          "name": "stdout",
          "output_type": "stream",
          "text": [
            "{'epoch': 10, 'step': 1000, 'loss': 0.015498250722885132}\n"
          ]
        },
        {
          "name": "stderr",
          "output_type": "stream",
          "text": [
            "Iteration:   3%|▎         | 1003/38003 [02:16<1:20:17,  7.68it/s]\u001b[A\n"
          ]
        },
        {
          "name": "stdout",
          "output_type": "stream",
          "text": [
            "{'epoch': 10, 'step': 2000, 'loss': 0.038420118391513824}\n"
          ]
        },
        {
          "name": "stderr",
          "output_type": "stream",
          "text": [
            "Iteration:   5%|▌         | 2003/38003 [04:31<1:18:02,  7.69it/s]\u001b[A\n"
          ]
        },
        {
          "name": "stdout",
          "output_type": "stream",
          "text": [
            "{'epoch': 10, 'step': 3000, 'loss': 0.04002658650279045}\n"
          ]
        },
        {
          "name": "stderr",
          "output_type": "stream",
          "text": [
            "Iteration:   8%|▊         | 3003/38003 [06:47<1:15:57,  7.68it/s]\u001b[A\n"
          ]
        },
        {
          "name": "stdout",
          "output_type": "stream",
          "text": [
            "{'epoch': 10, 'step': 4000, 'loss': 0.04377002641558647}\n"
          ]
        },
        {
          "name": "stderr",
          "output_type": "stream",
          "text": [
            "Iteration:  11%|█         | 4003/38003 [09:03<1:14:02,  7.65it/s]\u001b[A\n"
          ]
        },
        {
          "name": "stdout",
          "output_type": "stream",
          "text": [
            "{'epoch': 10, 'step': 5000, 'loss': 0.016698580235242844}\n"
          ]
        },
        {
          "name": "stderr",
          "output_type": "stream",
          "text": [
            "Iteration:  13%|█▎        | 5003/38003 [11:18<1:11:44,  7.67it/s]\u001b[A"
          ]
        },
        {
          "name": "stdout",
          "output_type": "stream",
          "text": [
            "{'epoch': 10, 'step': 6000, 'loss': 0.04133713245391846}\n"
          ]
        },
        {
          "name": "stderr",
          "output_type": "stream",
          "text": [
            "\n"
          ]
        },
        {
          "name": "stdout",
          "output_type": "stream",
          "text": [
            "{'epoch': 10, 'step': 7000, 'loss': 0.04060259088873863}\n"
          ]
        },
        {
          "name": "stderr",
          "output_type": "stream",
          "text": [
            "Iteration:  18%|█▊        | 7003/38003 [15:50<1:07:09,  7.69it/s]\u001b[A\n"
          ]
        },
        {
          "name": "stdout",
          "output_type": "stream",
          "text": [
            "{'epoch': 10, 'step': 8000, 'loss': 0.03545926883816719}\n"
          ]
        },
        {
          "name": "stderr",
          "output_type": "stream",
          "text": [
            "Iteration:  21%|██        | 8003/38003 [18:06<1:05:13,  7.67it/s]\u001b[A\n"
          ]
        },
        {
          "name": "stdout",
          "output_type": "stream",
          "text": [
            "{'epoch': 10, 'step': 9000, 'loss': 0.03460464999079704}\n"
          ]
        },
        {
          "name": "stderr",
          "output_type": "stream",
          "text": [
            "Iteration:  24%|██▎       | 9003/38003 [20:21<1:03:24,  7.62it/s]\u001b[A\n"
          ]
        },
        {
          "name": "stdout",
          "output_type": "stream",
          "text": [
            "{'epoch': 10, 'step': 10000, 'loss': 0.03796735778450966}\n"
          ]
        },
        {
          "name": "stderr",
          "output_type": "stream",
          "text": [
            "Iteration:  26%|██▋       | 10003/38003 [22:37<1:00:47,  7.68it/s]\u001b[A\n"
          ]
        },
        {
          "name": "stdout",
          "output_type": "stream",
          "text": [
            "{'epoch': 10, 'step': 11000, 'loss': 0.017818141728639603}\n"
          ]
        },
        {
          "name": "stderr",
          "output_type": "stream",
          "text": [
            "Iteration:  29%|██▉       | 11003/38003 [24:53<58:43,  7.66it/s]  \u001b[A\n"
          ]
        },
        {
          "name": "stdout",
          "output_type": "stream",
          "text": [
            "{'epoch': 10, 'step': 12000, 'loss': 0.020021239295601845}\n"
          ]
        },
        {
          "name": "stderr",
          "output_type": "stream",
          "text": [
            "Iteration:  32%|███▏      | 12003/38003 [27:09<56:32,  7.66it/s]  \u001b[A\n"
          ]
        },
        {
          "name": "stdout",
          "output_type": "stream",
          "text": [
            "{'epoch': 10, 'step': 13000, 'loss': 0.01811940222978592}\n"
          ]
        },
        {
          "name": "stderr",
          "output_type": "stream",
          "text": [
            "Iteration:  34%|███▍      | 13003/38003 [29:24<54:22,  7.66it/s]  \u001b[A\n"
          ]
        },
        {
          "name": "stdout",
          "output_type": "stream",
          "text": [
            "{'epoch': 10, 'step': 14000, 'loss': 0.03408413380384445}\n"
          ]
        },
        {
          "name": "stderr",
          "output_type": "stream",
          "text": [
            "Iteration:  37%|███▋      | 14003/38003 [31:40<51:56,  7.70it/s]  \u001b[A\n"
          ]
        },
        {
          "name": "stdout",
          "output_type": "stream",
          "text": [
            "{'epoch': 10, 'step': 15000, 'loss': 0.04745340719819069}\n"
          ]
        },
        {
          "name": "stderr",
          "output_type": "stream",
          "text": [
            "Iteration:  39%|███▉      | 15003/38003 [33:56<49:49,  7.69it/s]  \u001b[A\n"
          ]
        },
        {
          "name": "stdout",
          "output_type": "stream",
          "text": [
            "{'epoch': 10, 'step': 16000, 'loss': 0.025656575337052345}\n"
          ]
        },
        {
          "name": "stderr",
          "output_type": "stream",
          "text": [
            "Iteration:  42%|████▏     | 16003/38003 [36:12<47:41,  7.69it/s]\u001b[A"
          ]
        },
        {
          "name": "stdout",
          "output_type": "stream",
          "text": [
            "{'epoch': 10, 'step': 17000, 'loss': 0.02860448881983757}\n"
          ]
        },
        {
          "name": "stderr",
          "output_type": "stream",
          "text": [
            "\n"
          ]
        },
        {
          "name": "stdout",
          "output_type": "stream",
          "text": [
            "{'epoch': 10, 'step': 18000, 'loss': 0.061641644686460495}\n"
          ]
        },
        {
          "name": "stderr",
          "output_type": "stream",
          "text": [
            "Iteration:  47%|████▋     | 18003/38003 [40:43<43:32,  7.65it/s]\u001b[A\n"
          ]
        },
        {
          "name": "stdout",
          "output_type": "stream",
          "text": [
            "{'epoch': 10, 'step': 19000, 'loss': 0.06248065084218979}\n"
          ]
        },
        {
          "name": "stderr",
          "output_type": "stream",
          "text": [
            "Iteration:  50%|█████     | 19003/38003 [42:59<41:17,  7.67it/s]\u001b[A\n"
          ]
        },
        {
          "name": "stdout",
          "output_type": "stream",
          "text": [
            "{'epoch': 10, 'step': 20000, 'loss': 0.03690464794635773}\n"
          ]
        },
        {
          "name": "stderr",
          "output_type": "stream",
          "text": [
            "Iteration:  53%|█████▎    | 20003/38003 [45:14<39:07,  7.67it/s]\u001b[A\n"
          ]
        },
        {
          "name": "stdout",
          "output_type": "stream",
          "text": [
            "{'epoch': 10, 'step': 21000, 'loss': 0.02817019261419773}\n"
          ]
        },
        {
          "name": "stderr",
          "output_type": "stream",
          "text": [
            "Iteration:  55%|█████▌    | 21003/38003 [47:30<36:48,  7.70it/s]\u001b[A\n"
          ]
        },
        {
          "name": "stdout",
          "output_type": "stream",
          "text": [
            "{'epoch': 10, 'step': 22000, 'loss': 0.009900757111608982}\n"
          ]
        },
        {
          "name": "stderr",
          "output_type": "stream",
          "text": [
            "Iteration:  58%|█████▊    | 22003/38003 [49:46<34:37,  7.70it/s]\u001b[A"
          ]
        },
        {
          "name": "stdout",
          "output_type": "stream",
          "text": [
            "{'epoch': 10, 'step': 23000, 'loss': 0.0303721334785223}\n"
          ]
        },
        {
          "name": "stderr",
          "output_type": "stream",
          "text": [
            "\n"
          ]
        },
        {
          "name": "stdout",
          "output_type": "stream",
          "text": [
            "{'epoch': 10, 'step': 24000, 'loss': 0.06307003647089005}\n"
          ]
        },
        {
          "name": "stderr",
          "output_type": "stream",
          "text": [
            "Iteration:  63%|██████▎   | 24003/38003 [54:17<30:17,  7.70it/s]\u001b[A\n"
          ]
        },
        {
          "name": "stdout",
          "output_type": "stream",
          "text": [
            "{'epoch': 10, 'step': 25000, 'loss': 0.04312817007303238}\n"
          ]
        },
        {
          "name": "stderr",
          "output_type": "stream",
          "text": [
            "Iteration:  66%|██████▌   | 25003/38003 [56:33<28:19,  7.65it/s]\u001b[A\n"
          ]
        },
        {
          "name": "stdout",
          "output_type": "stream",
          "text": [
            "{'epoch': 10, 'step': 26000, 'loss': 0.04011538624763489}\n"
          ]
        },
        {
          "name": "stderr",
          "output_type": "stream",
          "text": [
            "Iteration:  68%|██████▊   | 26003/38003 [58:49<26:04,  7.67it/s]\u001b[A\n"
          ]
        },
        {
          "name": "stdout",
          "output_type": "stream",
          "text": [
            "{'epoch': 10, 'step': 27000, 'loss': 0.027794592082500458}\n"
          ]
        },
        {
          "name": "stderr",
          "output_type": "stream",
          "text": [
            "Iteration:  71%|███████   | 27003/38003 [1:01:04<23:53,  7.68it/s]\u001b[A\n"
          ]
        },
        {
          "name": "stdout",
          "output_type": "stream",
          "text": [
            "{'epoch': 10, 'step': 28000, 'loss': 0.007154692895710468}\n"
          ]
        },
        {
          "name": "stderr",
          "output_type": "stream",
          "text": [
            "Iteration:  74%|███████▎  | 28003/38003 [1:03:20<21:39,  7.69it/s]\u001b[A\n"
          ]
        },
        {
          "name": "stdout",
          "output_type": "stream",
          "text": [
            "{'epoch': 10, 'step': 29000, 'loss': 0.018377985805273056}\n"
          ]
        },
        {
          "name": "stderr",
          "output_type": "stream",
          "text": [
            "Iteration:  76%|███████▋  | 29003/38003 [1:05:36<19:28,  7.70it/s]\u001b[A\n"
          ]
        },
        {
          "name": "stdout",
          "output_type": "stream",
          "text": [
            "{'epoch': 10, 'step': 30000, 'loss': 0.05508251115679741}\n"
          ]
        },
        {
          "name": "stderr",
          "output_type": "stream",
          "text": [
            "Iteration:  79%|███████▉  | 30003/38003 [1:07:51<17:21,  7.68it/s]\u001b[A\n"
          ]
        },
        {
          "name": "stdout",
          "output_type": "stream",
          "text": [
            "{'epoch': 10, 'step': 31000, 'loss': 0.029363416135311127}\n"
          ]
        },
        {
          "name": "stderr",
          "output_type": "stream",
          "text": [
            "Iteration:  82%|████████▏ | 31003/38003 [1:10:07<15:10,  7.69it/s]\u001b[A"
          ]
        },
        {
          "name": "stdout",
          "output_type": "stream",
          "text": [
            "{'epoch': 10, 'step': 32000, 'loss': 0.04593076929450035}\n"
          ]
        },
        {
          "name": "stderr",
          "output_type": "stream",
          "text": [
            "\n"
          ]
        },
        {
          "name": "stdout",
          "output_type": "stream",
          "text": [
            "{'epoch': 10, 'step': 33000, 'loss': 0.027445996180176735}\n"
          ]
        },
        {
          "name": "stderr",
          "output_type": "stream",
          "text": [
            "Iteration:  87%|████████▋ | 33003/38003 [1:14:39<10:51,  7.67it/s]\u001b[A\n"
          ]
        },
        {
          "name": "stdout",
          "output_type": "stream",
          "text": [
            "{'epoch': 10, 'step': 34000, 'loss': 0.043975554406642914}\n"
          ]
        },
        {
          "name": "stderr",
          "output_type": "stream",
          "text": [
            "Iteration:  89%|████████▉ | 34003/38003 [1:16:54<08:42,  7.66it/s]\u001b[A\n"
          ]
        },
        {
          "name": "stdout",
          "output_type": "stream",
          "text": [
            "{'epoch': 10, 'step': 35000, 'loss': 0.019198615103960037}\n"
          ]
        },
        {
          "name": "stderr",
          "output_type": "stream",
          "text": [
            "Iteration:  92%|█████████▏| 35003/38003 [1:19:10<06:29,  7.70it/s]\u001b[A\n"
          ]
        },
        {
          "name": "stdout",
          "output_type": "stream",
          "text": [
            "{'epoch': 10, 'step': 36000, 'loss': 0.019990773871541023}\n"
          ]
        },
        {
          "name": "stderr",
          "output_type": "stream",
          "text": [
            "Iteration:  95%|█████████▍| 36003/38003 [1:21:26<04:19,  7.69it/s]\u001b[A\n"
          ]
        },
        {
          "name": "stdout",
          "output_type": "stream",
          "text": [
            "{'epoch': 10, 'step': 37000, 'loss': 0.03509761393070221}\n"
          ]
        },
        {
          "name": "stderr",
          "output_type": "stream",
          "text": [
            "Iteration:  97%|█████████▋| 37003/38003 [1:23:42<02:10,  7.65it/s]\u001b[A"
          ]
        },
        {
          "name": "stdout",
          "output_type": "stream",
          "text": [
            "{'epoch': 10, 'step': 38000, 'loss': 0.05071955919265747}\n"
          ]
        },
        {
          "name": "stderr",
          "output_type": "stream",
          "text": [
            "Iteration: 100%|██████████| 38003/38003 [1:25:57<00:00,  7.37it/s]\n",
            "Epoch:  34%|███▍      | 11/32 [17:32:03<30:30:59, 5231.40s/it]\n"
          ]
        },
        {
          "name": "stdout",
          "output_type": "stream",
          "text": [
            "{'epoch': 11, 'step': 0, 'loss': 0.022284047678112984}\n"
          ]
        },
        {
          "name": "stderr",
          "output_type": "stream",
          "text": [
            "Iteration:   0%|          | 3/38003 [00:00<1:07:13,  9.42it/s]\u001b[A\n"
          ]
        },
        {
          "name": "stdout",
          "output_type": "stream",
          "text": [
            "{'epoch': 11, 'step': 1000, 'loss': 0.021765809506177902}\n"
          ]
        },
        {
          "name": "stderr",
          "output_type": "stream",
          "text": [
            "Iteration:   3%|▎         | 1003/38003 [02:16<1:20:22,  7.67it/s]\u001b[A\n"
          ]
        },
        {
          "name": "stdout",
          "output_type": "stream",
          "text": [
            "{'epoch': 11, 'step': 2000, 'loss': 0.01753009669482708}\n"
          ]
        },
        {
          "name": "stderr",
          "output_type": "stream",
          "text": [
            "Iteration:   5%|▌         | 2003/38003 [04:31<1:17:52,  7.70it/s]\u001b[A\n"
          ]
        },
        {
          "name": "stdout",
          "output_type": "stream",
          "text": [
            "{'epoch': 11, 'step': 3000, 'loss': 0.013684515841305256}\n"
          ]
        },
        {
          "name": "stderr",
          "output_type": "stream",
          "text": [
            "Iteration:   8%|▊         | 3003/38003 [06:47<1:15:54,  7.69it/s]\u001b[A\n"
          ]
        },
        {
          "name": "stdout",
          "output_type": "stream",
          "text": [
            "{'epoch': 11, 'step': 4000, 'loss': 0.021738264709711075}\n"
          ]
        },
        {
          "name": "stderr",
          "output_type": "stream",
          "text": [
            "Iteration:  11%|█         | 4003/38003 [09:03<1:13:51,  7.67it/s]\u001b[A\n"
          ]
        },
        {
          "name": "stdout",
          "output_type": "stream",
          "text": [
            "{'epoch': 11, 'step': 5000, 'loss': 0.013338591903448105}\n"
          ]
        },
        {
          "name": "stderr",
          "output_type": "stream",
          "text": [
            "Iteration:  13%|█▎        | 5003/38003 [11:19<1:11:38,  7.68it/s]\u001b[A\n"
          ]
        },
        {
          "name": "stdout",
          "output_type": "stream",
          "text": [
            "{'epoch': 11, 'step': 6000, 'loss': 0.04555575177073479}\n"
          ]
        },
        {
          "name": "stderr",
          "output_type": "stream",
          "text": [
            "Iteration:  16%|█▌        | 6003/38003 [13:34<1:09:46,  7.64it/s]\u001b[A\n"
          ]
        },
        {
          "name": "stdout",
          "output_type": "stream",
          "text": [
            "{'epoch': 11, 'step': 7000, 'loss': 0.042098890990018845}\n"
          ]
        },
        {
          "name": "stderr",
          "output_type": "stream",
          "text": [
            "Iteration:  18%|█▊        | 7003/38003 [15:50<1:07:25,  7.66it/s]\u001b[A\n"
          ]
        },
        {
          "name": "stdout",
          "output_type": "stream",
          "text": [
            "{'epoch': 11, 'step': 8000, 'loss': 0.047388698905706406}\n"
          ]
        },
        {
          "name": "stderr",
          "output_type": "stream",
          "text": [
            "Iteration:  21%|██        | 8003/38003 [18:06<1:05:17,  7.66it/s]\u001b[A\n"
          ]
        },
        {
          "name": "stdout",
          "output_type": "stream",
          "text": [
            "{'epoch': 11, 'step': 9000, 'loss': 0.030445847660303116}\n"
          ]
        },
        {
          "name": "stderr",
          "output_type": "stream",
          "text": [
            "Iteration:  24%|██▎       | 9003/38003 [20:22<1:02:37,  7.72it/s]\u001b[A\n"
          ]
        },
        {
          "name": "stdout",
          "output_type": "stream",
          "text": [
            "{'epoch': 11, 'step': 10000, 'loss': 0.01242956891655922}\n"
          ]
        },
        {
          "name": "stderr",
          "output_type": "stream",
          "text": [
            "Iteration:  26%|██▋       | 10003/38003 [22:37<1:00:40,  7.69it/s]\u001b[A\n"
          ]
        },
        {
          "name": "stdout",
          "output_type": "stream",
          "text": [
            "{'epoch': 11, 'step': 11000, 'loss': 0.03136087954044342}\n"
          ]
        },
        {
          "name": "stderr",
          "output_type": "stream",
          "text": [
            "Iteration:  29%|██▉       | 11003/38003 [24:53<58:31,  7.69it/s]  \u001b[A\n"
          ]
        },
        {
          "name": "stdout",
          "output_type": "stream",
          "text": [
            "{'epoch': 11, 'step': 12000, 'loss': 0.033015742897987366}\n"
          ]
        },
        {
          "name": "stderr",
          "output_type": "stream",
          "text": [
            "Iteration:  32%|███▏      | 12003/38003 [27:09<56:18,  7.70it/s]  \u001b[A\n"
          ]
        },
        {
          "name": "stdout",
          "output_type": "stream",
          "text": [
            "{'epoch': 11, 'step': 13000, 'loss': 0.018552908673882484}\n"
          ]
        },
        {
          "name": "stderr",
          "output_type": "stream",
          "text": [
            "Iteration:  34%|███▍      | 13003/38003 [29:24<54:20,  7.67it/s]  \u001b[A\n"
          ]
        },
        {
          "name": "stdout",
          "output_type": "stream",
          "text": [
            "{'epoch': 11, 'step': 14000, 'loss': 0.010448534041643143}\n"
          ]
        },
        {
          "name": "stderr",
          "output_type": "stream",
          "text": [
            "Iteration:  37%|███▋      | 14003/38003 [31:40<52:07,  7.67it/s]  \u001b[A\n"
          ]
        },
        {
          "name": "stdout",
          "output_type": "stream",
          "text": [
            "{'epoch': 11, 'step': 15000, 'loss': 0.050603561103343964}\n"
          ]
        },
        {
          "name": "stderr",
          "output_type": "stream",
          "text": [
            "Iteration:  39%|███▉      | 15003/38003 [33:56<49:54,  7.68it/s]  \u001b[A\n"
          ]
        },
        {
          "name": "stdout",
          "output_type": "stream",
          "text": [
            "{'epoch': 11, 'step': 16000, 'loss': 0.051648326218128204}\n"
          ]
        },
        {
          "name": "stderr",
          "output_type": "stream",
          "text": [
            "Iteration:  42%|████▏     | 16003/38003 [36:12<47:38,  7.70it/s]\u001b[A\n"
          ]
        },
        {
          "name": "stdout",
          "output_type": "stream",
          "text": [
            "{'epoch': 11, 'step': 17000, 'loss': 0.024081850424408913}\n"
          ]
        },
        {
          "name": "stderr",
          "output_type": "stream",
          "text": [
            "Iteration:  45%|████▍     | 17003/38003 [38:27<45:31,  7.69it/s]\u001b[A\n"
          ]
        },
        {
          "name": "stdout",
          "output_type": "stream",
          "text": [
            "{'epoch': 11, 'step': 18000, 'loss': 0.023346196860074997}\n"
          ]
        },
        {
          "name": "stderr",
          "output_type": "stream",
          "text": [
            "Iteration:  47%|████▋     | 18003/38003 [40:43<43:26,  7.67it/s]\u001b[A\n"
          ]
        },
        {
          "name": "stdout",
          "output_type": "stream",
          "text": [
            "{'epoch': 11, 'step': 19000, 'loss': 0.06194683536887169}\n"
          ]
        },
        {
          "name": "stderr",
          "output_type": "stream",
          "text": [
            "Iteration:  50%|█████     | 19003/38003 [42:59<41:27,  7.64it/s]\u001b[A\n"
          ]
        },
        {
          "name": "stdout",
          "output_type": "stream",
          "text": [
            "{'epoch': 11, 'step': 20000, 'loss': 0.053900014609098434}\n"
          ]
        },
        {
          "name": "stderr",
          "output_type": "stream",
          "text": [
            "Iteration:  53%|█████▎    | 20003/38003 [45:15<39:10,  7.66it/s]\u001b[A\n"
          ]
        },
        {
          "name": "stdout",
          "output_type": "stream",
          "text": [
            "{'epoch': 11, 'step': 21000, 'loss': 0.031830888241529465}\n"
          ]
        },
        {
          "name": "stderr",
          "output_type": "stream",
          "text": [
            "Iteration:  55%|█████▌    | 21003/38003 [47:30<37:01,  7.65it/s]\u001b[A\n"
          ]
        },
        {
          "name": "stdout",
          "output_type": "stream",
          "text": [
            "{'epoch': 11, 'step': 22000, 'loss': 0.04065033793449402}\n"
          ]
        },
        {
          "name": "stderr",
          "output_type": "stream",
          "text": [
            "Iteration:  58%|█████▊    | 22003/38003 [49:46<34:47,  7.67it/s]\u001b[A\n"
          ]
        },
        {
          "name": "stdout",
          "output_type": "stream",
          "text": [
            "{'epoch': 11, 'step': 23000, 'loss': 0.031231854110956192}\n"
          ]
        },
        {
          "name": "stderr",
          "output_type": "stream",
          "text": [
            "Iteration:  61%|██████    | 23003/38003 [52:02<32:25,  7.71it/s]\u001b[A\n"
          ]
        },
        {
          "name": "stdout",
          "output_type": "stream",
          "text": [
            "{'epoch': 11, 'step': 24000, 'loss': 0.03259781002998352}\n"
          ]
        },
        {
          "name": "stderr",
          "output_type": "stream",
          "text": [
            "Iteration:  63%|██████▎   | 24003/38003 [54:17<30:17,  7.70it/s]\u001b[A\n"
          ]
        },
        {
          "name": "stdout",
          "output_type": "stream",
          "text": [
            "{'epoch': 11, 'step': 25000, 'loss': 0.03256124258041382}\n"
          ]
        },
        {
          "name": "stderr",
          "output_type": "stream",
          "text": [
            "Iteration:  66%|██████▌   | 25003/38003 [56:33<28:08,  7.70it/s]\u001b[A\n"
          ]
        },
        {
          "name": "stdout",
          "output_type": "stream",
          "text": [
            "{'epoch': 11, 'step': 26000, 'loss': 0.06144136190414429}\n"
          ]
        },
        {
          "name": "stderr",
          "output_type": "stream",
          "text": [
            "Iteration:  68%|██████▊   | 26003/38003 [58:49<26:04,  7.67it/s]\u001b[A\n"
          ]
        },
        {
          "name": "stdout",
          "output_type": "stream",
          "text": [
            "{'epoch': 11, 'step': 27000, 'loss': 0.005150009412318468}\n"
          ]
        },
        {
          "name": "stderr",
          "output_type": "stream",
          "text": [
            "Iteration:  71%|███████   | 27003/38003 [1:01:05<23:56,  7.66it/s]\u001b[A\n"
          ]
        },
        {
          "name": "stdout",
          "output_type": "stream",
          "text": [
            "{'epoch': 11, 'step': 28000, 'loss': 0.0575878843665123}\n"
          ]
        },
        {
          "name": "stderr",
          "output_type": "stream",
          "text": [
            "Iteration:  74%|███████▎  | 28003/38003 [1:03:20<21:49,  7.64it/s]\u001b[A\n"
          ]
        },
        {
          "name": "stdout",
          "output_type": "stream",
          "text": [
            "{'epoch': 11, 'step': 29000, 'loss': 0.048586782068014145}\n"
          ]
        },
        {
          "name": "stderr",
          "output_type": "stream",
          "text": [
            "Iteration:  76%|███████▋  | 29003/38003 [1:05:36<19:33,  7.67it/s]\u001b[A"
          ]
        },
        {
          "name": "stdout",
          "output_type": "stream",
          "text": [
            "{'epoch': 11, 'step': 30000, 'loss': 0.045612890273332596}\n"
          ]
        },
        {
          "name": "stderr",
          "output_type": "stream",
          "text": []
        },
        {
          "name": "stdout",
          "output_type": "stream",
          "text": [
            "{'epoch': 11, 'step': 31000, 'loss': 0.04060206934809685}\n"
          ]
        },
        {
          "name": "stderr",
          "output_type": "stream",
          "text": [
            "\n"
          ]
        },
        {
          "name": "stdout",
          "output_type": "stream",
          "text": [
            "{'epoch': 11, 'step': 32000, 'loss': 0.03468599170446396}\n"
          ]
        },
        {
          "name": "stderr",
          "output_type": "stream",
          "text": [
            "Iteration:  84%|████████▍ | 32003/38003 [1:12:23<13:03,  7.66it/s]\u001b[A\n"
          ]
        },
        {
          "name": "stdout",
          "output_type": "stream",
          "text": [
            "{'epoch': 11, 'step': 33000, 'loss': 0.060411352664232254}\n"
          ]
        },
        {
          "name": "stderr",
          "output_type": "stream",
          "text": [
            "Iteration:  87%|████████▋ | 33003/38003 [1:14:39<10:50,  7.68it/s]\u001b[A\n"
          ]
        },
        {
          "name": "stdout",
          "output_type": "stream",
          "text": [
            "{'epoch': 11, 'step': 34000, 'loss': 0.07438040524721146}\n"
          ]
        },
        {
          "name": "stderr",
          "output_type": "stream",
          "text": [
            "Iteration:  89%|████████▉ | 34003/38003 [1:16:54<08:43,  7.64it/s]\u001b[A\n"
          ]
        },
        {
          "name": "stdout",
          "output_type": "stream",
          "text": [
            "{'epoch': 11, 'step': 35000, 'loss': 0.04613000899553299}\n"
          ]
        },
        {
          "name": "stderr",
          "output_type": "stream",
          "text": [
            "Iteration:  92%|█████████▏| 35003/38003 [1:19:10<06:31,  7.67it/s]\u001b[A\n"
          ]
        },
        {
          "name": "stdout",
          "output_type": "stream",
          "text": [
            "{'epoch': 11, 'step': 36000, 'loss': 0.019151106476783752}\n"
          ]
        },
        {
          "name": "stderr",
          "output_type": "stream",
          "text": [
            "Iteration:  95%|█████████▍| 36003/38003 [1:21:26<04:20,  7.68it/s]\u001b[A\n"
          ]
        },
        {
          "name": "stdout",
          "output_type": "stream",
          "text": [
            "{'epoch': 11, 'step': 37000, 'loss': 0.03516659140586853}\n"
          ]
        },
        {
          "name": "stderr",
          "output_type": "stream",
          "text": [
            "Iteration:  97%|█████████▋| 37003/38003 [1:23:41<02:09,  7.70it/s]\u001b[A"
          ]
        },
        {
          "name": "stdout",
          "output_type": "stream",
          "text": [
            "{'epoch': 11, 'step': 38000, 'loss': 0.02751225419342518}\n"
          ]
        },
        {
          "name": "stderr",
          "output_type": "stream",
          "text": [
            "Iteration: 100%|██████████| 38003/38003 [1:25:57<00:00,  7.37it/s]\n",
            "Epoch:  38%|███▊      | 12/32 [18:58:02<28:56:22, 5209.12s/it]\n"
          ]
        },
        {
          "name": "stdout",
          "output_type": "stream",
          "text": [
            "{'epoch': 12, 'step': 0, 'loss': 0.049314241856336594}\n"
          ]
        },
        {
          "name": "stderr",
          "output_type": "stream",
          "text": [
            "Iteration:   0%|          | 3/38003 [00:00<1:07:08,  9.43it/s]\u001b[A\n"
          ]
        },
        {
          "name": "stdout",
          "output_type": "stream",
          "text": [
            "{'epoch': 12, 'step': 1000, 'loss': 0.005693711806088686}\n"
          ]
        },
        {
          "name": "stderr",
          "output_type": "stream",
          "text": [
            "Iteration:   3%|▎         | 1003/38003 [02:16<1:20:21,  7.67it/s]\u001b[A\n"
          ]
        },
        {
          "name": "stdout",
          "output_type": "stream",
          "text": [
            "{'epoch': 12, 'step': 2000, 'loss': 0.02042786404490471}\n"
          ]
        },
        {
          "name": "stderr",
          "output_type": "stream",
          "text": [
            "Iteration:   5%|▌         | 2003/38003 [04:31<1:18:26,  7.65it/s]\u001b[A\n"
          ]
        },
        {
          "name": "stdout",
          "output_type": "stream",
          "text": [
            "{'epoch': 12, 'step': 3000, 'loss': 0.01307876966893673}\n"
          ]
        },
        {
          "name": "stderr",
          "output_type": "stream",
          "text": [
            "Iteration:   8%|▊         | 3003/38003 [06:47<1:16:28,  7.63it/s]\u001b[A\n"
          ]
        },
        {
          "name": "stdout",
          "output_type": "stream",
          "text": [
            "{'epoch': 12, 'step': 4000, 'loss': 0.04260560870170593}\n"
          ]
        },
        {
          "name": "stderr",
          "output_type": "stream",
          "text": [
            "Iteration:  11%|█         | 4003/38003 [09:03<1:13:48,  7.68it/s]\u001b[A\n"
          ]
        },
        {
          "name": "stdout",
          "output_type": "stream",
          "text": [
            "{'epoch': 12, 'step': 5000, 'loss': 0.015819314867258072}\n"
          ]
        },
        {
          "name": "stderr",
          "output_type": "stream",
          "text": [
            "Iteration:  13%|█▎        | 5003/38003 [11:18<1:11:25,  7.70it/s]\u001b[A\n"
          ]
        },
        {
          "name": "stdout",
          "output_type": "stream",
          "text": [
            "{'epoch': 12, 'step': 6000, 'loss': 0.018933938816189766}\n"
          ]
        },
        {
          "name": "stderr",
          "output_type": "stream",
          "text": [
            "Iteration:  16%|█▌        | 6003/38003 [13:34<1:09:21,  7.69it/s]\u001b[A\n"
          ]
        },
        {
          "name": "stdout",
          "output_type": "stream",
          "text": [
            "{'epoch': 12, 'step': 7000, 'loss': 0.05029486119747162}\n"
          ]
        },
        {
          "name": "stderr",
          "output_type": "stream",
          "text": [
            "Iteration:  18%|█▊        | 7003/38003 [15:50<1:07:17,  7.68it/s]\u001b[A\n"
          ]
        },
        {
          "name": "stdout",
          "output_type": "stream",
          "text": [
            "{'epoch': 12, 'step': 8000, 'loss': 0.027720272541046143}\n"
          ]
        },
        {
          "name": "stderr",
          "output_type": "stream",
          "text": [
            "Iteration:  21%|██        | 8003/38003 [18:05<1:05:00,  7.69it/s]\u001b[A\n"
          ]
        },
        {
          "name": "stdout",
          "output_type": "stream",
          "text": [
            "{'epoch': 12, 'step': 9000, 'loss': 0.0222778283059597}\n"
          ]
        },
        {
          "name": "stderr",
          "output_type": "stream",
          "text": [
            "Iteration:  24%|██▎       | 9003/38003 [20:21<1:03:20,  7.63it/s]\u001b[A\n"
          ]
        },
        {
          "name": "stdout",
          "output_type": "stream",
          "text": [
            "{'epoch': 12, 'step': 10000, 'loss': 0.030850743874907494}\n"
          ]
        },
        {
          "name": "stderr",
          "output_type": "stream",
          "text": [
            "Iteration:  26%|██▋       | 10003/38003 [22:37<1:00:48,  7.67it/s]\u001b[A"
          ]
        },
        {
          "name": "stdout",
          "output_type": "stream",
          "text": [
            "{'epoch': 12, 'step': 11000, 'loss': 0.026197807863354683}\n"
          ]
        },
        {
          "name": "stderr",
          "output_type": "stream",
          "text": []
        },
        {
          "name": "stdout",
          "output_type": "stream",
          "text": [
            "{'epoch': 12, 'step': 12000, 'loss': 0.019384602084755898}\n"
          ]
        },
        {
          "name": "stderr",
          "output_type": "stream",
          "text": [
            "\n"
          ]
        },
        {
          "name": "stdout",
          "output_type": "stream",
          "text": [
            "{'epoch': 12, 'step': 13000, 'loss': 0.017320867627859116}\n"
          ]
        },
        {
          "name": "stderr",
          "output_type": "stream",
          "text": [
            "Iteration:  34%|███▍      | 13003/38003 [29:24<54:12,  7.69it/s]  \u001b[A\n"
          ]
        },
        {
          "name": "stdout",
          "output_type": "stream",
          "text": [
            "{'epoch': 12, 'step': 14000, 'loss': 0.027787895873188972}\n"
          ]
        },
        {
          "name": "stderr",
          "output_type": "stream",
          "text": [
            "Iteration:  37%|███▋      | 14003/38003 [31:40<52:04,  7.68it/s]  \u001b[A\n"
          ]
        },
        {
          "name": "stdout",
          "output_type": "stream",
          "text": [
            "{'epoch': 12, 'step': 15000, 'loss': 0.04740998521447182}\n"
          ]
        },
        {
          "name": "stderr",
          "output_type": "stream",
          "text": [
            "Iteration:  39%|███▉      | 15003/38003 [33:55<49:48,  7.70it/s]  \u001b[A\n"
          ]
        },
        {
          "name": "stdout",
          "output_type": "stream",
          "text": [
            "{'epoch': 12, 'step': 16000, 'loss': 0.03902895748615265}\n"
          ]
        },
        {
          "name": "stderr",
          "output_type": "stream",
          "text": [
            "Iteration:  42%|████▏     | 16003/38003 [36:11<47:43,  7.68it/s]\u001b[A"
          ]
        },
        {
          "name": "stdout",
          "output_type": "stream",
          "text": [
            "{'epoch': 12, 'step': 17000, 'loss': 0.017581067979335785}\n"
          ]
        },
        {
          "name": "stderr",
          "output_type": "stream",
          "text": [
            "\n"
          ]
        },
        {
          "name": "stdout",
          "output_type": "stream",
          "text": [
            "{'epoch': 12, 'step': 18000, 'loss': 0.01731848157942295}\n"
          ]
        },
        {
          "name": "stderr",
          "output_type": "stream",
          "text": [
            "Iteration:  47%|████▋     | 18003/38003 [40:42<43:28,  7.67it/s]\u001b[A\n"
          ]
        },
        {
          "name": "stdout",
          "output_type": "stream",
          "text": [
            "{'epoch': 12, 'step': 19000, 'loss': 0.0351671501994133}\n"
          ]
        },
        {
          "name": "stderr",
          "output_type": "stream",
          "text": [
            "Iteration:  50%|█████     | 19003/38003 [42:58<41:09,  7.69it/s]\u001b[A\n"
          ]
        },
        {
          "name": "stdout",
          "output_type": "stream",
          "text": [
            "{'epoch': 12, 'step': 20000, 'loss': 0.058077167719602585}\n"
          ]
        },
        {
          "name": "stderr",
          "output_type": "stream",
          "text": [
            "Iteration:  53%|█████▎    | 20003/38003 [45:14<39:13,  7.65it/s]\u001b[A\n"
          ]
        },
        {
          "name": "stdout",
          "output_type": "stream",
          "text": [
            "{'epoch': 12, 'step': 21000, 'loss': 0.031983714550733566}\n"
          ]
        },
        {
          "name": "stderr",
          "output_type": "stream",
          "text": [
            "Iteration:  55%|█████▌    | 21003/38003 [47:29<36:49,  7.69it/s]\u001b[A\n"
          ]
        },
        {
          "name": "stdout",
          "output_type": "stream",
          "text": [
            "{'epoch': 12, 'step': 22000, 'loss': 0.019401928409934044}\n"
          ]
        },
        {
          "name": "stderr",
          "output_type": "stream",
          "text": [
            "Iteration:  58%|█████▊    | 22003/38003 [49:45<34:41,  7.69it/s]\u001b[A\n"
          ]
        },
        {
          "name": "stdout",
          "output_type": "stream",
          "text": [
            "{'epoch': 12, 'step': 23000, 'loss': 0.027225978672504425}\n"
          ]
        },
        {
          "name": "stderr",
          "output_type": "stream",
          "text": [
            "Iteration:  61%|██████    | 23003/38003 [52:01<32:30,  7.69it/s]\u001b[A\n"
          ]
        },
        {
          "name": "stdout",
          "output_type": "stream",
          "text": [
            "{'epoch': 12, 'step': 24000, 'loss': 0.051708631217479706}\n"
          ]
        },
        {
          "name": "stderr",
          "output_type": "stream",
          "text": [
            "Iteration:  63%|██████▎   | 24003/38003 [54:17<30:22,  7.68it/s]\u001b[A\n"
          ]
        },
        {
          "name": "stdout",
          "output_type": "stream",
          "text": [
            "{'epoch': 12, 'step': 25000, 'loss': 0.018075594678521156}\n"
          ]
        },
        {
          "name": "stderr",
          "output_type": "stream",
          "text": [
            "Iteration:  66%|██████▌   | 25003/38003 [56:32<28:13,  7.68it/s]\u001b[A\n"
          ]
        },
        {
          "name": "stdout",
          "output_type": "stream",
          "text": [
            "{'epoch': 12, 'step': 26000, 'loss': 0.020502161234617233}\n"
          ]
        },
        {
          "name": "stderr",
          "output_type": "stream",
          "text": [
            "Iteration:  68%|██████▊   | 26003/38003 [58:48<26:02,  7.68it/s]\u001b[A\n"
          ]
        },
        {
          "name": "stdout",
          "output_type": "stream",
          "text": [
            "{'epoch': 12, 'step': 27000, 'loss': 0.018768496811389923}\n"
          ]
        },
        {
          "name": "stderr",
          "output_type": "stream",
          "text": [
            "Iteration:  71%|███████   | 27003/38003 [1:01:04<23:49,  7.69it/s]\u001b[A\n"
          ]
        },
        {
          "name": "stdout",
          "output_type": "stream",
          "text": [
            "{'epoch': 12, 'step': 28000, 'loss': 0.03011104092001915}\n"
          ]
        },
        {
          "name": "stderr",
          "output_type": "stream",
          "text": [
            "Iteration:  74%|███████▎  | 28003/38003 [1:03:19<21:40,  7.69it/s]\u001b[A\n"
          ]
        },
        {
          "name": "stdout",
          "output_type": "stream",
          "text": [
            "{'epoch': 12, 'step': 29000, 'loss': 0.010674265213310719}\n"
          ]
        },
        {
          "name": "stderr",
          "output_type": "stream",
          "text": [
            "Iteration:  76%|███████▋  | 29003/38003 [1:05:35<19:31,  7.68it/s]\u001b[A\n"
          ]
        },
        {
          "name": "stdout",
          "output_type": "stream",
          "text": [
            "{'epoch': 12, 'step': 30000, 'loss': 0.018222130835056305}\n"
          ]
        },
        {
          "name": "stderr",
          "output_type": "stream",
          "text": [
            "Iteration:  79%|███████▉  | 30003/38003 [1:07:51<17:19,  7.69it/s]\u001b[A\n"
          ]
        },
        {
          "name": "stdout",
          "output_type": "stream",
          "text": [
            "{'epoch': 12, 'step': 31000, 'loss': 0.015958162024617195}\n"
          ]
        },
        {
          "name": "stderr",
          "output_type": "stream",
          "text": [
            "Iteration:  82%|████████▏ | 31003/38003 [1:10:06<15:14,  7.66it/s]\u001b[A"
          ]
        },
        {
          "name": "stdout",
          "output_type": "stream",
          "text": [
            "{'epoch': 12, 'step': 32000, 'loss': 0.03611837327480316}\n"
          ]
        },
        {
          "name": "stderr",
          "output_type": "stream",
          "text": []
        },
        {
          "name": "stdout",
          "output_type": "stream",
          "text": [
            "{'epoch': 12, 'step': 33000, 'loss': 0.027834167703986168}\n"
          ]
        },
        {
          "name": "stderr",
          "output_type": "stream",
          "text": [
            "\n"
          ]
        },
        {
          "name": "stdout",
          "output_type": "stream",
          "text": [
            "{'epoch': 12, 'step': 34000, 'loss': 0.03672265633940697}\n"
          ]
        },
        {
          "name": "stderr",
          "output_type": "stream",
          "text": [
            "Iteration:  89%|████████▉ | 34003/38003 [1:16:53<08:38,  7.71it/s]\u001b[A\n"
          ]
        },
        {
          "name": "stdout",
          "output_type": "stream",
          "text": [
            "{'epoch': 12, 'step': 35000, 'loss': 0.039086196571588516}\n"
          ]
        },
        {
          "name": "stderr",
          "output_type": "stream",
          "text": [
            "Iteration:  92%|█████████▏| 35003/38003 [1:19:09<06:30,  7.68it/s]\u001b[A"
          ]
        },
        {
          "name": "stdout",
          "output_type": "stream",
          "text": [
            "{'epoch': 12, 'step': 36000, 'loss': 0.031391020864248276}\n"
          ]
        },
        {
          "name": "stderr",
          "output_type": "stream",
          "text": [
            "\n"
          ]
        },
        {
          "name": "stdout",
          "output_type": "stream",
          "text": [
            "{'epoch': 12, 'step': 37000, 'loss': 0.028889786452054977}\n"
          ]
        },
        {
          "name": "stderr",
          "output_type": "stream",
          "text": [
            "Iteration:  97%|█████████▋| 37003/38003 [1:23:40<02:10,  7.68it/s]\u001b[A"
          ]
        },
        {
          "name": "stdout",
          "output_type": "stream",
          "text": [
            "{'epoch': 12, 'step': 38000, 'loss': 0.020697766914963722}\n"
          ]
        },
        {
          "name": "stderr",
          "output_type": "stream",
          "text": [
            "Iteration: 100%|██████████| 38003/38003 [1:25:56<00:00,  7.37it/s]\n",
            "Epoch:  41%|████      | 13/32 [20:23:59<27:24:34, 5193.37s/it]\n"
          ]
        },
        {
          "name": "stdout",
          "output_type": "stream",
          "text": [
            "{'epoch': 13, 'step': 0, 'loss': 0.05099267512559891}\n"
          ]
        },
        {
          "name": "stderr",
          "output_type": "stream",
          "text": [
            "Iteration:   0%|          | 3/38003 [00:00<1:07:22,  9.40it/s]\u001b[A\n"
          ]
        },
        {
          "name": "stdout",
          "output_type": "stream",
          "text": [
            "{'epoch': 13, 'step': 1000, 'loss': 0.03613440692424774}\n"
          ]
        },
        {
          "name": "stderr",
          "output_type": "stream",
          "text": [
            "Iteration:   3%|▎         | 1003/38003 [02:16<1:20:17,  7.68it/s]\u001b[A\n"
          ]
        },
        {
          "name": "stdout",
          "output_type": "stream",
          "text": [
            "{'epoch': 13, 'step': 2000, 'loss': 0.021522236987948418}\n"
          ]
        },
        {
          "name": "stderr",
          "output_type": "stream",
          "text": [
            "Iteration:   5%|▌         | 2003/38003 [04:31<1:17:56,  7.70it/s]\u001b[A\n"
          ]
        },
        {
          "name": "stdout",
          "output_type": "stream",
          "text": [
            "{'epoch': 13, 'step': 3000, 'loss': 0.022010842338204384}\n"
          ]
        },
        {
          "name": "stderr",
          "output_type": "stream",
          "text": [
            "Iteration:   8%|▊         | 3003/38003 [06:47<1:15:57,  7.68it/s]\u001b[A\n"
          ]
        },
        {
          "name": "stdout",
          "output_type": "stream",
          "text": [
            "{'epoch': 13, 'step': 4000, 'loss': 0.015625109896063805}\n"
          ]
        },
        {
          "name": "stderr",
          "output_type": "stream",
          "text": [
            "Iteration:  11%|█         | 4003/38003 [09:03<1:13:51,  7.67it/s]\u001b[A\n"
          ]
        },
        {
          "name": "stdout",
          "output_type": "stream",
          "text": [
            "{'epoch': 13, 'step': 5000, 'loss': 0.03530493378639221}\n"
          ]
        },
        {
          "name": "stderr",
          "output_type": "stream",
          "text": [
            "Iteration:  13%|█▎        | 5003/38003 [11:18<1:11:39,  7.67it/s]\u001b[A\n"
          ]
        },
        {
          "name": "stdout",
          "output_type": "stream",
          "text": [
            "{'epoch': 13, 'step': 6000, 'loss': 0.05700419843196869}\n"
          ]
        },
        {
          "name": "stderr",
          "output_type": "stream",
          "text": [
            "Iteration:  16%|█▌        | 6003/38003 [13:34<1:09:48,  7.64it/s]\u001b[A\n"
          ]
        },
        {
          "name": "stdout",
          "output_type": "stream",
          "text": [
            "{'epoch': 13, 'step': 7000, 'loss': 0.020435377955436707}\n"
          ]
        },
        {
          "name": "stderr",
          "output_type": "stream",
          "text": [
            "Iteration:  18%|█▊        | 7003/38003 [15:50<1:07:24,  7.66it/s]\u001b[A"
          ]
        },
        {
          "name": "stdout",
          "output_type": "stream",
          "text": [
            "{'epoch': 13, 'step': 8000, 'loss': 0.024427423253655434}\n"
          ]
        },
        {
          "name": "stderr",
          "output_type": "stream",
          "text": [
            "\n"
          ]
        },
        {
          "name": "stdout",
          "output_type": "stream",
          "text": [
            "{'epoch': 13, 'step': 9000, 'loss': 0.008350716903805733}\n"
          ]
        },
        {
          "name": "stderr",
          "output_type": "stream",
          "text": [
            "Iteration:  24%|██▎       | 9003/38003 [20:21<1:02:43,  7.71it/s]\u001b[A\n"
          ]
        },
        {
          "name": "stdout",
          "output_type": "stream",
          "text": [
            "{'epoch': 13, 'step': 10000, 'loss': 0.03940560668706894}\n"
          ]
        },
        {
          "name": "stderr",
          "output_type": "stream",
          "text": [
            "Iteration:  26%|██▋       | 10003/38003 [22:37<1:00:45,  7.68it/s]\u001b[A\n"
          ]
        },
        {
          "name": "stdout",
          "output_type": "stream",
          "text": [
            "{'epoch': 13, 'step': 11000, 'loss': 0.021920323371887207}\n"
          ]
        },
        {
          "name": "stderr",
          "output_type": "stream",
          "text": [
            "Iteration:  29%|██▉       | 11003/38003 [24:52<58:34,  7.68it/s]  \u001b[A\n"
          ]
        },
        {
          "name": "stdout",
          "output_type": "stream",
          "text": [
            "{'epoch': 13, 'step': 12000, 'loss': 0.01841207593679428}\n"
          ]
        },
        {
          "name": "stderr",
          "output_type": "stream",
          "text": [
            "Iteration:  32%|███▏      | 12003/38003 [27:08<56:23,  7.68it/s]  \u001b[A\n"
          ]
        },
        {
          "name": "stdout",
          "output_type": "stream",
          "text": [
            "{'epoch': 13, 'step': 13000, 'loss': 0.025636181235313416}\n"
          ]
        },
        {
          "name": "stderr",
          "output_type": "stream",
          "text": [
            "Iteration:  34%|███▍      | 13003/38003 [29:24<54:04,  7.71it/s]  \u001b[A"
          ]
        },
        {
          "name": "stdout",
          "output_type": "stream",
          "text": [
            "{'epoch': 13, 'step': 14000, 'loss': 0.01640540361404419}\n"
          ]
        },
        {
          "name": "stderr",
          "output_type": "stream",
          "text": []
        },
        {
          "name": "stdout",
          "output_type": "stream",
          "text": [
            "{'epoch': 13, 'step': 15000, 'loss': 0.011561313644051552}\n"
          ]
        },
        {
          "name": "stderr",
          "output_type": "stream",
          "text": [
            "\n"
          ]
        },
        {
          "name": "stdout",
          "output_type": "stream",
          "text": [
            "{'epoch': 13, 'step': 16000, 'loss': 0.020622335374355316}\n"
          ]
        },
        {
          "name": "stderr",
          "output_type": "stream",
          "text": [
            "Iteration:  42%|████▏     | 16003/38003 [36:11<47:48,  7.67it/s]\u001b[A\n"
          ]
        },
        {
          "name": "stdout",
          "output_type": "stream",
          "text": [
            "{'epoch': 13, 'step': 17000, 'loss': 0.05524427816271782}\n"
          ]
        },
        {
          "name": "stderr",
          "output_type": "stream",
          "text": [
            "Iteration:  45%|████▍     | 17003/38003 [38:26<45:29,  7.69it/s]\u001b[A\n"
          ]
        },
        {
          "name": "stdout",
          "output_type": "stream",
          "text": [
            "{'epoch': 13, 'step': 18000, 'loss': 0.04341994971036911}\n"
          ]
        },
        {
          "name": "stderr",
          "output_type": "stream",
          "text": [
            "Iteration:  47%|████▋     | 18003/38003 [40:42<43:23,  7.68it/s]\u001b[A\n"
          ]
        },
        {
          "name": "stdout",
          "output_type": "stream",
          "text": [
            "{'epoch': 13, 'step': 19000, 'loss': 0.08434975892305374}\n"
          ]
        },
        {
          "name": "stderr",
          "output_type": "stream",
          "text": [
            "Iteration:  50%|█████     | 19003/38003 [42:58<41:13,  7.68it/s]\u001b[A\n"
          ]
        },
        {
          "name": "stdout",
          "output_type": "stream",
          "text": [
            "{'epoch': 13, 'step': 20000, 'loss': 0.016601858660578728}\n"
          ]
        },
        {
          "name": "stderr",
          "output_type": "stream",
          "text": [
            "Iteration:  53%|█████▎    | 20003/38003 [45:13<39:05,  7.67it/s]\u001b[A\n"
          ]
        },
        {
          "name": "stdout",
          "output_type": "stream",
          "text": [
            "{'epoch': 13, 'step': 21000, 'loss': 0.025561844930052757}\n"
          ]
        },
        {
          "name": "stderr",
          "output_type": "stream",
          "text": [
            "Iteration:  55%|█████▌    | 21003/38003 [47:29<36:59,  7.66it/s]\u001b[A\n"
          ]
        },
        {
          "name": "stdout",
          "output_type": "stream",
          "text": [
            "{'epoch': 13, 'step': 22000, 'loss': 0.022280795499682426}\n"
          ]
        },
        {
          "name": "stderr",
          "output_type": "stream",
          "text": [
            "Iteration:  58%|█████▊    | 22003/38003 [49:45<34:46,  7.67it/s]\u001b[A\n"
          ]
        },
        {
          "name": "stdout",
          "output_type": "stream",
          "text": [
            "{'epoch': 13, 'step': 23000, 'loss': 0.01836652122437954}\n"
          ]
        },
        {
          "name": "stderr",
          "output_type": "stream",
          "text": [
            "Iteration:  61%|██████    | 23003/38003 [52:01<32:30,  7.69it/s]\u001b[A\n"
          ]
        },
        {
          "name": "stdout",
          "output_type": "stream",
          "text": [
            "{'epoch': 13, 'step': 24000, 'loss': 0.01901288703083992}\n"
          ]
        },
        {
          "name": "stderr",
          "output_type": "stream",
          "text": [
            "Iteration:  63%|██████▎   | 24003/38003 [54:16<30:18,  7.70it/s]\u001b[A\n"
          ]
        },
        {
          "name": "stdout",
          "output_type": "stream",
          "text": [
            "{'epoch': 13, 'step': 25000, 'loss': 0.01653202995657921}\n"
          ]
        },
        {
          "name": "stderr",
          "output_type": "stream",
          "text": [
            "Iteration:  66%|██████▌   | 25003/38003 [56:32<28:11,  7.68it/s]\u001b[A\n"
          ]
        },
        {
          "name": "stdout",
          "output_type": "stream",
          "text": [
            "{'epoch': 13, 'step': 26000, 'loss': 0.017710121348500252}\n"
          ]
        },
        {
          "name": "stderr",
          "output_type": "stream",
          "text": [
            "Iteration:  68%|██████▊   | 26003/38003 [58:48<26:02,  7.68it/s]\u001b[A\n"
          ]
        },
        {
          "name": "stdout",
          "output_type": "stream",
          "text": [
            "{'epoch': 13, 'step': 27000, 'loss': 0.047499772161245346}\n"
          ]
        },
        {
          "name": "stderr",
          "output_type": "stream",
          "text": [
            "Iteration:  71%|███████   | 27003/38003 [1:01:03<23:53,  7.67it/s]\u001b[A"
          ]
        },
        {
          "name": "stdout",
          "output_type": "stream",
          "text": [
            "{'epoch': 13, 'step': 28000, 'loss': 0.032592155039310455}\n"
          ]
        },
        {
          "name": "stderr",
          "output_type": "stream",
          "text": [
            "\n"
          ]
        },
        {
          "name": "stdout",
          "output_type": "stream",
          "text": [
            "{'epoch': 13, 'step': 29000, 'loss': 0.03386848419904709}\n"
          ]
        },
        {
          "name": "stderr",
          "output_type": "stream",
          "text": [
            "Iteration:  76%|███████▋  | 29003/38003 [1:05:35<19:33,  7.67it/s]\u001b[A\n"
          ]
        },
        {
          "name": "stdout",
          "output_type": "stream",
          "text": [
            "{'epoch': 13, 'step': 30000, 'loss': 0.023297518491744995}\n"
          ]
        },
        {
          "name": "stderr",
          "output_type": "stream",
          "text": [
            "Iteration:  79%|███████▉  | 30003/38003 [1:07:50<17:24,  7.66it/s]\u001b[A\n"
          ]
        },
        {
          "name": "stdout",
          "output_type": "stream",
          "text": [
            "{'epoch': 13, 'step': 31000, 'loss': 0.019891439005732536}\n"
          ]
        },
        {
          "name": "stderr",
          "output_type": "stream",
          "text": [
            "Iteration:  82%|████████▏ | 31003/38003 [1:10:06<15:09,  7.70it/s]\u001b[A\n"
          ]
        },
        {
          "name": "stdout",
          "output_type": "stream",
          "text": [
            "{'epoch': 13, 'step': 32000, 'loss': 0.011946037411689758}\n"
          ]
        },
        {
          "name": "stderr",
          "output_type": "stream",
          "text": [
            "Iteration:  84%|████████▍ | 32003/38003 [1:12:22<13:00,  7.68it/s]\u001b[A\n"
          ]
        },
        {
          "name": "stdout",
          "output_type": "stream",
          "text": [
            "{'epoch': 13, 'step': 33000, 'loss': 0.05030633509159088}\n"
          ]
        },
        {
          "name": "stderr",
          "output_type": "stream",
          "text": [
            "Iteration:  87%|████████▋ | 33003/38003 [1:14:38<10:49,  7.69it/s]\u001b[A\n"
          ]
        },
        {
          "name": "stdout",
          "output_type": "stream",
          "text": [
            "{'epoch': 13, 'step': 34000, 'loss': 0.053746867924928665}\n"
          ]
        },
        {
          "name": "stderr",
          "output_type": "stream",
          "text": [
            "Iteration:  89%|████████▉ | 34003/38003 [1:16:53<08:39,  7.70it/s]\u001b[A"
          ]
        },
        {
          "name": "stdout",
          "output_type": "stream",
          "text": [
            "{'epoch': 13, 'step': 35000, 'loss': 0.042060527950525284}\n"
          ]
        },
        {
          "name": "stderr",
          "output_type": "stream",
          "text": [
            "\n"
          ]
        },
        {
          "name": "stdout",
          "output_type": "stream",
          "text": [
            "{'epoch': 13, 'step': 36000, 'loss': 0.030793312937021255}\n"
          ]
        },
        {
          "name": "stderr",
          "output_type": "stream",
          "text": [
            "Iteration:  95%|█████████▍| 36003/38003 [1:21:25<04:20,  7.68it/s]\u001b[A\n"
          ]
        },
        {
          "name": "stdout",
          "output_type": "stream",
          "text": [
            "{'epoch': 13, 'step': 37000, 'loss': 0.0055389925837516785}\n"
          ]
        },
        {
          "name": "stderr",
          "output_type": "stream",
          "text": [
            "Iteration:  97%|█████████▋| 37003/38003 [1:23:41<02:10,  7.68it/s]\u001b[A\n"
          ]
        },
        {
          "name": "stdout",
          "output_type": "stream",
          "text": [
            "{'epoch': 13, 'step': 38000, 'loss': 0.011228438466787338}\n"
          ]
        },
        {
          "name": "stderr",
          "output_type": "stream",
          "text": [
            "Iteration: 100%|██████████| 38003/38003 [1:25:56<00:00,  7.37it/s]\u001b[A\n",
            "Epoch:  44%|████▍     | 14/32 [21:49:56<25:54:44, 5182.50s/it]\n"
          ]
        },
        {
          "name": "stdout",
          "output_type": "stream",
          "text": [
            "{'epoch': 14, 'step': 0, 'loss': 0.028410913422703743}\n"
          ]
        },
        {
          "name": "stderr",
          "output_type": "stream",
          "text": [
            "Iteration:   0%|          | 3/38003 [00:00<1:06:44,  9.49it/s]\u001b[A\n"
          ]
        },
        {
          "name": "stdout",
          "output_type": "stream",
          "text": [
            "{'epoch': 14, 'step': 1000, 'loss': 0.00772272702306509}\n"
          ]
        },
        {
          "name": "stderr",
          "output_type": "stream",
          "text": [
            "Iteration:   3%|▎         | 1003/38003 [02:16<1:20:24,  7.67it/s]\u001b[A\n"
          ]
        },
        {
          "name": "stdout",
          "output_type": "stream",
          "text": [
            "{'epoch': 14, 'step': 2000, 'loss': 0.01615023985505104}\n"
          ]
        },
        {
          "name": "stderr",
          "output_type": "stream",
          "text": [
            "Iteration:   5%|▌         | 2003/38003 [04:31<1:17:58,  7.69it/s]\u001b[A\n"
          ]
        },
        {
          "name": "stdout",
          "output_type": "stream",
          "text": [
            "{'epoch': 14, 'step': 3000, 'loss': 0.007211976684629917}\n"
          ]
        },
        {
          "name": "stderr",
          "output_type": "stream",
          "text": [
            "Iteration:   8%|▊         | 3003/38003 [06:47<1:16:10,  7.66it/s]\u001b[A"
          ]
        },
        {
          "name": "stdout",
          "output_type": "stream",
          "text": [
            "{'epoch': 14, 'step': 4000, 'loss': 0.02832135744392872}\n"
          ]
        },
        {
          "name": "stderr",
          "output_type": "stream",
          "text": []
        },
        {
          "name": "stdout",
          "output_type": "stream",
          "text": [
            "{'epoch': 14, 'step': 5000, 'loss': 0.02104950323700905}\n"
          ]
        },
        {
          "name": "stderr",
          "output_type": "stream",
          "text": []
        },
        {
          "name": "stdout",
          "output_type": "stream",
          "text": [
            "{'epoch': 14, 'step': 6000, 'loss': 0.005413705017417669}\n"
          ]
        },
        {
          "name": "stderr",
          "output_type": "stream",
          "text": [
            "\n"
          ]
        },
        {
          "name": "stdout",
          "output_type": "stream",
          "text": [
            "{'epoch': 14, 'step': 7000, 'loss': 0.03100697696208954}\n"
          ]
        },
        {
          "name": "stderr",
          "output_type": "stream",
          "text": [
            "Iteration:  18%|█▊        | 7003/38003 [15:50<1:07:15,  7.68it/s]\u001b[A\n"
          ]
        },
        {
          "name": "stdout",
          "output_type": "stream",
          "text": [
            "{'epoch': 14, 'step': 8000, 'loss': 0.011671248823404312}\n"
          ]
        },
        {
          "name": "stderr",
          "output_type": "stream",
          "text": [
            "Iteration:  21%|██        | 8003/38003 [18:06<1:05:10,  7.67it/s]\u001b[A\n"
          ]
        },
        {
          "name": "stdout",
          "output_type": "stream",
          "text": [
            "{'epoch': 14, 'step': 9000, 'loss': 0.04168997332453728}\n"
          ]
        },
        {
          "name": "stderr",
          "output_type": "stream",
          "text": [
            "Iteration:  24%|██▎       | 9003/38003 [20:21<1:03:12,  7.65it/s]\u001b[A"
          ]
        },
        {
          "name": "stdout",
          "output_type": "stream",
          "text": [
            "{'epoch': 14, 'step': 10000, 'loss': 0.04554025083780289}\n"
          ]
        },
        {
          "name": "stderr",
          "output_type": "stream",
          "text": []
        },
        {
          "name": "stdout",
          "output_type": "stream",
          "text": [
            "{'epoch': 14, 'step': 11000, 'loss': 0.03491828218102455}\n"
          ]
        },
        {
          "name": "stderr",
          "output_type": "stream",
          "text": [
            "\n"
          ]
        },
        {
          "name": "stdout",
          "output_type": "stream",
          "text": [
            "{'epoch': 14, 'step': 12000, 'loss': 0.022785769775509834}\n"
          ]
        },
        {
          "name": "stderr",
          "output_type": "stream",
          "text": [
            "Iteration:  32%|███▏      | 12003/38003 [27:09<56:17,  7.70it/s]  \u001b[A\n"
          ]
        },
        {
          "name": "stdout",
          "output_type": "stream",
          "text": [
            "{'epoch': 14, 'step': 13000, 'loss': 0.027774138376116753}\n"
          ]
        },
        {
          "name": "stderr",
          "output_type": "stream",
          "text": [
            "Iteration:  34%|███▍      | 13003/38003 [29:24<54:13,  7.68it/s]  \u001b[A\n"
          ]
        },
        {
          "name": "stdout",
          "output_type": "stream",
          "text": [
            "{'epoch': 14, 'step': 14000, 'loss': 0.030920151621103287}\n"
          ]
        },
        {
          "name": "stderr",
          "output_type": "stream",
          "text": [
            "Iteration:  37%|███▋      | 14003/38003 [31:40<52:03,  7.68it/s]  \u001b[A\n"
          ]
        },
        {
          "name": "stdout",
          "output_type": "stream",
          "text": [
            "{'epoch': 14, 'step': 15000, 'loss': 0.023139385506510735}\n"
          ]
        },
        {
          "name": "stderr",
          "output_type": "stream",
          "text": [
            "Iteration:  39%|███▉      | 15003/38003 [33:56<49:57,  7.67it/s]  \u001b[A"
          ]
        },
        {
          "name": "stdout",
          "output_type": "stream",
          "text": [
            "{'epoch': 14, 'step': 16000, 'loss': 0.023820266127586365}\n"
          ]
        },
        {
          "name": "stderr",
          "output_type": "stream",
          "text": []
        },
        {
          "name": "stdout",
          "output_type": "stream",
          "text": [
            "{'epoch': 14, 'step': 17000, 'loss': 0.019277838990092278}\n"
          ]
        },
        {
          "name": "stderr",
          "output_type": "stream",
          "text": [
            "\n"
          ]
        },
        {
          "name": "stdout",
          "output_type": "stream",
          "text": [
            "{'epoch': 14, 'step': 18000, 'loss': 0.03225390985608101}\n"
          ]
        },
        {
          "name": "stderr",
          "output_type": "stream",
          "text": [
            "Iteration:  47%|████▋     | 18003/38003 [40:43<43:25,  7.68it/s]\u001b[A"
          ]
        },
        {
          "name": "stdout",
          "output_type": "stream",
          "text": [
            "{'epoch': 14, 'step': 19000, 'loss': 0.0399903729557991}\n"
          ]
        },
        {
          "name": "stderr",
          "output_type": "stream",
          "text": [
            "\n"
          ]
        },
        {
          "name": "stdout",
          "output_type": "stream",
          "text": [
            "{'epoch': 14, 'step': 20000, 'loss': 0.060410622507333755}\n"
          ]
        },
        {
          "name": "stderr",
          "output_type": "stream",
          "text": [
            "Iteration:  53%|█████▎    | 20003/38003 [45:14<39:01,  7.69it/s]\u001b[A\n"
          ]
        },
        {
          "name": "stdout",
          "output_type": "stream",
          "text": [
            "{'epoch': 14, 'step': 21000, 'loss': 0.016642315313220024}\n"
          ]
        },
        {
          "name": "stderr",
          "output_type": "stream",
          "text": [
            "Iteration:  55%|█████▌    | 21003/38003 [47:30<36:48,  7.70it/s]\u001b[A\n"
          ]
        },
        {
          "name": "stdout",
          "output_type": "stream",
          "text": [
            "{'epoch': 14, 'step': 22000, 'loss': 0.02690925821661949}\n"
          ]
        },
        {
          "name": "stderr",
          "output_type": "stream",
          "text": [
            "Iteration:  58%|█████▊    | 22003/38003 [49:46<34:40,  7.69it/s]\u001b[A"
          ]
        },
        {
          "name": "stdout",
          "output_type": "stream",
          "text": [
            "{'epoch': 14, 'step': 23000, 'loss': 0.019596893340349197}\n"
          ]
        },
        {
          "name": "stderr",
          "output_type": "stream",
          "text": [
            "\n"
          ]
        },
        {
          "name": "stdout",
          "output_type": "stream",
          "text": [
            "{'epoch': 14, 'step': 24000, 'loss': 0.042828213423490524}\n"
          ]
        },
        {
          "name": "stderr",
          "output_type": "stream",
          "text": [
            "Iteration:  63%|██████▎   | 24003/38003 [54:36<39:22,  5.92it/s]\u001b[A"
          ]
        },
        {
          "name": "stdout",
          "output_type": "stream",
          "text": [
            "{'epoch': 14, 'step': 25000, 'loss': 0.042574647814035416}\n"
          ]
        },
        {
          "name": "stderr",
          "output_type": "stream",
          "text": [
            "\n"
          ]
        },
        {
          "name": "stdout",
          "output_type": "stream",
          "text": [
            "{'epoch': 14, 'step': 26000, 'loss': 0.017590148374438286}\n"
          ]
        },
        {
          "name": "stderr",
          "output_type": "stream",
          "text": [
            "Iteration:  68%|██████▊   | 26003/38003 [1:01:09<25:55,  7.71it/s]\u001b[A"
          ]
        },
        {
          "name": "stdout",
          "output_type": "stream",
          "text": [
            "{'epoch': 14, 'step': 27000, 'loss': 0.01788775622844696}\n"
          ]
        },
        {
          "name": "stderr",
          "output_type": "stream",
          "text": []
        },
        {
          "name": "stdout",
          "output_type": "stream",
          "text": [
            "{'epoch': 14, 'step': 28000, 'loss': 0.044342827051877975}\n"
          ]
        },
        {
          "name": "stderr",
          "output_type": "stream",
          "text": [
            "\n"
          ]
        },
        {
          "name": "stdout",
          "output_type": "stream",
          "text": [
            "{'epoch': 14, 'step': 29000, 'loss': 0.01853727363049984}\n"
          ]
        },
        {
          "name": "stderr",
          "output_type": "stream",
          "text": [
            "Iteration:  76%|███████▋  | 29003/38003 [1:08:51<19:58,  7.51it/s]\u001b[A"
          ]
        },
        {
          "name": "stdout",
          "output_type": "stream",
          "text": [
            "{'epoch': 14, 'step': 30000, 'loss': 0.003470126073807478}\n"
          ]
        },
        {
          "name": "stderr",
          "output_type": "stream",
          "text": [
            "\n"
          ]
        },
        {
          "name": "stdout",
          "output_type": "stream",
          "text": [
            "{'epoch': 14, 'step': 31000, 'loss': 0.0542605035007}\n"
          ]
        },
        {
          "name": "stderr",
          "output_type": "stream",
          "text": [
            "Iteration:  82%|████████▏ | 31003/38003 [1:13:49<15:08,  7.70it/s]\u001b[A\n"
          ]
        },
        {
          "name": "stdout",
          "output_type": "stream",
          "text": [
            "{'epoch': 14, 'step': 32000, 'loss': 0.022564193233847618}\n"
          ]
        },
        {
          "name": "stderr",
          "output_type": "stream",
          "text": [
            "Iteration:  84%|████████▍ | 32003/38003 [1:16:10<13:08,  7.61it/s]\u001b[A\n"
          ]
        },
        {
          "name": "stdout",
          "output_type": "stream",
          "text": [
            "{'epoch': 14, 'step': 33000, 'loss': 0.005415892694145441}\n"
          ]
        },
        {
          "name": "stderr",
          "output_type": "stream",
          "text": [
            "Iteration:  87%|████████▋ | 33003/38003 [1:18:33<10:49,  7.69it/s]\u001b[A"
          ]
        },
        {
          "name": "stdout",
          "output_type": "stream",
          "text": [
            "{'epoch': 14, 'step': 34000, 'loss': 0.02950473316013813}\n"
          ]
        },
        {
          "name": "stderr",
          "output_type": "stream",
          "text": []
        },
        {
          "name": "stdout",
          "output_type": "stream",
          "text": [
            "{'epoch': 14, 'step': 35000, 'loss': 0.03919706866145134}\n"
          ]
        },
        {
          "name": "stderr",
          "output_type": "stream",
          "text": []
        },
        {
          "name": "stdout",
          "output_type": "stream",
          "text": [
            "{'epoch': 14, 'step': 36000, 'loss': 0.04042890667915344}\n"
          ]
        },
        {
          "name": "stderr",
          "output_type": "stream",
          "text": []
        },
        {
          "name": "stdout",
          "output_type": "stream",
          "text": [
            "{'epoch': 14, 'step': 37000, 'loss': 0.029636245220899582}\n"
          ]
        },
        {
          "name": "stderr",
          "output_type": "stream",
          "text": []
        },
        {
          "name": "stdout",
          "output_type": "stream",
          "text": [
            "{'epoch': 14, 'step': 38000, 'loss': 0.044597551226615906}\n"
          ]
        },
        {
          "name": "stderr",
          "output_type": "stream",
          "text": [
            "Iteration: 100%|██████████| 38003/38003 [1:31:40<00:00,  6.91it/s]\n",
            "Epoch:  47%|████▋     | 15/32 [23:21:37<24:55:35, 5278.57s/it]\n"
          ]
        },
        {
          "name": "stdout",
          "output_type": "stream",
          "text": [
            "{'epoch': 15, 'step': 0, 'loss': 0.006959365215152502}\n"
          ]
        },
        {
          "name": "stderr",
          "output_type": "stream",
          "text": [
            "Iteration:   0%|          | 3/38003 [00:00<1:08:46,  9.21it/s]\u001b[A"
          ]
        },
        {
          "name": "stdout",
          "output_type": "stream",
          "text": [
            "{'epoch': 15, 'step': 1000, 'loss': 0.008964065462350845}\n"
          ]
        },
        {
          "name": "stderr",
          "output_type": "stream",
          "text": []
        },
        {
          "name": "stdout",
          "output_type": "stream",
          "text": [
            "{'epoch': 15, 'step': 2000, 'loss': 0.021273981779813766}\n"
          ]
        },
        {
          "name": "stderr",
          "output_type": "stream",
          "text": []
        },
        {
          "name": "stdout",
          "output_type": "stream",
          "text": [
            "{'epoch': 15, 'step': 3000, 'loss': 0.019525334239006042}\n"
          ]
        },
        {
          "name": "stderr",
          "output_type": "stream",
          "text": [
            "\n"
          ]
        },
        {
          "name": "stdout",
          "output_type": "stream",
          "text": [
            "{'epoch': 15, 'step': 4000, 'loss': 0.02249443158507347}\n"
          ]
        },
        {
          "name": "stderr",
          "output_type": "stream",
          "text": [
            "Iteration:  11%|█         | 4003/38003 [17:56<1:14:06,  7.65it/s]\u001b[A\n"
          ]
        },
        {
          "name": "stdout",
          "output_type": "stream",
          "text": [
            "{'epoch': 15, 'step': 5000, 'loss': 0.011644965969026089}\n"
          ]
        },
        {
          "name": "stderr",
          "output_type": "stream",
          "text": [
            "Iteration:  13%|█▎        | 5003/38003 [20:21<1:11:36,  7.68it/s]\u001b[A"
          ]
        },
        {
          "name": "stdout",
          "output_type": "stream",
          "text": [
            "{'epoch': 15, 'step': 6000, 'loss': 0.026424843817949295}\n"
          ]
        },
        {
          "name": "stderr",
          "output_type": "stream",
          "text": [
            "\n"
          ]
        },
        {
          "name": "stdout",
          "output_type": "stream",
          "text": [
            "{'epoch': 15, 'step': 7000, 'loss': 0.021594788879156113}\n"
          ]
        },
        {
          "name": "stderr",
          "output_type": "stream",
          "text": [
            "Iteration:  18%|█▊        | 7003/38003 [24:54<1:07:22,  7.67it/s]\u001b[A\n"
          ]
        },
        {
          "name": "stdout",
          "output_type": "stream",
          "text": [
            "{'epoch': 15, 'step': 8000, 'loss': 0.015855951234698296}\n"
          ]
        },
        {
          "name": "stderr",
          "output_type": "stream",
          "text": [
            "Iteration:  21%|██        | 8003/38003 [27:09<1:05:20,  7.65it/s]\u001b[A\n"
          ]
        },
        {
          "name": "stdout",
          "output_type": "stream",
          "text": [
            "{'epoch': 15, 'step': 9000, 'loss': 0.02142348513007164}\n"
          ]
        },
        {
          "name": "stderr",
          "output_type": "stream",
          "text": [
            "Iteration:  24%|██▎       | 9003/38003 [29:25<1:03:07,  7.66it/s]\u001b[A"
          ]
        },
        {
          "name": "stdout",
          "output_type": "stream",
          "text": [
            "{'epoch': 15, 'step': 10000, 'loss': 0.016205957159399986}\n"
          ]
        },
        {
          "name": "stderr",
          "output_type": "stream",
          "text": []
        },
        {
          "name": "stdout",
          "output_type": "stream",
          "text": [
            "{'epoch': 15, 'step': 11000, 'loss': 0.017352771013975143}\n"
          ]
        },
        {
          "name": "stderr",
          "output_type": "stream",
          "text": []
        },
        {
          "name": "stdout",
          "output_type": "stream",
          "text": [
            "{'epoch': 15, 'step': 12000, 'loss': 0.03424627706408501}\n"
          ]
        },
        {
          "name": "stderr",
          "output_type": "stream",
          "text": []
        },
        {
          "name": "stdout",
          "output_type": "stream",
          "text": [
            "{'epoch': 15, 'step': 13000, 'loss': 0.007029343396425247}\n"
          ]
        },
        {
          "name": "stderr",
          "output_type": "stream",
          "text": []
        },
        {
          "name": "stdout",
          "output_type": "stream",
          "text": [
            "{'epoch': 15, 'step': 14000, 'loss': 0.019232165068387985}\n"
          ]
        },
        {
          "name": "stderr",
          "output_type": "stream",
          "text": [
            "\n"
          ]
        },
        {
          "name": "stdout",
          "output_type": "stream",
          "text": [
            "{'epoch': 15, 'step': 15000, 'loss': 0.02057269588112831}\n"
          ]
        },
        {
          "name": "stderr",
          "output_type": "stream",
          "text": [
            "Iteration:  39%|███▉      | 15003/38003 [44:05<49:58,  7.67it/s]  \u001b[A"
          ]
        },
        {
          "name": "stdout",
          "output_type": "stream",
          "text": [
            "{'epoch': 15, 'step': 16000, 'loss': 0.019344642758369446}\n"
          ]
        },
        {
          "name": "stderr",
          "output_type": "stream",
          "text": []
        },
        {
          "name": "stdout",
          "output_type": "stream",
          "text": [
            "{'epoch': 15, 'step': 17000, 'loss': 0.013908537104725838}\n"
          ]
        },
        {
          "name": "stderr",
          "output_type": "stream",
          "text": [
            "\n"
          ]
        },
        {
          "name": "stdout",
          "output_type": "stream",
          "text": [
            "{'epoch': 15, 'step': 18000, 'loss': 0.03641126677393913}\n"
          ]
        },
        {
          "name": "stderr",
          "output_type": "stream",
          "text": [
            "Iteration:  47%|████▋     | 18003/38003 [51:15<44:12,  7.54it/s]\u001b[A"
          ]
        },
        {
          "name": "stdout",
          "output_type": "stream",
          "text": [
            "{'epoch': 15, 'step': 19000, 'loss': 0.030250441282987595}\n"
          ]
        },
        {
          "name": "stderr",
          "output_type": "stream",
          "text": [
            "\n"
          ]
        },
        {
          "name": "stdout",
          "output_type": "stream",
          "text": [
            "{'epoch': 15, 'step': 20000, 'loss': 0.015788834542036057}\n"
          ]
        },
        {
          "name": "stderr",
          "output_type": "stream",
          "text": [
            "Iteration:  53%|█████▎    | 20003/38003 [56:07<39:07,  7.67it/s]\u001b[A\n"
          ]
        },
        {
          "name": "stdout",
          "output_type": "stream",
          "text": [
            "{'epoch': 15, 'step': 21000, 'loss': 0.012345768511295319}\n"
          ]
        },
        {
          "name": "stderr",
          "output_type": "stream",
          "text": [
            "Iteration:  55%|█████▌    | 21003/38003 [58:31<38:16,  7.40it/s]\u001b[A\n"
          ]
        },
        {
          "name": "stdout",
          "output_type": "stream",
          "text": [
            "{'epoch': 15, 'step': 22000, 'loss': 0.02236258052289486}\n"
          ]
        },
        {
          "name": "stderr",
          "output_type": "stream",
          "text": [
            "Iteration:  58%|█████▊    | 22003/38003 [1:00:50<34:55,  7.63it/s]\u001b[A"
          ]
        },
        {
          "name": "stdout",
          "output_type": "stream",
          "text": [
            "{'epoch': 15, 'step': 23000, 'loss': 0.013584375381469727}\n"
          ]
        },
        {
          "name": "stderr",
          "output_type": "stream",
          "text": []
        },
        {
          "name": "stdout",
          "output_type": "stream",
          "text": [
            "{'epoch': 15, 'step': 24000, 'loss': 0.0780486986041069}\n"
          ]
        },
        {
          "name": "stderr",
          "output_type": "stream",
          "text": [
            "\n"
          ]
        },
        {
          "name": "stdout",
          "output_type": "stream",
          "text": [
            "{'epoch': 15, 'step': 25000, 'loss': 0.017089862376451492}\n"
          ]
        },
        {
          "name": "stderr",
          "output_type": "stream",
          "text": [
            "Iteration:  66%|██████▌   | 25003/38003 [1:08:58<28:13,  7.68it/s]\u001b[A"
          ]
        },
        {
          "name": "stdout",
          "output_type": "stream",
          "text": [
            "{'epoch': 15, 'step': 26000, 'loss': 0.0418730191886425}\n"
          ]
        },
        {
          "name": "stderr",
          "output_type": "stream",
          "text": [
            "\n"
          ]
        },
        {
          "name": "stdout",
          "output_type": "stream",
          "text": [
            "{'epoch': 15, 'step': 27000, 'loss': 0.04206829145550728}\n"
          ]
        },
        {
          "name": "stderr",
          "output_type": "stream",
          "text": [
            "Iteration:  71%|███████   | 27003/38003 [1:14:33<23:55,  7.66it/s]\u001b[A"
          ]
        },
        {
          "name": "stdout",
          "output_type": "stream",
          "text": [
            "{'epoch': 15, 'step': 28000, 'loss': 0.0239796731621027}\n"
          ]
        },
        {
          "name": "stderr",
          "output_type": "stream",
          "text": []
        },
        {
          "name": "stdout",
          "output_type": "stream",
          "text": [
            "{'epoch': 15, 'step': 29000, 'loss': 0.016092410311102867}\n"
          ]
        },
        {
          "name": "stderr",
          "output_type": "stream",
          "text": [
            "\n"
          ]
        },
        {
          "name": "stdout",
          "output_type": "stream",
          "text": [
            "{'epoch': 15, 'step': 30000, 'loss': 0.021669665351510048}\n"
          ]
        },
        {
          "name": "stderr",
          "output_type": "stream",
          "text": [
            "Iteration:  79%|███████▉  | 30003/38003 [1:21:36<17:20,  7.69it/s]\u001b[A"
          ]
        },
        {
          "name": "stdout",
          "output_type": "stream",
          "text": [
            "{'epoch': 15, 'step': 31000, 'loss': 0.03455070033669472}\n"
          ]
        },
        {
          "name": "stderr",
          "output_type": "stream",
          "text": []
        },
        {
          "name": "stdout",
          "output_type": "stream",
          "text": [
            "{'epoch': 15, 'step': 32000, 'loss': 0.04543183371424675}\n"
          ]
        },
        {
          "name": "stderr",
          "output_type": "stream",
          "text": []
        },
        {
          "name": "stdout",
          "output_type": "stream",
          "text": [
            "{'epoch': 15, 'step': 33000, 'loss': 0.01938980259001255}\n"
          ]
        },
        {
          "name": "stderr",
          "output_type": "stream",
          "text": [
            "\n"
          ]
        },
        {
          "name": "stdout",
          "output_type": "stream",
          "text": [
            "{'epoch': 15, 'step': 34000, 'loss': 0.024039702489972115}\n"
          ]
        },
        {
          "name": "stderr",
          "output_type": "stream",
          "text": [
            "Iteration:  89%|████████▉ | 34003/38003 [1:31:45<08:41,  7.68it/s]\u001b[A"
          ]
        },
        {
          "name": "stdout",
          "output_type": "stream",
          "text": [
            "{'epoch': 15, 'step': 35000, 'loss': 0.028902262449264526}\n"
          ]
        },
        {
          "name": "stderr",
          "output_type": "stream",
          "text": [
            "\n"
          ]
        },
        {
          "name": "stdout",
          "output_type": "stream",
          "text": [
            "{'epoch': 15, 'step': 36000, 'loss': 0.05224769189953804}\n"
          ]
        },
        {
          "name": "stderr",
          "output_type": "stream",
          "text": [
            "Iteration:  95%|█████████▍| 36003/38003 [1:36:17<04:20,  7.67it/s]\u001b[A"
          ]
        },
        {
          "name": "stdout",
          "output_type": "stream",
          "text": [
            "{'epoch': 15, 'step': 37000, 'loss': 0.03427249193191528}\n"
          ]
        },
        {
          "name": "stderr",
          "output_type": "stream",
          "text": []
        },
        {
          "name": "stdout",
          "output_type": "stream",
          "text": [
            "{'epoch': 15, 'step': 38000, 'loss': 0.02911113202571869}\n"
          ]
        },
        {
          "name": "stderr",
          "output_type": "stream",
          "text": [
            "Iteration: 100%|██████████| 38003/38003 [1:40:49<00:00,  6.28it/s]\n",
            "Epoch:  50%|█████     | 16/32 [25:02:28<24:29:34, 5510.92s/it]\n"
          ]
        },
        {
          "name": "stdout",
          "output_type": "stream",
          "text": [
            "{'epoch': 16, 'step': 0, 'loss': 0.012446640059351921}\n"
          ]
        },
        {
          "name": "stderr",
          "output_type": "stream",
          "text": [
            "Iteration:   0%|          | 3/38003 [00:00<1:07:23,  9.40it/s]\u001b[A"
          ]
        },
        {
          "name": "stdout",
          "output_type": "stream",
          "text": [
            "{'epoch': 16, 'step': 1000, 'loss': 0.03966668248176575}\n"
          ]
        },
        {
          "name": "stderr",
          "output_type": "stream",
          "text": [
            "\n"
          ]
        },
        {
          "name": "stdout",
          "output_type": "stream",
          "text": [
            "{'epoch': 16, 'step': 2000, 'loss': 0.017561616376042366}\n"
          ]
        },
        {
          "name": "stderr",
          "output_type": "stream",
          "text": [
            "Iteration:   5%|▌         | 2003/38003 [04:32<1:18:10,  7.68it/s]\u001b[A"
          ]
        },
        {
          "name": "stdout",
          "output_type": "stream",
          "text": [
            "{'epoch': 16, 'step': 3000, 'loss': 0.01823033206164837}\n"
          ]
        },
        {
          "name": "stderr",
          "output_type": "stream",
          "text": [
            "\n"
          ]
        },
        {
          "name": "stdout",
          "output_type": "stream",
          "text": [
            "{'epoch': 16, 'step': 4000, 'loss': 0.008893581107258797}\n"
          ]
        },
        {
          "name": "stderr",
          "output_type": "stream",
          "text": [
            "Iteration:  11%|█         | 4003/38003 [09:07<1:13:54,  7.67it/s]\u001b[A\n"
          ]
        },
        {
          "name": "stdout",
          "output_type": "stream",
          "text": [
            "{'epoch': 16, 'step': 5000, 'loss': 0.029233481734991074}\n"
          ]
        },
        {
          "name": "stderr",
          "output_type": "stream",
          "text": [
            "Iteration:  13%|█▎        | 5003/38003 [11:24<1:11:49,  7.66it/s]\u001b[A"
          ]
        },
        {
          "name": "stdout",
          "output_type": "stream",
          "text": [
            "{'epoch': 16, 'step': 6000, 'loss': 0.02504168637096882}\n"
          ]
        },
        {
          "name": "stderr",
          "output_type": "stream",
          "text": []
        },
        {
          "name": "stdout",
          "output_type": "stream",
          "text": [
            "{'epoch': 16, 'step': 7000, 'loss': 0.01471485011279583}\n"
          ]
        },
        {
          "name": "stderr",
          "output_type": "stream",
          "text": [
            "\n"
          ]
        },
        {
          "name": "stdout",
          "output_type": "stream",
          "text": [
            "{'epoch': 16, 'step': 8000, 'loss': 0.009496339596807957}\n"
          ]
        },
        {
          "name": "stderr",
          "output_type": "stream",
          "text": [
            "Iteration:  21%|██        | 8003/38003 [18:12<1:06:16,  7.54it/s]\u001b[A"
          ]
        },
        {
          "name": "stdout",
          "output_type": "stream",
          "text": [
            "{'epoch': 16, 'step': 9000, 'loss': 0.02800612896680832}\n"
          ]
        },
        {
          "name": "stderr",
          "output_type": "stream",
          "text": [
            "\n"
          ]
        },
        {
          "name": "stdout",
          "output_type": "stream",
          "text": [
            "{'epoch': 16, 'step': 10000, 'loss': 0.015599485486745834}\n"
          ]
        },
        {
          "name": "stderr",
          "output_type": "stream",
          "text": [
            "Iteration:  26%|██▋       | 10003/38003 [23:00<1:24:59,  5.49it/s]\u001b[A\n"
          ]
        },
        {
          "name": "stdout",
          "output_type": "stream",
          "text": [
            "{'epoch': 16, 'step': 11000, 'loss': 0.014114880934357643}\n"
          ]
        },
        {
          "name": "stderr",
          "output_type": "stream",
          "text": [
            "Iteration:  29%|██▉       | 11003/38003 [25:23<1:01:35,  7.31it/s]\u001b[A\n"
          ]
        },
        {
          "name": "stdout",
          "output_type": "stream",
          "text": [
            "{'epoch': 16, 'step': 12000, 'loss': 0.016593340784311295}\n"
          ]
        },
        {
          "name": "stderr",
          "output_type": "stream",
          "text": [
            "Iteration:  32%|███▏      | 12003/38003 [27:46<59:07,  7.33it/s]  \u001b[A\n"
          ]
        },
        {
          "name": "stdout",
          "output_type": "stream",
          "text": [
            "{'epoch': 16, 'step': 13000, 'loss': 0.013270237483084202}\n"
          ]
        },
        {
          "name": "stderr",
          "output_type": "stream",
          "text": [
            "Iteration:  34%|███▍      | 13003/38003 [30:09<57:15,  7.28it/s]  \u001b[A"
          ]
        },
        {
          "name": "stdout",
          "output_type": "stream",
          "text": [
            "{'epoch': 16, 'step': 14000, 'loss': 0.043256618082523346}\n"
          ]
        },
        {
          "name": "stderr",
          "output_type": "stream",
          "text": []
        },
        {
          "name": "stdout",
          "output_type": "stream",
          "text": [
            "{'epoch': 16, 'step': 15000, 'loss': 0.016965631395578384}\n"
          ]
        },
        {
          "name": "stderr",
          "output_type": "stream",
          "text": []
        },
        {
          "name": "stdout",
          "output_type": "stream",
          "text": [
            "{'epoch': 16, 'step': 16000, 'loss': 0.00817488506436348}\n"
          ]
        },
        {
          "name": "stderr",
          "output_type": "stream",
          "text": [
            "\n"
          ]
        },
        {
          "name": "stdout",
          "output_type": "stream",
          "text": [
            "{'epoch': 16, 'step': 17000, 'loss': 0.019409161061048508}\n"
          ]
        },
        {
          "name": "stderr",
          "output_type": "stream",
          "text": [
            "Iteration:  45%|████▍     | 17003/38003 [41:13<50:33,  6.92it/s]  \u001b[A"
          ]
        },
        {
          "name": "stdout",
          "output_type": "stream",
          "text": [
            "{'epoch': 16, 'step': 18000, 'loss': 0.020762920379638672}\n"
          ]
        },
        {
          "name": "stderr",
          "output_type": "stream",
          "text": []
        },
        {
          "name": "stdout",
          "output_type": "stream",
          "text": [
            "{'epoch': 16, 'step': 19000, 'loss': 0.015629103407263756}\n"
          ]
        },
        {
          "name": "stderr",
          "output_type": "stream",
          "text": []
        },
        {
          "name": "stdout",
          "output_type": "stream",
          "text": [
            "{'epoch': 16, 'step': 20000, 'loss': 0.01426644716411829}\n"
          ]
        },
        {
          "name": "stderr",
          "output_type": "stream",
          "text": [
            "\n"
          ]
        },
        {
          "name": "stdout",
          "output_type": "stream",
          "text": [
            "{'epoch': 16, 'step': 21000, 'loss': 0.009996945969760418}\n"
          ]
        },
        {
          "name": "stderr",
          "output_type": "stream",
          "text": [
            "Iteration:  55%|█████▌    | 21003/38003 [51:57<37:18,  7.59it/s]\u001b[A\n"
          ]
        },
        {
          "name": "stdout",
          "output_type": "stream",
          "text": [
            "{'epoch': 16, 'step': 22000, 'loss': 0.022075938060879707}\n"
          ]
        },
        {
          "name": "stderr",
          "output_type": "stream",
          "text": [
            "Iteration:  58%|█████▊    | 22003/38003 [54:37<35:56,  7.42it/s]\u001b[A\n"
          ]
        },
        {
          "name": "stdout",
          "output_type": "stream",
          "text": [
            "{'epoch': 16, 'step': 23000, 'loss': 0.01689297892153263}\n"
          ]
        },
        {
          "name": "stderr",
          "output_type": "stream",
          "text": [
            "Iteration:  61%|██████    | 23003/38003 [57:24<40:19,  6.20it/s]\u001b[A\n"
          ]
        },
        {
          "name": "stdout",
          "output_type": "stream",
          "text": [
            "{'epoch': 16, 'step': 24000, 'loss': 0.010791678912937641}\n"
          ]
        },
        {
          "name": "stderr",
          "output_type": "stream",
          "text": [
            "Iteration:  63%|██████▎   | 24003/38003 [59:55<36:05,  6.47it/s]\u001b[A\n"
          ]
        },
        {
          "name": "stdout",
          "output_type": "stream",
          "text": [
            "{'epoch': 16, 'step': 25000, 'loss': 0.033637989312410355}\n"
          ]
        },
        {
          "name": "stderr",
          "output_type": "stream",
          "text": [
            "Iteration:  66%|██████▌   | 25003/38003 [1:02:13<28:36,  7.57it/s]\u001b[A\n"
          ]
        },
        {
          "name": "stdout",
          "output_type": "stream",
          "text": [
            "{'epoch': 16, 'step': 26000, 'loss': 0.014940088614821434}\n"
          ]
        },
        {
          "name": "stderr",
          "output_type": "stream",
          "text": [
            "Iteration:  68%|██████▊   | 26003/38003 [1:04:33<27:00,  7.41it/s]\u001b[A\n"
          ]
        },
        {
          "name": "stdout",
          "output_type": "stream",
          "text": [
            "{'epoch': 16, 'step': 27000, 'loss': 0.005176292732357979}\n"
          ]
        },
        {
          "name": "stderr",
          "output_type": "stream",
          "text": [
            "Iteration:  71%|███████   | 27003/38003 [1:06:50<24:06,  7.60it/s]\u001b[A\n"
          ]
        },
        {
          "name": "stdout",
          "output_type": "stream",
          "text": [
            "{'epoch': 16, 'step': 28000, 'loss': 0.010552462190389633}\n"
          ]
        },
        {
          "name": "stderr",
          "output_type": "stream",
          "text": [
            "Iteration:  74%|███████▎  | 28003/38003 [1:09:08<21:48,  7.64it/s]\u001b[A\n"
          ]
        },
        {
          "name": "stdout",
          "output_type": "stream",
          "text": [
            "{'epoch': 16, 'step': 29000, 'loss': 0.02900506928563118}\n"
          ]
        },
        {
          "name": "stderr",
          "output_type": "stream",
          "text": [
            "Iteration:  76%|███████▋  | 29003/38003 [1:11:25<19:47,  7.58it/s]\u001b[A"
          ]
        },
        {
          "name": "stdout",
          "output_type": "stream",
          "text": [
            "{'epoch': 16, 'step': 30000, 'loss': 0.008342697285115719}\n"
          ]
        },
        {
          "name": "stderr",
          "output_type": "stream",
          "text": []
        },
        {
          "name": "stdout",
          "output_type": "stream",
          "text": [
            "{'epoch': 16, 'step': 31000, 'loss': 0.007452331483364105}\n"
          ]
        },
        {
          "name": "stderr",
          "output_type": "stream",
          "text": [
            "\n"
          ]
        },
        {
          "name": "stdout",
          "output_type": "stream",
          "text": [
            "{'epoch': 16, 'step': 32000, 'loss': 0.004831738770008087}\n"
          ]
        },
        {
          "name": "stderr",
          "output_type": "stream",
          "text": [
            "Iteration:  84%|████████▍ | 32003/38003 [1:18:17<13:05,  7.64it/s]\u001b[A\n"
          ]
        },
        {
          "name": "stdout",
          "output_type": "stream",
          "text": [
            "{'epoch': 16, 'step': 33000, 'loss': 0.015515490435063839}\n"
          ]
        },
        {
          "name": "stderr",
          "output_type": "stream",
          "text": [
            "Iteration:  87%|████████▋ | 33003/38003 [1:20:35<11:00,  7.57it/s]\u001b[A\n"
          ]
        },
        {
          "name": "stdout",
          "output_type": "stream",
          "text": [
            "{'epoch': 16, 'step': 34000, 'loss': 0.016773443669080734}\n"
          ]
        },
        {
          "name": "stderr",
          "output_type": "stream",
          "text": [
            "Iteration:  89%|████████▉ | 34003/38003 [1:22:52<08:41,  7.67it/s]\u001b[A\n"
          ]
        },
        {
          "name": "stdout",
          "output_type": "stream",
          "text": [
            "{'epoch': 16, 'step': 35000, 'loss': 0.006956391967833042}\n"
          ]
        },
        {
          "name": "stderr",
          "output_type": "stream",
          "text": [
            "Iteration:  92%|█████████▏| 35003/38003 [1:25:10<06:37,  7.55it/s]\u001b[A\n"
          ]
        },
        {
          "name": "stdout",
          "output_type": "stream",
          "text": [
            "{'epoch': 16, 'step': 36000, 'loss': 0.01926087774336338}\n"
          ]
        },
        {
          "name": "stderr",
          "output_type": "stream",
          "text": [
            "Iteration:  95%|█████████▍| 36003/38003 [1:27:27<04:26,  7.50it/s]\u001b[A\n"
          ]
        },
        {
          "name": "stdout",
          "output_type": "stream",
          "text": [
            "{'epoch': 16, 'step': 37000, 'loss': 0.030880175530910492}\n"
          ]
        },
        {
          "name": "stderr",
          "output_type": "stream",
          "text": [
            "Iteration:  97%|█████████▋| 37003/38003 [1:29:44<02:10,  7.64it/s]\u001b[A"
          ]
        },
        {
          "name": "stdout",
          "output_type": "stream",
          "text": [
            "{'epoch': 16, 'step': 38000, 'loss': 0.01089402660727501}\n"
          ]
        },
        {
          "name": "stderr",
          "output_type": "stream",
          "text": [
            "Iteration: 100%|██████████| 38003/38003 [1:32:02<00:00,  6.88it/s]\n",
            "Epoch:  53%|█████▎    | 17/32 [26:34:31<22:58:37, 5514.47s/it]\n"
          ]
        },
        {
          "name": "stdout",
          "output_type": "stream",
          "text": [
            "{'epoch': 17, 'step': 0, 'loss': 0.015476031228899956}\n"
          ]
        },
        {
          "name": "stderr",
          "output_type": "stream",
          "text": [
            "Iteration:   0%|          | 3/38003 [00:00<1:09:21,  9.13it/s]\u001b[A\n"
          ]
        },
        {
          "name": "stdout",
          "output_type": "stream",
          "text": [
            "{'epoch': 17, 'step': 1000, 'loss': 0.025712108239531517}\n"
          ]
        },
        {
          "name": "stderr",
          "output_type": "stream",
          "text": [
            "Iteration:   3%|▎         | 1003/38003 [02:19<1:21:33,  7.56it/s]\u001b[A\n"
          ]
        },
        {
          "name": "stdout",
          "output_type": "stream",
          "text": [
            "{'epoch': 17, 'step': 2000, 'loss': 0.055244170129299164}\n"
          ]
        },
        {
          "name": "stderr",
          "output_type": "stream",
          "text": [
            "Iteration:   5%|▌         | 2003/38003 [04:36<1:18:07,  7.68it/s]\u001b[A\n"
          ]
        },
        {
          "name": "stdout",
          "output_type": "stream",
          "text": [
            "{'epoch': 17, 'step': 3000, 'loss': 0.017484743148088455}\n"
          ]
        },
        {
          "name": "stderr",
          "output_type": "stream",
          "text": [
            "Iteration:   8%|▊         | 3003/38003 [06:52<1:15:55,  7.68it/s]\u001b[A\n"
          ]
        },
        {
          "name": "stdout",
          "output_type": "stream",
          "text": [
            "{'epoch': 17, 'step': 4000, 'loss': 0.006992102600634098}\n"
          ]
        },
        {
          "name": "stderr",
          "output_type": "stream",
          "text": [
            "Iteration:  11%|█         | 4003/38003 [09:07<1:13:45,  7.68it/s]\u001b[A\n"
          ]
        },
        {
          "name": "stdout",
          "output_type": "stream",
          "text": [
            "{'epoch': 17, 'step': 5000, 'loss': 0.009112987667322159}\n"
          ]
        },
        {
          "name": "stderr",
          "output_type": "stream",
          "text": [
            "Iteration:  13%|█▎        | 5003/38003 [11:23<1:11:49,  7.66it/s]\u001b[A\n"
          ]
        },
        {
          "name": "stdout",
          "output_type": "stream",
          "text": [
            "{'epoch': 17, 'step': 6000, 'loss': 0.013127068057656288}\n"
          ]
        },
        {
          "name": "stderr",
          "output_type": "stream",
          "text": [
            "Iteration:  16%|█▌        | 6003/38003 [13:39<1:09:38,  7.66it/s]\u001b[A\n"
          ]
        },
        {
          "name": "stdout",
          "output_type": "stream",
          "text": [
            "{'epoch': 17, 'step': 7000, 'loss': 0.01811937615275383}\n"
          ]
        },
        {
          "name": "stderr",
          "output_type": "stream",
          "text": [
            "Iteration:  18%|█▊        | 7003/38003 [15:55<1:07:20,  7.67it/s]\u001b[A\n"
          ]
        },
        {
          "name": "stdout",
          "output_type": "stream",
          "text": [
            "{'epoch': 17, 'step': 8000, 'loss': 0.03143691271543503}\n"
          ]
        },
        {
          "name": "stderr",
          "output_type": "stream",
          "text": [
            "Iteration:  21%|██        | 8003/38003 [18:10<1:05:37,  7.62it/s]\u001b[A\n"
          ]
        },
        {
          "name": "stdout",
          "output_type": "stream",
          "text": [
            "{'epoch': 17, 'step': 9000, 'loss': 0.011949509382247925}\n"
          ]
        },
        {
          "name": "stderr",
          "output_type": "stream",
          "text": [
            "Iteration:  24%|██▎       | 9003/38003 [20:26<1:03:08,  7.66it/s]\u001b[A\n"
          ]
        },
        {
          "name": "stdout",
          "output_type": "stream",
          "text": [
            "{'epoch': 17, 'step': 10000, 'loss': 0.020029637962579727}\n"
          ]
        },
        {
          "name": "stderr",
          "output_type": "stream",
          "text": [
            "Iteration:  26%|██▋       | 10003/38003 [22:42<1:00:45,  7.68it/s]\u001b[A\n"
          ]
        },
        {
          "name": "stdout",
          "output_type": "stream",
          "text": [
            "{'epoch': 17, 'step': 11000, 'loss': 0.021494153887033463}\n"
          ]
        },
        {
          "name": "stderr",
          "output_type": "stream",
          "text": [
            "Iteration:  29%|██▉       | 11003/38003 [24:58<58:24,  7.70it/s]  \u001b[A\n"
          ]
        },
        {
          "name": "stdout",
          "output_type": "stream",
          "text": [
            "{'epoch': 17, 'step': 12000, 'loss': 0.016704482957720757}\n"
          ]
        },
        {
          "name": "stderr",
          "output_type": "stream",
          "text": [
            "Iteration:  32%|███▏      | 12003/38003 [27:14<56:28,  7.67it/s]  \u001b[A\n"
          ]
        },
        {
          "name": "stdout",
          "output_type": "stream",
          "text": [
            "{'epoch': 17, 'step': 13000, 'loss': 0.014378470368683338}\n"
          ]
        },
        {
          "name": "stderr",
          "output_type": "stream",
          "text": [
            "Iteration:  34%|███▍      | 13003/38003 [29:29<54:30,  7.64it/s]  \u001b[A\n"
          ]
        },
        {
          "name": "stdout",
          "output_type": "stream",
          "text": [
            "{'epoch': 17, 'step': 14000, 'loss': 0.010784386657178402}\n"
          ]
        },
        {
          "name": "stderr",
          "output_type": "stream",
          "text": [
            "Iteration:  37%|███▋      | 14003/38003 [31:45<52:07,  7.67it/s]  \u001b[A\n"
          ]
        },
        {
          "name": "stdout",
          "output_type": "stream",
          "text": [
            "{'epoch': 17, 'step': 15000, 'loss': 0.015073098242282867}\n"
          ]
        },
        {
          "name": "stderr",
          "output_type": "stream",
          "text": [
            "Iteration:  39%|███▉      | 15003/38003 [34:01<50:07,  7.65it/s]  \u001b[A\n"
          ]
        },
        {
          "name": "stdout",
          "output_type": "stream",
          "text": [
            "{'epoch': 17, 'step': 16000, 'loss': 0.062445808202028275}\n"
          ]
        },
        {
          "name": "stderr",
          "output_type": "stream",
          "text": [
            "Iteration:  42%|████▏     | 16003/38003 [36:17<47:44,  7.68it/s]\u001b[A\n"
          ]
        },
        {
          "name": "stdout",
          "output_type": "stream",
          "text": [
            "{'epoch': 17, 'step': 17000, 'loss': 0.012253263965249062}\n"
          ]
        },
        {
          "name": "stderr",
          "output_type": "stream",
          "text": [
            "Iteration:  45%|████▍     | 17003/38003 [38:33<45:31,  7.69it/s]\u001b[A\n"
          ]
        },
        {
          "name": "stdout",
          "output_type": "stream",
          "text": [
            "{'epoch': 17, 'step': 18000, 'loss': 0.02128688059747219}\n"
          ]
        },
        {
          "name": "stderr",
          "output_type": "stream",
          "text": [
            "Iteration:  47%|████▋     | 18003/38003 [40:48<43:25,  7.68it/s]\u001b[A\n"
          ]
        },
        {
          "name": "stdout",
          "output_type": "stream",
          "text": [
            "{'epoch': 17, 'step': 19000, 'loss': 0.015822643414139748}\n"
          ]
        },
        {
          "name": "stderr",
          "output_type": "stream",
          "text": [
            "Iteration:  50%|█████     | 19003/38003 [43:04<41:23,  7.65it/s]\u001b[A\n"
          ]
        },
        {
          "name": "stdout",
          "output_type": "stream",
          "text": [
            "{'epoch': 17, 'step': 20000, 'loss': 0.030624954029917717}\n"
          ]
        },
        {
          "name": "stderr",
          "output_type": "stream",
          "text": [
            "Iteration:  53%|█████▎    | 20003/38003 [45:20<38:57,  7.70it/s]\u001b[A\n"
          ]
        },
        {
          "name": "stdout",
          "output_type": "stream",
          "text": [
            "{'epoch': 17, 'step': 21000, 'loss': 0.01614556647837162}\n"
          ]
        },
        {
          "name": "stderr",
          "output_type": "stream",
          "text": [
            "Iteration:  55%|█████▌    | 21003/38003 [47:36<37:34,  7.54it/s]\u001b[A\n"
          ]
        },
        {
          "name": "stdout",
          "output_type": "stream",
          "text": [
            "{'epoch': 17, 'step': 22000, 'loss': 0.017113428562879562}\n"
          ]
        },
        {
          "name": "stderr",
          "output_type": "stream",
          "text": [
            "Iteration:  58%|█████▊    | 22003/38003 [49:51<34:37,  7.70it/s]\u001b[A\n"
          ]
        },
        {
          "name": "stdout",
          "output_type": "stream",
          "text": [
            "{'epoch': 17, 'step': 23000, 'loss': 0.019083071500062943}\n"
          ]
        },
        {
          "name": "stderr",
          "output_type": "stream",
          "text": [
            "Iteration:  61%|██████    | 23003/38003 [52:07<32:47,  7.63it/s]\u001b[A\n"
          ]
        },
        {
          "name": "stdout",
          "output_type": "stream",
          "text": [
            "{'epoch': 17, 'step': 24000, 'loss': 0.06362832337617874}\n"
          ]
        },
        {
          "name": "stderr",
          "output_type": "stream",
          "text": [
            "Iteration:  63%|██████▎   | 24003/38003 [54:23<30:16,  7.71it/s]\u001b[A\n"
          ]
        },
        {
          "name": "stdout",
          "output_type": "stream",
          "text": [
            "{'epoch': 17, 'step': 25000, 'loss': 0.03304257616400719}\n"
          ]
        },
        {
          "name": "stderr",
          "output_type": "stream",
          "text": [
            "Iteration:  66%|██████▌   | 25003/38003 [56:39<28:05,  7.71it/s]\u001b[A\n"
          ]
        },
        {
          "name": "stdout",
          "output_type": "stream",
          "text": [
            "{'epoch': 17, 'step': 26000, 'loss': 0.011808890849351883}\n"
          ]
        },
        {
          "name": "stderr",
          "output_type": "stream",
          "text": [
            "Iteration:  68%|██████▊   | 26003/38003 [58:54<26:00,  7.69it/s]\u001b[A\n"
          ]
        },
        {
          "name": "stdout",
          "output_type": "stream",
          "text": [
            "{'epoch': 17, 'step': 27000, 'loss': 0.022979645058512688}\n"
          ]
        },
        {
          "name": "stderr",
          "output_type": "stream",
          "text": [
            "Iteration:  71%|███████   | 27003/38003 [1:01:10<23:54,  7.67it/s]\u001b[A\n"
          ]
        },
        {
          "name": "stdout",
          "output_type": "stream",
          "text": [
            "{'epoch': 17, 'step': 28000, 'loss': 0.010369189083576202}\n"
          ]
        },
        {
          "name": "stderr",
          "output_type": "stream",
          "text": [
            "Iteration:  74%|███████▎  | 28003/38003 [1:03:26<21:43,  7.67it/s]\u001b[A\n"
          ]
        },
        {
          "name": "stdout",
          "output_type": "stream",
          "text": [
            "{'epoch': 17, 'step': 29000, 'loss': 0.009367549791932106}\n"
          ]
        },
        {
          "name": "stderr",
          "output_type": "stream",
          "text": [
            "Iteration:  76%|███████▋  | 29003/38003 [1:05:42<19:34,  7.67it/s]\u001b[A\n"
          ]
        },
        {
          "name": "stdout",
          "output_type": "stream",
          "text": [
            "{'epoch': 17, 'step': 30000, 'loss': 0.012064284645020962}\n"
          ]
        },
        {
          "name": "stderr",
          "output_type": "stream",
          "text": [
            "Iteration:  79%|███████▉  | 30003/38003 [1:07:58<17:21,  7.68it/s]\u001b[A\n"
          ]
        },
        {
          "name": "stdout",
          "output_type": "stream",
          "text": [
            "{'epoch': 17, 'step': 31000, 'loss': 0.036413244903087616}\n"
          ]
        },
        {
          "name": "stderr",
          "output_type": "stream",
          "text": [
            "Iteration:  82%|████████▏ | 31003/38003 [1:10:13<15:10,  7.69it/s]\u001b[A"
          ]
        },
        {
          "name": "stdout",
          "output_type": "stream",
          "text": [
            "{'epoch': 17, 'step': 32000, 'loss': 0.04480849578976631}\n"
          ]
        },
        {
          "name": "stderr",
          "output_type": "stream",
          "text": [
            "\n"
          ]
        },
        {
          "name": "stdout",
          "output_type": "stream",
          "text": [
            "{'epoch': 17, 'step': 33000, 'loss': 0.02125728875398636}\n"
          ]
        },
        {
          "name": "stderr",
          "output_type": "stream",
          "text": [
            "Iteration:  87%|████████▋ | 33003/38003 [1:14:45<10:54,  7.64it/s]\u001b[A\n"
          ]
        },
        {
          "name": "stdout",
          "output_type": "stream",
          "text": [
            "{'epoch': 17, 'step': 34000, 'loss': 0.01984267495572567}\n"
          ]
        },
        {
          "name": "stderr",
          "output_type": "stream",
          "text": [
            "Iteration:  89%|████████▉ | 34003/38003 [1:17:01<08:41,  7.67it/s]\u001b[A\n"
          ]
        },
        {
          "name": "stdout",
          "output_type": "stream",
          "text": [
            "{'epoch': 17, 'step': 35000, 'loss': 0.015040026046335697}\n"
          ]
        },
        {
          "name": "stderr",
          "output_type": "stream",
          "text": [
            "Iteration:  92%|█████████▏| 35003/38003 [1:19:17<06:31,  7.67it/s]\u001b[A\n"
          ]
        },
        {
          "name": "stdout",
          "output_type": "stream",
          "text": [
            "{'epoch': 17, 'step': 36000, 'loss': 0.015266688540577888}\n"
          ]
        },
        {
          "name": "stderr",
          "output_type": "stream",
          "text": [
            "Iteration:  95%|█████████▍| 36003/38003 [1:21:32<04:20,  7.67it/s]\u001b[A\n"
          ]
        },
        {
          "name": "stdout",
          "output_type": "stream",
          "text": [
            "{'epoch': 17, 'step': 37000, 'loss': 0.01591443456709385}\n"
          ]
        },
        {
          "name": "stderr",
          "output_type": "stream",
          "text": [
            "Iteration:  97%|█████████▋| 37003/38003 [1:23:48<02:10,  7.66it/s]\u001b[A\n"
          ]
        },
        {
          "name": "stdout",
          "output_type": "stream",
          "text": [
            "{'epoch': 17, 'step': 38000, 'loss': 0.028750009834766388}\n"
          ]
        },
        {
          "name": "stderr",
          "output_type": "stream",
          "text": [
            "Iteration: 100%|██████████| 38003/38003 [1:27:18<00:00,  7.25it/s]\u001b[A\n",
            "Epoch:  56%|█████▋    | 18/32 [28:01:50<21:07:24, 5431.72s/it]"
          ]
        },
        {
          "name": "stdout",
          "output_type": "stream",
          "text": [
            "{'epoch': 18, 'step': 0, 'loss': 0.018723446875810623}\n"
          ]
        },
        {
          "name": "stderr",
          "output_type": "stream",
          "text": []
        },
        {
          "name": "stdout",
          "output_type": "stream",
          "text": [
            "{'epoch': 18, 'step': 1000, 'loss': 0.011411985382437706}\n"
          ]
        },
        {
          "name": "stderr",
          "output_type": "stream",
          "text": [
            "\n"
          ]
        },
        {
          "name": "stdout",
          "output_type": "stream",
          "text": [
            "{'epoch': 18, 'step': 2000, 'loss': 0.013373978435993195}\n"
          ]
        },
        {
          "name": "stderr",
          "output_type": "stream",
          "text": [
            "Iteration:   5%|▌         | 2003/38003 [07:13<1:18:22,  7.65it/s]\u001b[A\n"
          ]
        },
        {
          "name": "stdout",
          "output_type": "stream",
          "text": [
            "{'epoch': 18, 'step': 3000, 'loss': 0.023835841566324234}\n"
          ]
        },
        {
          "name": "stderr",
          "output_type": "stream",
          "text": [
            "Iteration:   8%|▊         | 3003/38003 [09:30<1:16:30,  7.62it/s]\u001b[A"
          ]
        },
        {
          "name": "stdout",
          "output_type": "stream",
          "text": [
            "{'epoch': 18, 'step': 4000, 'loss': 0.013277202844619751}\n"
          ]
        },
        {
          "name": "stderr",
          "output_type": "stream",
          "text": [
            "\n"
          ]
        },
        {
          "name": "stdout",
          "output_type": "stream",
          "text": [
            "{'epoch': 18, 'step': 5000, 'loss': 0.009120330214500427}\n"
          ]
        },
        {
          "name": "stderr",
          "output_type": "stream",
          "text": [
            "Iteration:  13%|█▎        | 5003/38003 [14:22<1:19:23,  6.93it/s]\u001b[A\n"
          ]
        },
        {
          "name": "stdout",
          "output_type": "stream",
          "text": [
            "{'epoch': 18, 'step': 6000, 'loss': 0.016578102484345436}\n"
          ]
        },
        {
          "name": "stderr",
          "output_type": "stream",
          "text": [
            "Iteration:  16%|█▌        | 6003/38003 [16:47<1:10:29,  7.57it/s]\u001b[A\n"
          ]
        },
        {
          "name": "stdout",
          "output_type": "stream",
          "text": [
            "{'epoch': 18, 'step': 7000, 'loss': 0.007370891980826855}\n"
          ]
        },
        {
          "name": "stderr",
          "output_type": "stream",
          "text": [
            "Iteration:  18%|█▊        | 7003/38003 [19:04<1:07:12,  7.69it/s]\u001b[A\n"
          ]
        },
        {
          "name": "stdout",
          "output_type": "stream",
          "text": [
            "{'epoch': 18, 'step': 8000, 'loss': 0.008338220417499542}\n"
          ]
        },
        {
          "name": "stderr",
          "output_type": "stream",
          "text": [
            "Iteration:  21%|██        | 8003/38003 [21:22<1:05:02,  7.69it/s]\u001b[A\n"
          ]
        },
        {
          "name": "stdout",
          "output_type": "stream",
          "text": [
            "{'epoch': 18, 'step': 9000, 'loss': 0.03285286948084831}\n"
          ]
        },
        {
          "name": "stderr",
          "output_type": "stream",
          "text": [
            "Iteration:  24%|██▎       | 9003/38003 [23:38<1:06:25,  7.28it/s]\u001b[A\n"
          ]
        },
        {
          "name": "stdout",
          "output_type": "stream",
          "text": [
            "{'epoch': 18, 'step': 10000, 'loss': 0.013232577592134476}\n"
          ]
        },
        {
          "name": "stderr",
          "output_type": "stream",
          "text": [
            "Iteration:  26%|██▋       | 10003/38003 [25:54<1:00:46,  7.68it/s]\u001b[A\n"
          ]
        },
        {
          "name": "stdout",
          "output_type": "stream",
          "text": [
            "{'epoch': 18, 'step': 11000, 'loss': 0.011196724139153957}\n"
          ]
        },
        {
          "name": "stderr",
          "output_type": "stream",
          "text": [
            "Iteration:  29%|██▉       | 11003/38003 [28:10<58:14,  7.73it/s]  \u001b[A\n"
          ]
        },
        {
          "name": "stdout",
          "output_type": "stream",
          "text": [
            "{'epoch': 18, 'step': 12000, 'loss': 0.013646924868226051}\n"
          ]
        },
        {
          "name": "stderr",
          "output_type": "stream",
          "text": [
            "Iteration:  32%|███▏      | 12003/38003 [30:26<56:29,  7.67it/s]  \u001b[A\n"
          ]
        },
        {
          "name": "stdout",
          "output_type": "stream",
          "text": [
            "{'epoch': 18, 'step': 13000, 'loss': 0.013296997174620628}\n"
          ]
        },
        {
          "name": "stderr",
          "output_type": "stream",
          "text": [
            "Iteration:  34%|███▍      | 13003/38003 [32:42<54:38,  7.62it/s]  \u001b[A\n"
          ]
        },
        {
          "name": "stdout",
          "output_type": "stream",
          "text": [
            "{'epoch': 18, 'step': 14000, 'loss': 0.035967107862234116}\n"
          ]
        },
        {
          "name": "stderr",
          "output_type": "stream",
          "text": [
            "Iteration:  37%|███▋      | 14003/38003 [34:57<52:01,  7.69it/s]  \u001b[A"
          ]
        },
        {
          "name": "stdout",
          "output_type": "stream",
          "text": [
            "{'epoch': 18, 'step': 15000, 'loss': 0.012684613466262817}\n"
          ]
        },
        {
          "name": "stderr",
          "output_type": "stream",
          "text": []
        },
        {
          "name": "stdout",
          "output_type": "stream",
          "text": [
            "{'epoch': 18, 'step': 16000, 'loss': 0.007368322927504778}\n"
          ]
        },
        {
          "name": "stderr",
          "output_type": "stream",
          "text": [
            "\n"
          ]
        },
        {
          "name": "stdout",
          "output_type": "stream",
          "text": [
            "{'epoch': 18, 'step': 17000, 'loss': 0.015132013708353043}\n"
          ]
        },
        {
          "name": "stderr",
          "output_type": "stream",
          "text": [
            "Iteration:  45%|████▍     | 17003/38003 [41:45<45:51,  7.63it/s]\u001b[A\n"
          ]
        },
        {
          "name": "stdout",
          "output_type": "stream",
          "text": [
            "{'epoch': 18, 'step': 18000, 'loss': 0.04512399062514305}\n"
          ]
        },
        {
          "name": "stderr",
          "output_type": "stream",
          "text": [
            "Iteration:  47%|████▋     | 18003/38003 [44:01<43:38,  7.64it/s]\u001b[A\n"
          ]
        },
        {
          "name": "stdout",
          "output_type": "stream",
          "text": [
            "{'epoch': 18, 'step': 19000, 'loss': 0.03378227353096008}\n"
          ]
        },
        {
          "name": "stderr",
          "output_type": "stream",
          "text": [
            "Iteration:  50%|█████     | 19003/38003 [46:16<41:23,  7.65it/s]\u001b[A\n"
          ]
        },
        {
          "name": "stdout",
          "output_type": "stream",
          "text": [
            "{'epoch': 18, 'step': 20000, 'loss': 0.026340827345848083}\n"
          ]
        },
        {
          "name": "stderr",
          "output_type": "stream",
          "text": [
            "Iteration:  53%|█████▎    | 20003/38003 [48:32<39:05,  7.68it/s]\u001b[A\n"
          ]
        },
        {
          "name": "stdout",
          "output_type": "stream",
          "text": [
            "{'epoch': 18, 'step': 21000, 'loss': 0.008468356914818287}\n"
          ]
        },
        {
          "name": "stderr",
          "output_type": "stream",
          "text": [
            "Iteration:  55%|█████▌    | 21003/38003 [50:48<36:51,  7.69it/s]\u001b[A\n"
          ]
        },
        {
          "name": "stdout",
          "output_type": "stream",
          "text": [
            "{'epoch': 18, 'step': 22000, 'loss': 0.007640110328793526}\n"
          ]
        },
        {
          "name": "stderr",
          "output_type": "stream",
          "text": [
            "Iteration:  58%|█████▊    | 22003/38003 [53:04<34:36,  7.70it/s]\u001b[A\n"
          ]
        },
        {
          "name": "stdout",
          "output_type": "stream",
          "text": [
            "{'epoch': 18, 'step': 23000, 'loss': 0.02319742552936077}\n"
          ]
        },
        {
          "name": "stderr",
          "output_type": "stream",
          "text": [
            "Iteration:  61%|██████    | 23003/38003 [55:20<32:25,  7.71it/s]\u001b[A\n"
          ]
        },
        {
          "name": "stdout",
          "output_type": "stream",
          "text": [
            "{'epoch': 18, 'step': 24000, 'loss': 0.005400476977229118}\n"
          ]
        },
        {
          "name": "stderr",
          "output_type": "stream",
          "text": [
            "Iteration:  63%|██████▎   | 24003/38003 [57:35<30:16,  7.71it/s]\u001b[A\n"
          ]
        },
        {
          "name": "stdout",
          "output_type": "stream",
          "text": [
            "{'epoch': 18, 'step': 25000, 'loss': 0.02045276388525963}\n"
          ]
        },
        {
          "name": "stderr",
          "output_type": "stream",
          "text": [
            "Iteration:  66%|██████▌   | 25003/38003 [59:51<28:08,  7.70it/s]\u001b[A\n"
          ]
        },
        {
          "name": "stdout",
          "output_type": "stream",
          "text": [
            "{'epoch': 18, 'step': 26000, 'loss': 0.00585161941125989}\n"
          ]
        },
        {
          "name": "stderr",
          "output_type": "stream",
          "text": [
            "Iteration:  68%|██████▊   | 26003/38003 [1:02:06<25:59,  7.70it/s]\u001b[A"
          ]
        },
        {
          "name": "stdout",
          "output_type": "stream",
          "text": [
            "{'epoch': 18, 'step': 27000, 'loss': 0.016761820763349533}\n"
          ]
        },
        {
          "name": "stderr",
          "output_type": "stream",
          "text": [
            "\n"
          ]
        },
        {
          "name": "stdout",
          "output_type": "stream",
          "text": [
            "{'epoch': 18, 'step': 28000, 'loss': 0.0392962209880352}\n"
          ]
        },
        {
          "name": "stderr",
          "output_type": "stream",
          "text": [
            "Iteration:  74%|███████▎  | 28003/38003 [1:06:38<21:45,  7.66it/s]\u001b[A\n"
          ]
        },
        {
          "name": "stdout",
          "output_type": "stream",
          "text": [
            "{'epoch': 18, 'step': 29000, 'loss': 0.011333884671330452}\n"
          ]
        },
        {
          "name": "stderr",
          "output_type": "stream",
          "text": [
            "Iteration:  76%|███████▋  | 29003/38003 [1:09:00<19:31,  7.68it/s]\u001b[A\n"
          ]
        },
        {
          "name": "stdout",
          "output_type": "stream",
          "text": [
            "{'epoch': 18, 'step': 30000, 'loss': 0.004312749020755291}\n"
          ]
        },
        {
          "name": "stderr",
          "output_type": "stream",
          "text": [
            "Iteration:  79%|███████▉  | 30003/38003 [1:11:18<17:48,  7.49it/s]\u001b[A"
          ]
        },
        {
          "name": "stdout",
          "output_type": "stream",
          "text": [
            "{'epoch': 18, 'step': 31000, 'loss': 0.0250074565410614}\n"
          ]
        },
        {
          "name": "stderr",
          "output_type": "stream",
          "text": []
        },
        {
          "name": "stdout",
          "output_type": "stream",
          "text": [
            "{'epoch': 18, 'step': 32000, 'loss': 0.02859646826982498}\n"
          ]
        },
        {
          "name": "stderr",
          "output_type": "stream",
          "text": [
            "\n"
          ]
        },
        {
          "name": "stdout",
          "output_type": "stream",
          "text": [
            "{'epoch': 18, 'step': 33000, 'loss': 0.014723480679094791}\n"
          ]
        },
        {
          "name": "stderr",
          "output_type": "stream",
          "text": [
            "Iteration:  87%|████████▋ | 33003/38003 [1:18:35<12:20,  6.75it/s]\u001b[A"
          ]
        },
        {
          "name": "stdout",
          "output_type": "stream",
          "text": [
            "{'epoch': 18, 'step': 34000, 'loss': 0.05078887566924095}\n"
          ]
        },
        {
          "name": "stderr",
          "output_type": "stream",
          "text": []
        },
        {
          "name": "stdout",
          "output_type": "stream",
          "text": [
            "{'epoch': 18, 'step': 35000, 'loss': 0.034336816519498825}\n"
          ]
        },
        {
          "name": "stderr",
          "output_type": "stream",
          "text": []
        },
        {
          "name": "stdout",
          "output_type": "stream",
          "text": [
            "{'epoch': 18, 'step': 36000, 'loss': 0.016268037259578705}\n"
          ]
        },
        {
          "name": "stderr",
          "output_type": "stream",
          "text": []
        },
        {
          "name": "stdout",
          "output_type": "stream",
          "text": [
            "{'epoch': 18, 'step': 37000, 'loss': 0.003686047624796629}\n"
          ]
        },
        {
          "name": "stderr",
          "output_type": "stream",
          "text": []
        },
        {
          "name": "stdout",
          "output_type": "stream",
          "text": [
            "{'epoch': 18, 'step': 38000, 'loss': 0.013124333694577217}\n"
          ]
        },
        {
          "name": "stderr",
          "output_type": "stream",
          "text": [
            "Iteration: 100%|██████████| 38003/38003 [1:30:57<00:00,  6.96it/s]\n",
            "Epoch:  59%|█████▉    | 19/32 [29:32:48<19:38:36, 5439.77s/it]\n"
          ]
        },
        {
          "name": "stdout",
          "output_type": "stream",
          "text": [
            "{'epoch': 19, 'step': 0, 'loss': 0.01926875114440918}\n"
          ]
        },
        {
          "name": "stderr",
          "output_type": "stream",
          "text": [
            "Iteration:   0%|          | 3/38003 [00:00<1:07:04,  9.44it/s]\u001b[A\n"
          ]
        },
        {
          "name": "stdout",
          "output_type": "stream",
          "text": [
            "{'epoch': 19, 'step': 1000, 'loss': 0.025994665920734406}\n"
          ]
        },
        {
          "name": "stderr",
          "output_type": "stream",
          "text": [
            "Iteration:   3%|▎         | 1003/38003 [02:17<1:20:23,  7.67it/s]\u001b[A\n"
          ]
        },
        {
          "name": "stdout",
          "output_type": "stream",
          "text": [
            "{'epoch': 19, 'step': 2000, 'loss': 0.013423318043351173}\n"
          ]
        },
        {
          "name": "stderr",
          "output_type": "stream",
          "text": [
            "Iteration:   5%|▌         | 2003/38003 [04:34<1:18:29,  7.64it/s]\u001b[A"
          ]
        },
        {
          "name": "stdout",
          "output_type": "stream",
          "text": [
            "{'epoch': 19, 'step': 3000, 'loss': 0.01576359011232853}\n"
          ]
        },
        {
          "name": "stderr",
          "output_type": "stream",
          "text": []
        },
        {
          "name": "stdout",
          "output_type": "stream",
          "text": [
            "{'epoch': 19, 'step': 4000, 'loss': 0.03385651484131813}\n"
          ]
        },
        {
          "name": "stderr",
          "output_type": "stream",
          "text": []
        },
        {
          "name": "stdout",
          "output_type": "stream",
          "text": [
            "{'epoch': 19, 'step': 5000, 'loss': 0.015051583759486675}\n"
          ]
        },
        {
          "name": "stderr",
          "output_type": "stream",
          "text": [
            "\n"
          ]
        },
        {
          "name": "stdout",
          "output_type": "stream",
          "text": [
            "{'epoch': 19, 'step': 6000, 'loss': 0.00874010194092989}\n"
          ]
        },
        {
          "name": "stderr",
          "output_type": "stream",
          "text": [
            "Iteration:  16%|█▌        | 6003/38003 [14:31<1:14:26,  7.16it/s]\u001b[A"
          ]
        },
        {
          "name": "stdout",
          "output_type": "stream",
          "text": [
            "{'epoch': 19, 'step': 7000, 'loss': 0.007402394432574511}\n"
          ]
        },
        {
          "name": "stderr",
          "output_type": "stream",
          "text": []
        },
        {
          "name": "stdout",
          "output_type": "stream",
          "text": [
            "{'epoch': 19, 'step': 8000, 'loss': 0.019154714420437813}\n"
          ]
        },
        {
          "name": "stderr",
          "output_type": "stream",
          "text": [
            "\n"
          ]
        },
        {
          "name": "stdout",
          "output_type": "stream",
          "text": [
            "{'epoch': 19, 'step': 9000, 'loss': 0.007712036836892366}\n"
          ]
        },
        {
          "name": "stderr",
          "output_type": "stream",
          "text": [
            "Iteration:  24%|██▎       | 9003/38003 [22:10<1:03:14,  7.64it/s]\u001b[A"
          ]
        },
        {
          "name": "stdout",
          "output_type": "stream",
          "text": [
            "{'epoch': 19, 'step': 10000, 'loss': 0.007561668753623962}\n"
          ]
        },
        {
          "name": "stderr",
          "output_type": "stream",
          "text": []
        },
        {
          "name": "stdout",
          "output_type": "stream",
          "text": [
            "{'epoch': 19, 'step': 11000, 'loss': 0.015714779496192932}\n"
          ]
        },
        {
          "name": "stderr",
          "output_type": "stream",
          "text": [
            "\n"
          ]
        },
        {
          "name": "stdout",
          "output_type": "stream",
          "text": [
            "{'epoch': 19, 'step': 12000, 'loss': 0.0374579094350338}\n"
          ]
        },
        {
          "name": "stderr",
          "output_type": "stream",
          "text": [
            "Iteration:  32%|███▏      | 12003/38003 [29:20<56:25,  7.68it/s]  \u001b[A"
          ]
        },
        {
          "name": "stdout",
          "output_type": "stream",
          "text": [
            "{'epoch': 19, 'step': 13000, 'loss': 0.012502177618443966}\n"
          ]
        },
        {
          "name": "stderr",
          "output_type": "stream",
          "text": []
        },
        {
          "name": "stdout",
          "output_type": "stream",
          "text": [
            "{'epoch': 19, 'step': 14000, 'loss': 0.017342740669846535}\n"
          ]
        },
        {
          "name": "stderr",
          "output_type": "stream",
          "text": [
            "\n"
          ]
        },
        {
          "name": "stdout",
          "output_type": "stream",
          "text": [
            "{'epoch': 19, 'step': 15000, 'loss': 0.016481544822454453}\n"
          ]
        },
        {
          "name": "stderr",
          "output_type": "stream",
          "text": [
            "Iteration:  39%|███▉      | 15003/38003 [36:49<50:08,  7.65it/s]  \u001b[A\n"
          ]
        },
        {
          "name": "stdout",
          "output_type": "stream",
          "text": [
            "{'epoch': 19, 'step': 16000, 'loss': 0.012352284975349903}\n"
          ]
        },
        {
          "name": "stderr",
          "output_type": "stream",
          "text": [
            "Iteration:  42%|████▏     | 16003/38003 [39:05<47:57,  7.65it/s]\u001b[A\n"
          ]
        },
        {
          "name": "stdout",
          "output_type": "stream",
          "text": [
            "{'epoch': 19, 'step': 17000, 'loss': 0.007622209843248129}\n"
          ]
        },
        {
          "name": "stderr",
          "output_type": "stream",
          "text": [
            "Iteration:  45%|████▍     | 17003/38003 [41:27<49:49,  7.03it/s]  \u001b[A\n"
          ]
        },
        {
          "name": "stdout",
          "output_type": "stream",
          "text": [
            "{'epoch': 19, 'step': 18000, 'loss': 0.021608654409646988}\n"
          ]
        },
        {
          "name": "stderr",
          "output_type": "stream",
          "text": [
            "Iteration:  47%|████▋     | 18003/38003 [44:01<43:26,  7.67it/s]\u001b[A"
          ]
        },
        {
          "name": "stdout",
          "output_type": "stream",
          "text": [
            "{'epoch': 19, 'step': 19000, 'loss': 0.008510855957865715}\n"
          ]
        },
        {
          "name": "stderr",
          "output_type": "stream",
          "text": []
        },
        {
          "name": "stdout",
          "output_type": "stream",
          "text": [
            "{'epoch': 19, 'step': 20000, 'loss': 0.0031589437276124954}\n"
          ]
        },
        {
          "name": "stderr",
          "output_type": "stream",
          "text": []
        },
        {
          "name": "stdout",
          "output_type": "stream",
          "text": [
            "{'epoch': 19, 'step': 21000, 'loss': 0.015129235573112965}\n"
          ]
        },
        {
          "name": "stderr",
          "output_type": "stream",
          "text": [
            "\n"
          ]
        },
        {
          "name": "stdout",
          "output_type": "stream",
          "text": [
            "{'epoch': 19, 'step': 22000, 'loss': 0.012558270245790482}\n"
          ]
        },
        {
          "name": "stderr",
          "output_type": "stream",
          "text": [
            "Iteration:  58%|█████▊    | 22003/38003 [53:58<34:51,  7.65it/s]\u001b[A\n"
          ]
        },
        {
          "name": "stdout",
          "output_type": "stream",
          "text": [
            "{'epoch': 19, 'step': 23000, 'loss': 0.019443994387984276}\n"
          ]
        },
        {
          "name": "stderr",
          "output_type": "stream",
          "text": [
            "Iteration:  61%|██████    | 23003/38003 [56:20<32:33,  7.68it/s]\u001b[A"
          ]
        },
        {
          "name": "stdout",
          "output_type": "stream",
          "text": [
            "{'epoch': 19, 'step': 24000, 'loss': 0.007780425250530243}\n"
          ]
        },
        {
          "name": "stderr",
          "output_type": "stream",
          "text": [
            "\n"
          ]
        },
        {
          "name": "stdout",
          "output_type": "stream",
          "text": [
            "{'epoch': 19, 'step': 25000, 'loss': 0.04080108553171158}\n"
          ]
        },
        {
          "name": "stderr",
          "output_type": "stream",
          "text": [
            "Iteration:  66%|██████▌   | 25003/38003 [1:00:53<31:16,  6.93it/s]\u001b[A\n"
          ]
        },
        {
          "name": "stdout",
          "output_type": "stream",
          "text": [
            "{'epoch': 19, 'step': 26000, 'loss': 0.020849522203207016}\n"
          ]
        },
        {
          "name": "stderr",
          "output_type": "stream",
          "text": [
            "Iteration:  68%|██████▊   | 26003/38003 [1:03:12<26:05,  7.66it/s]\u001b[A\n"
          ]
        },
        {
          "name": "stdout",
          "output_type": "stream",
          "text": [
            "{'epoch': 19, 'step': 27000, 'loss': 0.036422207951545715}\n"
          ]
        },
        {
          "name": "stderr",
          "output_type": "stream",
          "text": [
            "Iteration:  71%|███████   | 27003/38003 [1:05:28<24:00,  7.64it/s]\u001b[A\n"
          ]
        },
        {
          "name": "stdout",
          "output_type": "stream",
          "text": [
            "{'epoch': 19, 'step': 28000, 'loss': 0.02929244190454483}\n"
          ]
        },
        {
          "name": "stderr",
          "output_type": "stream",
          "text": [
            "Iteration:  74%|███████▎  | 28003/38003 [1:07:44<21:42,  7.68it/s]\u001b[A"
          ]
        },
        {
          "name": "stdout",
          "output_type": "stream",
          "text": [
            "{'epoch': 19, 'step': 29000, 'loss': 0.014169168658554554}\n"
          ]
        },
        {
          "name": "stderr",
          "output_type": "stream",
          "text": []
        },
        {
          "name": "stdout",
          "output_type": "stream",
          "text": [
            "{'epoch': 19, 'step': 30000, 'loss': 0.009752277284860611}\n"
          ]
        },
        {
          "name": "stderr",
          "output_type": "stream",
          "text": []
        },
        {
          "name": "stdout",
          "output_type": "stream",
          "text": [
            "{'epoch': 19, 'step': 31000, 'loss': 0.01773066818714142}\n"
          ]
        },
        {
          "name": "stderr",
          "output_type": "stream",
          "text": []
        }
      ],
      "source": [
        "if __name__ == '__main__':\n",
        "    train(model, dataloader, max_train_steps, lr_scheduler, num_train_epochs, \n",
        "          gradient_accumulation_steps, optimizer)"
      ]
    }
  ],
  "metadata": {
    "colab": {
      "provenance": []
    },
    "kernelspec": {
      "display_name": "Python 3",
      "name": "python3"
    },
    "language_info": {
      "codemirror_mode": {
        "name": "ipython",
        "version": 3
      },
      "file_extension": ".py",
      "mimetype": "text/x-python",
      "name": "python",
      "nbconvert_exporter": "python",
      "pygments_lexer": "ipython3",
      "version": "3.10.7"
    }
  },
  "nbformat": 4,
  "nbformat_minor": 0
}
